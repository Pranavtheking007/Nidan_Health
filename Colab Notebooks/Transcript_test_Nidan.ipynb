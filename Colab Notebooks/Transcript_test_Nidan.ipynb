{
  "nbformat": 4,
  "nbformat_minor": 0,
  "metadata": {
    "colab": {
      "provenance": []
    },
    "kernelspec": {
      "name": "python3",
      "display_name": "Python 3"
    },
    "language_info": {
      "name": "python"
    }
  },
  "cells": [
    {
      "cell_type": "code",
      "execution_count": null,
      "metadata": {
        "colab": {
          "base_uri": "https://localhost:8080/"
        },
        "id": "ZUIZagAFqMac",
        "outputId": "2cbccb9c-df0f-4c15-cd73-3ac820aaad95"
      },
      "outputs": [
        {
          "output_type": "stream",
          "name": "stdout",
          "text": [
            "Looking in indexes: https://pypi.org/simple, https://us-python.pkg.dev/colab-wheels/public/simple/\n",
            "Requirement already satisfied: opencv-python in /usr/local/lib/python3.9/dist-packages (4.7.0.72)\n",
            "Requirement already satisfied: numpy>=1.17.0 in /usr/local/lib/python3.9/dist-packages (from opencv-python) (1.22.4)\n",
            "Looking in indexes: https://pypi.org/simple, https://us-python.pkg.dev/colab-wheels/public/simple/\n",
            "Requirement already satisfied: matplotlib in /usr/local/lib/python3.9/dist-packages (3.7.1)\n",
            "Requirement already satisfied: numpy>=1.20 in /usr/local/lib/python3.9/dist-packages (from matplotlib) (1.22.4)\n",
            "Requirement already satisfied: python-dateutil>=2.7 in /usr/local/lib/python3.9/dist-packages (from matplotlib) (2.8.2)\n",
            "Requirement already satisfied: importlib-resources>=3.2.0 in /usr/local/lib/python3.9/dist-packages (from matplotlib) (5.12.0)\n",
            "Requirement already satisfied: packaging>=20.0 in /usr/local/lib/python3.9/dist-packages (from matplotlib) (23.0)\n",
            "Requirement already satisfied: contourpy>=1.0.1 in /usr/local/lib/python3.9/dist-packages (from matplotlib) (1.0.7)\n",
            "Requirement already satisfied: pyparsing>=2.3.1 in /usr/local/lib/python3.9/dist-packages (from matplotlib) (3.0.9)\n",
            "Requirement already satisfied: kiwisolver>=1.0.1 in /usr/local/lib/python3.9/dist-packages (from matplotlib) (1.4.4)\n",
            "Requirement already satisfied: pillow>=6.2.0 in /usr/local/lib/python3.9/dist-packages (from matplotlib) (8.4.0)\n",
            "Requirement already satisfied: cycler>=0.10 in /usr/local/lib/python3.9/dist-packages (from matplotlib) (0.11.0)\n",
            "Requirement already satisfied: fonttools>=4.22.0 in /usr/local/lib/python3.9/dist-packages (from matplotlib) (4.39.2)\n",
            "Requirement already satisfied: zipp>=3.1.0 in /usr/local/lib/python3.9/dist-packages (from importlib-resources>=3.2.0->matplotlib) (3.15.0)\n",
            "Requirement already satisfied: six>=1.5 in /usr/local/lib/python3.9/dist-packages (from python-dateutil>=2.7->matplotlib) (1.16.0)\n",
            "Looking in indexes: https://pypi.org/simple, https://us-python.pkg.dev/colab-wheels/public/simple/\n",
            "Requirement already satisfied: numpy in /usr/local/lib/python3.9/dist-packages (1.22.4)\n"
          ]
        }
      ],
      "source": [
        "!pip install opencv-python\n",
        "!pip install matplotlib\n",
        "!pip install numpy"
      ]
    },
    {
      "cell_type": "code",
      "source": [
        "!pip install torch==1.7.1+cpu torchvision==0.8.2+cpu torchaudio===0.7.2 -f https://download.pytorch.org/whl/torch_stable.html\n",
        "!pip install easyocr"
      ],
      "metadata": {
        "colab": {
          "base_uri": "https://localhost:8080/"
        },
        "id": "bp6QkwZpqQRN",
        "outputId": "78d36d31-e796-4e36-a1a2-d907f9a3470d"
      },
      "execution_count": null,
      "outputs": [
        {
          "output_type": "stream",
          "name": "stdout",
          "text": [
            "Looking in indexes: https://pypi.org/simple, https://us-python.pkg.dev/colab-wheels/public/simple/\n",
            "Looking in links: https://download.pytorch.org/whl/torch_stable.html\n",
            "Collecting torch==1.7.1+cpu\n",
            "  Downloading https://download.pytorch.org/whl/cpu/torch-1.7.1%2Bcpu-cp39-cp39-linux_x86_64.whl (159.4 MB)\n",
            "\u001b[2K     \u001b[90m━━━━━━━━━━━━━━━━━━━━━━━━━━━━━━━━━━━━━━━\u001b[0m \u001b[32m159.4/159.4 MB\u001b[0m \u001b[31m5.9 MB/s\u001b[0m eta \u001b[36m0:00:00\u001b[0m\n",
            "\u001b[?25hCollecting torchvision==0.8.2+cpu\n",
            "  Downloading https://download.pytorch.org/whl/cpu/torchvision-0.8.2%2Bcpu-cp39-cp39-linux_x86_64.whl (11.8 MB)\n",
            "\u001b[2K     \u001b[90m━━━━━━━━━━━━━━━━━━━━━━━━━━━━━━━━━━━━━━━━\u001b[0m \u001b[32m11.8/11.8 MB\u001b[0m \u001b[31m16.6 MB/s\u001b[0m eta \u001b[36m0:00:00\u001b[0m\n",
            "\u001b[?25hCollecting torchaudio===0.7.2\n",
            "  Downloading torchaudio-0.7.2-cp39-cp39-manylinux1_x86_64.whl (7.6 MB)\n",
            "\u001b[2K     \u001b[90m━━━━━━━━━━━━━━━━━━━━━━━━━━━━━━━━━━━━━━━━\u001b[0m \u001b[32m7.6/7.6 MB\u001b[0m \u001b[31m51.2 MB/s\u001b[0m eta \u001b[36m0:00:00\u001b[0m\n",
            "\u001b[?25hRequirement already satisfied: typing-extensions in /usr/local/lib/python3.9/dist-packages (from torch==1.7.1+cpu) (4.5.0)\n",
            "Requirement already satisfied: numpy in /usr/local/lib/python3.9/dist-packages (from torch==1.7.1+cpu) (1.22.4)\n",
            "Requirement already satisfied: pillow>=4.1.1 in /usr/local/lib/python3.9/dist-packages (from torchvision==0.8.2+cpu) (8.4.0)\n",
            "Installing collected packages: torch, torchvision, torchaudio\n",
            "  Attempting uninstall: torch\n",
            "    Found existing installation: torch 1.13.1+cu116\n",
            "    Uninstalling torch-1.13.1+cu116:\n",
            "      Successfully uninstalled torch-1.13.1+cu116\n",
            "  Attempting uninstall: torchvision\n",
            "    Found existing installation: torchvision 0.14.1+cu116\n",
            "    Uninstalling torchvision-0.14.1+cu116:\n",
            "      Successfully uninstalled torchvision-0.14.1+cu116\n",
            "  Attempting uninstall: torchaudio\n",
            "    Found existing installation: torchaudio 0.13.1+cu116\n",
            "    Uninstalling torchaudio-0.13.1+cu116:\n",
            "      Successfully uninstalled torchaudio-0.13.1+cu116\n",
            "\u001b[31mERROR: pip's dependency resolver does not currently take into account all the packages that are installed. This behaviour is the source of the following dependency conflicts.\n",
            "torchtext 0.14.1 requires torch==1.13.1, but you have torch 1.7.1+cpu which is incompatible.\u001b[0m\u001b[31m\n",
            "\u001b[0mSuccessfully installed torch-1.7.1+cpu torchaudio-0.7.2 torchvision-0.8.2+cpu\n",
            "Looking in indexes: https://pypi.org/simple, https://us-python.pkg.dev/colab-wheels/public/simple/\n",
            "Collecting easyocr\n",
            "  Downloading easyocr-1.6.2-py3-none-any.whl (2.9 MB)\n",
            "\u001b[2K     \u001b[90m━━━━━━━━━━━━━━━━━━━━━━━━━━━━━━━━━━━━━━━━\u001b[0m \u001b[32m2.9/2.9 MB\u001b[0m \u001b[31m27.7 MB/s\u001b[0m eta \u001b[36m0:00:00\u001b[0m\n",
            "\u001b[?25hRequirement already satisfied: PyYAML in /usr/local/lib/python3.9/dist-packages (from easyocr) (6.0)\n",
            "Collecting python-bidi\n",
            "  Downloading python_bidi-0.4.2-py2.py3-none-any.whl (30 kB)\n",
            "Collecting opencv-python-headless<=4.5.4.60\n",
            "  Downloading opencv_python_headless-4.5.4.60-cp39-cp39-manylinux_2_17_x86_64.manylinux2014_x86_64.whl (47.6 MB)\n",
            "\u001b[2K     \u001b[90m━━━━━━━━━━━━━━━━━━━━━━━━━━━━━━━━━━━━━━━━\u001b[0m \u001b[32m47.6/47.6 MB\u001b[0m \u001b[31m15.0 MB/s\u001b[0m eta \u001b[36m0:00:00\u001b[0m\n",
            "\u001b[?25hCollecting pyclipper\n",
            "  Downloading pyclipper-1.3.0.post4-cp39-cp39-manylinux_2_5_x86_64.manylinux1_x86_64.whl (608 kB)\n",
            "\u001b[2K     \u001b[90m━━━━━━━━━━━━━━━━━━━━━━━━━━━━━━━━━━━━━━\u001b[0m \u001b[32m608.2/608.2 KB\u001b[0m \u001b[31m46.5 MB/s\u001b[0m eta \u001b[36m0:00:00\u001b[0m\n",
            "\u001b[?25hRequirement already satisfied: Pillow in /usr/local/lib/python3.9/dist-packages (from easyocr) (8.4.0)\n",
            "Requirement already satisfied: scipy in /usr/local/lib/python3.9/dist-packages (from easyocr) (1.10.1)\n",
            "Requirement already satisfied: numpy in /usr/local/lib/python3.9/dist-packages (from easyocr) (1.22.4)\n",
            "Requirement already satisfied: scikit-image in /usr/local/lib/python3.9/dist-packages (from easyocr) (0.19.3)\n",
            "Collecting ninja\n",
            "  Downloading ninja-1.11.1-py2.py3-none-manylinux_2_12_x86_64.manylinux2010_x86_64.whl (145 kB)\n",
            "\u001b[2K     \u001b[90m━━━━━━━━━━━━━━━━━━━━━━━━━━━━━━━━━━━━━━\u001b[0m \u001b[32m146.0/146.0 KB\u001b[0m \u001b[31m16.8 MB/s\u001b[0m eta \u001b[36m0:00:00\u001b[0m\n",
            "\u001b[?25hRequirement already satisfied: torch in /usr/local/lib/python3.9/dist-packages (from easyocr) (1.7.1+cpu)\n",
            "Requirement already satisfied: torchvision>=0.5 in /usr/local/lib/python3.9/dist-packages (from easyocr) (0.8.2+cpu)\n",
            "Requirement already satisfied: Shapely in /usr/local/lib/python3.9/dist-packages (from easyocr) (2.0.1)\n",
            "Requirement already satisfied: typing-extensions in /usr/local/lib/python3.9/dist-packages (from torch->easyocr) (4.5.0)\n",
            "Requirement already satisfied: six in /usr/local/lib/python3.9/dist-packages (from python-bidi->easyocr) (1.16.0)\n",
            "Requirement already satisfied: PyWavelets>=1.1.1 in /usr/local/lib/python3.9/dist-packages (from scikit-image->easyocr) (1.4.1)\n",
            "Requirement already satisfied: packaging>=20.0 in /usr/local/lib/python3.9/dist-packages (from scikit-image->easyocr) (23.0)\n",
            "Requirement already satisfied: tifffile>=2019.7.26 in /usr/local/lib/python3.9/dist-packages (from scikit-image->easyocr) (2023.3.21)\n",
            "Requirement already satisfied: imageio>=2.4.1 in /usr/local/lib/python3.9/dist-packages (from scikit-image->easyocr) (2.25.1)\n",
            "Requirement already satisfied: networkx>=2.2 in /usr/local/lib/python3.9/dist-packages (from scikit-image->easyocr) (3.0)\n",
            "Installing collected packages: pyclipper, ninja, python-bidi, opencv-python-headless, easyocr\n",
            "  Attempting uninstall: opencv-python-headless\n",
            "    Found existing installation: opencv-python-headless 4.7.0.72\n",
            "    Uninstalling opencv-python-headless-4.7.0.72:\n",
            "      Successfully uninstalled opencv-python-headless-4.7.0.72\n",
            "Successfully installed easyocr-1.6.2 ninja-1.11.1 opencv-python-headless-4.5.4.60 pyclipper-1.3.0.post4 python-bidi-0.4.2\n"
          ]
        }
      ]
    },
    {
      "cell_type": "code",
      "source": [
        "import cv2\n",
        "import numpy as np\n",
        "import easyocr\n",
        "import matplotlib.pyplot as plt\n",
        "%matplotlib inline"
      ],
      "metadata": {
        "id": "41fgxCGDqXRU"
      },
      "execution_count": null,
      "outputs": []
    },
    {
      "cell_type": "code",
      "source": [
        "# im_1_path = '/content/img.jpg'\n",
        "# im_2_path = '/content/img2.jpg'\n",
        "# im_3_path = '/content/image.jpg'\n",
        "im_3_path = '/content/Dimg.jpg'"
      ],
      "metadata": {
        "id": "MbuSdAPOqkUg"
      },
      "execution_count": null,
      "outputs": []
    },
    {
      "cell_type": "code",
      "source": [
        "def recognize_text(img_path):\n",
        "    '''loads an image and recognizes text.'''\n",
        "    \n",
        "    reader = easyocr.Reader(['en'])\n",
        "    return reader.readtext(img_path)"
      ],
      "metadata": {
        "id": "w1yXSdqDqsoT"
      },
      "execution_count": null,
      "outputs": []
    },
    {
      "cell_type": "code",
      "source": [
        "result = recognize_text(im_3_path)"
      ],
      "metadata": {
        "colab": {
          "base_uri": "https://localhost:8080/"
        },
        "id": "xpUhpcC8qvlf",
        "outputId": "6dede232-6428-440b-af6d-146fbf0f6fdc"
      },
      "execution_count": null,
      "outputs": [
        {
          "output_type": "stream",
          "name": "stderr",
          "text": [
            "WARNING:easyocr.easyocr:CUDA not available - defaulting to CPU. Note: This module is much faster with a GPU.\n",
            "WARNING:easyocr.easyocr:Downloading detection model, please wait. This may take several minutes depending upon your network connection.\n"
          ]
        },
        {
          "output_type": "stream",
          "name": "stdout",
          "text": [
            "Progress: |██████████████████████████████████████████████████| 100.0% Complete"
          ]
        },
        {
          "output_type": "stream",
          "name": "stderr",
          "text": [
            "WARNING:easyocr.easyocr:Downloading recognition model, please wait. This may take several minutes depending upon your network connection.\n"
          ]
        },
        {
          "output_type": "stream",
          "name": "stdout",
          "text": [
            "Progress: |██████████████████████████████████████████████████| 100.0% Complete"
          ]
        }
      ]
    },
    {
      "cell_type": "code",
      "source": [
        "result"
      ],
      "metadata": {
        "colab": {
          "base_uri": "https://localhost:8080/"
        },
        "id": "DbKM-VYOr0nj",
        "outputId": "ffaad2ec-1cb3-4a5f-b839-21b86137f5e5"
      },
      "execution_count": null,
      "outputs": [
        {
          "output_type": "execute_result",
          "data": {
            "text/plain": [
              "[([[294, 164], [394, 164], [394, 196], [294, 196]],\n",
              "  'Suresh',\n",
              "  0.9935053958865389),\n",
              " ([[79, 253], [141, 253], [141, 271], [79, 271]],\n",
              "  'PROFILE',\n",
              "  0.9992753555857627),\n",
              " ([[350, 252], [471, 252], [471, 272], [350, 272]],\n",
              "  'DEMOGRAPHICS',\n",
              "  0.9984127183770193),\n",
              " ([[79, 299], [137, 299], [137, 313], [79, 313]],\n",
              "  'Gender:',\n",
              "  0.8014848541138248),\n",
              " ([[213, 299], [247, 299], [247, 313], [213, 313]],\n",
              "  'Male',\n",
              "  0.9999924302101135),\n",
              " ([[351, 299], [383, 299], [383, 313], [351, 313]],\n",
              "  'BMI:',\n",
              "  0.9967862367630005),\n",
              " ([[79, 333], [113, 333], [113, 349], [79, 349]], 'Age:', 0.9999641180038452),\n",
              " ([[351, 333], [463, 333], [463, 349], [351, 349]],\n",
              "  'Physical Health:',\n",
              "  0.814399378632972),\n",
              " ([[79, 365], [179, 365], [179, 381], [79, 381]],\n",
              "  'Family Income',\n",
              "  0.9806223382836957),\n",
              " ([[211, 367], [261, 367], [261, 383], [211, 383]],\n",
              "  '19 lacs',\n",
              "  0.6895882925990142),\n",
              " ([[351, 367], [459, 367], [459, 383], [351, 383]],\n",
              "  'General Health:',\n",
              "  0.9923399259973797),\n",
              " ([[79, 381], [135, 381], [135, 395], [79, 395]],\n",
              "  'In Lacs:',\n",
              "  0.9354985297704979),\n",
              " ([[348, 400], [411, 400], [411, 420], [348, 420]],\n",
              "  'High BP:',\n",
              "  0.9987604379136708),\n",
              " ([[481, 401], [507, 401], [507, 417], [481, 417]], 'Yes', 0.9999418426660514),\n",
              " ([[349, 437], [471, 437], [471, 453], [349, 453]],\n",
              "  'High Cholesterol:',\n",
              "  0.999689998196657),\n",
              " ([[481, 437], [507, 437], [507, 451], [481, 451]], 'Yes', 0.9998668926401049),\n",
              " ([[350, 469], [417, 469], [417, 489], [350, 489]],\n",
              "  'Smoking:',\n",
              "  0.9093562286534455),\n",
              " ([[481, 471], [507, 471], [507, 487], [481, 487]], 'Yes', 0.9998629008324699),\n",
              " ([[351, 507], [403, 507], [403, 521], [351, 521]],\n",
              "  'Stroke:',\n",
              "  0.998658140737256),\n",
              " ([[351, 541], [445, 541], [445, 555], [351, 555]],\n",
              "  'Heart Attack:',\n",
              "  0.821741294863474),\n",
              " ([[481, 539], [507, 539], [507, 555], [481, 555]], 'Yes', 0.9999136933026677),\n",
              " ([[351, 575], [471, 575], [471, 591], [351, 591]],\n",
              "  'Physical Activity:',\n",
              "  0.9325437815850965),\n",
              " ([[351, 609], [439, 609], [439, 627], [351, 627]],\n",
              "  'Eat Veggies:',\n",
              "  0.9998738593816795),\n",
              " ([[481, 609], [507, 609], [507, 625], [481, 625]], 'Yes', 0.9999111467884784),\n",
              " ([[351, 641], [433, 641], [433, 657], [351, 657]],\n",
              "  'Difficulty In',\n",
              "  0.998920995485811),\n",
              " ([[351, 657], [413, 657], [413, 673], [351, 673]],\n",
              "  'Walking:',\n",
              "  0.9990218472266638),\n",
              " ([[351, 689], [417, 689], [417, 705], [351, 705]],\n",
              "  'Consume',\n",
              "  0.9717000560718656),\n",
              " ([[481, 689], [507, 689], [507, 705], [481, 705]], 'Yes', 0.9999131427049315),\n",
              " ([[349, 705], [407, 705], [407, 721], [349, 721]],\n",
              "  'alcohol:',\n",
              "  0.9992700748108699),\n",
              " ([[588, 816], [676, 816], [676, 824], [588, 824]],\n",
              "  'Dlabeies MDi Caee',\n",
              "  0.10087915588358759)]"
            ]
          },
          "metadata": {},
          "execution_count": 8
        }
      ]
    },
    {
      "cell_type": "code",
      "source": [
        "a = []"
      ],
      "metadata": {
        "id": "7Ui_BsSm5dhQ"
      },
      "execution_count": null,
      "outputs": []
    },
    {
      "cell_type": "code",
      "source": [
        "def overlay_ocr_text(img_path, save_name):\n",
        "    '''loads an image, recognizes text, and overlays the text on the image.'''\n",
        "    \n",
        "    # # loads image\n",
        "    # img = cv2.imread(img_path)\n",
        "    # img = cv2.cvtColor(img, cv2.COLOR_BGR2RGB)\n",
        "    \n",
        "    # dpi = 80\n",
        "    # fig_width, fig_height = int(img.shape[0]/dpi), int(img.shape[1]/dpi)\n",
        "    # plt.figure()\n",
        "    # f, axarr = plt.subplots(1,2, figsize=(fig_width, fig_height)) \n",
        "    # axarr[0].imshow(img)\n",
        "    \n",
        "    # recognize text\n",
        "    result = recognize_text(img_path)\n",
        "\n",
        "    # if OCR prob is over 0.5, overlay bounding box and text\n",
        "    for (bbox, text, prob) in result:\n",
        "      # a += text\n",
        "        if prob >= 0.5:\n",
        "            # display \n",
        "            print(f'Detected text: {text} (Probability: {prob:.2f})')\n",
        "            # print(text)\n",
        "            # a += text \n",
        "            a.append(text)\n",
        "\n",
        "            # get top-left and bottom-right bbox vertices\n",
        "            # (top_left, top_right, bottom_right, bottom_left) = bbox\n",
        "            # top_left = (int(top_left[0]), int(top_left[1]))\n",
        "            # bottom_right = (int(bottom_right[0]), int(bottom_right[1]))\n",
        "\n",
        "            # create a rectangle for bbox display\n",
        "            # cv2.rectangle(img=img, pt1=top_left, pt2=bottom_right, color=(255, 0, 0), thickness=10)\n",
        "\n",
        "            # put recognized text\n",
        "            # cv2.putText(img=img, text=text, org=(top_left[0], top_left[1] - 10), fontFace=cv2.FONT_HERSHEY_SIMPLEX, fontScale=1, color=(255, 0, 0), thickness=8)\n",
        "\n",
        "            # a = np.append({text})\n",
        "\n",
        "    # show and save image\n",
        "    # axarr[1].imshow(img)\n",
        "    # plt.savefig(f'/content/{save_name}_overlay.jpg', bbox_inches='tight')"
      ],
      "metadata": {
        "id": "lx0ch3gwq220"
      },
      "execution_count": null,
      "outputs": []
    },
    {
      "cell_type": "code",
      "source": [
        "print(result)"
      ],
      "metadata": {
        "colab": {
          "base_uri": "https://localhost:8080/"
        },
        "id": "EAKGE8ih937H",
        "outputId": "ba5386a9-d863-46c5-9ea3-dc5a93d342b9"
      },
      "execution_count": null,
      "outputs": [
        {
          "output_type": "stream",
          "name": "stdout",
          "text": [
            "[([[294, 164], [394, 164], [394, 196], [294, 196]], 'Suresh', 0.9935053958865389), ([[79, 253], [141, 253], [141, 271], [79, 271]], 'PROFILE', 0.9992753555857627), ([[350, 252], [471, 252], [471, 272], [350, 272]], 'DEMOGRAPHICS', 0.9984127183770193), ([[79, 299], [137, 299], [137, 313], [79, 313]], 'Gender:', 0.8014848541138248), ([[213, 299], [247, 299], [247, 313], [213, 313]], 'Male', 0.9999924302101135), ([[351, 299], [383, 299], [383, 313], [351, 313]], 'BMI:', 0.9967862367630005), ([[79, 333], [113, 333], [113, 349], [79, 349]], 'Age:', 0.9999641180038452), ([[351, 333], [463, 333], [463, 349], [351, 349]], 'Physical Health:', 0.814399378632972), ([[79, 365], [179, 365], [179, 381], [79, 381]], 'Family Income', 0.9806223382836957), ([[211, 367], [261, 367], [261, 383], [211, 383]], '19 lacs', 0.6895882925990142), ([[351, 367], [459, 367], [459, 383], [351, 383]], 'General Health:', 0.9923399259973797), ([[79, 381], [135, 381], [135, 395], [79, 395]], 'In Lacs:', 0.9354985297704979), ([[348, 400], [411, 400], [411, 420], [348, 420]], 'High BP:', 0.9987604379136708), ([[481, 401], [507, 401], [507, 417], [481, 417]], 'Yes', 0.9999418426660514), ([[349, 437], [471, 437], [471, 453], [349, 453]], 'High Cholesterol:', 0.999689998196657), ([[481, 437], [507, 437], [507, 451], [481, 451]], 'Yes', 0.9998668926401049), ([[350, 469], [417, 469], [417, 489], [350, 489]], 'Smoking:', 0.9093562286534455), ([[481, 471], [507, 471], [507, 487], [481, 487]], 'Yes', 0.9998629008324699), ([[351, 507], [403, 507], [403, 521], [351, 521]], 'Stroke:', 0.998658140737256), ([[351, 541], [445, 541], [445, 555], [351, 555]], 'Heart Attack:', 0.821741294863474), ([[481, 539], [507, 539], [507, 555], [481, 555]], 'Yes', 0.9999136933026677), ([[351, 575], [471, 575], [471, 591], [351, 591]], 'Physical Activity:', 0.9325437815850965), ([[351, 609], [439, 609], [439, 627], [351, 627]], 'Eat Veggies:', 0.9998738593816795), ([[481, 609], [507, 609], [507, 625], [481, 625]], 'Yes', 0.9999111467884784), ([[351, 641], [433, 641], [433, 657], [351, 657]], 'Difficulty In', 0.998920995485811), ([[351, 657], [413, 657], [413, 673], [351, 673]], 'Walking:', 0.9990218472266638), ([[351, 689], [417, 689], [417, 705], [351, 705]], 'Consume', 0.9717000560718656), ([[481, 689], [507, 689], [507, 705], [481, 705]], 'Yes', 0.9999131427049315), ([[349, 705], [407, 705], [407, 721], [349, 721]], 'alcohol:', 0.9992700748108699), ([[588, 816], [676, 816], [676, 824], [588, 824]], 'Dlabeies MDi Caee', 0.10087915588358759)]\n"
          ]
        }
      ]
    },
    {
      "cell_type": "code",
      "source": [
        "overlay_ocr_text(im_3_path, \"DimgTrans\")"
      ],
      "metadata": {
        "colab": {
          "base_uri": "https://localhost:8080/"
        },
        "id": "egPf8r6Mdm5b",
        "outputId": "b776b88c-5447-4085-8f38-3b59a212607b"
      },
      "execution_count": null,
      "outputs": [
        {
          "output_type": "stream",
          "name": "stderr",
          "text": [
            "WARNING:easyocr.easyocr:CUDA not available - defaulting to CPU. Note: This module is much faster with a GPU.\n"
          ]
        },
        {
          "output_type": "stream",
          "name": "stdout",
          "text": [
            "Detected text: Suresh (Probability: 0.99)\n",
            "Detected text: PROFILE (Probability: 1.00)\n",
            "Detected text: DEMOGRAPHICS (Probability: 1.00)\n",
            "Detected text: Gender: (Probability: 0.80)\n",
            "Detected text: Male (Probability: 1.00)\n",
            "Detected text: BMI: (Probability: 1.00)\n",
            "Detected text: Age: (Probability: 1.00)\n",
            "Detected text: Physical Health: (Probability: 0.81)\n",
            "Detected text: Family Income (Probability: 0.98)\n",
            "Detected text: 19 lacs (Probability: 0.69)\n",
            "Detected text: General Health: (Probability: 0.99)\n",
            "Detected text: In Lacs: (Probability: 0.94)\n",
            "Detected text: High BP: (Probability: 1.00)\n",
            "Detected text: Yes (Probability: 1.00)\n",
            "Detected text: High Cholesterol: (Probability: 1.00)\n",
            "Detected text: Yes (Probability: 1.00)\n",
            "Detected text: Smoking: (Probability: 0.91)\n",
            "Detected text: Yes (Probability: 1.00)\n",
            "Detected text: Stroke: (Probability: 1.00)\n",
            "Detected text: Heart Attack: (Probability: 0.82)\n",
            "Detected text: Yes (Probability: 1.00)\n",
            "Detected text: Physical Activity: (Probability: 0.93)\n",
            "Detected text: Eat Veggies: (Probability: 1.00)\n",
            "Detected text: Yes (Probability: 1.00)\n",
            "Detected text: Difficulty In (Probability: 1.00)\n",
            "Detected text: Walking: (Probability: 1.00)\n",
            "Detected text: Consume (Probability: 0.97)\n",
            "Detected text: Yes (Probability: 1.00)\n",
            "Detected text: alcohol: (Probability: 1.00)\n"
          ]
        }
      ]
    },
    {
      "cell_type": "code",
      "source": [
        "a"
      ],
      "metadata": {
        "colab": {
          "base_uri": "https://localhost:8080/"
        },
        "id": "TeAaqqRztkid",
        "outputId": "d1c51ba6-e6b2-43b2-b8dc-90a6e023d8d6"
      },
      "execution_count": null,
      "outputs": [
        {
          "output_type": "execute_result",
          "data": {
            "text/plain": [
              "['Suresh',\n",
              " 'PROFILE',\n",
              " 'DEMOGRAPHICS',\n",
              " 'Gender:',\n",
              " 'Male',\n",
              " 'BMI:',\n",
              " 'Age:',\n",
              " 'Physical Health:',\n",
              " 'Family Income',\n",
              " '19 lacs',\n",
              " 'General Health:',\n",
              " 'In Lacs:',\n",
              " 'High BP:',\n",
              " 'Yes',\n",
              " 'High Cholesterol:',\n",
              " 'Yes',\n",
              " 'Smoking:',\n",
              " 'Yes',\n",
              " 'Stroke:',\n",
              " 'Heart Attack:',\n",
              " 'Yes',\n",
              " 'Physical Activity:',\n",
              " 'Eat Veggies:',\n",
              " 'Yes',\n",
              " 'Difficulty In',\n",
              " 'Walking:',\n",
              " 'Consume',\n",
              " 'Yes',\n",
              " 'alcohol:']"
            ]
          },
          "metadata": {},
          "execution_count": 48
        }
      ]
    },
    {
      "cell_type": "markdown",
      "source": [
        "### **DIABETES**"
      ],
      "metadata": {
        "id": "dF9niBdubukf"
      }
    },
    {
      "cell_type": "code",
      "source": [
        "nameD = a[0]\n",
        "print(nameD)"
      ],
      "metadata": {
        "colab": {
          "base_uri": "https://localhost:8080/"
        },
        "id": "qjtXR2dntxjs",
        "outputId": "034a1169-f97f-42d7-8c1b-39b00fca5bb2"
      },
      "execution_count": null,
      "outputs": [
        {
          "output_type": "stream",
          "name": "stdout",
          "text": [
            "Suresh\n"
          ]
        }
      ]
    },
    {
      "cell_type": "code",
      "source": [
        "genderD = a[4]\n",
        "print(genderD)"
      ],
      "metadata": {
        "colab": {
          "base_uri": "https://localhost:8080/"
        },
        "id": "BCKjc_fEyVP0",
        "outputId": "7438ad44-29e9-4fe3-bea7-200ab77cb596"
      },
      "execution_count": null,
      "outputs": [
        {
          "output_type": "stream",
          "name": "stdout",
          "text": [
            "Male\n"
          ]
        }
      ]
    },
    {
      "cell_type": "code",
      "source": [
        "# bmiD = a[]\n",
        "# print(bmiD)"
      ],
      "metadata": {
        "id": "u_Xje8h8yNRh"
      },
      "execution_count": null,
      "outputs": []
    },
    {
      "cell_type": "code",
      "source": [
        "# ageD = a[]\n",
        "# print(ageD)"
      ],
      "metadata": {
        "id": "gFdaxBa_yaRI"
      },
      "execution_count": null,
      "outputs": []
    },
    {
      "cell_type": "code",
      "source": [
        "# phD = a[]\n",
        "# print(phD)"
      ],
      "metadata": {
        "id": "gz_q-NW7yagq"
      },
      "execution_count": null,
      "outputs": []
    },
    {
      "cell_type": "code",
      "source": [
        "famIncD = a[9]\n",
        "print(famIncD)"
      ],
      "metadata": {
        "colab": {
          "base_uri": "https://localhost:8080/"
        },
        "id": "mi1B8xdRxR9y",
        "outputId": "04312851-ab91-4846-e280-edc6a727e449"
      },
      "execution_count": null,
      "outputs": [
        {
          "output_type": "stream",
          "name": "stdout",
          "text": [
            "19 lacs\n"
          ]
        }
      ]
    },
    {
      "cell_type": "code",
      "source": [
        "# ghD = a[]\n",
        "# print(ghD)"
      ],
      "metadata": {
        "id": "fFPajZFgyb6y"
      },
      "execution_count": null,
      "outputs": []
    },
    {
      "cell_type": "code",
      "source": [
        "bpD = a[13]\n",
        "print(bpD)"
      ],
      "metadata": {
        "colab": {
          "base_uri": "https://localhost:8080/"
        },
        "id": "o-IUjsi6xqhv",
        "outputId": "8a87dac0-fbf0-4393-b6c2-ed956bbeaf0e"
      },
      "execution_count": null,
      "outputs": [
        {
          "output_type": "stream",
          "name": "stdout",
          "text": [
            "Yes\n"
          ]
        }
      ]
    },
    {
      "cell_type": "code",
      "source": [
        "cholD = a[15]\n",
        "print(cholD)"
      ],
      "metadata": {
        "colab": {
          "base_uri": "https://localhost:8080/"
        },
        "id": "MO-O0xxLxvCg",
        "outputId": "564b969d-91d1-4a8e-d1a2-1595ae75a2cf"
      },
      "execution_count": null,
      "outputs": [
        {
          "output_type": "stream",
          "name": "stdout",
          "text": [
            "Yes\n"
          ]
        }
      ]
    },
    {
      "cell_type": "code",
      "source": [
        "smokD = a[17]\n",
        "print(smokD)"
      ],
      "metadata": {
        "colab": {
          "base_uri": "https://localhost:8080/"
        },
        "id": "JcNZ2qbQxz4a",
        "outputId": "fa0c0eda-c9c7-4d4f-bfaa-5844df790f38"
      },
      "execution_count": null,
      "outputs": [
        {
          "output_type": "stream",
          "name": "stdout",
          "text": [
            "Yes\n"
          ]
        }
      ]
    },
    {
      "cell_type": "code",
      "source": [
        "# strokeD = a[]\n",
        "# print(strokeD)"
      ],
      "metadata": {
        "id": "9QeMPqpCyeUr"
      },
      "execution_count": null,
      "outputs": []
    },
    {
      "cell_type": "code",
      "source": [
        "hAttD = a[20]\n",
        "print(hAttD)"
      ],
      "metadata": {
        "colab": {
          "base_uri": "https://localhost:8080/"
        },
        "id": "9yb4acdMx4-j",
        "outputId": "70a1f094-e76d-4a17-9158-6584c0557f32"
      },
      "execution_count": null,
      "outputs": [
        {
          "output_type": "stream",
          "name": "stdout",
          "text": [
            "Yes\n"
          ]
        }
      ]
    },
    {
      "cell_type": "code",
      "source": [
        "# phyActD = a[]\n",
        "# print(phyActD)"
      ],
      "metadata": {
        "id": "E-oAkjp-ymCp"
      },
      "execution_count": null,
      "outputs": []
    },
    {
      "cell_type": "code",
      "source": [
        "eatVegD = a[23]\n",
        "print(eatVegD)"
      ],
      "metadata": {
        "colab": {
          "base_uri": "https://localhost:8080/"
        },
        "id": "n3YtNb23yfeT",
        "outputId": "e56804fc-9257-4cb3-a36f-73a1306703d1"
      },
      "execution_count": null,
      "outputs": [
        {
          "output_type": "stream",
          "name": "stdout",
          "text": [
            "Yes\n"
          ]
        }
      ]
    },
    {
      "cell_type": "code",
      "source": [
        "# walkD = a[]\n",
        "# print(walkD)"
      ],
      "metadata": {
        "id": "WNTIf8yVykRf"
      },
      "execution_count": null,
      "outputs": []
    },
    {
      "cell_type": "code",
      "source": [
        "alcD = a[27]\n",
        "print(alcD)"
      ],
      "metadata": {
        "colab": {
          "base_uri": "https://localhost:8080/"
        },
        "id": "I3q5waAVyD6E",
        "outputId": "b0ebad26-9d58-49f0-d101-a491f09a90c7"
      },
      "execution_count": null,
      "outputs": [
        {
          "output_type": "stream",
          "name": "stdout",
          "text": [
            "Yes\n"
          ]
        }
      ]
    }
  ]
}