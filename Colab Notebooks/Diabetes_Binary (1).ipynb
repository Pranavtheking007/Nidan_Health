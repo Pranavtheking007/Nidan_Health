{
  "cells": [
    {
      "cell_type": "markdown",
      "metadata": {
        "id": "ssOQYq4XxreS"
      },
      "source": [
        "# Importing Libraries"
      ]
    },
    {
      "cell_type": "code",
      "execution_count": null,
      "metadata": {
        "id": "uEeiA0ttebVi"
      },
      "outputs": [],
      "source": [
        "#Regular EDA(Exploratory Data Analysis) & Plotting Libraries\n",
        "import numpy as np\n",
        "import pandas as pd\n",
        "import matplotlib.pyplot as plt\n",
        "import seaborn as sns\n",
        "from sklearn.compose import make_column_transformer\n",
        "from sklearn.preprocessing import MinMaxScaler, OneHotEncoder\n",
        "\n",
        "%matplotlib inline"
      ]
    },
    {
      "cell_type": "code",
      "execution_count": null,
      "metadata": {
        "id": "EP8ikJiLSrmf"
      },
      "outputs": [],
      "source": [
        "import pandas as pd"
      ]
    },
    {
      "cell_type": "markdown",
      "metadata": {
        "id": "V2ku0faFyjxi"
      },
      "source": [
        "# Impoting Data"
      ]
    },
    {
      "cell_type": "code",
      "execution_count": null,
      "metadata": {
        "id": "JoMf37slSyLs"
      },
      "outputs": [],
      "source": [
        "dia = pd.read_csv(\"https://raw.githubusercontent.com/kuchbhi-kunal/nidan/main/diabetes_binary_5050split_health_indicators_BRFSS2015.csv\")"
      ]
    },
    {
      "cell_type": "code",
      "execution_count": null,
      "metadata": {
        "colab": {
          "base_uri": "https://localhost:8080/",
          "height": 488
        },
        "id": "3j4UDNv9S7pT",
        "outputId": "5fe6addb-dbb9-4298-c224-0f7947201eab"
      },
      "outputs": [
        {
          "output_type": "execute_result",
          "data": {
            "text/plain": [
              "       Diabetes_binary  HighBP  HighChol  CholCheck   BMI  Smoker  Stroke  \\\n",
              "0                  0.0     1.0       0.0        1.0  26.0     0.0     0.0   \n",
              "1                  0.0     1.0       1.0        1.0  26.0     1.0     1.0   \n",
              "2                  0.0     0.0       0.0        1.0  26.0     0.0     0.0   \n",
              "3                  0.0     1.0       1.0        1.0  28.0     1.0     0.0   \n",
              "4                  0.0     0.0       0.0        1.0  29.0     1.0     0.0   \n",
              "...                ...     ...       ...        ...   ...     ...     ...   \n",
              "70687              1.0     0.0       1.0        1.0  37.0     0.0     0.0   \n",
              "70688              1.0     0.0       1.0        1.0  29.0     1.0     0.0   \n",
              "70689              1.0     1.0       1.0        1.0  25.0     0.0     0.0   \n",
              "70690              1.0     1.0       1.0        1.0  18.0     0.0     0.0   \n",
              "70691              1.0     1.0       1.0        1.0  25.0     0.0     0.0   \n",
              "\n",
              "       HeartDiseaseorAttack  PhysActivity  Fruits  ...  AnyHealthcare  \\\n",
              "0                       0.0           1.0     0.0  ...            1.0   \n",
              "1                       0.0           0.0     1.0  ...            1.0   \n",
              "2                       0.0           1.0     1.0  ...            1.0   \n",
              "3                       0.0           1.0     1.0  ...            1.0   \n",
              "4                       0.0           1.0     1.0  ...            1.0   \n",
              "...                     ...           ...     ...  ...            ...   \n",
              "70687                   0.0           0.0     0.0  ...            1.0   \n",
              "70688                   1.0           0.0     1.0  ...            1.0   \n",
              "70689                   1.0           0.0     1.0  ...            1.0   \n",
              "70690                   0.0           0.0     0.0  ...            1.0   \n",
              "70691                   1.0           1.0     1.0  ...            1.0   \n",
              "\n",
              "       NoDocbcCost  GenHlth  MentHlth  PhysHlth  DiffWalk  Sex   Age  \\\n",
              "0              0.0      3.0       5.0      30.0       0.0  1.0   4.0   \n",
              "1              0.0      3.0       0.0       0.0       0.0  1.0  12.0   \n",
              "2              0.0      1.0       0.0      10.0       0.0  1.0  13.0   \n",
              "3              0.0      3.0       0.0       3.0       0.0  1.0  11.0   \n",
              "4              0.0      2.0       0.0       0.0       0.0  0.0   8.0   \n",
              "...            ...      ...       ...       ...       ...  ...   ...   \n",
              "70687          0.0      4.0       0.0       0.0       0.0  0.0   6.0   \n",
              "70688          0.0      2.0       0.0       0.0       1.0  1.0  10.0   \n",
              "70689          0.0      5.0      15.0       0.0       1.0  0.0  13.0   \n",
              "70690          0.0      4.0       0.0       0.0       1.0  0.0  11.0   \n",
              "70691          0.0      2.0       0.0       0.0       0.0  0.0   9.0   \n",
              "\n",
              "       Education  Income  \n",
              "0            6.0     8.0  \n",
              "1            6.0     8.0  \n",
              "2            6.0     8.0  \n",
              "3            6.0     8.0  \n",
              "4            5.0     8.0  \n",
              "...          ...     ...  \n",
              "70687        4.0     1.0  \n",
              "70688        3.0     6.0  \n",
              "70689        6.0     4.0  \n",
              "70690        2.0     4.0  \n",
              "70691        6.0     2.0  \n",
              "\n",
              "[70692 rows x 22 columns]"
            ],
            "text/html": [
              "\n",
              "  <div id=\"df-69296c0d-e6e0-402b-be9e-8c8469b16d1f\">\n",
              "    <div class=\"colab-df-container\">\n",
              "      <div>\n",
              "<style scoped>\n",
              "    .dataframe tbody tr th:only-of-type {\n",
              "        vertical-align: middle;\n",
              "    }\n",
              "\n",
              "    .dataframe tbody tr th {\n",
              "        vertical-align: top;\n",
              "    }\n",
              "\n",
              "    .dataframe thead th {\n",
              "        text-align: right;\n",
              "    }\n",
              "</style>\n",
              "<table border=\"1\" class=\"dataframe\">\n",
              "  <thead>\n",
              "    <tr style=\"text-align: right;\">\n",
              "      <th></th>\n",
              "      <th>Diabetes_binary</th>\n",
              "      <th>HighBP</th>\n",
              "      <th>HighChol</th>\n",
              "      <th>CholCheck</th>\n",
              "      <th>BMI</th>\n",
              "      <th>Smoker</th>\n",
              "      <th>Stroke</th>\n",
              "      <th>HeartDiseaseorAttack</th>\n",
              "      <th>PhysActivity</th>\n",
              "      <th>Fruits</th>\n",
              "      <th>...</th>\n",
              "      <th>AnyHealthcare</th>\n",
              "      <th>NoDocbcCost</th>\n",
              "      <th>GenHlth</th>\n",
              "      <th>MentHlth</th>\n",
              "      <th>PhysHlth</th>\n",
              "      <th>DiffWalk</th>\n",
              "      <th>Sex</th>\n",
              "      <th>Age</th>\n",
              "      <th>Education</th>\n",
              "      <th>Income</th>\n",
              "    </tr>\n",
              "  </thead>\n",
              "  <tbody>\n",
              "    <tr>\n",
              "      <th>0</th>\n",
              "      <td>0.0</td>\n",
              "      <td>1.0</td>\n",
              "      <td>0.0</td>\n",
              "      <td>1.0</td>\n",
              "      <td>26.0</td>\n",
              "      <td>0.0</td>\n",
              "      <td>0.0</td>\n",
              "      <td>0.0</td>\n",
              "      <td>1.0</td>\n",
              "      <td>0.0</td>\n",
              "      <td>...</td>\n",
              "      <td>1.0</td>\n",
              "      <td>0.0</td>\n",
              "      <td>3.0</td>\n",
              "      <td>5.0</td>\n",
              "      <td>30.0</td>\n",
              "      <td>0.0</td>\n",
              "      <td>1.0</td>\n",
              "      <td>4.0</td>\n",
              "      <td>6.0</td>\n",
              "      <td>8.0</td>\n",
              "    </tr>\n",
              "    <tr>\n",
              "      <th>1</th>\n",
              "      <td>0.0</td>\n",
              "      <td>1.0</td>\n",
              "      <td>1.0</td>\n",
              "      <td>1.0</td>\n",
              "      <td>26.0</td>\n",
              "      <td>1.0</td>\n",
              "      <td>1.0</td>\n",
              "      <td>0.0</td>\n",
              "      <td>0.0</td>\n",
              "      <td>1.0</td>\n",
              "      <td>...</td>\n",
              "      <td>1.0</td>\n",
              "      <td>0.0</td>\n",
              "      <td>3.0</td>\n",
              "      <td>0.0</td>\n",
              "      <td>0.0</td>\n",
              "      <td>0.0</td>\n",
              "      <td>1.0</td>\n",
              "      <td>12.0</td>\n",
              "      <td>6.0</td>\n",
              "      <td>8.0</td>\n",
              "    </tr>\n",
              "    <tr>\n",
              "      <th>2</th>\n",
              "      <td>0.0</td>\n",
              "      <td>0.0</td>\n",
              "      <td>0.0</td>\n",
              "      <td>1.0</td>\n",
              "      <td>26.0</td>\n",
              "      <td>0.0</td>\n",
              "      <td>0.0</td>\n",
              "      <td>0.0</td>\n",
              "      <td>1.0</td>\n",
              "      <td>1.0</td>\n",
              "      <td>...</td>\n",
              "      <td>1.0</td>\n",
              "      <td>0.0</td>\n",
              "      <td>1.0</td>\n",
              "      <td>0.0</td>\n",
              "      <td>10.0</td>\n",
              "      <td>0.0</td>\n",
              "      <td>1.0</td>\n",
              "      <td>13.0</td>\n",
              "      <td>6.0</td>\n",
              "      <td>8.0</td>\n",
              "    </tr>\n",
              "    <tr>\n",
              "      <th>3</th>\n",
              "      <td>0.0</td>\n",
              "      <td>1.0</td>\n",
              "      <td>1.0</td>\n",
              "      <td>1.0</td>\n",
              "      <td>28.0</td>\n",
              "      <td>1.0</td>\n",
              "      <td>0.0</td>\n",
              "      <td>0.0</td>\n",
              "      <td>1.0</td>\n",
              "      <td>1.0</td>\n",
              "      <td>...</td>\n",
              "      <td>1.0</td>\n",
              "      <td>0.0</td>\n",
              "      <td>3.0</td>\n",
              "      <td>0.0</td>\n",
              "      <td>3.0</td>\n",
              "      <td>0.0</td>\n",
              "      <td>1.0</td>\n",
              "      <td>11.0</td>\n",
              "      <td>6.0</td>\n",
              "      <td>8.0</td>\n",
              "    </tr>\n",
              "    <tr>\n",
              "      <th>4</th>\n",
              "      <td>0.0</td>\n",
              "      <td>0.0</td>\n",
              "      <td>0.0</td>\n",
              "      <td>1.0</td>\n",
              "      <td>29.0</td>\n",
              "      <td>1.0</td>\n",
              "      <td>0.0</td>\n",
              "      <td>0.0</td>\n",
              "      <td>1.0</td>\n",
              "      <td>1.0</td>\n",
              "      <td>...</td>\n",
              "      <td>1.0</td>\n",
              "      <td>0.0</td>\n",
              "      <td>2.0</td>\n",
              "      <td>0.0</td>\n",
              "      <td>0.0</td>\n",
              "      <td>0.0</td>\n",
              "      <td>0.0</td>\n",
              "      <td>8.0</td>\n",
              "      <td>5.0</td>\n",
              "      <td>8.0</td>\n",
              "    </tr>\n",
              "    <tr>\n",
              "      <th>...</th>\n",
              "      <td>...</td>\n",
              "      <td>...</td>\n",
              "      <td>...</td>\n",
              "      <td>...</td>\n",
              "      <td>...</td>\n",
              "      <td>...</td>\n",
              "      <td>...</td>\n",
              "      <td>...</td>\n",
              "      <td>...</td>\n",
              "      <td>...</td>\n",
              "      <td>...</td>\n",
              "      <td>...</td>\n",
              "      <td>...</td>\n",
              "      <td>...</td>\n",
              "      <td>...</td>\n",
              "      <td>...</td>\n",
              "      <td>...</td>\n",
              "      <td>...</td>\n",
              "      <td>...</td>\n",
              "      <td>...</td>\n",
              "      <td>...</td>\n",
              "    </tr>\n",
              "    <tr>\n",
              "      <th>70687</th>\n",
              "      <td>1.0</td>\n",
              "      <td>0.0</td>\n",
              "      <td>1.0</td>\n",
              "      <td>1.0</td>\n",
              "      <td>37.0</td>\n",
              "      <td>0.0</td>\n",
              "      <td>0.0</td>\n",
              "      <td>0.0</td>\n",
              "      <td>0.0</td>\n",
              "      <td>0.0</td>\n",
              "      <td>...</td>\n",
              "      <td>1.0</td>\n",
              "      <td>0.0</td>\n",
              "      <td>4.0</td>\n",
              "      <td>0.0</td>\n",
              "      <td>0.0</td>\n",
              "      <td>0.0</td>\n",
              "      <td>0.0</td>\n",
              "      <td>6.0</td>\n",
              "      <td>4.0</td>\n",
              "      <td>1.0</td>\n",
              "    </tr>\n",
              "    <tr>\n",
              "      <th>70688</th>\n",
              "      <td>1.0</td>\n",
              "      <td>0.0</td>\n",
              "      <td>1.0</td>\n",
              "      <td>1.0</td>\n",
              "      <td>29.0</td>\n",
              "      <td>1.0</td>\n",
              "      <td>0.0</td>\n",
              "      <td>1.0</td>\n",
              "      <td>0.0</td>\n",
              "      <td>1.0</td>\n",
              "      <td>...</td>\n",
              "      <td>1.0</td>\n",
              "      <td>0.0</td>\n",
              "      <td>2.0</td>\n",
              "      <td>0.0</td>\n",
              "      <td>0.0</td>\n",
              "      <td>1.0</td>\n",
              "      <td>1.0</td>\n",
              "      <td>10.0</td>\n",
              "      <td>3.0</td>\n",
              "      <td>6.0</td>\n",
              "    </tr>\n",
              "    <tr>\n",
              "      <th>70689</th>\n",
              "      <td>1.0</td>\n",
              "      <td>1.0</td>\n",
              "      <td>1.0</td>\n",
              "      <td>1.0</td>\n",
              "      <td>25.0</td>\n",
              "      <td>0.0</td>\n",
              "      <td>0.0</td>\n",
              "      <td>1.0</td>\n",
              "      <td>0.0</td>\n",
              "      <td>1.0</td>\n",
              "      <td>...</td>\n",
              "      <td>1.0</td>\n",
              "      <td>0.0</td>\n",
              "      <td>5.0</td>\n",
              "      <td>15.0</td>\n",
              "      <td>0.0</td>\n",
              "      <td>1.0</td>\n",
              "      <td>0.0</td>\n",
              "      <td>13.0</td>\n",
              "      <td>6.0</td>\n",
              "      <td>4.0</td>\n",
              "    </tr>\n",
              "    <tr>\n",
              "      <th>70690</th>\n",
              "      <td>1.0</td>\n",
              "      <td>1.0</td>\n",
              "      <td>1.0</td>\n",
              "      <td>1.0</td>\n",
              "      <td>18.0</td>\n",
              "      <td>0.0</td>\n",
              "      <td>0.0</td>\n",
              "      <td>0.0</td>\n",
              "      <td>0.0</td>\n",
              "      <td>0.0</td>\n",
              "      <td>...</td>\n",
              "      <td>1.0</td>\n",
              "      <td>0.0</td>\n",
              "      <td>4.0</td>\n",
              "      <td>0.0</td>\n",
              "      <td>0.0</td>\n",
              "      <td>1.0</td>\n",
              "      <td>0.0</td>\n",
              "      <td>11.0</td>\n",
              "      <td>2.0</td>\n",
              "      <td>4.0</td>\n",
              "    </tr>\n",
              "    <tr>\n",
              "      <th>70691</th>\n",
              "      <td>1.0</td>\n",
              "      <td>1.0</td>\n",
              "      <td>1.0</td>\n",
              "      <td>1.0</td>\n",
              "      <td>25.0</td>\n",
              "      <td>0.0</td>\n",
              "      <td>0.0</td>\n",
              "      <td>1.0</td>\n",
              "      <td>1.0</td>\n",
              "      <td>1.0</td>\n",
              "      <td>...</td>\n",
              "      <td>1.0</td>\n",
              "      <td>0.0</td>\n",
              "      <td>2.0</td>\n",
              "      <td>0.0</td>\n",
              "      <td>0.0</td>\n",
              "      <td>0.0</td>\n",
              "      <td>0.0</td>\n",
              "      <td>9.0</td>\n",
              "      <td>6.0</td>\n",
              "      <td>2.0</td>\n",
              "    </tr>\n",
              "  </tbody>\n",
              "</table>\n",
              "<p>70692 rows × 22 columns</p>\n",
              "</div>\n",
              "      <button class=\"colab-df-convert\" onclick=\"convertToInteractive('df-69296c0d-e6e0-402b-be9e-8c8469b16d1f')\"\n",
              "              title=\"Convert this dataframe to an interactive table.\"\n",
              "              style=\"display:none;\">\n",
              "        \n",
              "  <svg xmlns=\"http://www.w3.org/2000/svg\" height=\"24px\"viewBox=\"0 0 24 24\"\n",
              "       width=\"24px\">\n",
              "    <path d=\"M0 0h24v24H0V0z\" fill=\"none\"/>\n",
              "    <path d=\"M18.56 5.44l.94 2.06.94-2.06 2.06-.94-2.06-.94-.94-2.06-.94 2.06-2.06.94zm-11 1L8.5 8.5l.94-2.06 2.06-.94-2.06-.94L8.5 2.5l-.94 2.06-2.06.94zm10 10l.94 2.06.94-2.06 2.06-.94-2.06-.94-.94-2.06-.94 2.06-2.06.94z\"/><path d=\"M17.41 7.96l-1.37-1.37c-.4-.4-.92-.59-1.43-.59-.52 0-1.04.2-1.43.59L10.3 9.45l-7.72 7.72c-.78.78-.78 2.05 0 2.83L4 21.41c.39.39.9.59 1.41.59.51 0 1.02-.2 1.41-.59l7.78-7.78 2.81-2.81c.8-.78.8-2.07 0-2.86zM5.41 20L4 18.59l7.72-7.72 1.47 1.35L5.41 20z\"/>\n",
              "  </svg>\n",
              "      </button>\n",
              "      \n",
              "  <style>\n",
              "    .colab-df-container {\n",
              "      display:flex;\n",
              "      flex-wrap:wrap;\n",
              "      gap: 12px;\n",
              "    }\n",
              "\n",
              "    .colab-df-convert {\n",
              "      background-color: #E8F0FE;\n",
              "      border: none;\n",
              "      border-radius: 50%;\n",
              "      cursor: pointer;\n",
              "      display: none;\n",
              "      fill: #1967D2;\n",
              "      height: 32px;\n",
              "      padding: 0 0 0 0;\n",
              "      width: 32px;\n",
              "    }\n",
              "\n",
              "    .colab-df-convert:hover {\n",
              "      background-color: #E2EBFA;\n",
              "      box-shadow: 0px 1px 2px rgba(60, 64, 67, 0.3), 0px 1px 3px 1px rgba(60, 64, 67, 0.15);\n",
              "      fill: #174EA6;\n",
              "    }\n",
              "\n",
              "    [theme=dark] .colab-df-convert {\n",
              "      background-color: #3B4455;\n",
              "      fill: #D2E3FC;\n",
              "    }\n",
              "\n",
              "    [theme=dark] .colab-df-convert:hover {\n",
              "      background-color: #434B5C;\n",
              "      box-shadow: 0px 1px 3px 1px rgba(0, 0, 0, 0.15);\n",
              "      filter: drop-shadow(0px 1px 2px rgba(0, 0, 0, 0.3));\n",
              "      fill: #FFFFFF;\n",
              "    }\n",
              "  </style>\n",
              "\n",
              "      <script>\n",
              "        const buttonEl =\n",
              "          document.querySelector('#df-69296c0d-e6e0-402b-be9e-8c8469b16d1f button.colab-df-convert');\n",
              "        buttonEl.style.display =\n",
              "          google.colab.kernel.accessAllowed ? 'block' : 'none';\n",
              "\n",
              "        async function convertToInteractive(key) {\n",
              "          const element = document.querySelector('#df-69296c0d-e6e0-402b-be9e-8c8469b16d1f');\n",
              "          const dataTable =\n",
              "            await google.colab.kernel.invokeFunction('convertToInteractive',\n",
              "                                                     [key], {});\n",
              "          if (!dataTable) return;\n",
              "\n",
              "          const docLinkHtml = 'Like what you see? Visit the ' +\n",
              "            '<a target=\"_blank\" href=https://colab.research.google.com/notebooks/data_table.ipynb>data table notebook</a>'\n",
              "            + ' to learn more about interactive tables.';\n",
              "          element.innerHTML = '';\n",
              "          dataTable['output_type'] = 'display_data';\n",
              "          await google.colab.output.renderOutput(dataTable, element);\n",
              "          const docLink = document.createElement('div');\n",
              "          docLink.innerHTML = docLinkHtml;\n",
              "          element.appendChild(docLink);\n",
              "        }\n",
              "      </script>\n",
              "    </div>\n",
              "  </div>\n",
              "  "
            ]
          },
          "metadata": {},
          "execution_count": 4
        }
      ],
      "source": [
        "dia"
      ]
    },
    {
      "cell_type": "code",
      "execution_count": null,
      "metadata": {
        "colab": {
          "base_uri": "https://localhost:8080/",
          "height": 833
        },
        "id": "H_umkuE5rPgB",
        "outputId": "22c9eafa-6ac7-4ad6-b50b-d7b82c0ddfe3"
      },
      "outputs": [
        {
          "output_type": "execute_result",
          "data": {
            "text/plain": [
              "                      35346  35347  35348  35349  35350  35351  35352  35353  \\\n",
              "Diabetes_binary         1.0    1.0    1.0    1.0    1.0    1.0    1.0    1.0   \n",
              "HighBP                  1.0    0.0    1.0    0.0    1.0    1.0    1.0    1.0   \n",
              "HighChol                1.0    0.0    1.0    0.0    0.0    1.0    1.0    1.0   \n",
              "CholCheck               1.0    1.0    1.0    1.0    1.0    1.0    1.0    1.0   \n",
              "BMI                    30.0   25.0   28.0   23.0   27.0   37.0   28.0   27.0   \n",
              "Smoker                  1.0    1.0    0.0    1.0    0.0    1.0    1.0    1.0   \n",
              "Stroke                  0.0    0.0    0.0    0.0    0.0    1.0    0.0    0.0   \n",
              "HeartDiseaseorAttack    1.0    0.0    0.0    0.0    0.0    1.0    1.0    0.0   \n",
              "PhysActivity            0.0    1.0    0.0    1.0    1.0    0.0    0.0    0.0   \n",
              "Fruits                  1.0    1.0    0.0    0.0    1.0    0.0    0.0    1.0   \n",
              "Veggies                 1.0    1.0    1.0    0.0    1.0    1.0    1.0    1.0   \n",
              "HvyAlcoholConsump       0.0    0.0    0.0    0.0    0.0    0.0    0.0    0.0   \n",
              "AnyHealthcare           1.0    1.0    1.0    1.0    1.0    1.0    1.0    1.0   \n",
              "NoDocbcCost             0.0    0.0    0.0    0.0    0.0    0.0    0.0    0.0   \n",
              "GenHlth                 5.0    3.0    4.0    2.0    1.0    5.0    4.0    4.0   \n",
              "MentHlth               30.0    0.0    0.0    0.0    0.0    0.0    0.0   20.0   \n",
              "PhysHlth               30.0    0.0    0.0    0.0    0.0    0.0    0.0   20.0   \n",
              "DiffWalk                1.0    0.0    1.0    0.0    0.0    1.0    0.0    1.0   \n",
              "Sex                     0.0    1.0    0.0    1.0    0.0    1.0    1.0    0.0   \n",
              "Age                     9.0   13.0   11.0    7.0   13.0   10.0   12.0    8.0   \n",
              "Education               5.0    6.0    4.0    5.0    5.0    6.0    2.0    4.0   \n",
              "Income                  1.0    8.0    6.0    6.0    4.0    5.0    4.0    7.0   \n",
              "\n",
              "                      35354  35355  ...  70682  70683  70684  70685  70686  \\\n",
              "Diabetes_binary         1.0    1.0  ...    1.0    1.0    1.0    1.0    1.0   \n",
              "HighBP                  1.0    1.0  ...    1.0    1.0    1.0    1.0    0.0   \n",
              "HighChol                1.0    1.0  ...    0.0    0.0    1.0    0.0    1.0   \n",
              "CholCheck               1.0    1.0  ...    1.0    1.0    1.0    1.0    1.0   \n",
              "BMI                    34.0   24.0  ...   37.0   28.0   27.0   38.0   27.0   \n",
              "Smoker                  1.0    1.0  ...    0.0    0.0    0.0    0.0    0.0   \n",
              "Stroke                  1.0    0.0  ...    0.0    0.0    0.0    0.0    0.0   \n",
              "HeartDiseaseorAttack    0.0    0.0  ...    0.0    0.0    1.0    0.0    0.0   \n",
              "PhysActivity            1.0    0.0  ...    0.0    0.0    1.0    1.0    1.0   \n",
              "Fruits                  0.0    0.0  ...    0.0    0.0    0.0    0.0    1.0   \n",
              "Veggies                 0.0    0.0  ...    0.0    1.0    1.0    1.0    0.0   \n",
              "HvyAlcoholConsump       0.0    0.0  ...    0.0    0.0    0.0    0.0    0.0   \n",
              "AnyHealthcare           1.0    1.0  ...    1.0    1.0    1.0    1.0    1.0   \n",
              "NoDocbcCost             0.0    0.0  ...    0.0    0.0    1.0    0.0    0.0   \n",
              "GenHlth                 4.0    2.0  ...    4.0    2.0    4.0    4.0    4.0   \n",
              "MentHlth                0.0    0.0  ...    0.0    0.0   30.0    0.0    0.0   \n",
              "PhysHlth                7.0    0.0  ...   30.0    0.0    5.0    0.0   30.0   \n",
              "DiffWalk                1.0    0.0  ...    1.0    0.0    0.0    0.0    0.0   \n",
              "Sex                     0.0    0.0  ...    0.0    0.0    1.0    0.0    1.0   \n",
              "Age                     9.0   12.0  ...    9.0   10.0    9.0    7.0   11.0   \n",
              "Education               5.0    3.0  ...    2.0    4.0    4.0    6.0    2.0   \n",
              "Income                  4.0    3.0  ...    1.0    3.0    5.0    2.0    3.0   \n",
              "\n",
              "                      70687  70688  70689  70690  70691  \n",
              "Diabetes_binary         1.0    1.0    1.0    1.0    1.0  \n",
              "HighBP                  0.0    0.0    1.0    1.0    1.0  \n",
              "HighChol                1.0    1.0    1.0    1.0    1.0  \n",
              "CholCheck               1.0    1.0    1.0    1.0    1.0  \n",
              "BMI                    37.0   29.0   25.0   18.0   25.0  \n",
              "Smoker                  0.0    1.0    0.0    0.0    0.0  \n",
              "Stroke                  0.0    0.0    0.0    0.0    0.0  \n",
              "HeartDiseaseorAttack    0.0    1.0    1.0    0.0    1.0  \n",
              "PhysActivity            0.0    0.0    0.0    0.0    1.0  \n",
              "Fruits                  0.0    1.0    1.0    0.0    1.0  \n",
              "Veggies                 1.0    1.0    0.0    0.0    0.0  \n",
              "HvyAlcoholConsump       0.0    0.0    0.0    0.0    0.0  \n",
              "AnyHealthcare           1.0    1.0    1.0    1.0    1.0  \n",
              "NoDocbcCost             0.0    0.0    0.0    0.0    0.0  \n",
              "GenHlth                 4.0    2.0    5.0    4.0    2.0  \n",
              "MentHlth                0.0    0.0   15.0    0.0    0.0  \n",
              "PhysHlth                0.0    0.0    0.0    0.0    0.0  \n",
              "DiffWalk                0.0    1.0    1.0    1.0    0.0  \n",
              "Sex                     0.0    1.0    0.0    0.0    0.0  \n",
              "Age                     6.0   10.0   13.0   11.0    9.0  \n",
              "Education               4.0    3.0    6.0    2.0    6.0  \n",
              "Income                  1.0    6.0    4.0    4.0    2.0  \n",
              "\n",
              "[22 rows x 35346 columns]"
            ],
            "text/html": [
              "\n",
              "  <div id=\"df-f404b354-1de8-40fd-8d32-70379bbc293b\">\n",
              "    <div class=\"colab-df-container\">\n",
              "      <div>\n",
              "<style scoped>\n",
              "    .dataframe tbody tr th:only-of-type {\n",
              "        vertical-align: middle;\n",
              "    }\n",
              "\n",
              "    .dataframe tbody tr th {\n",
              "        vertical-align: top;\n",
              "    }\n",
              "\n",
              "    .dataframe thead th {\n",
              "        text-align: right;\n",
              "    }\n",
              "</style>\n",
              "<table border=\"1\" class=\"dataframe\">\n",
              "  <thead>\n",
              "    <tr style=\"text-align: right;\">\n",
              "      <th></th>\n",
              "      <th>35346</th>\n",
              "      <th>35347</th>\n",
              "      <th>35348</th>\n",
              "      <th>35349</th>\n",
              "      <th>35350</th>\n",
              "      <th>35351</th>\n",
              "      <th>35352</th>\n",
              "      <th>35353</th>\n",
              "      <th>35354</th>\n",
              "      <th>35355</th>\n",
              "      <th>...</th>\n",
              "      <th>70682</th>\n",
              "      <th>70683</th>\n",
              "      <th>70684</th>\n",
              "      <th>70685</th>\n",
              "      <th>70686</th>\n",
              "      <th>70687</th>\n",
              "      <th>70688</th>\n",
              "      <th>70689</th>\n",
              "      <th>70690</th>\n",
              "      <th>70691</th>\n",
              "    </tr>\n",
              "  </thead>\n",
              "  <tbody>\n",
              "    <tr>\n",
              "      <th>Diabetes_binary</th>\n",
              "      <td>1.0</td>\n",
              "      <td>1.0</td>\n",
              "      <td>1.0</td>\n",
              "      <td>1.0</td>\n",
              "      <td>1.0</td>\n",
              "      <td>1.0</td>\n",
              "      <td>1.0</td>\n",
              "      <td>1.0</td>\n",
              "      <td>1.0</td>\n",
              "      <td>1.0</td>\n",
              "      <td>...</td>\n",
              "      <td>1.0</td>\n",
              "      <td>1.0</td>\n",
              "      <td>1.0</td>\n",
              "      <td>1.0</td>\n",
              "      <td>1.0</td>\n",
              "      <td>1.0</td>\n",
              "      <td>1.0</td>\n",
              "      <td>1.0</td>\n",
              "      <td>1.0</td>\n",
              "      <td>1.0</td>\n",
              "    </tr>\n",
              "    <tr>\n",
              "      <th>HighBP</th>\n",
              "      <td>1.0</td>\n",
              "      <td>0.0</td>\n",
              "      <td>1.0</td>\n",
              "      <td>0.0</td>\n",
              "      <td>1.0</td>\n",
              "      <td>1.0</td>\n",
              "      <td>1.0</td>\n",
              "      <td>1.0</td>\n",
              "      <td>1.0</td>\n",
              "      <td>1.0</td>\n",
              "      <td>...</td>\n",
              "      <td>1.0</td>\n",
              "      <td>1.0</td>\n",
              "      <td>1.0</td>\n",
              "      <td>1.0</td>\n",
              "      <td>0.0</td>\n",
              "      <td>0.0</td>\n",
              "      <td>0.0</td>\n",
              "      <td>1.0</td>\n",
              "      <td>1.0</td>\n",
              "      <td>1.0</td>\n",
              "    </tr>\n",
              "    <tr>\n",
              "      <th>HighChol</th>\n",
              "      <td>1.0</td>\n",
              "      <td>0.0</td>\n",
              "      <td>1.0</td>\n",
              "      <td>0.0</td>\n",
              "      <td>0.0</td>\n",
              "      <td>1.0</td>\n",
              "      <td>1.0</td>\n",
              "      <td>1.0</td>\n",
              "      <td>1.0</td>\n",
              "      <td>1.0</td>\n",
              "      <td>...</td>\n",
              "      <td>0.0</td>\n",
              "      <td>0.0</td>\n",
              "      <td>1.0</td>\n",
              "      <td>0.0</td>\n",
              "      <td>1.0</td>\n",
              "      <td>1.0</td>\n",
              "      <td>1.0</td>\n",
              "      <td>1.0</td>\n",
              "      <td>1.0</td>\n",
              "      <td>1.0</td>\n",
              "    </tr>\n",
              "    <tr>\n",
              "      <th>CholCheck</th>\n",
              "      <td>1.0</td>\n",
              "      <td>1.0</td>\n",
              "      <td>1.0</td>\n",
              "      <td>1.0</td>\n",
              "      <td>1.0</td>\n",
              "      <td>1.0</td>\n",
              "      <td>1.0</td>\n",
              "      <td>1.0</td>\n",
              "      <td>1.0</td>\n",
              "      <td>1.0</td>\n",
              "      <td>...</td>\n",
              "      <td>1.0</td>\n",
              "      <td>1.0</td>\n",
              "      <td>1.0</td>\n",
              "      <td>1.0</td>\n",
              "      <td>1.0</td>\n",
              "      <td>1.0</td>\n",
              "      <td>1.0</td>\n",
              "      <td>1.0</td>\n",
              "      <td>1.0</td>\n",
              "      <td>1.0</td>\n",
              "    </tr>\n",
              "    <tr>\n",
              "      <th>BMI</th>\n",
              "      <td>30.0</td>\n",
              "      <td>25.0</td>\n",
              "      <td>28.0</td>\n",
              "      <td>23.0</td>\n",
              "      <td>27.0</td>\n",
              "      <td>37.0</td>\n",
              "      <td>28.0</td>\n",
              "      <td>27.0</td>\n",
              "      <td>34.0</td>\n",
              "      <td>24.0</td>\n",
              "      <td>...</td>\n",
              "      <td>37.0</td>\n",
              "      <td>28.0</td>\n",
              "      <td>27.0</td>\n",
              "      <td>38.0</td>\n",
              "      <td>27.0</td>\n",
              "      <td>37.0</td>\n",
              "      <td>29.0</td>\n",
              "      <td>25.0</td>\n",
              "      <td>18.0</td>\n",
              "      <td>25.0</td>\n",
              "    </tr>\n",
              "    <tr>\n",
              "      <th>Smoker</th>\n",
              "      <td>1.0</td>\n",
              "      <td>1.0</td>\n",
              "      <td>0.0</td>\n",
              "      <td>1.0</td>\n",
              "      <td>0.0</td>\n",
              "      <td>1.0</td>\n",
              "      <td>1.0</td>\n",
              "      <td>1.0</td>\n",
              "      <td>1.0</td>\n",
              "      <td>1.0</td>\n",
              "      <td>...</td>\n",
              "      <td>0.0</td>\n",
              "      <td>0.0</td>\n",
              "      <td>0.0</td>\n",
              "      <td>0.0</td>\n",
              "      <td>0.0</td>\n",
              "      <td>0.0</td>\n",
              "      <td>1.0</td>\n",
              "      <td>0.0</td>\n",
              "      <td>0.0</td>\n",
              "      <td>0.0</td>\n",
              "    </tr>\n",
              "    <tr>\n",
              "      <th>Stroke</th>\n",
              "      <td>0.0</td>\n",
              "      <td>0.0</td>\n",
              "      <td>0.0</td>\n",
              "      <td>0.0</td>\n",
              "      <td>0.0</td>\n",
              "      <td>1.0</td>\n",
              "      <td>0.0</td>\n",
              "      <td>0.0</td>\n",
              "      <td>1.0</td>\n",
              "      <td>0.0</td>\n",
              "      <td>...</td>\n",
              "      <td>0.0</td>\n",
              "      <td>0.0</td>\n",
              "      <td>0.0</td>\n",
              "      <td>0.0</td>\n",
              "      <td>0.0</td>\n",
              "      <td>0.0</td>\n",
              "      <td>0.0</td>\n",
              "      <td>0.0</td>\n",
              "      <td>0.0</td>\n",
              "      <td>0.0</td>\n",
              "    </tr>\n",
              "    <tr>\n",
              "      <th>HeartDiseaseorAttack</th>\n",
              "      <td>1.0</td>\n",
              "      <td>0.0</td>\n",
              "      <td>0.0</td>\n",
              "      <td>0.0</td>\n",
              "      <td>0.0</td>\n",
              "      <td>1.0</td>\n",
              "      <td>1.0</td>\n",
              "      <td>0.0</td>\n",
              "      <td>0.0</td>\n",
              "      <td>0.0</td>\n",
              "      <td>...</td>\n",
              "      <td>0.0</td>\n",
              "      <td>0.0</td>\n",
              "      <td>1.0</td>\n",
              "      <td>0.0</td>\n",
              "      <td>0.0</td>\n",
              "      <td>0.0</td>\n",
              "      <td>1.0</td>\n",
              "      <td>1.0</td>\n",
              "      <td>0.0</td>\n",
              "      <td>1.0</td>\n",
              "    </tr>\n",
              "    <tr>\n",
              "      <th>PhysActivity</th>\n",
              "      <td>0.0</td>\n",
              "      <td>1.0</td>\n",
              "      <td>0.0</td>\n",
              "      <td>1.0</td>\n",
              "      <td>1.0</td>\n",
              "      <td>0.0</td>\n",
              "      <td>0.0</td>\n",
              "      <td>0.0</td>\n",
              "      <td>1.0</td>\n",
              "      <td>0.0</td>\n",
              "      <td>...</td>\n",
              "      <td>0.0</td>\n",
              "      <td>0.0</td>\n",
              "      <td>1.0</td>\n",
              "      <td>1.0</td>\n",
              "      <td>1.0</td>\n",
              "      <td>0.0</td>\n",
              "      <td>0.0</td>\n",
              "      <td>0.0</td>\n",
              "      <td>0.0</td>\n",
              "      <td>1.0</td>\n",
              "    </tr>\n",
              "    <tr>\n",
              "      <th>Fruits</th>\n",
              "      <td>1.0</td>\n",
              "      <td>1.0</td>\n",
              "      <td>0.0</td>\n",
              "      <td>0.0</td>\n",
              "      <td>1.0</td>\n",
              "      <td>0.0</td>\n",
              "      <td>0.0</td>\n",
              "      <td>1.0</td>\n",
              "      <td>0.0</td>\n",
              "      <td>0.0</td>\n",
              "      <td>...</td>\n",
              "      <td>0.0</td>\n",
              "      <td>0.0</td>\n",
              "      <td>0.0</td>\n",
              "      <td>0.0</td>\n",
              "      <td>1.0</td>\n",
              "      <td>0.0</td>\n",
              "      <td>1.0</td>\n",
              "      <td>1.0</td>\n",
              "      <td>0.0</td>\n",
              "      <td>1.0</td>\n",
              "    </tr>\n",
              "    <tr>\n",
              "      <th>Veggies</th>\n",
              "      <td>1.0</td>\n",
              "      <td>1.0</td>\n",
              "      <td>1.0</td>\n",
              "      <td>0.0</td>\n",
              "      <td>1.0</td>\n",
              "      <td>1.0</td>\n",
              "      <td>1.0</td>\n",
              "      <td>1.0</td>\n",
              "      <td>0.0</td>\n",
              "      <td>0.0</td>\n",
              "      <td>...</td>\n",
              "      <td>0.0</td>\n",
              "      <td>1.0</td>\n",
              "      <td>1.0</td>\n",
              "      <td>1.0</td>\n",
              "      <td>0.0</td>\n",
              "      <td>1.0</td>\n",
              "      <td>1.0</td>\n",
              "      <td>0.0</td>\n",
              "      <td>0.0</td>\n",
              "      <td>0.0</td>\n",
              "    </tr>\n",
              "    <tr>\n",
              "      <th>HvyAlcoholConsump</th>\n",
              "      <td>0.0</td>\n",
              "      <td>0.0</td>\n",
              "      <td>0.0</td>\n",
              "      <td>0.0</td>\n",
              "      <td>0.0</td>\n",
              "      <td>0.0</td>\n",
              "      <td>0.0</td>\n",
              "      <td>0.0</td>\n",
              "      <td>0.0</td>\n",
              "      <td>0.0</td>\n",
              "      <td>...</td>\n",
              "      <td>0.0</td>\n",
              "      <td>0.0</td>\n",
              "      <td>0.0</td>\n",
              "      <td>0.0</td>\n",
              "      <td>0.0</td>\n",
              "      <td>0.0</td>\n",
              "      <td>0.0</td>\n",
              "      <td>0.0</td>\n",
              "      <td>0.0</td>\n",
              "      <td>0.0</td>\n",
              "    </tr>\n",
              "    <tr>\n",
              "      <th>AnyHealthcare</th>\n",
              "      <td>1.0</td>\n",
              "      <td>1.0</td>\n",
              "      <td>1.0</td>\n",
              "      <td>1.0</td>\n",
              "      <td>1.0</td>\n",
              "      <td>1.0</td>\n",
              "      <td>1.0</td>\n",
              "      <td>1.0</td>\n",
              "      <td>1.0</td>\n",
              "      <td>1.0</td>\n",
              "      <td>...</td>\n",
              "      <td>1.0</td>\n",
              "      <td>1.0</td>\n",
              "      <td>1.0</td>\n",
              "      <td>1.0</td>\n",
              "      <td>1.0</td>\n",
              "      <td>1.0</td>\n",
              "      <td>1.0</td>\n",
              "      <td>1.0</td>\n",
              "      <td>1.0</td>\n",
              "      <td>1.0</td>\n",
              "    </tr>\n",
              "    <tr>\n",
              "      <th>NoDocbcCost</th>\n",
              "      <td>0.0</td>\n",
              "      <td>0.0</td>\n",
              "      <td>0.0</td>\n",
              "      <td>0.0</td>\n",
              "      <td>0.0</td>\n",
              "      <td>0.0</td>\n",
              "      <td>0.0</td>\n",
              "      <td>0.0</td>\n",
              "      <td>0.0</td>\n",
              "      <td>0.0</td>\n",
              "      <td>...</td>\n",
              "      <td>0.0</td>\n",
              "      <td>0.0</td>\n",
              "      <td>1.0</td>\n",
              "      <td>0.0</td>\n",
              "      <td>0.0</td>\n",
              "      <td>0.0</td>\n",
              "      <td>0.0</td>\n",
              "      <td>0.0</td>\n",
              "      <td>0.0</td>\n",
              "      <td>0.0</td>\n",
              "    </tr>\n",
              "    <tr>\n",
              "      <th>GenHlth</th>\n",
              "      <td>5.0</td>\n",
              "      <td>3.0</td>\n",
              "      <td>4.0</td>\n",
              "      <td>2.0</td>\n",
              "      <td>1.0</td>\n",
              "      <td>5.0</td>\n",
              "      <td>4.0</td>\n",
              "      <td>4.0</td>\n",
              "      <td>4.0</td>\n",
              "      <td>2.0</td>\n",
              "      <td>...</td>\n",
              "      <td>4.0</td>\n",
              "      <td>2.0</td>\n",
              "      <td>4.0</td>\n",
              "      <td>4.0</td>\n",
              "      <td>4.0</td>\n",
              "      <td>4.0</td>\n",
              "      <td>2.0</td>\n",
              "      <td>5.0</td>\n",
              "      <td>4.0</td>\n",
              "      <td>2.0</td>\n",
              "    </tr>\n",
              "    <tr>\n",
              "      <th>MentHlth</th>\n",
              "      <td>30.0</td>\n",
              "      <td>0.0</td>\n",
              "      <td>0.0</td>\n",
              "      <td>0.0</td>\n",
              "      <td>0.0</td>\n",
              "      <td>0.0</td>\n",
              "      <td>0.0</td>\n",
              "      <td>20.0</td>\n",
              "      <td>0.0</td>\n",
              "      <td>0.0</td>\n",
              "      <td>...</td>\n",
              "      <td>0.0</td>\n",
              "      <td>0.0</td>\n",
              "      <td>30.0</td>\n",
              "      <td>0.0</td>\n",
              "      <td>0.0</td>\n",
              "      <td>0.0</td>\n",
              "      <td>0.0</td>\n",
              "      <td>15.0</td>\n",
              "      <td>0.0</td>\n",
              "      <td>0.0</td>\n",
              "    </tr>\n",
              "    <tr>\n",
              "      <th>PhysHlth</th>\n",
              "      <td>30.0</td>\n",
              "      <td>0.0</td>\n",
              "      <td>0.0</td>\n",
              "      <td>0.0</td>\n",
              "      <td>0.0</td>\n",
              "      <td>0.0</td>\n",
              "      <td>0.0</td>\n",
              "      <td>20.0</td>\n",
              "      <td>7.0</td>\n",
              "      <td>0.0</td>\n",
              "      <td>...</td>\n",
              "      <td>30.0</td>\n",
              "      <td>0.0</td>\n",
              "      <td>5.0</td>\n",
              "      <td>0.0</td>\n",
              "      <td>30.0</td>\n",
              "      <td>0.0</td>\n",
              "      <td>0.0</td>\n",
              "      <td>0.0</td>\n",
              "      <td>0.0</td>\n",
              "      <td>0.0</td>\n",
              "    </tr>\n",
              "    <tr>\n",
              "      <th>DiffWalk</th>\n",
              "      <td>1.0</td>\n",
              "      <td>0.0</td>\n",
              "      <td>1.0</td>\n",
              "      <td>0.0</td>\n",
              "      <td>0.0</td>\n",
              "      <td>1.0</td>\n",
              "      <td>0.0</td>\n",
              "      <td>1.0</td>\n",
              "      <td>1.0</td>\n",
              "      <td>0.0</td>\n",
              "      <td>...</td>\n",
              "      <td>1.0</td>\n",
              "      <td>0.0</td>\n",
              "      <td>0.0</td>\n",
              "      <td>0.0</td>\n",
              "      <td>0.0</td>\n",
              "      <td>0.0</td>\n",
              "      <td>1.0</td>\n",
              "      <td>1.0</td>\n",
              "      <td>1.0</td>\n",
              "      <td>0.0</td>\n",
              "    </tr>\n",
              "    <tr>\n",
              "      <th>Sex</th>\n",
              "      <td>0.0</td>\n",
              "      <td>1.0</td>\n",
              "      <td>0.0</td>\n",
              "      <td>1.0</td>\n",
              "      <td>0.0</td>\n",
              "      <td>1.0</td>\n",
              "      <td>1.0</td>\n",
              "      <td>0.0</td>\n",
              "      <td>0.0</td>\n",
              "      <td>0.0</td>\n",
              "      <td>...</td>\n",
              "      <td>0.0</td>\n",
              "      <td>0.0</td>\n",
              "      <td>1.0</td>\n",
              "      <td>0.0</td>\n",
              "      <td>1.0</td>\n",
              "      <td>0.0</td>\n",
              "      <td>1.0</td>\n",
              "      <td>0.0</td>\n",
              "      <td>0.0</td>\n",
              "      <td>0.0</td>\n",
              "    </tr>\n",
              "    <tr>\n",
              "      <th>Age</th>\n",
              "      <td>9.0</td>\n",
              "      <td>13.0</td>\n",
              "      <td>11.0</td>\n",
              "      <td>7.0</td>\n",
              "      <td>13.0</td>\n",
              "      <td>10.0</td>\n",
              "      <td>12.0</td>\n",
              "      <td>8.0</td>\n",
              "      <td>9.0</td>\n",
              "      <td>12.0</td>\n",
              "      <td>...</td>\n",
              "      <td>9.0</td>\n",
              "      <td>10.0</td>\n",
              "      <td>9.0</td>\n",
              "      <td>7.0</td>\n",
              "      <td>11.0</td>\n",
              "      <td>6.0</td>\n",
              "      <td>10.0</td>\n",
              "      <td>13.0</td>\n",
              "      <td>11.0</td>\n",
              "      <td>9.0</td>\n",
              "    </tr>\n",
              "    <tr>\n",
              "      <th>Education</th>\n",
              "      <td>5.0</td>\n",
              "      <td>6.0</td>\n",
              "      <td>4.0</td>\n",
              "      <td>5.0</td>\n",
              "      <td>5.0</td>\n",
              "      <td>6.0</td>\n",
              "      <td>2.0</td>\n",
              "      <td>4.0</td>\n",
              "      <td>5.0</td>\n",
              "      <td>3.0</td>\n",
              "      <td>...</td>\n",
              "      <td>2.0</td>\n",
              "      <td>4.0</td>\n",
              "      <td>4.0</td>\n",
              "      <td>6.0</td>\n",
              "      <td>2.0</td>\n",
              "      <td>4.0</td>\n",
              "      <td>3.0</td>\n",
              "      <td>6.0</td>\n",
              "      <td>2.0</td>\n",
              "      <td>6.0</td>\n",
              "    </tr>\n",
              "    <tr>\n",
              "      <th>Income</th>\n",
              "      <td>1.0</td>\n",
              "      <td>8.0</td>\n",
              "      <td>6.0</td>\n",
              "      <td>6.0</td>\n",
              "      <td>4.0</td>\n",
              "      <td>5.0</td>\n",
              "      <td>4.0</td>\n",
              "      <td>7.0</td>\n",
              "      <td>4.0</td>\n",
              "      <td>3.0</td>\n",
              "      <td>...</td>\n",
              "      <td>1.0</td>\n",
              "      <td>3.0</td>\n",
              "      <td>5.0</td>\n",
              "      <td>2.0</td>\n",
              "      <td>3.0</td>\n",
              "      <td>1.0</td>\n",
              "      <td>6.0</td>\n",
              "      <td>4.0</td>\n",
              "      <td>4.0</td>\n",
              "      <td>2.0</td>\n",
              "    </tr>\n",
              "  </tbody>\n",
              "</table>\n",
              "<p>22 rows × 35346 columns</p>\n",
              "</div>\n",
              "      <button class=\"colab-df-convert\" onclick=\"convertToInteractive('df-f404b354-1de8-40fd-8d32-70379bbc293b')\"\n",
              "              title=\"Convert this dataframe to an interactive table.\"\n",
              "              style=\"display:none;\">\n",
              "        \n",
              "  <svg xmlns=\"http://www.w3.org/2000/svg\" height=\"24px\"viewBox=\"0 0 24 24\"\n",
              "       width=\"24px\">\n",
              "    <path d=\"M0 0h24v24H0V0z\" fill=\"none\"/>\n",
              "    <path d=\"M18.56 5.44l.94 2.06.94-2.06 2.06-.94-2.06-.94-.94-2.06-.94 2.06-2.06.94zm-11 1L8.5 8.5l.94-2.06 2.06-.94-2.06-.94L8.5 2.5l-.94 2.06-2.06.94zm10 10l.94 2.06.94-2.06 2.06-.94-2.06-.94-.94-2.06-.94 2.06-2.06.94z\"/><path d=\"M17.41 7.96l-1.37-1.37c-.4-.4-.92-.59-1.43-.59-.52 0-1.04.2-1.43.59L10.3 9.45l-7.72 7.72c-.78.78-.78 2.05 0 2.83L4 21.41c.39.39.9.59 1.41.59.51 0 1.02-.2 1.41-.59l7.78-7.78 2.81-2.81c.8-.78.8-2.07 0-2.86zM5.41 20L4 18.59l7.72-7.72 1.47 1.35L5.41 20z\"/>\n",
              "  </svg>\n",
              "      </button>\n",
              "      \n",
              "  <style>\n",
              "    .colab-df-container {\n",
              "      display:flex;\n",
              "      flex-wrap:wrap;\n",
              "      gap: 12px;\n",
              "    }\n",
              "\n",
              "    .colab-df-convert {\n",
              "      background-color: #E8F0FE;\n",
              "      border: none;\n",
              "      border-radius: 50%;\n",
              "      cursor: pointer;\n",
              "      display: none;\n",
              "      fill: #1967D2;\n",
              "      height: 32px;\n",
              "      padding: 0 0 0 0;\n",
              "      width: 32px;\n",
              "    }\n",
              "\n",
              "    .colab-df-convert:hover {\n",
              "      background-color: #E2EBFA;\n",
              "      box-shadow: 0px 1px 2px rgba(60, 64, 67, 0.3), 0px 1px 3px 1px rgba(60, 64, 67, 0.15);\n",
              "      fill: #174EA6;\n",
              "    }\n",
              "\n",
              "    [theme=dark] .colab-df-convert {\n",
              "      background-color: #3B4455;\n",
              "      fill: #D2E3FC;\n",
              "    }\n",
              "\n",
              "    [theme=dark] .colab-df-convert:hover {\n",
              "      background-color: #434B5C;\n",
              "      box-shadow: 0px 1px 3px 1px rgba(0, 0, 0, 0.15);\n",
              "      filter: drop-shadow(0px 1px 2px rgba(0, 0, 0, 0.3));\n",
              "      fill: #FFFFFF;\n",
              "    }\n",
              "  </style>\n",
              "\n",
              "      <script>\n",
              "        const buttonEl =\n",
              "          document.querySelector('#df-f404b354-1de8-40fd-8d32-70379bbc293b button.colab-df-convert');\n",
              "        buttonEl.style.display =\n",
              "          google.colab.kernel.accessAllowed ? 'block' : 'none';\n",
              "\n",
              "        async function convertToInteractive(key) {\n",
              "          const element = document.querySelector('#df-f404b354-1de8-40fd-8d32-70379bbc293b');\n",
              "          const dataTable =\n",
              "            await google.colab.kernel.invokeFunction('convertToInteractive',\n",
              "                                                     [key], {});\n",
              "          if (!dataTable) return;\n",
              "\n",
              "          const docLinkHtml = 'Like what you see? Visit the ' +\n",
              "            '<a target=\"_blank\" href=https://colab.research.google.com/notebooks/data_table.ipynb>data table notebook</a>'\n",
              "            + ' to learn more about interactive tables.';\n",
              "          element.innerHTML = '';\n",
              "          dataTable['output_type'] = 'display_data';\n",
              "          await google.colab.output.renderOutput(dataTable, element);\n",
              "          const docLink = document.createElement('div');\n",
              "          docLink.innerHTML = docLinkHtml;\n",
              "          element.appendChild(docLink);\n",
              "        }\n",
              "      </script>\n",
              "    </div>\n",
              "  </div>\n",
              "  "
            ]
          },
          "metadata": {},
          "execution_count": 5
        }
      ],
      "source": [
        "dia[dia['Diabetes_binary']==1].T"
      ]
    },
    {
      "cell_type": "markdown",
      "metadata": {
        "id": "fD6vSQOIypIF"
      },
      "source": [
        "# Exploratory Data Analysis"
      ]
    },
    {
      "cell_type": "code",
      "execution_count": null,
      "metadata": {
        "colab": {
          "base_uri": "https://localhost:8080/"
        },
        "id": "9JouSBBvS9Q_",
        "outputId": "7a184da0-512e-4ffd-e714-7fec53bc72ea"
      },
      "outputs": [
        {
          "output_type": "stream",
          "name": "stdout",
          "text": [
            "<class 'pandas.core.frame.DataFrame'>\n",
            "RangeIndex: 70692 entries, 0 to 70691\n",
            "Data columns (total 22 columns):\n",
            " #   Column                Non-Null Count  Dtype  \n",
            "---  ------                --------------  -----  \n",
            " 0   Diabetes_binary       70692 non-null  float64\n",
            " 1   HighBP                70692 non-null  float64\n",
            " 2   HighChol              70692 non-null  float64\n",
            " 3   CholCheck             70692 non-null  float64\n",
            " 4   BMI                   70692 non-null  float64\n",
            " 5   Smoker                70692 non-null  float64\n",
            " 6   Stroke                70692 non-null  float64\n",
            " 7   HeartDiseaseorAttack  70692 non-null  float64\n",
            " 8   PhysActivity          70692 non-null  float64\n",
            " 9   Fruits                70692 non-null  float64\n",
            " 10  Veggies               70692 non-null  float64\n",
            " 11  HvyAlcoholConsump     70692 non-null  float64\n",
            " 12  AnyHealthcare         70692 non-null  float64\n",
            " 13  NoDocbcCost           70692 non-null  float64\n",
            " 14  GenHlth               70692 non-null  float64\n",
            " 15  MentHlth              70692 non-null  float64\n",
            " 16  PhysHlth              70692 non-null  float64\n",
            " 17  DiffWalk              70692 non-null  float64\n",
            " 18  Sex                   70692 non-null  float64\n",
            " 19  Age                   70692 non-null  float64\n",
            " 20  Education             70692 non-null  float64\n",
            " 21  Income                70692 non-null  float64\n",
            "dtypes: float64(22)\n",
            "memory usage: 11.9 MB\n"
          ]
        }
      ],
      "source": [
        "dia.info()"
      ]
    },
    {
      "cell_type": "code",
      "execution_count": null,
      "metadata": {
        "colab": {
          "base_uri": "https://localhost:8080/"
        },
        "id": "SVKO-BOhSw_o",
        "outputId": "d2fa6327-fea4-423b-8e7e-c80ff466fd44"
      },
      "outputs": [
        {
          "output_type": "execute_result",
          "data": {
            "text/plain": [
              "Diabetes_binary         0\n",
              "HighBP                  0\n",
              "HighChol                0\n",
              "CholCheck               0\n",
              "BMI                     0\n",
              "Smoker                  0\n",
              "Stroke                  0\n",
              "HeartDiseaseorAttack    0\n",
              "PhysActivity            0\n",
              "Fruits                  0\n",
              "Veggies                 0\n",
              "HvyAlcoholConsump       0\n",
              "AnyHealthcare           0\n",
              "NoDocbcCost             0\n",
              "GenHlth                 0\n",
              "MentHlth                0\n",
              "PhysHlth                0\n",
              "DiffWalk                0\n",
              "Sex                     0\n",
              "Age                     0\n",
              "Education               0\n",
              "Income                  0\n",
              "dtype: int64"
            ]
          },
          "metadata": {},
          "execution_count": 7
        }
      ],
      "source": [
        "dia.isna().sum()"
      ]
    },
    {
      "cell_type": "code",
      "execution_count": null,
      "metadata": {
        "colab": {
          "base_uri": "https://localhost:8080/",
          "height": 739
        },
        "id": "4j13akc5S9Kb",
        "outputId": "4962e572-47ef-4a0c-cb91-8c947195ce40"
      },
      "outputs": [
        {
          "output_type": "execute_result",
          "data": {
            "text/plain": [
              "                         0     1     2     3     4\n",
              "Diabetes_binary        0.0   0.0   0.0   0.0   0.0\n",
              "HighBP                 1.0   1.0   0.0   1.0   0.0\n",
              "HighChol               0.0   1.0   0.0   1.0   0.0\n",
              "CholCheck              1.0   1.0   1.0   1.0   1.0\n",
              "BMI                   26.0  26.0  26.0  28.0  29.0\n",
              "Smoker                 0.0   1.0   0.0   1.0   1.0\n",
              "Stroke                 0.0   1.0   0.0   0.0   0.0\n",
              "HeartDiseaseorAttack   0.0   0.0   0.0   0.0   0.0\n",
              "PhysActivity           1.0   0.0   1.0   1.0   1.0\n",
              "Fruits                 0.0   1.0   1.0   1.0   1.0\n",
              "Veggies                1.0   0.0   1.0   1.0   1.0\n",
              "HvyAlcoholConsump      0.0   0.0   0.0   0.0   0.0\n",
              "AnyHealthcare          1.0   1.0   1.0   1.0   1.0\n",
              "NoDocbcCost            0.0   0.0   0.0   0.0   0.0\n",
              "GenHlth                3.0   3.0   1.0   3.0   2.0\n",
              "MentHlth               5.0   0.0   0.0   0.0   0.0\n",
              "PhysHlth              30.0   0.0  10.0   3.0   0.0\n",
              "DiffWalk               0.0   0.0   0.0   0.0   0.0\n",
              "Sex                    1.0   1.0   1.0   1.0   0.0\n",
              "Age                    4.0  12.0  13.0  11.0   8.0\n",
              "Education              6.0   6.0   6.0   6.0   5.0\n",
              "Income                 8.0   8.0   8.0   8.0   8.0"
            ],
            "text/html": [
              "\n",
              "  <div id=\"df-c90c280c-e728-4cd1-a85a-12e723b2e52d\">\n",
              "    <div class=\"colab-df-container\">\n",
              "      <div>\n",
              "<style scoped>\n",
              "    .dataframe tbody tr th:only-of-type {\n",
              "        vertical-align: middle;\n",
              "    }\n",
              "\n",
              "    .dataframe tbody tr th {\n",
              "        vertical-align: top;\n",
              "    }\n",
              "\n",
              "    .dataframe thead th {\n",
              "        text-align: right;\n",
              "    }\n",
              "</style>\n",
              "<table border=\"1\" class=\"dataframe\">\n",
              "  <thead>\n",
              "    <tr style=\"text-align: right;\">\n",
              "      <th></th>\n",
              "      <th>0</th>\n",
              "      <th>1</th>\n",
              "      <th>2</th>\n",
              "      <th>3</th>\n",
              "      <th>4</th>\n",
              "    </tr>\n",
              "  </thead>\n",
              "  <tbody>\n",
              "    <tr>\n",
              "      <th>Diabetes_binary</th>\n",
              "      <td>0.0</td>\n",
              "      <td>0.0</td>\n",
              "      <td>0.0</td>\n",
              "      <td>0.0</td>\n",
              "      <td>0.0</td>\n",
              "    </tr>\n",
              "    <tr>\n",
              "      <th>HighBP</th>\n",
              "      <td>1.0</td>\n",
              "      <td>1.0</td>\n",
              "      <td>0.0</td>\n",
              "      <td>1.0</td>\n",
              "      <td>0.0</td>\n",
              "    </tr>\n",
              "    <tr>\n",
              "      <th>HighChol</th>\n",
              "      <td>0.0</td>\n",
              "      <td>1.0</td>\n",
              "      <td>0.0</td>\n",
              "      <td>1.0</td>\n",
              "      <td>0.0</td>\n",
              "    </tr>\n",
              "    <tr>\n",
              "      <th>CholCheck</th>\n",
              "      <td>1.0</td>\n",
              "      <td>1.0</td>\n",
              "      <td>1.0</td>\n",
              "      <td>1.0</td>\n",
              "      <td>1.0</td>\n",
              "    </tr>\n",
              "    <tr>\n",
              "      <th>BMI</th>\n",
              "      <td>26.0</td>\n",
              "      <td>26.0</td>\n",
              "      <td>26.0</td>\n",
              "      <td>28.0</td>\n",
              "      <td>29.0</td>\n",
              "    </tr>\n",
              "    <tr>\n",
              "      <th>Smoker</th>\n",
              "      <td>0.0</td>\n",
              "      <td>1.0</td>\n",
              "      <td>0.0</td>\n",
              "      <td>1.0</td>\n",
              "      <td>1.0</td>\n",
              "    </tr>\n",
              "    <tr>\n",
              "      <th>Stroke</th>\n",
              "      <td>0.0</td>\n",
              "      <td>1.0</td>\n",
              "      <td>0.0</td>\n",
              "      <td>0.0</td>\n",
              "      <td>0.0</td>\n",
              "    </tr>\n",
              "    <tr>\n",
              "      <th>HeartDiseaseorAttack</th>\n",
              "      <td>0.0</td>\n",
              "      <td>0.0</td>\n",
              "      <td>0.0</td>\n",
              "      <td>0.0</td>\n",
              "      <td>0.0</td>\n",
              "    </tr>\n",
              "    <tr>\n",
              "      <th>PhysActivity</th>\n",
              "      <td>1.0</td>\n",
              "      <td>0.0</td>\n",
              "      <td>1.0</td>\n",
              "      <td>1.0</td>\n",
              "      <td>1.0</td>\n",
              "    </tr>\n",
              "    <tr>\n",
              "      <th>Fruits</th>\n",
              "      <td>0.0</td>\n",
              "      <td>1.0</td>\n",
              "      <td>1.0</td>\n",
              "      <td>1.0</td>\n",
              "      <td>1.0</td>\n",
              "    </tr>\n",
              "    <tr>\n",
              "      <th>Veggies</th>\n",
              "      <td>1.0</td>\n",
              "      <td>0.0</td>\n",
              "      <td>1.0</td>\n",
              "      <td>1.0</td>\n",
              "      <td>1.0</td>\n",
              "    </tr>\n",
              "    <tr>\n",
              "      <th>HvyAlcoholConsump</th>\n",
              "      <td>0.0</td>\n",
              "      <td>0.0</td>\n",
              "      <td>0.0</td>\n",
              "      <td>0.0</td>\n",
              "      <td>0.0</td>\n",
              "    </tr>\n",
              "    <tr>\n",
              "      <th>AnyHealthcare</th>\n",
              "      <td>1.0</td>\n",
              "      <td>1.0</td>\n",
              "      <td>1.0</td>\n",
              "      <td>1.0</td>\n",
              "      <td>1.0</td>\n",
              "    </tr>\n",
              "    <tr>\n",
              "      <th>NoDocbcCost</th>\n",
              "      <td>0.0</td>\n",
              "      <td>0.0</td>\n",
              "      <td>0.0</td>\n",
              "      <td>0.0</td>\n",
              "      <td>0.0</td>\n",
              "    </tr>\n",
              "    <tr>\n",
              "      <th>GenHlth</th>\n",
              "      <td>3.0</td>\n",
              "      <td>3.0</td>\n",
              "      <td>1.0</td>\n",
              "      <td>3.0</td>\n",
              "      <td>2.0</td>\n",
              "    </tr>\n",
              "    <tr>\n",
              "      <th>MentHlth</th>\n",
              "      <td>5.0</td>\n",
              "      <td>0.0</td>\n",
              "      <td>0.0</td>\n",
              "      <td>0.0</td>\n",
              "      <td>0.0</td>\n",
              "    </tr>\n",
              "    <tr>\n",
              "      <th>PhysHlth</th>\n",
              "      <td>30.0</td>\n",
              "      <td>0.0</td>\n",
              "      <td>10.0</td>\n",
              "      <td>3.0</td>\n",
              "      <td>0.0</td>\n",
              "    </tr>\n",
              "    <tr>\n",
              "      <th>DiffWalk</th>\n",
              "      <td>0.0</td>\n",
              "      <td>0.0</td>\n",
              "      <td>0.0</td>\n",
              "      <td>0.0</td>\n",
              "      <td>0.0</td>\n",
              "    </tr>\n",
              "    <tr>\n",
              "      <th>Sex</th>\n",
              "      <td>1.0</td>\n",
              "      <td>1.0</td>\n",
              "      <td>1.0</td>\n",
              "      <td>1.0</td>\n",
              "      <td>0.0</td>\n",
              "    </tr>\n",
              "    <tr>\n",
              "      <th>Age</th>\n",
              "      <td>4.0</td>\n",
              "      <td>12.0</td>\n",
              "      <td>13.0</td>\n",
              "      <td>11.0</td>\n",
              "      <td>8.0</td>\n",
              "    </tr>\n",
              "    <tr>\n",
              "      <th>Education</th>\n",
              "      <td>6.0</td>\n",
              "      <td>6.0</td>\n",
              "      <td>6.0</td>\n",
              "      <td>6.0</td>\n",
              "      <td>5.0</td>\n",
              "    </tr>\n",
              "    <tr>\n",
              "      <th>Income</th>\n",
              "      <td>8.0</td>\n",
              "      <td>8.0</td>\n",
              "      <td>8.0</td>\n",
              "      <td>8.0</td>\n",
              "      <td>8.0</td>\n",
              "    </tr>\n",
              "  </tbody>\n",
              "</table>\n",
              "</div>\n",
              "      <button class=\"colab-df-convert\" onclick=\"convertToInteractive('df-c90c280c-e728-4cd1-a85a-12e723b2e52d')\"\n",
              "              title=\"Convert this dataframe to an interactive table.\"\n",
              "              style=\"display:none;\">\n",
              "        \n",
              "  <svg xmlns=\"http://www.w3.org/2000/svg\" height=\"24px\"viewBox=\"0 0 24 24\"\n",
              "       width=\"24px\">\n",
              "    <path d=\"M0 0h24v24H0V0z\" fill=\"none\"/>\n",
              "    <path d=\"M18.56 5.44l.94 2.06.94-2.06 2.06-.94-2.06-.94-.94-2.06-.94 2.06-2.06.94zm-11 1L8.5 8.5l.94-2.06 2.06-.94-2.06-.94L8.5 2.5l-.94 2.06-2.06.94zm10 10l.94 2.06.94-2.06 2.06-.94-2.06-.94-.94-2.06-.94 2.06-2.06.94z\"/><path d=\"M17.41 7.96l-1.37-1.37c-.4-.4-.92-.59-1.43-.59-.52 0-1.04.2-1.43.59L10.3 9.45l-7.72 7.72c-.78.78-.78 2.05 0 2.83L4 21.41c.39.39.9.59 1.41.59.51 0 1.02-.2 1.41-.59l7.78-7.78 2.81-2.81c.8-.78.8-2.07 0-2.86zM5.41 20L4 18.59l7.72-7.72 1.47 1.35L5.41 20z\"/>\n",
              "  </svg>\n",
              "      </button>\n",
              "      \n",
              "  <style>\n",
              "    .colab-df-container {\n",
              "      display:flex;\n",
              "      flex-wrap:wrap;\n",
              "      gap: 12px;\n",
              "    }\n",
              "\n",
              "    .colab-df-convert {\n",
              "      background-color: #E8F0FE;\n",
              "      border: none;\n",
              "      border-radius: 50%;\n",
              "      cursor: pointer;\n",
              "      display: none;\n",
              "      fill: #1967D2;\n",
              "      height: 32px;\n",
              "      padding: 0 0 0 0;\n",
              "      width: 32px;\n",
              "    }\n",
              "\n",
              "    .colab-df-convert:hover {\n",
              "      background-color: #E2EBFA;\n",
              "      box-shadow: 0px 1px 2px rgba(60, 64, 67, 0.3), 0px 1px 3px 1px rgba(60, 64, 67, 0.15);\n",
              "      fill: #174EA6;\n",
              "    }\n",
              "\n",
              "    [theme=dark] .colab-df-convert {\n",
              "      background-color: #3B4455;\n",
              "      fill: #D2E3FC;\n",
              "    }\n",
              "\n",
              "    [theme=dark] .colab-df-convert:hover {\n",
              "      background-color: #434B5C;\n",
              "      box-shadow: 0px 1px 3px 1px rgba(0, 0, 0, 0.15);\n",
              "      filter: drop-shadow(0px 1px 2px rgba(0, 0, 0, 0.3));\n",
              "      fill: #FFFFFF;\n",
              "    }\n",
              "  </style>\n",
              "\n",
              "      <script>\n",
              "        const buttonEl =\n",
              "          document.querySelector('#df-c90c280c-e728-4cd1-a85a-12e723b2e52d button.colab-df-convert');\n",
              "        buttonEl.style.display =\n",
              "          google.colab.kernel.accessAllowed ? 'block' : 'none';\n",
              "\n",
              "        async function convertToInteractive(key) {\n",
              "          const element = document.querySelector('#df-c90c280c-e728-4cd1-a85a-12e723b2e52d');\n",
              "          const dataTable =\n",
              "            await google.colab.kernel.invokeFunction('convertToInteractive',\n",
              "                                                     [key], {});\n",
              "          if (!dataTable) return;\n",
              "\n",
              "          const docLinkHtml = 'Like what you see? Visit the ' +\n",
              "            '<a target=\"_blank\" href=https://colab.research.google.com/notebooks/data_table.ipynb>data table notebook</a>'\n",
              "            + ' to learn more about interactive tables.';\n",
              "          element.innerHTML = '';\n",
              "          dataTable['output_type'] = 'display_data';\n",
              "          await google.colab.output.renderOutput(dataTable, element);\n",
              "          const docLink = document.createElement('div');\n",
              "          docLink.innerHTML = docLinkHtml;\n",
              "          element.appendChild(docLink);\n",
              "        }\n",
              "      </script>\n",
              "    </div>\n",
              "  </div>\n",
              "  "
            ]
          },
          "metadata": {},
          "execution_count": 8
        }
      ],
      "source": [
        "dia.head().T"
      ]
    },
    {
      "cell_type": "code",
      "execution_count": null,
      "metadata": {
        "id": "vRERf8XETHRk"
      },
      "outputs": [],
      "source": [
        "dia.drop(\"Education\",axis=1,inplace=True)"
      ]
    },
    {
      "cell_type": "code",
      "execution_count": null,
      "metadata": {
        "colab": {
          "base_uri": "https://localhost:8080/",
          "height": 708
        },
        "id": "QeAZvY_XT4ph",
        "outputId": "98005685-1848-40c6-b4fe-98953abd0e0a"
      },
      "outputs": [
        {
          "output_type": "execute_result",
          "data": {
            "text/plain": [
              "                         0     1     2     3     4\n",
              "Diabetes_binary        0.0   0.0   0.0   0.0   0.0\n",
              "HighBP                 1.0   1.0   0.0   1.0   0.0\n",
              "HighChol               0.0   1.0   0.0   1.0   0.0\n",
              "CholCheck              1.0   1.0   1.0   1.0   1.0\n",
              "BMI                   26.0  26.0  26.0  28.0  29.0\n",
              "Smoker                 0.0   1.0   0.0   1.0   1.0\n",
              "Stroke                 0.0   1.0   0.0   0.0   0.0\n",
              "HeartDiseaseorAttack   0.0   0.0   0.0   0.0   0.0\n",
              "PhysActivity           1.0   0.0   1.0   1.0   1.0\n",
              "Fruits                 0.0   1.0   1.0   1.0   1.0\n",
              "Veggies                1.0   0.0   1.0   1.0   1.0\n",
              "HvyAlcoholConsump      0.0   0.0   0.0   0.0   0.0\n",
              "AnyHealthcare          1.0   1.0   1.0   1.0   1.0\n",
              "NoDocbcCost            0.0   0.0   0.0   0.0   0.0\n",
              "GenHlth                3.0   3.0   1.0   3.0   2.0\n",
              "MentHlth               5.0   0.0   0.0   0.0   0.0\n",
              "PhysHlth              30.0   0.0  10.0   3.0   0.0\n",
              "DiffWalk               0.0   0.0   0.0   0.0   0.0\n",
              "Sex                    1.0   1.0   1.0   1.0   0.0\n",
              "Age                    4.0  12.0  13.0  11.0   8.0\n",
              "Income                 8.0   8.0   8.0   8.0   8.0"
            ],
            "text/html": [
              "\n",
              "  <div id=\"df-e2f1aa54-1cff-404e-a4a4-73393c5d559a\">\n",
              "    <div class=\"colab-df-container\">\n",
              "      <div>\n",
              "<style scoped>\n",
              "    .dataframe tbody tr th:only-of-type {\n",
              "        vertical-align: middle;\n",
              "    }\n",
              "\n",
              "    .dataframe tbody tr th {\n",
              "        vertical-align: top;\n",
              "    }\n",
              "\n",
              "    .dataframe thead th {\n",
              "        text-align: right;\n",
              "    }\n",
              "</style>\n",
              "<table border=\"1\" class=\"dataframe\">\n",
              "  <thead>\n",
              "    <tr style=\"text-align: right;\">\n",
              "      <th></th>\n",
              "      <th>0</th>\n",
              "      <th>1</th>\n",
              "      <th>2</th>\n",
              "      <th>3</th>\n",
              "      <th>4</th>\n",
              "    </tr>\n",
              "  </thead>\n",
              "  <tbody>\n",
              "    <tr>\n",
              "      <th>Diabetes_binary</th>\n",
              "      <td>0.0</td>\n",
              "      <td>0.0</td>\n",
              "      <td>0.0</td>\n",
              "      <td>0.0</td>\n",
              "      <td>0.0</td>\n",
              "    </tr>\n",
              "    <tr>\n",
              "      <th>HighBP</th>\n",
              "      <td>1.0</td>\n",
              "      <td>1.0</td>\n",
              "      <td>0.0</td>\n",
              "      <td>1.0</td>\n",
              "      <td>0.0</td>\n",
              "    </tr>\n",
              "    <tr>\n",
              "      <th>HighChol</th>\n",
              "      <td>0.0</td>\n",
              "      <td>1.0</td>\n",
              "      <td>0.0</td>\n",
              "      <td>1.0</td>\n",
              "      <td>0.0</td>\n",
              "    </tr>\n",
              "    <tr>\n",
              "      <th>CholCheck</th>\n",
              "      <td>1.0</td>\n",
              "      <td>1.0</td>\n",
              "      <td>1.0</td>\n",
              "      <td>1.0</td>\n",
              "      <td>1.0</td>\n",
              "    </tr>\n",
              "    <tr>\n",
              "      <th>BMI</th>\n",
              "      <td>26.0</td>\n",
              "      <td>26.0</td>\n",
              "      <td>26.0</td>\n",
              "      <td>28.0</td>\n",
              "      <td>29.0</td>\n",
              "    </tr>\n",
              "    <tr>\n",
              "      <th>Smoker</th>\n",
              "      <td>0.0</td>\n",
              "      <td>1.0</td>\n",
              "      <td>0.0</td>\n",
              "      <td>1.0</td>\n",
              "      <td>1.0</td>\n",
              "    </tr>\n",
              "    <tr>\n",
              "      <th>Stroke</th>\n",
              "      <td>0.0</td>\n",
              "      <td>1.0</td>\n",
              "      <td>0.0</td>\n",
              "      <td>0.0</td>\n",
              "      <td>0.0</td>\n",
              "    </tr>\n",
              "    <tr>\n",
              "      <th>HeartDiseaseorAttack</th>\n",
              "      <td>0.0</td>\n",
              "      <td>0.0</td>\n",
              "      <td>0.0</td>\n",
              "      <td>0.0</td>\n",
              "      <td>0.0</td>\n",
              "    </tr>\n",
              "    <tr>\n",
              "      <th>PhysActivity</th>\n",
              "      <td>1.0</td>\n",
              "      <td>0.0</td>\n",
              "      <td>1.0</td>\n",
              "      <td>1.0</td>\n",
              "      <td>1.0</td>\n",
              "    </tr>\n",
              "    <tr>\n",
              "      <th>Fruits</th>\n",
              "      <td>0.0</td>\n",
              "      <td>1.0</td>\n",
              "      <td>1.0</td>\n",
              "      <td>1.0</td>\n",
              "      <td>1.0</td>\n",
              "    </tr>\n",
              "    <tr>\n",
              "      <th>Veggies</th>\n",
              "      <td>1.0</td>\n",
              "      <td>0.0</td>\n",
              "      <td>1.0</td>\n",
              "      <td>1.0</td>\n",
              "      <td>1.0</td>\n",
              "    </tr>\n",
              "    <tr>\n",
              "      <th>HvyAlcoholConsump</th>\n",
              "      <td>0.0</td>\n",
              "      <td>0.0</td>\n",
              "      <td>0.0</td>\n",
              "      <td>0.0</td>\n",
              "      <td>0.0</td>\n",
              "    </tr>\n",
              "    <tr>\n",
              "      <th>AnyHealthcare</th>\n",
              "      <td>1.0</td>\n",
              "      <td>1.0</td>\n",
              "      <td>1.0</td>\n",
              "      <td>1.0</td>\n",
              "      <td>1.0</td>\n",
              "    </tr>\n",
              "    <tr>\n",
              "      <th>NoDocbcCost</th>\n",
              "      <td>0.0</td>\n",
              "      <td>0.0</td>\n",
              "      <td>0.0</td>\n",
              "      <td>0.0</td>\n",
              "      <td>0.0</td>\n",
              "    </tr>\n",
              "    <tr>\n",
              "      <th>GenHlth</th>\n",
              "      <td>3.0</td>\n",
              "      <td>3.0</td>\n",
              "      <td>1.0</td>\n",
              "      <td>3.0</td>\n",
              "      <td>2.0</td>\n",
              "    </tr>\n",
              "    <tr>\n",
              "      <th>MentHlth</th>\n",
              "      <td>5.0</td>\n",
              "      <td>0.0</td>\n",
              "      <td>0.0</td>\n",
              "      <td>0.0</td>\n",
              "      <td>0.0</td>\n",
              "    </tr>\n",
              "    <tr>\n",
              "      <th>PhysHlth</th>\n",
              "      <td>30.0</td>\n",
              "      <td>0.0</td>\n",
              "      <td>10.0</td>\n",
              "      <td>3.0</td>\n",
              "      <td>0.0</td>\n",
              "    </tr>\n",
              "    <tr>\n",
              "      <th>DiffWalk</th>\n",
              "      <td>0.0</td>\n",
              "      <td>0.0</td>\n",
              "      <td>0.0</td>\n",
              "      <td>0.0</td>\n",
              "      <td>0.0</td>\n",
              "    </tr>\n",
              "    <tr>\n",
              "      <th>Sex</th>\n",
              "      <td>1.0</td>\n",
              "      <td>1.0</td>\n",
              "      <td>1.0</td>\n",
              "      <td>1.0</td>\n",
              "      <td>0.0</td>\n",
              "    </tr>\n",
              "    <tr>\n",
              "      <th>Age</th>\n",
              "      <td>4.0</td>\n",
              "      <td>12.0</td>\n",
              "      <td>13.0</td>\n",
              "      <td>11.0</td>\n",
              "      <td>8.0</td>\n",
              "    </tr>\n",
              "    <tr>\n",
              "      <th>Income</th>\n",
              "      <td>8.0</td>\n",
              "      <td>8.0</td>\n",
              "      <td>8.0</td>\n",
              "      <td>8.0</td>\n",
              "      <td>8.0</td>\n",
              "    </tr>\n",
              "  </tbody>\n",
              "</table>\n",
              "</div>\n",
              "      <button class=\"colab-df-convert\" onclick=\"convertToInteractive('df-e2f1aa54-1cff-404e-a4a4-73393c5d559a')\"\n",
              "              title=\"Convert this dataframe to an interactive table.\"\n",
              "              style=\"display:none;\">\n",
              "        \n",
              "  <svg xmlns=\"http://www.w3.org/2000/svg\" height=\"24px\"viewBox=\"0 0 24 24\"\n",
              "       width=\"24px\">\n",
              "    <path d=\"M0 0h24v24H0V0z\" fill=\"none\"/>\n",
              "    <path d=\"M18.56 5.44l.94 2.06.94-2.06 2.06-.94-2.06-.94-.94-2.06-.94 2.06-2.06.94zm-11 1L8.5 8.5l.94-2.06 2.06-.94-2.06-.94L8.5 2.5l-.94 2.06-2.06.94zm10 10l.94 2.06.94-2.06 2.06-.94-2.06-.94-.94-2.06-.94 2.06-2.06.94z\"/><path d=\"M17.41 7.96l-1.37-1.37c-.4-.4-.92-.59-1.43-.59-.52 0-1.04.2-1.43.59L10.3 9.45l-7.72 7.72c-.78.78-.78 2.05 0 2.83L4 21.41c.39.39.9.59 1.41.59.51 0 1.02-.2 1.41-.59l7.78-7.78 2.81-2.81c.8-.78.8-2.07 0-2.86zM5.41 20L4 18.59l7.72-7.72 1.47 1.35L5.41 20z\"/>\n",
              "  </svg>\n",
              "      </button>\n",
              "      \n",
              "  <style>\n",
              "    .colab-df-container {\n",
              "      display:flex;\n",
              "      flex-wrap:wrap;\n",
              "      gap: 12px;\n",
              "    }\n",
              "\n",
              "    .colab-df-convert {\n",
              "      background-color: #E8F0FE;\n",
              "      border: none;\n",
              "      border-radius: 50%;\n",
              "      cursor: pointer;\n",
              "      display: none;\n",
              "      fill: #1967D2;\n",
              "      height: 32px;\n",
              "      padding: 0 0 0 0;\n",
              "      width: 32px;\n",
              "    }\n",
              "\n",
              "    .colab-df-convert:hover {\n",
              "      background-color: #E2EBFA;\n",
              "      box-shadow: 0px 1px 2px rgba(60, 64, 67, 0.3), 0px 1px 3px 1px rgba(60, 64, 67, 0.15);\n",
              "      fill: #174EA6;\n",
              "    }\n",
              "\n",
              "    [theme=dark] .colab-df-convert {\n",
              "      background-color: #3B4455;\n",
              "      fill: #D2E3FC;\n",
              "    }\n",
              "\n",
              "    [theme=dark] .colab-df-convert:hover {\n",
              "      background-color: #434B5C;\n",
              "      box-shadow: 0px 1px 3px 1px rgba(0, 0, 0, 0.15);\n",
              "      filter: drop-shadow(0px 1px 2px rgba(0, 0, 0, 0.3));\n",
              "      fill: #FFFFFF;\n",
              "    }\n",
              "  </style>\n",
              "\n",
              "      <script>\n",
              "        const buttonEl =\n",
              "          document.querySelector('#df-e2f1aa54-1cff-404e-a4a4-73393c5d559a button.colab-df-convert');\n",
              "        buttonEl.style.display =\n",
              "          google.colab.kernel.accessAllowed ? 'block' : 'none';\n",
              "\n",
              "        async function convertToInteractive(key) {\n",
              "          const element = document.querySelector('#df-e2f1aa54-1cff-404e-a4a4-73393c5d559a');\n",
              "          const dataTable =\n",
              "            await google.colab.kernel.invokeFunction('convertToInteractive',\n",
              "                                                     [key], {});\n",
              "          if (!dataTable) return;\n",
              "\n",
              "          const docLinkHtml = 'Like what you see? Visit the ' +\n",
              "            '<a target=\"_blank\" href=https://colab.research.google.com/notebooks/data_table.ipynb>data table notebook</a>'\n",
              "            + ' to learn more about interactive tables.';\n",
              "          element.innerHTML = '';\n",
              "          dataTable['output_type'] = 'display_data';\n",
              "          await google.colab.output.renderOutput(dataTable, element);\n",
              "          const docLink = document.createElement('div');\n",
              "          docLink.innerHTML = docLinkHtml;\n",
              "          element.appendChild(docLink);\n",
              "        }\n",
              "      </script>\n",
              "    </div>\n",
              "  </div>\n",
              "  "
            ]
          },
          "metadata": {},
          "execution_count": 10
        }
      ],
      "source": [
        "dia.head().T"
      ]
    },
    {
      "cell_type": "markdown",
      "metadata": {
        "id": "P7FHwEHGyvlr"
      },
      "source": [
        "*Checking the Value Counts Graphically*"
      ]
    },
    {
      "cell_type": "code",
      "execution_count": null,
      "metadata": {
        "colab": {
          "base_uri": "https://localhost:8080/",
          "height": 1000
        },
        "id": "hxLRw3YeUKBA",
        "outputId": "a92e3475-98f3-464a-b471-3d6ee59d7afa"
      },
      "outputs": [
        {
          "output_type": "display_data",
          "data": {
            "text/plain": [
              "<Figure size 3600x3600 with 25 Axes>"
            ],
            "image/png": "[encoded data removed]"
          },
          "metadata": {
            "needs_background": "light"
          }
        }
      ],
      "source": [
        "dia.hist(figsize=(50,50), bins=50, color=\"red\");"
      ]
    },
    {
      "cell_type": "markdown",
      "metadata": {
        "id": "3uIZu1hGy5i6"
      },
      "source": [
        "***Correlation***"
      ]
    },
    {
      "cell_type": "code",
      "execution_count": null,
      "metadata": {
        "colab": {
          "base_uri": "https://localhost:8080/",
          "height": 586
        },
        "id": "vkCrbxSkU3Jm",
        "outputId": "c30e2b79-1673-43a7-e658-1aed6f52824a"
      },
      "outputs": [
        {
          "output_type": "display_data",
          "data": {
            "text/plain": [
              "<Figure size 720x576 with 2 Axes>"
            ],
            "image/png": "[encoded data removed]"
          },
          "metadata": {
            "needs_background": "light"
          }
        }
      ],
      "source": [
        "corr_matrix = dia.corr()\n",
        "fig , ax = plt.subplots(figsize=(10,8))\n",
        "ax = sns.heatmap(corr_matrix,\n",
        "                annot=True,\n",
        "                linewidths=0.5,\n",
        "                fmt='.2f')"
      ]
    },
    {
      "cell_type": "code",
      "execution_count": null,
      "metadata": {
        "colab": {
          "base_uri": "https://localhost:8080/",
          "height": 282
        },
        "id": "lL-uAzCfucOy",
        "outputId": "b9cdd04f-103c-4927-ba74-779c5dcd1eac"
      },
      "outputs": [
        {
          "output_type": "execute_result",
          "data": {
            "text/plain": [
              "<Axes: ylabel='Frequency'>"
            ]
          },
          "metadata": {},
          "execution_count": 13
        },
        {
          "output_type": "display_data",
          "data": {
            "text/plain": [
              "<Figure size 432x288 with 1 Axes>"
            ],
            "image/png": "[encoded data removed]"
          },
          "metadata": {
            "needs_background": "light"
          }
        }
      ],
      "source": [
        "dia['BMI'].plot(kind='hist')"
      ]
    },
    {
      "cell_type": "code",
      "execution_count": null,
      "metadata": {
        "colab": {
          "base_uri": "https://localhost:8080/",
          "height": 282
        },
        "id": "r6Qs-FKBvD6P",
        "outputId": "927b7c02-e47b-442d-a309-06998c39f070"
      },
      "outputs": [
        {
          "output_type": "execute_result",
          "data": {
            "text/plain": [
              "<Axes: ylabel='Frequency'>"
            ]
          },
          "metadata": {},
          "execution_count": 14
        },
        {
          "output_type": "display_data",
          "data": {
            "text/plain": [
              "<Figure size 432x288 with 1 Axes>"
            ],
            "image/png": "[encoded data removed]"
          },
          "metadata": {
            "needs_background": "light"
          }
        }
      ],
      "source": [
        "dia['Income'].plot(kind='hist')"
      ]
    },
    {
      "cell_type": "code",
      "execution_count": null,
      "metadata": {
        "colab": {
          "base_uri": "https://localhost:8080/",
          "height": 282
        },
        "id": "Vouqk3o7vSEd",
        "outputId": "5b39a13b-6b98-4866-a544-6c3ed37e8605"
      },
      "outputs": [
        {
          "output_type": "execute_result",
          "data": {
            "text/plain": [
              "<Axes: ylabel='Frequency'>"
            ]
          },
          "metadata": {},
          "execution_count": 15
        },
        {
          "output_type": "display_data",
          "data": {
            "text/plain": [
              "<Figure size 432x288 with 1 Axes>"
            ],
            "image/png": "[encoded data removed]"
          },
          "metadata": {
            "needs_background": "light"
          }
        }
      ],
      "source": [
        "dia['MentHlth'].plot(kind='hist')"
      ]
    },
    {
      "cell_type": "code",
      "execution_count": null,
      "metadata": {
        "colab": {
          "base_uri": "https://localhost:8080/",
          "height": 282
        },
        "id": "egNuzWDbvmdL",
        "outputId": "8c301f01-6061-4aa7-9b78-f4aedf61cc12"
      },
      "outputs": [
        {
          "output_type": "execute_result",
          "data": {
            "text/plain": [
              "<Axes: ylabel='Frequency'>"
            ]
          },
          "metadata": {},
          "execution_count": 16
        },
        {
          "output_type": "display_data",
          "data": {
            "text/plain": [
              "<Figure size 432x288 with 1 Axes>"
            ],
            "image/png": "[encoded data removed]"
          },
          "metadata": {
            "needs_background": "light"
          }
        }
      ],
      "source": [
        "dia['PhysHlth'].plot(kind='hist')"
      ]
    },
    {
      "cell_type": "code",
      "execution_count": null,
      "metadata": {
        "colab": {
          "base_uri": "https://localhost:8080/",
          "height": 283
        },
        "id": "H_knDt5lwCgV",
        "outputId": "3391c1d3-88a0-40c1-b427-aaefc1598c59"
      },
      "outputs": [
        {
          "output_type": "execute_result",
          "data": {
            "text/plain": [
              "<Axes: ylabel='Frequency'>"
            ]
          },
          "metadata": {},
          "execution_count": 17
        },
        {
          "output_type": "display_data",
          "data": {
            "text/plain": [
              "<Figure size 432x288 with 1 Axes>"
            ],
            "image/png": "[encoded data removed]"
          },
          "metadata": {
            "needs_background": "light"
          }
        }
      ],
      "source": [
        "dia['Age'].plot(kind='hist')"
      ]
    },
    {
      "cell_type": "code",
      "execution_count": null,
      "metadata": {
        "colab": {
          "base_uri": "https://localhost:8080/",
          "height": 282
        },
        "id": "5v6A1WXKwRCw",
        "outputId": "61741b2f-405b-4d61-b95f-9abef3feb388"
      },
      "outputs": [
        {
          "output_type": "execute_result",
          "data": {
            "text/plain": [
              "<Axes: ylabel='Frequency'>"
            ]
          },
          "metadata": {},
          "execution_count": 18
        },
        {
          "output_type": "display_data",
          "data": {
            "text/plain": [
              "<Figure size 432x288 with 1 Axes>"
            ],
            "image/png": "[encoded data removed]"
          },
          "metadata": {
            "needs_background": "light"
          }
        }
      ],
      "source": [
        "dia['GenHlth'].plot(kind='hist')"
      ]
    },
    {
      "cell_type": "code",
      "execution_count": null,
      "metadata": {
        "colab": {
          "base_uri": "https://localhost:8080/",
          "height": 288
        },
        "id": "rxnz5-qyeCiL",
        "outputId": "070d9931-3475-4137-83b4-d59fc12243cf"
      },
      "outputs": [
        {
          "output_type": "execute_result",
          "data": {
            "text/plain": [
              "<Axes: >"
            ]
          },
          "metadata": {},
          "execution_count": 19
        },
        {
          "output_type": "display_data",
          "data": {
            "text/plain": [
              "<Figure size 432x288 with 1 Axes>"
            ],
            "image/png": "[encoded data removed]"
          },
          "metadata": {
            "needs_background": "light"
          }
        }
      ],
      "source": [
        "#Plot the frequency of the Diabetes_012\n",
        "\n",
        "dia['Diabetes_binary'].value_counts().plot(kind='bar')"
      ]
    },
    {
      "cell_type": "code",
      "execution_count": null,
      "metadata": {
        "colab": {
          "base_uri": "https://localhost:8080/",
          "height": 615
        },
        "id": "XQe7Kfuk0-g1",
        "outputId": "09b2fa3f-1800-496e-a248-8527b1436e34"
      },
      "outputs": [
        {
          "output_type": "execute_result",
          "data": {
            "text/plain": [
              "<Axes: title={'center': 'Correlation with Diabetes Prediction'}>"
            ]
          },
          "metadata": {},
          "execution_count": 20
        },
        {
          "output_type": "display_data",
          "data": {
            "text/plain": [
              "<Figure size 1440x576 with 1 Axes>"
            ],
            "image/png": "[encoded data removed]"
          },
          "metadata": {
            "needs_background": "light"
          }
        }
      ],
      "source": [
        "dia.drop('Diabetes_binary', axis=1).corrwith(dia.Diabetes_binary).plot(kind='bar', grid=True, figsize=(20, 8), title=\"Correlation with Diabetes Prediction\",color=\"Black\")"
      ]
    },
    {
      "cell_type": "markdown",
      "metadata": {
        "id": "uuGUt2W5C7Bj"
      },
      "source": [
        "## Train Test Split"
      ]
    },
    {
      "cell_type": "code",
      "execution_count": null,
      "metadata": {
        "id": "j4UMzIzMJR3E"
      },
      "outputs": [],
      "source": [
        "dia.drop(\"Fruits\",axis=1,inplace=True)"
      ]
    },
    {
      "cell_type": "code",
      "execution_count": null,
      "metadata": {
        "id": "XC0yWwSzJjjj"
      },
      "outputs": [],
      "source": [
        "dia.drop(\"AnyHealthcare\",axis=1,inplace=True)"
      ]
    },
    {
      "cell_type": "code",
      "execution_count": null,
      "metadata": {
        "id": "lotW0fPUJwIr"
      },
      "outputs": [],
      "source": [
        "dia.drop(\"NoDocbcCost\",axis=1,inplace=True)"
      ]
    },
    {
      "cell_type": "code",
      "execution_count": null,
      "metadata": {
        "id": "kiBJV8oBKFdt"
      },
      "outputs": [],
      "source": [
        "dia.drop(\"MentHlth\",axis=1,inplace=True)"
      ]
    },
    {
      "cell_type": "code",
      "execution_count": null,
      "metadata": {
        "id": "qOvctD44KTyt"
      },
      "outputs": [],
      "source": [
        "dia.drop(\"CholCheck\",axis=1,inplace=True)"
      ]
    },
    {
      "cell_type": "code",
      "execution_count": null,
      "metadata": {
        "id": "AEiSB8RM7PLX"
      },
      "outputs": [],
      "source": [
        "X = dia.drop(\"Diabetes_binary\",axis=1)\n",
        "Y = dia[\"Diabetes_binary\"]"
      ]
    },
    {
      "cell_type": "code",
      "execution_count": null,
      "metadata": {
        "id": "QEQv5Wvv8jVP"
      },
      "outputs": [],
      "source": [
        "from sklearn.model_selection import train_test_split\n",
        "X_train, X_test, Y_train, y_test = train_test_split(X, Y, test_size=0.2, random_state=42,stratify=Y)"
      ]
    },
    {
      "cell_type": "code",
      "execution_count": null,
      "metadata": {
        "colab": {
          "base_uri": "https://localhost:8080/",
          "height": 1000
        },
        "id": "GkEwF3rd-1hN",
        "outputId": "29e7fa67-1e14-4bc3-e64d-c06fe7a2ba80"
      },
      "outputs": [
        {
          "output_type": "display_data",
          "data": {
            "text/plain": [
              "<Figure size 3600x3600 with 16 Axes>"
            ],
            "image/png": "[encoded data removed]"
          },
          "metadata": {
            "needs_background": "light"
          }
        }
      ],
      "source": [
        "X_train.hist(figsize=(50,50), bins=50, color=\"red\");"
      ]
    },
    {
      "cell_type": "code",
      "execution_count": null,
      "metadata": {
        "colab": {
          "base_uri": "https://localhost:8080/"
        },
        "id": "EkWPSTcgIbgw",
        "outputId": "e912b57e-ea31-4d64-b285-e7047df93782"
      },
      "outputs": [
        {
          "output_type": "stream",
          "name": "stdout",
          "text": [
            "<class 'pandas.core.frame.DataFrame'>\n",
            "Int64Index: 56553 entries, 47977 to 25909\n",
            "Data columns (total 15 columns):\n",
            " #   Column                Non-Null Count  Dtype  \n",
            "---  ------                --------------  -----  \n",
            " 0   HighBP                56553 non-null  float64\n",
            " 1   HighChol              56553 non-null  float64\n",
            " 2   BMI                   56553 non-null  float64\n",
            " 3   Smoker                56553 non-null  float64\n",
            " 4   Stroke                56553 non-null  float64\n",
            " 5   HeartDiseaseorAttack  56553 non-null  float64\n",
            " 6   PhysActivity          56553 non-null  float64\n",
            " 7   Veggies               56553 non-null  float64\n",
            " 8   HvyAlcoholConsump     56553 non-null  float64\n",
            " 9   GenHlth               56553 non-null  float64\n",
            " 10  PhysHlth              56553 non-null  float64\n",
            " 11  DiffWalk              56553 non-null  float64\n",
            " 12  Sex                   56553 non-null  float64\n",
            " 13  Age                   56553 non-null  float64\n",
            " 14  Income                56553 non-null  float64\n",
            "dtypes: float64(15)\n",
            "memory usage: 6.9 MB\n"
          ]
        }
      ],
      "source": [
        "X_train.info()"
      ]
    },
    {
      "cell_type": "markdown",
      "metadata": {
        "id": "WvDS8J1ZJGxn"
      },
      "source": [
        "### Converting Columns\n",
        "\n",
        "\n",
        "\n",
        "*   Applying Standadrdisation to the float columns\n",
        "*   Converting many necessary columns to category\n",
        "\n"
      ]
    },
    {
      "cell_type": "code",
      "execution_count": null,
      "metadata": {
        "colab": {
          "base_uri": "https://localhost:8080/"
        },
        "id": "kEajdgbsosL5",
        "outputId": "777309a0-8f9c-4969-a555-8701985e6371"
      },
      "outputs": [
        {
          "output_type": "execute_result",
          "data": {
            "text/plain": [
              "1.0    49699\n",
              "0.0    20993\n",
              "Name: PhysActivity, dtype: int64"
            ]
          },
          "metadata": {},
          "execution_count": 30
        }
      ],
      "source": [
        "dia['PhysActivity'].value_counts()"
      ]
    },
    {
      "cell_type": "code",
      "execution_count": null,
      "metadata": {
        "colab": {
          "base_uri": "https://localhost:8080/"
        },
        "id": "cxU7ZNsxrjMP",
        "outputId": "d7a727c6-c740-42ac-b0cb-8b56a9b31e56"
      },
      "outputs": [
        {
          "output_type": "execute_result",
          "data": {
            "text/plain": [
              "3.0    23427\n",
              "2.0    19872\n",
              "4.0    13303\n",
              "1.0     8282\n",
              "5.0     5808\n",
              "Name: GenHlth, dtype: int64"
            ]
          },
          "metadata": {},
          "execution_count": 31
        }
      ],
      "source": [
        "dia['GenHlth'].value_counts()"
      ]
    },
    {
      "cell_type": "code",
      "execution_count": null,
      "metadata": {
        "colab": {
          "base_uri": "https://localhost:8080/"
        },
        "id": "JUDQ49jWrzT-",
        "outputId": "c5ff1a6d-c082-471e-c866-79caf36026f3"
      },
      "outputs": [
        {
          "output_type": "execute_result",
          "data": {
            "text/plain": [
              "<bound method NDFrame._add_numeric_operations.<locals>.max of 0.0     39915\n",
              "30.0     7953\n",
              "2.0      4102\n",
              "1.0      2853\n",
              "3.0      2438\n",
              "5.0      2332\n",
              "10.0     1980\n",
              "15.0     1913\n",
              "4.0      1376\n",
              "7.0      1326\n",
              "20.0     1292\n",
              "14.0      802\n",
              "25.0      557\n",
              "6.0       447\n",
              "8.0       276\n",
              "21.0      229\n",
              "28.0      211\n",
              "12.0      205\n",
              "29.0       95\n",
              "9.0        55\n",
              "18.0       50\n",
              "16.0       50\n",
              "17.0       35\n",
              "27.0       34\n",
              "22.0       31\n",
              "23.0       27\n",
              "26.0       26\n",
              "13.0       26\n",
              "24.0       24\n",
              "11.0       22\n",
              "19.0       10\n",
              "Name: PhysHlth, dtype: int64>"
            ]
          },
          "metadata": {},
          "execution_count": 32
        }
      ],
      "source": [
        "dia['PhysHlth'].value_counts().max"
      ]
    },
    {
      "cell_type": "code",
      "execution_count": null,
      "metadata": {
        "colab": {
          "base_uri": "https://localhost:8080/"
        },
        "id": "8Kz4ES1bMTZq",
        "outputId": "2f0015a1-4185-4596-e69c-da0158f78dd0"
      },
      "outputs": [
        {
          "output_type": "execute_result",
          "data": {
            "text/plain": [
              "1.0    55760\n",
              "0.0    14932\n",
              "Name: Veggies, dtype: int64"
            ]
          },
          "metadata": {},
          "execution_count": 33
        }
      ],
      "source": [
        "dia[\"Veggies\"].value_counts()"
      ]
    },
    {
      "cell_type": "code",
      "source": [
        "dia"
      ],
      "metadata": {
        "id": "t9Y3U47HLflp",
        "outputId": "6e6a5115-8d73-452e-d768-207dedcfa75a",
        "colab": {
          "base_uri": "https://localhost:8080/",
          "height": 488
        }
      },
      "execution_count": null,
      "outputs": [
        {
          "output_type": "execute_result",
          "data": {
            "text/plain": [
              "       Diabetes_binary  HighBP  HighChol   BMI  Smoker  Stroke  \\\n",
              "0                  0.0     1.0       0.0  26.0     0.0     0.0   \n",
              "1                  0.0     1.0       1.0  26.0     1.0     1.0   \n",
              "2                  0.0     0.0       0.0  26.0     0.0     0.0   \n",
              "3                  0.0     1.0       1.0  28.0     1.0     0.0   \n",
              "4                  0.0     0.0       0.0  29.0     1.0     0.0   \n",
              "...                ...     ...       ...   ...     ...     ...   \n",
              "70687              1.0     0.0       1.0  37.0     0.0     0.0   \n",
              "70688              1.0     0.0       1.0  29.0     1.0     0.0   \n",
              "70689              1.0     1.0       1.0  25.0     0.0     0.0   \n",
              "70690              1.0     1.0       1.0  18.0     0.0     0.0   \n",
              "70691              1.0     1.0       1.0  25.0     0.0     0.0   \n",
              "\n",
              "       HeartDiseaseorAttack  PhysActivity  Veggies  HvyAlcoholConsump  \\\n",
              "0                       0.0           1.0      1.0                0.0   \n",
              "1                       0.0           0.0      0.0                0.0   \n",
              "2                       0.0           1.0      1.0                0.0   \n",
              "3                       0.0           1.0      1.0                0.0   \n",
              "4                       0.0           1.0      1.0                0.0   \n",
              "...                     ...           ...      ...                ...   \n",
              "70687                   0.0           0.0      1.0                0.0   \n",
              "70688                   1.0           0.0      1.0                0.0   \n",
              "70689                   1.0           0.0      0.0                0.0   \n",
              "70690                   0.0           0.0      0.0                0.0   \n",
              "70691                   1.0           1.0      0.0                0.0   \n",
              "\n",
              "       GenHlth  PhysHlth  DiffWalk  Sex   Age  Income  \n",
              "0          3.0      30.0       0.0  1.0   4.0     8.0  \n",
              "1          3.0       0.0       0.0  1.0  12.0     8.0  \n",
              "2          1.0      10.0       0.0  1.0  13.0     8.0  \n",
              "3          3.0       3.0       0.0  1.0  11.0     8.0  \n",
              "4          2.0       0.0       0.0  0.0   8.0     8.0  \n",
              "...        ...       ...       ...  ...   ...     ...  \n",
              "70687      4.0       0.0       0.0  0.0   6.0     1.0  \n",
              "70688      2.0       0.0       1.0  1.0  10.0     6.0  \n",
              "70689      5.0       0.0       1.0  0.0  13.0     4.0  \n",
              "70690      4.0       0.0       1.0  0.0  11.0     4.0  \n",
              "70691      2.0       0.0       0.0  0.0   9.0     2.0  \n",
              "\n",
              "[70692 rows x 16 columns]"
            ],
            "text/html": [
              "\n",
              "  <div id=\"df-d2417e6d-c3b2-4c55-b2d2-a52e67ad19f0\">\n",
              "    <div class=\"colab-df-container\">\n",
              "      <div>\n",
              "<style scoped>\n",
              "    .dataframe tbody tr th:only-of-type {\n",
              "        vertical-align: middle;\n",
              "    }\n",
              "\n",
              "    .dataframe tbody tr th {\n",
              "        vertical-align: top;\n",
              "    }\n",
              "\n",
              "    .dataframe thead th {\n",
              "        text-align: right;\n",
              "    }\n",
              "</style>\n",
              "<table border=\"1\" class=\"dataframe\">\n",
              "  <thead>\n",
              "    <tr style=\"text-align: right;\">\n",
              "      <th></th>\n",
              "      <th>Diabetes_binary</th>\n",
              "      <th>HighBP</th>\n",
              "      <th>HighChol</th>\n",
              "      <th>BMI</th>\n",
              "      <th>Smoker</th>\n",
              "      <th>Stroke</th>\n",
              "      <th>HeartDiseaseorAttack</th>\n",
              "      <th>PhysActivity</th>\n",
              "      <th>Veggies</th>\n",
              "      <th>HvyAlcoholConsump</th>\n",
              "      <th>GenHlth</th>\n",
              "      <th>PhysHlth</th>\n",
              "      <th>DiffWalk</th>\n",
              "      <th>Sex</th>\n",
              "      <th>Age</th>\n",
              "      <th>Income</th>\n",
              "    </tr>\n",
              "  </thead>\n",
              "  <tbody>\n",
              "    <tr>\n",
              "      <th>0</th>\n",
              "      <td>0.0</td>\n",
              "      <td>1.0</td>\n",
              "      <td>0.0</td>\n",
              "      <td>26.0</td>\n",
              "      <td>0.0</td>\n",
              "      <td>0.0</td>\n",
              "      <td>0.0</td>\n",
              "      <td>1.0</td>\n",
              "      <td>1.0</td>\n",
              "      <td>0.0</td>\n",
              "      <td>3.0</td>\n",
              "      <td>30.0</td>\n",
              "      <td>0.0</td>\n",
              "      <td>1.0</td>\n",
              "      <td>4.0</td>\n",
              "      <td>8.0</td>\n",
              "    </tr>\n",
              "    <tr>\n",
              "      <th>1</th>\n",
              "      <td>0.0</td>\n",
              "      <td>1.0</td>\n",
              "      <td>1.0</td>\n",
              "      <td>26.0</td>\n",
              "      <td>1.0</td>\n",
              "      <td>1.0</td>\n",
              "      <td>0.0</td>\n",
              "      <td>0.0</td>\n",
              "      <td>0.0</td>\n",
              "      <td>0.0</td>\n",
              "      <td>3.0</td>\n",
              "      <td>0.0</td>\n",
              "      <td>0.0</td>\n",
              "      <td>1.0</td>\n",
              "      <td>12.0</td>\n",
              "      <td>8.0</td>\n",
              "    </tr>\n",
              "    <tr>\n",
              "      <th>2</th>\n",
              "      <td>0.0</td>\n",
              "      <td>0.0</td>\n",
              "      <td>0.0</td>\n",
              "      <td>26.0</td>\n",
              "      <td>0.0</td>\n",
              "      <td>0.0</td>\n",
              "      <td>0.0</td>\n",
              "      <td>1.0</td>\n",
              "      <td>1.0</td>\n",
              "      <td>0.0</td>\n",
              "      <td>1.0</td>\n",
              "      <td>10.0</td>\n",
              "      <td>0.0</td>\n",
              "      <td>1.0</td>\n",
              "      <td>13.0</td>\n",
              "      <td>8.0</td>\n",
              "    </tr>\n",
              "    <tr>\n",
              "      <th>3</th>\n",
              "      <td>0.0</td>\n",
              "      <td>1.0</td>\n",
              "      <td>1.0</td>\n",
              "      <td>28.0</td>\n",
              "      <td>1.0</td>\n",
              "      <td>0.0</td>\n",
              "      <td>0.0</td>\n",
              "      <td>1.0</td>\n",
              "      <td>1.0</td>\n",
              "      <td>0.0</td>\n",
              "      <td>3.0</td>\n",
              "      <td>3.0</td>\n",
              "      <td>0.0</td>\n",
              "      <td>1.0</td>\n",
              "      <td>11.0</td>\n",
              "      <td>8.0</td>\n",
              "    </tr>\n",
              "    <tr>\n",
              "      <th>4</th>\n",
              "      <td>0.0</td>\n",
              "      <td>0.0</td>\n",
              "      <td>0.0</td>\n",
              "      <td>29.0</td>\n",
              "      <td>1.0</td>\n",
              "      <td>0.0</td>\n",
              "      <td>0.0</td>\n",
              "      <td>1.0</td>\n",
              "      <td>1.0</td>\n",
              "      <td>0.0</td>\n",
              "      <td>2.0</td>\n",
              "      <td>0.0</td>\n",
              "      <td>0.0</td>\n",
              "      <td>0.0</td>\n",
              "      <td>8.0</td>\n",
              "      <td>8.0</td>\n",
              "    </tr>\n",
              "    <tr>\n",
              "      <th>...</th>\n",
              "      <td>...</td>\n",
              "      <td>...</td>\n",
              "      <td>...</td>\n",
              "      <td>...</td>\n",
              "      <td>...</td>\n",
              "      <td>...</td>\n",
              "      <td>...</td>\n",
              "      <td>...</td>\n",
              "      <td>...</td>\n",
              "      <td>...</td>\n",
              "      <td>...</td>\n",
              "      <td>...</td>\n",
              "      <td>...</td>\n",
              "      <td>...</td>\n",
              "      <td>...</td>\n",
              "      <td>...</td>\n",
              "    </tr>\n",
              "    <tr>\n",
              "      <th>70687</th>\n",
              "      <td>1.0</td>\n",
              "      <td>0.0</td>\n",
              "      <td>1.0</td>\n",
              "      <td>37.0</td>\n",
              "      <td>0.0</td>\n",
              "      <td>0.0</td>\n",
              "      <td>0.0</td>\n",
              "      <td>0.0</td>\n",
              "      <td>1.0</td>\n",
              "      <td>0.0</td>\n",
              "      <td>4.0</td>\n",
              "      <td>0.0</td>\n",
              "      <td>0.0</td>\n",
              "      <td>0.0</td>\n",
              "      <td>6.0</td>\n",
              "      <td>1.0</td>\n",
              "    </tr>\n",
              "    <tr>\n",
              "      <th>70688</th>\n",
              "      <td>1.0</td>\n",
              "      <td>0.0</td>\n",
              "      <td>1.0</td>\n",
              "      <td>29.0</td>\n",
              "      <td>1.0</td>\n",
              "      <td>0.0</td>\n",
              "      <td>1.0</td>\n",
              "      <td>0.0</td>\n",
              "      <td>1.0</td>\n",
              "      <td>0.0</td>\n",
              "      <td>2.0</td>\n",
              "      <td>0.0</td>\n",
              "      <td>1.0</td>\n",
              "      <td>1.0</td>\n",
              "      <td>10.0</td>\n",
              "      <td>6.0</td>\n",
              "    </tr>\n",
              "    <tr>\n",
              "      <th>70689</th>\n",
              "      <td>1.0</td>\n",
              "      <td>1.0</td>\n",
              "      <td>1.0</td>\n",
              "      <td>25.0</td>\n",
              "      <td>0.0</td>\n",
              "      <td>0.0</td>\n",
              "      <td>1.0</td>\n",
              "      <td>0.0</td>\n",
              "      <td>0.0</td>\n",
              "      <td>0.0</td>\n",
              "      <td>5.0</td>\n",
              "      <td>0.0</td>\n",
              "      <td>1.0</td>\n",
              "      <td>0.0</td>\n",
              "      <td>13.0</td>\n",
              "      <td>4.0</td>\n",
              "    </tr>\n",
              "    <tr>\n",
              "      <th>70690</th>\n",
              "      <td>1.0</td>\n",
              "      <td>1.0</td>\n",
              "      <td>1.0</td>\n",
              "      <td>18.0</td>\n",
              "      <td>0.0</td>\n",
              "      <td>0.0</td>\n",
              "      <td>0.0</td>\n",
              "      <td>0.0</td>\n",
              "      <td>0.0</td>\n",
              "      <td>0.0</td>\n",
              "      <td>4.0</td>\n",
              "      <td>0.0</td>\n",
              "      <td>1.0</td>\n",
              "      <td>0.0</td>\n",
              "      <td>11.0</td>\n",
              "      <td>4.0</td>\n",
              "    </tr>\n",
              "    <tr>\n",
              "      <th>70691</th>\n",
              "      <td>1.0</td>\n",
              "      <td>1.0</td>\n",
              "      <td>1.0</td>\n",
              "      <td>25.0</td>\n",
              "      <td>0.0</td>\n",
              "      <td>0.0</td>\n",
              "      <td>1.0</td>\n",
              "      <td>1.0</td>\n",
              "      <td>0.0</td>\n",
              "      <td>0.0</td>\n",
              "      <td>2.0</td>\n",
              "      <td>0.0</td>\n",
              "      <td>0.0</td>\n",
              "      <td>0.0</td>\n",
              "      <td>9.0</td>\n",
              "      <td>2.0</td>\n",
              "    </tr>\n",
              "  </tbody>\n",
              "</table>\n",
              "<p>70692 rows × 16 columns</p>\n",
              "</div>\n",
              "      <button class=\"colab-df-convert\" onclick=\"convertToInteractive('df-d2417e6d-c3b2-4c55-b2d2-a52e67ad19f0')\"\n",
              "              title=\"Convert this dataframe to an interactive table.\"\n",
              "              style=\"display:none;\">\n",
              "        \n",
              "  <svg xmlns=\"http://www.w3.org/2000/svg\" height=\"24px\"viewBox=\"0 0 24 24\"\n",
              "       width=\"24px\">\n",
              "    <path d=\"M0 0h24v24H0V0z\" fill=\"none\"/>\n",
              "    <path d=\"M18.56 5.44l.94 2.06.94-2.06 2.06-.94-2.06-.94-.94-2.06-.94 2.06-2.06.94zm-11 1L8.5 8.5l.94-2.06 2.06-.94-2.06-.94L8.5 2.5l-.94 2.06-2.06.94zm10 10l.94 2.06.94-2.06 2.06-.94-2.06-.94-.94-2.06-.94 2.06-2.06.94z\"/><path d=\"M17.41 7.96l-1.37-1.37c-.4-.4-.92-.59-1.43-.59-.52 0-1.04.2-1.43.59L10.3 9.45l-7.72 7.72c-.78.78-.78 2.05 0 2.83L4 21.41c.39.39.9.59 1.41.59.51 0 1.02-.2 1.41-.59l7.78-7.78 2.81-2.81c.8-.78.8-2.07 0-2.86zM5.41 20L4 18.59l7.72-7.72 1.47 1.35L5.41 20z\"/>\n",
              "  </svg>\n",
              "      </button>\n",
              "      \n",
              "  <style>\n",
              "    .colab-df-container {\n",
              "      display:flex;\n",
              "      flex-wrap:wrap;\n",
              "      gap: 12px;\n",
              "    }\n",
              "\n",
              "    .colab-df-convert {\n",
              "      background-color: #E8F0FE;\n",
              "      border: none;\n",
              "      border-radius: 50%;\n",
              "      cursor: pointer;\n",
              "      display: none;\n",
              "      fill: #1967D2;\n",
              "      height: 32px;\n",
              "      padding: 0 0 0 0;\n",
              "      width: 32px;\n",
              "    }\n",
              "\n",
              "    .colab-df-convert:hover {\n",
              "      background-color: #E2EBFA;\n",
              "      box-shadow: 0px 1px 2px rgba(60, 64, 67, 0.3), 0px 1px 3px 1px rgba(60, 64, 67, 0.15);\n",
              "      fill: #174EA6;\n",
              "    }\n",
              "\n",
              "    [theme=dark] .colab-df-convert {\n",
              "      background-color: #3B4455;\n",
              "      fill: #D2E3FC;\n",
              "    }\n",
              "\n",
              "    [theme=dark] .colab-df-convert:hover {\n",
              "      background-color: #434B5C;\n",
              "      box-shadow: 0px 1px 3px 1px rgba(0, 0, 0, 0.15);\n",
              "      filter: drop-shadow(0px 1px 2px rgba(0, 0, 0, 0.3));\n",
              "      fill: #FFFFFF;\n",
              "    }\n",
              "  </style>\n",
              "\n",
              "      <script>\n",
              "        const buttonEl =\n",
              "          document.querySelector('#df-d2417e6d-c3b2-4c55-b2d2-a52e67ad19f0 button.colab-df-convert');\n",
              "        buttonEl.style.display =\n",
              "          google.colab.kernel.accessAllowed ? 'block' : 'none';\n",
              "\n",
              "        async function convertToInteractive(key) {\n",
              "          const element = document.querySelector('#df-d2417e6d-c3b2-4c55-b2d2-a52e67ad19f0');\n",
              "          const dataTable =\n",
              "            await google.colab.kernel.invokeFunction('convertToInteractive',\n",
              "                                                     [key], {});\n",
              "          if (!dataTable) return;\n",
              "\n",
              "          const docLinkHtml = 'Like what you see? Visit the ' +\n",
              "            '<a target=\"_blank\" href=https://colab.research.google.com/notebooks/data_table.ipynb>data table notebook</a>'\n",
              "            + ' to learn more about interactive tables.';\n",
              "          element.innerHTML = '';\n",
              "          dataTable['output_type'] = 'display_data';\n",
              "          await google.colab.output.renderOutput(dataTable, element);\n",
              "          const docLink = document.createElement('div');\n",
              "          docLink.innerHTML = docLinkHtml;\n",
              "          element.appendChild(docLink);\n",
              "        }\n",
              "      </script>\n",
              "    </div>\n",
              "  </div>\n",
              "  "
            ]
          },
          "metadata": {},
          "execution_count": 34
        }
      ]
    },
    {
      "cell_type": "code",
      "execution_count": null,
      "metadata": {
        "id": "7RQ-j1K3IoV1"
      },
      "outputs": [],
      "source": [
        "#Create a Column Trnasformer\n",
        "ct = make_column_transformer(\n",
        "    (MinMaxScaler(), ['BMI', 'Income','PhysHlth','Age','GenHlth']),\n",
        "    (OneHotEncoder(handle_unknown='ignore'),['HighBP','HighChol','Smoker','Stroke','HeartDiseaseorAttack','PhysActivity','Veggies','HvyAlcoholConsump','DiffWalk','Sex']))"
      ]
    },
    {
      "cell_type": "code",
      "execution_count": null,
      "metadata": {
        "colab": {
          "base_uri": "https://localhost:8080/",
          "height": 118
        },
        "id": "9gmXCOEEp6e5",
        "outputId": "d52c4447-6dfd-4049-e1a0-b62ffeb30e48"
      },
      "outputs": [
        {
          "output_type": "execute_result",
          "data": {
            "text/plain": [
              "ColumnTransformer(transformers=[('minmaxscaler', MinMaxScaler(),\n",
              "                                 ['BMI', 'Income', 'PhysHlth', 'Age',\n",
              "                                  'GenHlth']),\n",
              "                                ('onehotencoder',\n",
              "                                 OneHotEncoder(handle_unknown='ignore'),\n",
              "                                 ['HighBP', 'HighChol', 'Smoker', 'Stroke',\n",
              "                                  'HeartDiseaseorAttack', 'PhysActivity',\n",
              "                                  'Veggies', 'HvyAlcoholConsump', 'DiffWalk',\n",
              "                                  'Sex'])])"
            ],
            "text/html": [
              "<style>#sk-container-id-1 {color: black;background-color: white;}#sk-container-id-1 pre{padding: 0;}#sk-container-id-1 div.sk-toggleable {background-color: white;}#sk-container-id-1 label.sk-toggleable__label {cursor: pointer;display: block;width: 100%;margin-bottom: 0;padding: 0.3em;box-sizing: border-box;text-align: center;}#sk-container-id-1 label.sk-toggleable__label-arrow:before {content: \"▸\";float: left;margin-right: 0.25em;color: #696969;}#sk-container-id-1 label.sk-toggleable__label-arrow:hover:before {color: black;}#sk-container-id-1 div.sk-estimator:hover label.sk-toggleable__label-arrow:before {color: black;}#sk-container-id-1 div.sk-toggleable__content {max-height: 0;max-width: 0;overflow: hidden;text-align: left;background-color: #f0f8ff;}#sk-container-id-1 div.sk-toggleable__content pre {margin: 0.2em;color: black;border-radius: 0.25em;background-color: #f0f8ff;}#sk-container-id-1 input.sk-toggleable__control:checked~div.sk-toggleable__content {max-height: 200px;max-width: 100%;overflow: auto;}#sk-container-id-1 input.sk-toggleable__control:checked~label.sk-toggleable__label-arrow:before {content: \"▾\";}#sk-container-id-1 div.sk-estimator input.sk-toggleable__control:checked~label.sk-toggleable__label {background-color: #d4ebff;}#sk-container-id-1 div.sk-label input.sk-toggleable__control:checked~label.sk-toggleable__label {background-color: #d4ebff;}#sk-container-id-1 input.sk-hidden--visually {border: 0;clip: rect(1px 1px 1px 1px);clip: rect(1px, 1px, 1px, 1px);height: 1px;margin: -1px;overflow: hidden;padding: 0;position: absolute;width: 1px;}#sk-container-id-1 div.sk-estimator {font-family: monospace;background-color: #f0f8ff;border: 1px dotted black;border-radius: 0.25em;box-sizing: border-box;margin-bottom: 0.5em;}#sk-container-id-1 div.sk-estimator:hover {background-color: #d4ebff;}#sk-container-id-1 div.sk-parallel-item::after {content: \"\";width: 100%;border-bottom: 1px solid gray;flex-grow: 1;}#sk-container-id-1 div.sk-label:hover label.sk-toggleable__label {background-color: #d4ebff;}#sk-container-id-1 div.sk-serial::before {content: \"\";position: absolute;border-left: 1px solid gray;box-sizing: border-box;top: 0;bottom: 0;left: 50%;z-index: 0;}#sk-container-id-1 div.sk-serial {display: flex;flex-direction: column;align-items: center;background-color: white;padding-right: 0.2em;padding-left: 0.2em;position: relative;}#sk-container-id-1 div.sk-item {position: relative;z-index: 1;}#sk-container-id-1 div.sk-parallel {display: flex;align-items: stretch;justify-content: center;background-color: white;position: relative;}#sk-container-id-1 div.sk-item::before, #sk-container-id-1 div.sk-parallel-item::before {content: \"\";position: absolute;border-left: 1px solid gray;box-sizing: border-box;top: 0;bottom: 0;left: 50%;z-index: -1;}#sk-container-id-1 div.sk-parallel-item {display: flex;flex-direction: column;z-index: 1;position: relative;background-color: white;}#sk-container-id-1 div.sk-parallel-item:first-child::after {align-self: flex-end;width: 50%;}#sk-container-id-1 div.sk-parallel-item:last-child::after {align-self: flex-start;width: 50%;}#sk-container-id-1 div.sk-parallel-item:only-child::after {width: 0;}#sk-container-id-1 div.sk-dashed-wrapped {border: 1px dashed gray;margin: 0 0.4em 0.5em 0.4em;box-sizing: border-box;padding-bottom: 0.4em;background-color: white;}#sk-container-id-1 div.sk-label label {font-family: monospace;font-weight: bold;display: inline-block;line-height: 1.2em;}#sk-container-id-1 div.sk-label-container {text-align: center;}#sk-container-id-1 div.sk-container {/* jupyter's `normalize.less` sets `[hidden] { display: none; }` but bootstrap.min.css set `[hidden] { display: none !important; }` so we also need the `!important` here to be able to override the default hidden behavior on the sphinx rendered scikit-learn.org. See: https://github.com/scikit-learn/scikit-learn/issues/21755 */display: inline-block !important;position: relative;}#sk-container-id-1 div.sk-text-repr-fallback {display: none;}</style><div id=\"sk-container-id-1\" class=\"sk-top-container\"><div class=\"sk-text-repr-fallback\"><pre>ColumnTransformer(transformers=[(&#x27;minmaxscaler&#x27;, MinMaxScaler(),\n",
              "                                 [&#x27;BMI&#x27;, &#x27;Income&#x27;, &#x27;PhysHlth&#x27;, &#x27;Age&#x27;,\n",
              "                                  &#x27;GenHlth&#x27;]),\n",
              "                                (&#x27;onehotencoder&#x27;,\n",
              "                                 OneHotEncoder(handle_unknown=&#x27;ignore&#x27;),\n",
              "                                 [&#x27;HighBP&#x27;, &#x27;HighChol&#x27;, &#x27;Smoker&#x27;, &#x27;Stroke&#x27;,\n",
              "                                  &#x27;HeartDiseaseorAttack&#x27;, &#x27;PhysActivity&#x27;,\n",
              "                                  &#x27;Veggies&#x27;, &#x27;HvyAlcoholConsump&#x27;, &#x27;DiffWalk&#x27;,\n",
              "                                  &#x27;Sex&#x27;])])</pre><b>In a Jupyter environment, please rerun this cell to show the HTML representation or trust the notebook. <br />On GitHub, the HTML representation is unable to render, please try loading this page with nbviewer.org.</b></div><div class=\"sk-container\" hidden><div class=\"sk-item sk-dashed-wrapped\"><div class=\"sk-label-container\"><div class=\"sk-label sk-toggleable\"><input class=\"sk-toggleable__control sk-hidden--visually\" id=\"sk-estimator-id-1\" type=\"checkbox\" ><label for=\"sk-estimator-id-1\" class=\"sk-toggleable__label sk-toggleable__label-arrow\">ColumnTransformer</label><div class=\"sk-toggleable__content\"><pre>ColumnTransformer(transformers=[(&#x27;minmaxscaler&#x27;, MinMaxScaler(),\n",
              "                                 [&#x27;BMI&#x27;, &#x27;Income&#x27;, &#x27;PhysHlth&#x27;, &#x27;Age&#x27;,\n",
              "                                  &#x27;GenHlth&#x27;]),\n",
              "                                (&#x27;onehotencoder&#x27;,\n",
              "                                 OneHotEncoder(handle_unknown=&#x27;ignore&#x27;),\n",
              "                                 [&#x27;HighBP&#x27;, &#x27;HighChol&#x27;, &#x27;Smoker&#x27;, &#x27;Stroke&#x27;,\n",
              "                                  &#x27;HeartDiseaseorAttack&#x27;, &#x27;PhysActivity&#x27;,\n",
              "                                  &#x27;Veggies&#x27;, &#x27;HvyAlcoholConsump&#x27;, &#x27;DiffWalk&#x27;,\n",
              "                                  &#x27;Sex&#x27;])])</pre></div></div></div><div class=\"sk-parallel\"><div class=\"sk-parallel-item\"><div class=\"sk-item\"><div class=\"sk-label-container\"><div class=\"sk-label sk-toggleable\"><input class=\"sk-toggleable__control sk-hidden--visually\" id=\"sk-estimator-id-2\" type=\"checkbox\" ><label for=\"sk-estimator-id-2\" class=\"sk-toggleable__label sk-toggleable__label-arrow\">minmaxscaler</label><div class=\"sk-toggleable__content\"><pre>[&#x27;BMI&#x27;, &#x27;Income&#x27;, &#x27;PhysHlth&#x27;, &#x27;Age&#x27;, &#x27;GenHlth&#x27;]</pre></div></div></div><div class=\"sk-serial\"><div class=\"sk-item\"><div class=\"sk-estimator sk-toggleable\"><input class=\"sk-toggleable__control sk-hidden--visually\" id=\"sk-estimator-id-3\" type=\"checkbox\" ><label for=\"sk-estimator-id-3\" class=\"sk-toggleable__label sk-toggleable__label-arrow\">MinMaxScaler</label><div class=\"sk-toggleable__content\"><pre>MinMaxScaler()</pre></div></div></div></div></div></div><div class=\"sk-parallel-item\"><div class=\"sk-item\"><div class=\"sk-label-container\"><div class=\"sk-label sk-toggleable\"><input class=\"sk-toggleable__control sk-hidden--visually\" id=\"sk-estimator-id-4\" type=\"checkbox\" ><label for=\"sk-estimator-id-4\" class=\"sk-toggleable__label sk-toggleable__label-arrow\">onehotencoder</label><div class=\"sk-toggleable__content\"><pre>[&#x27;HighBP&#x27;, &#x27;HighChol&#x27;, &#x27;Smoker&#x27;, &#x27;Stroke&#x27;, &#x27;HeartDiseaseorAttack&#x27;, &#x27;PhysActivity&#x27;, &#x27;Veggies&#x27;, &#x27;HvyAlcoholConsump&#x27;, &#x27;DiffWalk&#x27;, &#x27;Sex&#x27;]</pre></div></div></div><div class=\"sk-serial\"><div class=\"sk-item\"><div class=\"sk-estimator sk-toggleable\"><input class=\"sk-toggleable__control sk-hidden--visually\" id=\"sk-estimator-id-5\" type=\"checkbox\" ><label for=\"sk-estimator-id-5\" class=\"sk-toggleable__label sk-toggleable__label-arrow\">OneHotEncoder</label><div class=\"sk-toggleable__content\"><pre>OneHotEncoder(handle_unknown=&#x27;ignore&#x27;)</pre></div></div></div></div></div></div></div></div></div></div>"
            ]
          },
          "metadata": {},
          "execution_count": 36
        }
      ],
      "source": [
        "# Fitting column transfrmer\n",
        "ct.fit(X_train)"
      ]
    },
    {
      "cell_type": "code",
      "execution_count": null,
      "metadata": {
        "id": "mQWOhi23soK6"
      },
      "outputs": [],
      "source": [
        "# Transforming Data\n",
        "X_train_ct = ct.transform(X_train)\n",
        "X_test_ct = ct.transform(X_test)"
      ]
    },
    {
      "cell_type": "code",
      "execution_count": null,
      "metadata": {
        "colab": {
          "base_uri": "https://localhost:8080/"
        },
        "id": "IPvscZdrVzUb",
        "outputId": "eb9cec85-725f-4ec2-94df-476b9faf2523"
      },
      "outputs": [
        {
          "output_type": "execute_result",
          "data": {
            "text/plain": [
              "array([[0.18823529, 1.        , 0.        , ..., 0.        , 0.        ,\n",
              "        1.        ],\n",
              "       [0.12941176, 0.        , 0.2       , ..., 0.        , 1.        ,\n",
              "        0.        ],\n",
              "       [0.34117647, 0.42857143, 0.33333333, ..., 1.        , 1.        ,\n",
              "        0.        ],\n",
              "       ...,\n",
              "       [0.61176471, 0.85714286, 0.16666667, ..., 1.        , 1.        ,\n",
              "        0.        ],\n",
              "       [0.22352941, 0.14285714, 0.        , ..., 0.        , 1.        ,\n",
              "        0.        ],\n",
              "       [0.2       , 0.71428571, 0.        , ..., 0.        , 0.        ,\n",
              "        1.        ]])"
            ]
          },
          "metadata": {},
          "execution_count": 38
        }
      ],
      "source": [
        "X_train_ct"
      ]
    },
    {
      "cell_type": "markdown",
      "metadata": {
        "id": "SM6nn8cpIMpB"
      },
      "source": [
        "# Modelling"
      ]
    },
    {
      "cell_type": "code",
      "execution_count": null,
      "metadata": {
        "id": "mUkAcyOGPwjg"
      },
      "outputs": [],
      "source": [
        "import tensorflow as tf"
      ]
    },
    {
      "cell_type": "code",
      "execution_count": null,
      "metadata": {
        "colab": {
          "base_uri": "https://localhost:8080/"
        },
        "id": "EyxxNIq0c_Mm",
        "outputId": "e484c328-1e46-480d-a114-097d7c073efe"
      },
      "outputs": [
        {
          "output_type": "execute_result",
          "data": {
            "text/plain": [
              "(56553, 25)"
            ]
          },
          "metadata": {},
          "execution_count": 40
        }
      ],
      "source": [
        "X_train_ct.shape"
      ]
    },
    {
      "cell_type": "code",
      "execution_count": null,
      "metadata": {
        "colab": {
          "base_uri": "https://localhost:8080/"
        },
        "id": "GuQZl4_gdCvj",
        "outputId": "4577436d-3024-4538-bb79-0881f1512e0b"
      },
      "outputs": [
        {
          "output_type": "execute_result",
          "data": {
            "text/plain": [
              "47977    1.0\n",
              "2676     0.0\n",
              "35637    1.0\n",
              "52420    1.0\n",
              "12445    0.0\n",
              "        ... \n",
              "58170    1.0\n",
              "17655    0.0\n",
              "37819    1.0\n",
              "41157    1.0\n",
              "25909    0.0\n",
              "Name: Diabetes_binary, Length: 56553, dtype: float64"
            ]
          },
          "metadata": {},
          "execution_count": 41
        }
      ],
      "source": [
        "Y_train"
      ]
    },
    {
      "cell_type": "code",
      "execution_count": null,
      "metadata": {
        "colab": {
          "base_uri": "https://localhost:8080/"
        },
        "id": "HYWblOv4svRn",
        "outputId": "0be31c9f-0a93-4323-a57c-6bce5261fae7"
      },
      "outputs": [
        {
          "output_type": "stream",
          "name": "stderr",
          "text": [
            "WARNING:absl:`lr` is deprecated, please use `learning_rate` instead, or use the legacy optimizer, e.g.,tf.keras.optimizers.legacy.Adam.\n"
          ]
        },
        {
          "output_type": "stream",
          "name": "stdout",
          "text": [
            "Epoch 1/100\n",
            "1768/1768 [==============================] - 5s 2ms/step - loss: 0.5732 - accuracy: 0.7077 - lr: 1.0000e-04\n",
            "Epoch 2/100\n",
            "1768/1768 [==============================] - 3s 2ms/step - loss: 0.5257 - accuracy: 0.7408 - lr: 1.1220e-04\n",
            "Epoch 3/100\n",
            "1768/1768 [==============================] - 3s 2ms/step - loss: 0.5179 - accuracy: 0.7428 - lr: 1.2589e-04\n",
            "Epoch 4/100\n",
            "1768/1768 [==============================] - 3s 2ms/step - loss: 0.5148 - accuracy: 0.7458 - lr: 1.4125e-04\n",
            "Epoch 5/100\n",
            "1768/1768 [==============================] - 4s 2ms/step - loss: 0.5128 - accuracy: 0.7473 - lr: 1.5849e-04\n",
            "Epoch 6/100\n",
            "1768/1768 [==============================] - 3s 2ms/step - loss: 0.5114 - accuracy: 0.7486 - lr: 1.7783e-04\n",
            "Epoch 7/100\n",
            "1768/1768 [==============================] - 3s 2ms/step - loss: 0.5111 - accuracy: 0.7472 - lr: 1.9953e-04\n",
            "Epoch 8/100\n",
            "1768/1768 [==============================] - 4s 2ms/step - loss: 0.5102 - accuracy: 0.7493 - lr: 2.2387e-04\n",
            "Epoch 9/100\n",
            "1768/1768 [==============================] - 3s 2ms/step - loss: 0.5101 - accuracy: 0.7483 - lr: 2.5119e-04\n",
            "Epoch 10/100\n",
            "1768/1768 [==============================] - 3s 2ms/step - loss: 0.5097 - accuracy: 0.7490 - lr: 2.8184e-04\n",
            "Epoch 11/100\n",
            "1768/1768 [==============================] - 3s 2ms/step - loss: 0.5095 - accuracy: 0.7504 - lr: 3.1623e-04\n",
            "Epoch 12/100\n",
            "1768/1768 [==============================] - 4s 2ms/step - loss: 0.5093 - accuracy: 0.7487 - lr: 3.5481e-04\n",
            "Epoch 13/100\n",
            "1768/1768 [==============================] - 3s 2ms/step - loss: 0.5080 - accuracy: 0.7507 - lr: 3.9811e-04\n",
            "Epoch 14/100\n",
            "1768/1768 [==============================] - 3s 2ms/step - loss: 0.5084 - accuracy: 0.7505 - lr: 4.4668e-04\n",
            "Epoch 15/100\n",
            "1768/1768 [==============================] - 3s 2ms/step - loss: 0.5072 - accuracy: 0.7499 - lr: 5.0119e-04\n",
            "Epoch 16/100\n",
            "1768/1768 [==============================] - 4s 2ms/step - loss: 0.5069 - accuracy: 0.7508 - lr: 5.6234e-04\n",
            "Epoch 17/100\n",
            "1768/1768 [==============================] - 3s 2ms/step - loss: 0.5067 - accuracy: 0.7523 - lr: 6.3096e-04\n",
            "Epoch 18/100\n",
            "1768/1768 [==============================] - 3s 2ms/step - loss: 0.5061 - accuracy: 0.7525 - lr: 7.0795e-04\n",
            "Epoch 19/100\n",
            "1768/1768 [==============================] - 3s 2ms/step - loss: 0.5058 - accuracy: 0.7513 - lr: 7.9433e-04\n",
            "Epoch 20/100\n",
            "1768/1768 [==============================] - 4s 2ms/step - loss: 0.5066 - accuracy: 0.7507 - lr: 8.9125e-04\n",
            "Epoch 21/100\n",
            "1768/1768 [==============================] - 3s 2ms/step - loss: 0.5064 - accuracy: 0.7518 - lr: 0.0010\n",
            "Epoch 22/100\n",
            "1768/1768 [==============================] - 3s 2ms/step - loss: 0.5058 - accuracy: 0.7517 - lr: 0.0011\n",
            "Epoch 23/100\n",
            "1768/1768 [==============================] - 4s 2ms/step - loss: 0.5064 - accuracy: 0.7516 - lr: 0.0013\n",
            "Epoch 24/100\n",
            "1768/1768 [==============================] - 3s 2ms/step - loss: 0.5065 - accuracy: 0.7504 - lr: 0.0014\n",
            "Epoch 25/100\n",
            "1768/1768 [==============================] - 3s 2ms/step - loss: 0.5075 - accuracy: 0.7514 - lr: 0.0016\n",
            "Epoch 26/100\n",
            "1768/1768 [==============================] - 4s 2ms/step - loss: 0.5070 - accuracy: 0.7506 - lr: 0.0018\n",
            "Epoch 27/100\n",
            "1768/1768 [==============================] - 4s 2ms/step - loss: 0.5085 - accuracy: 0.7510 - lr: 0.0020\n",
            "Epoch 28/100\n",
            "1768/1768 [==============================] - 3s 2ms/step - loss: 0.5081 - accuracy: 0.7518 - lr: 0.0022\n",
            "Epoch 29/100\n",
            "1768/1768 [==============================] - 3s 2ms/step - loss: 0.5087 - accuracy: 0.7510 - lr: 0.0025\n",
            "Epoch 30/100\n",
            "1768/1768 [==============================] - 4s 2ms/step - loss: 0.5093 - accuracy: 0.7495 - lr: 0.0028\n",
            "Epoch 31/100\n",
            "1768/1768 [==============================] - 5s 3ms/step - loss: 0.5099 - accuracy: 0.7490 - lr: 0.0032\n",
            "Epoch 32/100\n",
            "1768/1768 [==============================] - 3s 2ms/step - loss: 0.5109 - accuracy: 0.7480 - lr: 0.0035\n",
            "Epoch 33/100\n",
            "1768/1768 [==============================] - 3s 2ms/step - loss: 0.5117 - accuracy: 0.7482 - lr: 0.0040\n",
            "Epoch 34/100\n",
            "1768/1768 [==============================] - 4s 2ms/step - loss: 0.5120 - accuracy: 0.7477 - lr: 0.0045\n",
            "Epoch 35/100\n",
            "1768/1768 [==============================] - 3s 2ms/step - loss: 0.5125 - accuracy: 0.7483 - lr: 0.0050\n",
            "Epoch 36/100\n",
            "1768/1768 [==============================] - 3s 2ms/step - loss: 0.5127 - accuracy: 0.7468 - lr: 0.0056\n",
            "Epoch 37/100\n",
            "1768/1768 [==============================] - 4s 2ms/step - loss: 0.5125 - accuracy: 0.7478 - lr: 0.0063\n",
            "Epoch 38/100\n",
            "1768/1768 [==============================] - 4s 2ms/step - loss: 0.5139 - accuracy: 0.7480 - lr: 0.0071\n",
            "Epoch 39/100\n",
            "1768/1768 [==============================] - 3s 2ms/step - loss: 0.5149 - accuracy: 0.7472 - lr: 0.0079\n",
            "Epoch 40/100\n",
            "1768/1768 [==============================] - 3s 2ms/step - loss: 0.5156 - accuracy: 0.7461 - lr: 0.0089\n",
            "Epoch 41/100\n",
            "1768/1768 [==============================] - 4s 2ms/step - loss: 0.5162 - accuracy: 0.7463 - lr: 0.0100\n",
            "Epoch 42/100\n",
            "1768/1768 [==============================] - 3s 2ms/step - loss: 0.5181 - accuracy: 0.7459 - lr: 0.0112\n",
            "Epoch 43/100\n",
            "1768/1768 [==============================] - 3s 2ms/step - loss: 0.5201 - accuracy: 0.7453 - lr: 0.0126\n",
            "Epoch 44/100\n",
            "1768/1768 [==============================] - 3s 2ms/step - loss: 0.5193 - accuracy: 0.7450 - lr: 0.0141\n",
            "Epoch 45/100\n",
            "1768/1768 [==============================] - 4s 2ms/step - loss: 0.5227 - accuracy: 0.7429 - lr: 0.0158\n",
            "Epoch 46/100\n",
            "1768/1768 [==============================] - 3s 2ms/step - loss: 0.5214 - accuracy: 0.7431 - lr: 0.0178\n",
            "Epoch 47/100\n",
            "1768/1768 [==============================] - 3s 2ms/step - loss: 0.5267 - accuracy: 0.7414 - lr: 0.0200\n",
            "Epoch 48/100\n",
            "1768/1768 [==============================] - 4s 2ms/step - loss: 0.5268 - accuracy: 0.7371 - lr: 0.0224\n",
            "Epoch 49/100\n",
            "1768/1768 [==============================] - 4s 2ms/step - loss: 0.5341 - accuracy: 0.7402 - lr: 0.0251\n",
            "Epoch 50/100\n",
            "1768/1768 [==============================] - 3s 2ms/step - loss: 0.5334 - accuracy: 0.7402 - lr: 0.0282\n",
            "Epoch 51/100\n",
            "1768/1768 [==============================] - 3s 2ms/step - loss: 0.5337 - accuracy: 0.7394 - lr: 0.0316\n",
            "Epoch 52/100\n",
            "1768/1768 [==============================] - 4s 2ms/step - loss: 0.7398 - accuracy: 0.5234 - lr: 0.0355\n",
            "Epoch 53/100\n",
            "1768/1768 [==============================] - 3s 2ms/step - loss: 0.6963 - accuracy: 0.4997 - lr: 0.0398\n",
            "Epoch 54/100\n",
            "1768/1768 [==============================] - 3s 2ms/step - loss: 0.6956 - accuracy: 0.5003 - lr: 0.0447\n",
            "Epoch 55/100\n",
            "1768/1768 [==============================] - 3s 2ms/step - loss: 0.6953 - accuracy: 0.4980 - lr: 0.0501\n",
            "Epoch 56/100\n",
            "1768/1768 [==============================] - 4s 2ms/step - loss: 0.6954 - accuracy: 0.5005 - lr: 0.0562\n",
            "Epoch 57/100\n",
            "1768/1768 [==============================] - 3s 2ms/step - loss: 0.6959 - accuracy: 0.5013 - lr: 0.0631\n",
            "Epoch 58/100\n",
            "1768/1768 [==============================] - 3s 2ms/step - loss: 0.6964 - accuracy: 0.4995 - lr: 0.0708\n",
            "Epoch 59/100\n",
            "1768/1768 [==============================] - 4s 2ms/step - loss: 0.6967 - accuracy: 0.4992 - lr: 0.0794\n",
            "Epoch 60/100\n",
            "1768/1768 [==============================] - 4s 2ms/step - loss: 0.6966 - accuracy: 0.4989 - lr: 0.0891\n",
            "Epoch 61/100\n",
            "1768/1768 [==============================] - 3s 2ms/step - loss: 0.6980 - accuracy: 0.4973 - lr: 0.1000\n",
            "Epoch 62/100\n",
            "1768/1768 [==============================] - 3s 2ms/step - loss: 0.6972 - accuracy: 0.5014 - lr: 0.1122\n",
            "Epoch 63/100\n",
            "1768/1768 [==============================] - 4s 2ms/step - loss: 0.6975 - accuracy: 0.5029 - lr: 0.1259\n",
            "Epoch 64/100\n",
            "1768/1768 [==============================] - 3s 2ms/step - loss: 0.6980 - accuracy: 0.4998 - lr: 0.1413\n",
            "Epoch 65/100\n",
            "1768/1768 [==============================] - 3s 2ms/step - loss: 0.6997 - accuracy: 0.4987 - lr: 0.1585\n",
            "Epoch 66/100\n",
            "1768/1768 [==============================] - 3s 2ms/step - loss: 0.7007 - accuracy: 0.4989 - lr: 0.1778\n",
            "Epoch 67/100\n",
            "1768/1768 [==============================] - 4s 2ms/step - loss: 0.7006 - accuracy: 0.4965 - lr: 0.1995\n",
            "Epoch 68/100\n",
            "1768/1768 [==============================] - 3s 2ms/step - loss: 0.7022 - accuracy: 0.4975 - lr: 0.2239\n",
            "Epoch 69/100\n",
            "1768/1768 [==============================] - 3s 2ms/step - loss: 0.7017 - accuracy: 0.5026 - lr: 0.2512\n",
            "Epoch 70/100\n",
            "1768/1768 [==============================] - 3s 2ms/step - loss: 0.7027 - accuracy: 0.4999 - lr: 0.2818\n",
            "Epoch 71/100\n",
            "1768/1768 [==============================] - 4s 2ms/step - loss: 0.7048 - accuracy: 0.5018 - lr: 0.3162\n",
            "Epoch 72/100\n",
            "1768/1768 [==============================] - 3s 2ms/step - loss: 0.7067 - accuracy: 0.4962 - lr: 0.3548\n",
            "Epoch 73/100\n",
            "1768/1768 [==============================] - 3s 2ms/step - loss: 0.7081 - accuracy: 0.4989 - lr: 0.3981\n",
            "Epoch 74/100\n",
            "1768/1768 [==============================] - 4s 2ms/step - loss: 0.7116 - accuracy: 0.4985 - lr: 0.4467\n",
            "Epoch 75/100\n",
            "1768/1768 [==============================] - 3s 2ms/step - loss: 0.7133 - accuracy: 0.4975 - lr: 0.5012\n",
            "Epoch 76/100\n",
            "1768/1768 [==============================] - 3s 2ms/step - loss: 0.7104 - accuracy: 0.5015 - lr: 0.5623\n",
            "Epoch 77/100\n",
            "1768/1768 [==============================] - 3s 2ms/step - loss: 0.7134 - accuracy: 0.4984 - lr: 0.6310\n",
            "Epoch 78/100\n",
            "1768/1768 [==============================] - 4s 2ms/step - loss: 0.7125 - accuracy: 0.5020 - lr: 0.7079\n",
            "Epoch 79/100\n",
            "1768/1768 [==============================] - 3s 2ms/step - loss: 0.7192 - accuracy: 0.4980 - lr: 0.7943\n",
            "Epoch 80/100\n",
            "1768/1768 [==============================] - 3s 2ms/step - loss: 0.7206 - accuracy: 0.4996 - lr: 0.8913\n",
            "Epoch 81/100\n",
            "1768/1768 [==============================] - 3s 2ms/step - loss: 0.7232 - accuracy: 0.4992 - lr: 1.0000\n",
            "Epoch 82/100\n",
            "1768/1768 [==============================] - 4s 2ms/step - loss: 0.7208 - accuracy: 0.4993 - lr: 1.1220\n",
            "Epoch 83/100\n",
            "1768/1768 [==============================] - 3s 2ms/step - loss: 0.7287 - accuracy: 0.5003 - lr: 1.2589\n",
            "Epoch 84/100\n",
            "1768/1768 [==============================] - 3s 2ms/step - loss: 0.7394 - accuracy: 0.4941 - lr: 1.4125\n",
            "Epoch 85/100\n",
            "1768/1768 [==============================] - 4s 2ms/step - loss: 0.7326 - accuracy: 0.5039 - lr: 1.5849\n",
            "Epoch 86/100\n",
            "1768/1768 [==============================] - 3s 2ms/step - loss: 0.7440 - accuracy: 0.5004 - lr: 1.7783\n",
            "Epoch 87/100\n",
            "1768/1768 [==============================] - 3s 2ms/step - loss: 0.7458 - accuracy: 0.4972 - lr: 1.9953\n",
            "Epoch 88/100\n",
            "1768/1768 [==============================] - 3s 2ms/step - loss: 0.7497 - accuracy: 0.5006 - lr: 2.2387\n",
            "Epoch 89/100\n",
            "1768/1768 [==============================] - 4s 2ms/step - loss: 0.7585 - accuracy: 0.4995 - lr: 2.5119\n",
            "Epoch 90/100\n",
            "1768/1768 [==============================] - 3s 2ms/step - loss: 0.7620 - accuracy: 0.5037 - lr: 2.8184\n",
            "Epoch 91/100\n",
            "1768/1768 [==============================] - 3s 2ms/step - loss: 0.7741 - accuracy: 0.5012 - lr: 3.1623\n",
            "Epoch 92/100\n",
            "1768/1768 [==============================] - 3s 2ms/step - loss: 0.7695 - accuracy: 0.5016 - lr: 3.5481\n",
            "Epoch 93/100\n",
            "1768/1768 [==============================] - 4s 2ms/step - loss: 0.8019 - accuracy: 0.4984 - lr: 3.9811\n",
            "Epoch 94/100\n",
            "1768/1768 [==============================] - 3s 2ms/step - loss: 0.8016 - accuracy: 0.4993 - lr: 4.4668\n",
            "Epoch 95/100\n",
            "1768/1768 [==============================] - 3s 2ms/step - loss: 0.8130 - accuracy: 0.4965 - lr: 5.0119\n",
            "Epoch 96/100\n",
            "1768/1768 [==============================] - 4s 2ms/step - loss: 0.8421 - accuracy: 0.4999 - lr: 5.6234\n",
            "Epoch 97/100\n",
            "1768/1768 [==============================] - 3s 2ms/step - loss: 0.8374 - accuracy: 0.5020 - lr: 6.3096\n",
            "Epoch 98/100\n",
            "1768/1768 [==============================] - 3s 2ms/step - loss: 0.8420 - accuracy: 0.5034 - lr: 7.0795\n",
            "Epoch 99/100\n",
            "1768/1768 [==============================] - 3s 2ms/step - loss: 0.9136 - accuracy: 0.4979 - lr: 7.9433\n",
            "Epoch 100/100\n",
            "1768/1768 [==============================] - 4s 2ms/step - loss: 0.9553 - accuracy: 0.4994 - lr: 8.9125\n"
          ]
        }
      ],
      "source": [
        "#Setting Random Seed\n",
        "tf.random.set_seed(42)\n",
        "\n",
        "# Create the modele\n",
        "model_1 = tf.keras.Sequential([\n",
        "  tf.keras.layers.Dense(30), # hidden layer 1, using \"relu\" for activation (same as tf.keras.activations.relu)\n",
        "  tf.keras.layers.Dense(100, activation=\"relu\"),\n",
        "  tf.keras.layers.Dense(100, activation='relu'),\n",
        "  tf.keras.layers.Dense(3, activation=\"Softmax\")\n",
        "])\n",
        "\n",
        "# Compile the model\n",
        "model_1.compile(loss='sparse_categorical_crossentropy', optimizer=tf.keras.optimizers.Adam(lr=0.01), metrics=['accuracy'])\n",
        "\n",
        "#Creating a CallBack\n",
        "lr_scheduler = tf.keras.callbacks.LearningRateScheduler(lambda epoch: 1e-4 * 10**(epoch/20))\n",
        "\n",
        "# Fit the model\n",
        "history = model_1.fit(X_train_ct, Y_train, epochs=100,callbacks=[lr_scheduler])"
      ]
    },
    {
      "cell_type": "code",
      "execution_count": null,
      "metadata": {
        "id": "8yHPZczaQiki",
        "colab": {
          "base_uri": "https://localhost:8080/"
        },
        "outputId": "55029011-488f-438d-f916-a24c62ff6da7"
      },
      "outputs": [
        {
          "output_type": "stream",
          "name": "stdout",
          "text": [
            "442/442 [==============================] - 1s 1ms/step\n"
          ]
        }
      ],
      "source": [
        "Y_pred = model_1.predict(X_test_ct)"
      ]
    },
    {
      "cell_type": "code",
      "execution_count": null,
      "metadata": {
        "colab": {
          "base_uri": "https://localhost:8080/"
        },
        "id": "4OZGjJZA7W8r",
        "outputId": "ab03a331-e203-447e-cb28-7bf18699be02"
      },
      "outputs": [
        {
          "output_type": "execute_result",
          "data": {
            "text/plain": [
              "array([[4.8418996e-01, 5.1580989e-01, 7.6940342e-13],\n",
              "       [4.8418996e-01, 5.1580989e-01, 7.6940342e-13],\n",
              "       [4.8418996e-01, 5.1580989e-01, 7.6940342e-13],\n",
              "       ...,\n",
              "       [4.8419002e-01, 5.1580995e-01, 7.6940353e-13],\n",
              "       [4.8419002e-01, 5.1580995e-01, 7.6940353e-13],\n",
              "       [4.8419002e-01, 5.1580995e-01, 7.6940353e-13]], dtype=float32)"
            ]
          },
          "metadata": {},
          "execution_count": 44
        }
      ],
      "source": [
        "Y_pred"
      ]
    },
    {
      "cell_type": "code",
      "execution_count": null,
      "metadata": {
        "id": "3vbsoWUtQb8t"
      },
      "outputs": [],
      "source": [
        "y_preds = Y_pred.argmax(axis=1)"
      ]
    },
    {
      "cell_type": "code",
      "execution_count": null,
      "metadata": {
        "colab": {
          "base_uri": "https://localhost:8080/"
        },
        "id": "hpo19HCn63Ei",
        "outputId": "01943252-725d-498c-b8bd-0b818a121572"
      },
      "outputs": [
        {
          "output_type": "execute_result",
          "data": {
            "text/plain": [
              "<tf.Tensor: shape=(2, 2), dtype=int32, numpy=\n",
              "array([[   0, 7070],\n",
              "       [   0, 7069]], dtype=int32)>"
            ]
          },
          "metadata": {},
          "execution_count": 46
        }
      ],
      "source": [
        "tf.math.confusion_matrix(y_test,y_preds)"
      ]
    },
    {
      "cell_type": "code",
      "execution_count": null,
      "metadata": {
        "colab": {
          "base_uri": "https://localhost:8080/"
        },
        "id": "9E1n4fFtj5ui",
        "outputId": "3698f085-874f-4eff-89a5-dc68bb067878"
      },
      "outputs": [
        {
          "output_type": "stream",
          "name": "stdout",
          "text": [
            "442/442 [==============================] - 1s 1ms/step - loss: 0.6936 - accuracy: 0.5000\n"
          ]
        },
        {
          "output_type": "execute_result",
          "data": {
            "text/plain": [
              "[0.6936495900154114, 0.4999646246433258]"
            ]
          },
          "metadata": {},
          "execution_count": 47
        }
      ],
      "source": [
        "model_1.evaluate(X_test_ct,y_test)"
      ]
    },
    {
      "cell_type": "code",
      "execution_count": null,
      "metadata": {
        "colab": {
          "base_uri": "https://localhost:8080/",
          "height": 282
        },
        "id": "Gos4NvzVR4r_",
        "outputId": "6aa72d19-5bef-4722-ce18-b23ebbb2a0c1"
      },
      "outputs": [
        {
          "output_type": "execute_result",
          "data": {
            "text/plain": [
              "<Axes: >"
            ]
          },
          "metadata": {},
          "execution_count": 48
        },
        {
          "output_type": "display_data",
          "data": {
            "text/plain": [
              "<Figure size 432x288 with 1 Axes>"
            ],
            "image/png": "[encoded data removed]"
          },
          "metadata": {
            "needs_background": "light"
          }
        }
      ],
      "source": [
        "pd.DataFrame(history.history).plot()"
      ]
    },
    {
      "cell_type": "code",
      "execution_count": null,
      "metadata": {
        "colab": {
          "base_uri": "https://localhost:8080/",
          "height": 479
        },
        "id": "u7tVE7kET2Lp",
        "outputId": "ff0c8f06-0137-4d2a-d3fe-c22a5f51d297"
      },
      "outputs": [
        {
          "output_type": "execute_result",
          "data": {
            "text/plain": [
              "Text(0.5, 1.0, 'Learning Rate vs. Loss')"
            ]
          },
          "metadata": {},
          "execution_count": 49
        },
        {
          "output_type": "display_data",
          "data": {
            "text/plain": [
              "<Figure size 720x504 with 1 Axes>"
            ],
            "image/png": "[encoded data removed]"
          },
          "metadata": {
            "needs_background": "light"
          }
        }
      ],
      "source": [
        "# Plot the Learning rate versus the loss\n",
        "lrs = 1e-4 * (10**(tf.range(100)/20))\n",
        "plt.figure(figsize=(10,7))\n",
        "plt.semilogx(lrs,history.history['loss'])\n",
        "plt.xlabel(\"Learning Rate\")\n",
        "plt.ylabel(\"Loss\")\n",
        "plt.title(\"Learning Rate vs. Loss\")"
      ]
    },
    {
      "cell_type": "code",
      "execution_count": null,
      "metadata": {
        "colab": {
          "base_uri": "https://localhost:8080/"
        },
        "id": "W-Jx__AUIWLJ",
        "outputId": "b4fd5fd4-c50f-4d17-b606-5b07ea8226bf"
      },
      "outputs": [
        {
          "output_type": "stream",
          "name": "stderr",
          "text": [
            "WARNING:absl:`lr` is deprecated, please use `learning_rate` instead, or use the legacy optimizer, e.g.,tf.keras.optimizers.legacy.Adam.\n"
          ]
        },
        {
          "output_type": "stream",
          "name": "stdout",
          "text": [
            "Epoch 1/100\n",
            "1768/1768 [==============================] - 4s 2ms/step - loss: 0.5290 - accuracy: 0.7360\n",
            "Epoch 2/100\n",
            "1768/1768 [==============================] - 4s 2ms/step - loss: 0.5149 - accuracy: 0.7461\n",
            "Epoch 3/100\n",
            "1768/1768 [==============================] - 3s 2ms/step - loss: 0.5120 - accuracy: 0.7471\n",
            "Epoch 4/100\n",
            "1768/1768 [==============================] - 3s 2ms/step - loss: 0.5104 - accuracy: 0.7489\n",
            "Epoch 5/100\n",
            "1768/1768 [==============================] - 4s 2ms/step - loss: 0.5091 - accuracy: 0.7502\n",
            "Epoch 6/100\n",
            "1768/1768 [==============================] - 4s 2ms/step - loss: 0.5079 - accuracy: 0.7516\n",
            "Epoch 7/100\n",
            "1768/1768 [==============================] - 3s 2ms/step - loss: 0.5071 - accuracy: 0.7501\n",
            "Epoch 8/100\n",
            "1768/1768 [==============================] - 3s 2ms/step - loss: 0.5063 - accuracy: 0.7517\n",
            "Epoch 9/100\n",
            "1768/1768 [==============================] - 4s 2ms/step - loss: 0.5062 - accuracy: 0.7531\n",
            "Epoch 10/100\n",
            "1768/1768 [==============================] - 3s 2ms/step - loss: 0.5055 - accuracy: 0.7521\n",
            "Epoch 11/100\n",
            "1768/1768 [==============================] - 3s 2ms/step - loss: 0.5052 - accuracy: 0.7532\n",
            "Epoch 12/100\n",
            "1768/1768 [==============================] - 4s 2ms/step - loss: 0.5047 - accuracy: 0.7518\n",
            "Epoch 13/100\n",
            "1768/1768 [==============================] - 4s 2ms/step - loss: 0.5036 - accuracy: 0.7535\n",
            "Epoch 14/100\n",
            "1768/1768 [==============================] - 3s 2ms/step - loss: 0.5034 - accuracy: 0.7535\n",
            "Epoch 15/100\n",
            "1768/1768 [==============================] - 3s 2ms/step - loss: 0.5025 - accuracy: 0.7529\n",
            "Epoch 16/100\n",
            "1768/1768 [==============================] - 4s 2ms/step - loss: 0.5019 - accuracy: 0.7543\n",
            "Epoch 17/100\n",
            "1768/1768 [==============================] - 3s 2ms/step - loss: 0.5018 - accuracy: 0.7553\n",
            "Epoch 18/100\n",
            "1768/1768 [==============================] - 3s 2ms/step - loss: 0.5009 - accuracy: 0.7558\n",
            "Epoch 19/100\n",
            "1768/1768 [==============================] - 4s 2ms/step - loss: 0.5001 - accuracy: 0.7555\n",
            "Epoch 20/100\n",
            "1768/1768 [==============================] - 4s 2ms/step - loss: 0.5002 - accuracy: 0.7550\n",
            "Epoch 21/100\n",
            "1768/1768 [==============================] - 3s 2ms/step - loss: 0.4993 - accuracy: 0.7568\n",
            "Epoch 22/100\n",
            "1768/1768 [==============================] - 3s 2ms/step - loss: 0.4984 - accuracy: 0.7570\n",
            "Epoch 23/100\n",
            "1768/1768 [==============================] - 4s 2ms/step - loss: 0.4977 - accuracy: 0.7574\n",
            "Epoch 24/100\n",
            "1768/1768 [==============================] - 3s 2ms/step - loss: 0.4971 - accuracy: 0.7579\n",
            "Epoch 25/100\n",
            "1768/1768 [==============================] - 3s 2ms/step - loss: 0.4967 - accuracy: 0.7583\n",
            "Epoch 26/100\n",
            "1768/1768 [==============================] - 4s 2ms/step - loss: 0.4952 - accuracy: 0.7588\n",
            "Epoch 27/100\n",
            "1768/1768 [==============================] - 4s 2ms/step - loss: 0.4951 - accuracy: 0.7584\n",
            "Epoch 28/100\n",
            "1768/1768 [==============================] - 3s 2ms/step - loss: 0.4943 - accuracy: 0.7606\n",
            "Epoch 29/100\n",
            "1768/1768 [==============================] - 3s 2ms/step - loss: 0.4931 - accuracy: 0.7614\n",
            "Epoch 30/100\n",
            "1768/1768 [==============================] - 4s 2ms/step - loss: 0.4923 - accuracy: 0.7607\n",
            "Epoch 31/100\n",
            "1768/1768 [==============================] - 3s 2ms/step - loss: 0.4914 - accuracy: 0.7607\n",
            "Epoch 32/100\n",
            "1768/1768 [==============================] - 3s 2ms/step - loss: 0.4912 - accuracy: 0.7606\n",
            "Epoch 33/100\n",
            "1768/1768 [==============================] - 4s 2ms/step - loss: 0.4900 - accuracy: 0.7617\n",
            "Epoch 34/100\n",
            "1768/1768 [==============================] - 4s 2ms/step - loss: 0.4892 - accuracy: 0.7620\n",
            "Epoch 35/100\n",
            "1768/1768 [==============================] - 3s 2ms/step - loss: 0.4882 - accuracy: 0.7629\n",
            "Epoch 36/100\n",
            "1768/1768 [==============================] - 3s 2ms/step - loss: 0.4866 - accuracy: 0.7643\n",
            "Epoch 37/100\n",
            "1768/1768 [==============================] - 4s 2ms/step - loss: 0.4865 - accuracy: 0.7648\n",
            "Epoch 38/100\n",
            "1768/1768 [==============================] - 3s 2ms/step - loss: 0.4859 - accuracy: 0.7651\n",
            "Epoch 39/100\n",
            "1768/1768 [==============================] - 3s 2ms/step - loss: 0.4848 - accuracy: 0.7651\n",
            "Epoch 40/100\n",
            "1768/1768 [==============================] - 4s 2ms/step - loss: 0.4838 - accuracy: 0.7657\n",
            "Epoch 41/100\n",
            "1768/1768 [==============================] - 4s 2ms/step - loss: 0.4833 - accuracy: 0.7658\n",
            "Epoch 42/100\n",
            "1768/1768 [==============================] - 3s 2ms/step - loss: 0.4819 - accuracy: 0.7651\n",
            "Epoch 43/100\n",
            "1768/1768 [==============================] - 3s 2ms/step - loss: 0.4816 - accuracy: 0.7666\n",
            "Epoch 44/100\n",
            "1768/1768 [==============================] - 4s 2ms/step - loss: 0.4810 - accuracy: 0.7662\n",
            "Epoch 45/100\n",
            "1768/1768 [==============================] - 3s 2ms/step - loss: 0.4795 - accuracy: 0.7680\n",
            "Epoch 46/100\n",
            "1768/1768 [==============================] - 3s 2ms/step - loss: 0.4789 - accuracy: 0.7684\n",
            "Epoch 47/100\n",
            "1768/1768 [==============================] - 4s 2ms/step - loss: 0.4778 - accuracy: 0.7685\n",
            "Epoch 48/100\n",
            "1768/1768 [==============================] - 4s 2ms/step - loss: 0.4766 - accuracy: 0.7695\n",
            "Epoch 49/100\n",
            "1768/1768 [==============================] - 3s 2ms/step - loss: 0.4758 - accuracy: 0.7702\n",
            "Epoch 50/100\n",
            "1768/1768 [==============================] - 3s 2ms/step - loss: 0.4764 - accuracy: 0.7695\n",
            "Epoch 51/100\n",
            "1768/1768 [==============================] - 4s 2ms/step - loss: 0.4752 - accuracy: 0.7709\n",
            "Epoch 52/100\n",
            "1768/1768 [==============================] - 3s 2ms/step - loss: 0.4732 - accuracy: 0.7705\n",
            "Epoch 53/100\n",
            "1768/1768 [==============================] - 3s 2ms/step - loss: 0.4728 - accuracy: 0.7710\n",
            "Epoch 54/100\n",
            "1768/1768 [==============================] - 4s 2ms/step - loss: 0.4726 - accuracy: 0.7717\n",
            "Epoch 55/100\n",
            "1768/1768 [==============================] - 4s 2ms/step - loss: 0.4708 - accuracy: 0.7726\n",
            "Epoch 56/100\n",
            "1768/1768 [==============================] - 3s 2ms/step - loss: 0.4710 - accuracy: 0.7724\n",
            "Epoch 57/100\n",
            "1768/1768 [==============================] - 3s 2ms/step - loss: 0.4695 - accuracy: 0.7738\n",
            "Epoch 58/100\n",
            "1768/1768 [==============================] - 4s 2ms/step - loss: 0.4689 - accuracy: 0.7733\n",
            "Epoch 59/100\n",
            "1768/1768 [==============================] - 3s 2ms/step - loss: 0.4684 - accuracy: 0.7743\n",
            "Epoch 60/100\n",
            "1768/1768 [==============================] - 3s 2ms/step - loss: 0.4671 - accuracy: 0.7744\n",
            "Epoch 61/100\n",
            "1768/1768 [==============================] - 4s 2ms/step - loss: 0.4681 - accuracy: 0.7749\n",
            "Epoch 62/100\n",
            "1768/1768 [==============================] - 4s 2ms/step - loss: 0.4671 - accuracy: 0.7743\n",
            "Epoch 63/100\n",
            "1768/1768 [==============================] - 3s 2ms/step - loss: 0.4653 - accuracy: 0.7750\n",
            "Epoch 64/100\n",
            "1768/1768 [==============================] - 3s 2ms/step - loss: 0.4647 - accuracy: 0.7759\n",
            "Epoch 65/100\n",
            "1768/1768 [==============================] - 4s 2ms/step - loss: 0.4642 - accuracy: 0.7754\n",
            "Epoch 66/100\n",
            "1768/1768 [==============================] - 3s 2ms/step - loss: 0.4632 - accuracy: 0.7776\n",
            "Epoch 67/100\n",
            "1768/1768 [==============================] - 3s 2ms/step - loss: 0.4624 - accuracy: 0.7771\n",
            "Epoch 68/100\n",
            "1768/1768 [==============================] - 4s 2ms/step - loss: 0.4619 - accuracy: 0.7788\n",
            "Epoch 69/100\n",
            "1768/1768 [==============================] - 4s 2ms/step - loss: 0.4611 - accuracy: 0.7781\n",
            "Epoch 70/100\n",
            "1768/1768 [==============================] - 3s 2ms/step - loss: 0.4605 - accuracy: 0.7782\n",
            "Epoch 71/100\n",
            "1768/1768 [==============================] - 3s 2ms/step - loss: 0.4600 - accuracy: 0.7775\n",
            "Epoch 72/100\n",
            "1768/1768 [==============================] - 4s 2ms/step - loss: 0.4601 - accuracy: 0.7783\n",
            "Epoch 73/100\n",
            "1768/1768 [==============================] - 3s 2ms/step - loss: 0.4605 - accuracy: 0.7784\n",
            "Epoch 74/100\n",
            "1768/1768 [==============================] - 3s 2ms/step - loss: 0.4595 - accuracy: 0.7799\n",
            "Epoch 75/100\n",
            "1768/1768 [==============================] - 4s 2ms/step - loss: 0.4579 - accuracy: 0.7794\n",
            "Epoch 76/100\n",
            "1768/1768 [==============================] - 4s 2ms/step - loss: 0.4589 - accuracy: 0.7793\n",
            "Epoch 77/100\n",
            "1768/1768 [==============================] - 3s 2ms/step - loss: 0.4567 - accuracy: 0.7810\n",
            "Epoch 78/100\n",
            "1768/1768 [==============================] - 6s 3ms/step - loss: 0.4557 - accuracy: 0.7816\n",
            "Epoch 79/100\n",
            "1768/1768 [==============================] - 7s 4ms/step - loss: 0.4557 - accuracy: 0.7822\n",
            "Epoch 80/100\n",
            "1768/1768 [==============================] - 7s 4ms/step - loss: 0.4563 - accuracy: 0.7805\n",
            "Epoch 81/100\n",
            "1768/1768 [==============================] - 7s 4ms/step - loss: 0.4556 - accuracy: 0.7813\n",
            "Epoch 82/100\n",
            "1768/1768 [==============================] - 9s 5ms/step - loss: 0.4549 - accuracy: 0.7826\n",
            "Epoch 83/100\n",
            "1768/1768 [==============================] - 4s 2ms/step - loss: 0.4540 - accuracy: 0.7820\n",
            "Epoch 84/100\n",
            "1768/1768 [==============================] - 3s 2ms/step - loss: 0.4547 - accuracy: 0.7824\n",
            "Epoch 85/100\n",
            "1768/1768 [==============================] - 4s 2ms/step - loss: 0.4526 - accuracy: 0.7845\n",
            "Epoch 86/100\n",
            "1768/1768 [==============================] - 3s 2ms/step - loss: 0.4529 - accuracy: 0.7828\n",
            "Epoch 87/100\n",
            "1768/1768 [==============================] - 3s 2ms/step - loss: 0.4519 - accuracy: 0.7838\n",
            "Epoch 88/100\n",
            "1768/1768 [==============================] - 4s 2ms/step - loss: 0.4509 - accuracy: 0.7833\n",
            "Epoch 89/100\n",
            "1768/1768 [==============================] - 4s 2ms/step - loss: 0.4533 - accuracy: 0.7822\n",
            "Epoch 90/100\n",
            "1768/1768 [==============================] - 3s 2ms/step - loss: 0.4507 - accuracy: 0.7851\n",
            "Epoch 91/100\n",
            "1768/1768 [==============================] - 3s 2ms/step - loss: 0.4509 - accuracy: 0.7847\n",
            "Epoch 92/100\n",
            "1768/1768 [==============================] - 4s 2ms/step - loss: 0.4497 - accuracy: 0.7844\n",
            "Epoch 93/100\n",
            "1768/1768 [==============================] - 3s 2ms/step - loss: 0.4485 - accuracy: 0.7860\n",
            "Epoch 94/100\n",
            "1768/1768 [==============================] - 3s 2ms/step - loss: 0.4483 - accuracy: 0.7856\n",
            "Epoch 95/100\n",
            "1768/1768 [==============================] - 4s 2ms/step - loss: 0.4476 - accuracy: 0.7855\n",
            "Epoch 96/100\n",
            "1768/1768 [==============================] - 4s 2ms/step - loss: 0.4480 - accuracy: 0.7863\n",
            "Epoch 97/100\n",
            "1768/1768 [==============================] - 3s 2ms/step - loss: 0.4463 - accuracy: 0.7871\n",
            "Epoch 98/100\n",
            "1768/1768 [==============================] - 3s 2ms/step - loss: 0.4460 - accuracy: 0.7863\n",
            "Epoch 99/100\n",
            "1768/1768 [==============================] - 4s 2ms/step - loss: 0.4466 - accuracy: 0.7855\n",
            "Epoch 100/100\n",
            "1768/1768 [==============================] - 3s 2ms/step - loss: 0.4472 - accuracy: 0.7869\n"
          ]
        }
      ],
      "source": [
        "#Setting random seed\n",
        "tf.random.set_seed(42)\n",
        "\n",
        "#Create the model\n",
        "model_2 = tf.keras.Sequential([\n",
        "    tf.keras.layers.Dense(100),\n",
        "    tf.keras.layers.Dense(100,activation='relu'),\n",
        "    tf.keras.layers.Dense(100,activation='relu'),\n",
        "    tf.keras.layers.Dense(2,activation='softmax')\n",
        "])\n",
        "\n",
        "#Compile the Model\n",
        "model_2.compile(\n",
        "    loss='sparse_categorical_crossentropy', \n",
        "    optimizer=tf.keras.optimizers.Adam(lr=0.001), \n",
        "    metrics=['accuracy']\n",
        ")\n",
        "\n",
        "#Fit the Model\n",
        "history_2=model_2.fit(X_train_ct,Y_train,epochs=100)"
      ]
    },
    {
      "cell_type": "code",
      "execution_count": null,
      "metadata": {
        "colab": {
          "base_uri": "https://localhost:8080/"
        },
        "id": "-YMQceY1DSZZ",
        "outputId": "c105e6c0-660c-44c0-96ab-63f2c7bf25e4"
      },
      "outputs": [
        {
          "output_type": "stream",
          "name": "stdout",
          "text": [
            "442/442 [==============================] - 1s 1ms/step\n"
          ]
        },
        {
          "output_type": "execute_result",
          "data": {
            "text/plain": [
              "<tf.Tensor: shape=(2, 2), dtype=int32, numpy=\n",
              "array([[5078, 1992],\n",
              "       [1790, 5279]], dtype=int32)>"
            ]
          },
          "metadata": {},
          "execution_count": 51
        }
      ],
      "source": [
        "Y_pred1=model_2.predict(X_test_ct)\n",
        "y_preds1 = Y_pred1.argmax(axis=1)\n",
        "tf.math.confusion_matrix(y_test,y_preds1)"
      ]
    },
    {
      "cell_type": "code",
      "execution_count": null,
      "metadata": {
        "id": "KXL54YCVJHmT"
      },
      "outputs": [],
      "source": [
        "import xgboost as xgb"
      ]
    },
    {
      "cell_type": "code",
      "execution_count": null,
      "metadata": {
        "id": "3vtLswgBzK_8"
      },
      "outputs": [],
      "source": [
        "param_grid = {\n",
        "    \"max_depth\": [3, 4, 5, 7],\n",
        "    \"learning_rate\": [0.1, 0.01, 0.05],\n",
        "    \"gamma\": [0, 0.25, 1],\n",
        "    \"reg_lambda\": [0, 1, 10],\n",
        "    \"scale_pos_weight\": [1, 3, 5],\n",
        "    \"subsample\": [0.8],\n",
        "    \"colsample_bytree\": [0.5],\n",
        "}"
      ]
    },
    {
      "cell_type": "code",
      "execution_count": null,
      "metadata": {
        "colab": {
          "base_uri": "https://localhost:8080/",
          "height": 135
        },
        "id": "7E7rs8d1yWMx",
        "outputId": "ca054bc1-9e3e-4e14-ffec-9758dbaa81ad"
      },
      "outputs": [
        {
          "output_type": "stream",
          "name": "stdout",
          "text": [
            "Fitting 3 folds for each of 20 candidates, totalling 60 fits\n"
          ]
        },
        {
          "output_type": "execute_result",
          "data": {
            "text/plain": [
              "RandomizedSearchCV(cv=3,\n",
              "                   estimator=XGBClassifier(base_score=None, booster=None,\n",
              "                                           callbacks=None,\n",
              "                                           colsample_bylevel=None,\n",
              "                                           colsample_bynode=None,\n",
              "                                           colsample_bytree=0.5,\n",
              "                                           early_stopping_rounds=None,\n",
              "                                           enable_categorical=False,\n",
              "                                           eval_metric=None, feature_types=None,\n",
              "                                           gamma=1, gpu_id=None,\n",
              "                                           grow_policy=None,\n",
              "                                           importance_type=None,\n",
              "                                           interaction_constraints=None,\n",
              "                                           learning_rate=0.0...\n",
              "                                           monotone_constraints=None,\n",
              "                                           n_estimators=100, n_jobs=None,\n",
              "                                           num_parallel_tree=None,\n",
              "                                           predictor=None, random_state=None, ...),\n",
              "                   n_iter=20, n_jobs=-1,\n",
              "                   param_distributions={'colsample_bytree': [0.5],\n",
              "                                        'gamma': [0, 0.25, 1],\n",
              "                                        'learning_rate': [0.1, 0.01, 0.05],\n",
              "                                        'max_depth': [3, 4, 5, 7],\n",
              "                                        'reg_lambda': [0, 1, 10],\n",
              "                                        'scale_pos_weight': [1, 3, 5],\n",
              "                                        'subsample': [0.8]},\n",
              "                   scoring='roc_auc', verbose=2)"
            ],
            "text/html": [
              "<style>#sk-container-id-2 {color: black;background-color: white;}#sk-container-id-2 pre{padding: 0;}#sk-container-id-2 div.sk-toggleable {background-color: white;}#sk-container-id-2 label.sk-toggleable__label {cursor: pointer;display: block;width: 100%;margin-bottom: 0;padding: 0.3em;box-sizing: border-box;text-align: center;}#sk-container-id-2 label.sk-toggleable__label-arrow:before {content: \"▸\";float: left;margin-right: 0.25em;color: #696969;}#sk-container-id-2 label.sk-toggleable__label-arrow:hover:before {color: black;}#sk-container-id-2 div.sk-estimator:hover label.sk-toggleable__label-arrow:before {color: black;}#sk-container-id-2 div.sk-toggleable__content {max-height: 0;max-width: 0;overflow: hidden;text-align: left;background-color: #f0f8ff;}#sk-container-id-2 div.sk-toggleable__content pre {margin: 0.2em;color: black;border-radius: 0.25em;background-color: #f0f8ff;}#sk-container-id-2 input.sk-toggleable__control:checked~div.sk-toggleable__content {max-height: 200px;max-width: 100%;overflow: auto;}#sk-container-id-2 input.sk-toggleable__control:checked~label.sk-toggleable__label-arrow:before {content: \"▾\";}#sk-container-id-2 div.sk-estimator input.sk-toggleable__control:checked~label.sk-toggleable__label {background-color: #d4ebff;}#sk-container-id-2 div.sk-label input.sk-toggleable__control:checked~label.sk-toggleable__label {background-color: #d4ebff;}#sk-container-id-2 input.sk-hidden--visually {border: 0;clip: rect(1px 1px 1px 1px);clip: rect(1px, 1px, 1px, 1px);height: 1px;margin: -1px;overflow: hidden;padding: 0;position: absolute;width: 1px;}#sk-container-id-2 div.sk-estimator {font-family: monospace;background-color: #f0f8ff;border: 1px dotted black;border-radius: 0.25em;box-sizing: border-box;margin-bottom: 0.5em;}#sk-container-id-2 div.sk-estimator:hover {background-color: #d4ebff;}#sk-container-id-2 div.sk-parallel-item::after {content: \"\";width: 100%;border-bottom: 1px solid gray;flex-grow: 1;}#sk-container-id-2 div.sk-label:hover label.sk-toggleable__label {background-color: #d4ebff;}#sk-container-id-2 div.sk-serial::before {content: \"\";position: absolute;border-left: 1px solid gray;box-sizing: border-box;top: 0;bottom: 0;left: 50%;z-index: 0;}#sk-container-id-2 div.sk-serial {display: flex;flex-direction: column;align-items: center;background-color: white;padding-right: 0.2em;padding-left: 0.2em;position: relative;}#sk-container-id-2 div.sk-item {position: relative;z-index: 1;}#sk-container-id-2 div.sk-parallel {display: flex;align-items: stretch;justify-content: center;background-color: white;position: relative;}#sk-container-id-2 div.sk-item::before, #sk-container-id-2 div.sk-parallel-item::before {content: \"\";position: absolute;border-left: 1px solid gray;box-sizing: border-box;top: 0;bottom: 0;left: 50%;z-index: -1;}#sk-container-id-2 div.sk-parallel-item {display: flex;flex-direction: column;z-index: 1;position: relative;background-color: white;}#sk-container-id-2 div.sk-parallel-item:first-child::after {align-self: flex-end;width: 50%;}#sk-container-id-2 div.sk-parallel-item:last-child::after {align-self: flex-start;width: 50%;}#sk-container-id-2 div.sk-parallel-item:only-child::after {width: 0;}#sk-container-id-2 div.sk-dashed-wrapped {border: 1px dashed gray;margin: 0 0.4em 0.5em 0.4em;box-sizing: border-box;padding-bottom: 0.4em;background-color: white;}#sk-container-id-2 div.sk-label label {font-family: monospace;font-weight: bold;display: inline-block;line-height: 1.2em;}#sk-container-id-2 div.sk-label-container {text-align: center;}#sk-container-id-2 div.sk-container {/* jupyter's `normalize.less` sets `[hidden] { display: none; }` but bootstrap.min.css set `[hidden] { display: none !important; }` so we also need the `!important` here to be able to override the default hidden behavior on the sphinx rendered scikit-learn.org. See: https://github.com/scikit-learn/scikit-learn/issues/21755 */display: inline-block !important;position: relative;}#sk-container-id-2 div.sk-text-repr-fallback {display: none;}</style><div id=\"sk-container-id-2\" class=\"sk-top-container\"><div class=\"sk-text-repr-fallback\"><pre>RandomizedSearchCV(cv=3,\n",
              "                   estimator=XGBClassifier(base_score=None, booster=None,\n",
              "                                           callbacks=None,\n",
              "                                           colsample_bylevel=None,\n",
              "                                           colsample_bynode=None,\n",
              "                                           colsample_bytree=0.5,\n",
              "                                           early_stopping_rounds=None,\n",
              "                                           enable_categorical=False,\n",
              "                                           eval_metric=None, feature_types=None,\n",
              "                                           gamma=1, gpu_id=None,\n",
              "                                           grow_policy=None,\n",
              "                                           importance_type=None,\n",
              "                                           interaction_constraints=None,\n",
              "                                           learning_rate=0.0...\n",
              "                                           monotone_constraints=None,\n",
              "                                           n_estimators=100, n_jobs=None,\n",
              "                                           num_parallel_tree=None,\n",
              "                                           predictor=None, random_state=None, ...),\n",
              "                   n_iter=20, n_jobs=-1,\n",
              "                   param_distributions={&#x27;colsample_bytree&#x27;: [0.5],\n",
              "                                        &#x27;gamma&#x27;: [0, 0.25, 1],\n",
              "                                        &#x27;learning_rate&#x27;: [0.1, 0.01, 0.05],\n",
              "                                        &#x27;max_depth&#x27;: [3, 4, 5, 7],\n",
              "                                        &#x27;reg_lambda&#x27;: [0, 1, 10],\n",
              "                                        &#x27;scale_pos_weight&#x27;: [1, 3, 5],\n",
              "                                        &#x27;subsample&#x27;: [0.8]},\n",
              "                   scoring=&#x27;roc_auc&#x27;, verbose=2)</pre><b>In a Jupyter environment, please rerun this cell to show the HTML representation or trust the notebook. <br />On GitHub, the HTML representation is unable to render, please try loading this page with nbviewer.org.</b></div><div class=\"sk-container\" hidden><div class=\"sk-item sk-dashed-wrapped\"><div class=\"sk-label-container\"><div class=\"sk-label sk-toggleable\"><input class=\"sk-toggleable__control sk-hidden--visually\" id=\"sk-estimator-id-6\" type=\"checkbox\" ><label for=\"sk-estimator-id-6\" class=\"sk-toggleable__label sk-toggleable__label-arrow\">RandomizedSearchCV</label><div class=\"sk-toggleable__content\"><pre>RandomizedSearchCV(cv=3,\n",
              "                   estimator=XGBClassifier(base_score=None, booster=None,\n",
              "                                           callbacks=None,\n",
              "                                           colsample_bylevel=None,\n",
              "                                           colsample_bynode=None,\n",
              "                                           colsample_bytree=0.5,\n",
              "                                           early_stopping_rounds=None,\n",
              "                                           enable_categorical=False,\n",
              "                                           eval_metric=None, feature_types=None,\n",
              "                                           gamma=1, gpu_id=None,\n",
              "                                           grow_policy=None,\n",
              "                                           importance_type=None,\n",
              "                                           interaction_constraints=None,\n",
              "                                           learning_rate=0.0...\n",
              "                                           monotone_constraints=None,\n",
              "                                           n_estimators=100, n_jobs=None,\n",
              "                                           num_parallel_tree=None,\n",
              "                                           predictor=None, random_state=None, ...),\n",
              "                   n_iter=20, n_jobs=-1,\n",
              "                   param_distributions={&#x27;colsample_bytree&#x27;: [0.5],\n",
              "                                        &#x27;gamma&#x27;: [0, 0.25, 1],\n",
              "                                        &#x27;learning_rate&#x27;: [0.1, 0.01, 0.05],\n",
              "                                        &#x27;max_depth&#x27;: [3, 4, 5, 7],\n",
              "                                        &#x27;reg_lambda&#x27;: [0, 1, 10],\n",
              "                                        &#x27;scale_pos_weight&#x27;: [1, 3, 5],\n",
              "                                        &#x27;subsample&#x27;: [0.8]},\n",
              "                   scoring=&#x27;roc_auc&#x27;, verbose=2)</pre></div></div></div><div class=\"sk-parallel\"><div class=\"sk-parallel-item\"><div class=\"sk-item\"><div class=\"sk-label-container\"><div class=\"sk-label sk-toggleable\"><input class=\"sk-toggleable__control sk-hidden--visually\" id=\"sk-estimator-id-7\" type=\"checkbox\" ><label for=\"sk-estimator-id-7\" class=\"sk-toggleable__label sk-toggleable__label-arrow\">estimator: XGBClassifier</label><div class=\"sk-toggleable__content\"><pre>XGBClassifier(base_score=None, booster=None, callbacks=None,\n",
              "              colsample_bylevel=None, colsample_bynode=None,\n",
              "              colsample_bytree=0.5, early_stopping_rounds=None,\n",
              "              enable_categorical=False, eval_metric=None, feature_types=None,\n",
              "              gamma=1, gpu_id=None, grow_policy=None, importance_type=None,\n",
              "              interaction_constraints=None, learning_rate=0.01, max_bin=None,\n",
              "              max_cat_threshold=None, max_cat_to_onehot=None,\n",
              "              max_delta_step=None, max_depth=5, max_leaves=None,\n",
              "              min_child_weight=None, missing=nan, monotone_constraints=None,\n",
              "              n_estimators=100, n_jobs=None, num_parallel_tree=None,\n",
              "              predictor=None, random_state=None, ...)</pre></div></div></div><div class=\"sk-serial\"><div class=\"sk-item\"><div class=\"sk-estimator sk-toggleable\"><input class=\"sk-toggleable__control sk-hidden--visually\" id=\"sk-estimator-id-8\" type=\"checkbox\" ><label for=\"sk-estimator-id-8\" class=\"sk-toggleable__label sk-toggleable__label-arrow\">XGBClassifier</label><div class=\"sk-toggleable__content\"><pre>XGBClassifier(base_score=None, booster=None, callbacks=None,\n",
              "              colsample_bylevel=None, colsample_bynode=None,\n",
              "              colsample_bytree=0.5, early_stopping_rounds=None,\n",
              "              enable_categorical=False, eval_metric=None, feature_types=None,\n",
              "              gamma=1, gpu_id=None, grow_policy=None, importance_type=None,\n",
              "              interaction_constraints=None, learning_rate=0.01, max_bin=None,\n",
              "              max_cat_threshold=None, max_cat_to_onehot=None,\n",
              "              max_delta_step=None, max_depth=5, max_leaves=None,\n",
              "              min_child_weight=None, missing=nan, monotone_constraints=None,\n",
              "              n_estimators=100, n_jobs=None, num_parallel_tree=None,\n",
              "              predictor=None, random_state=None, ...)</pre></div></div></div></div></div></div></div></div></div></div>"
            ]
          },
          "metadata": {},
          "execution_count": 54
        }
      ],
      "source": [
        "from sklearn.model_selection import RandomizedSearchCV\n",
        "\n",
        "# Init classifier\n",
        "xgb_cl = xgb.XGBClassifier(subsample= 0.8,\n",
        " scale_pos_weight= 5,\n",
        " reg_lambda= 1,\n",
        " max_depth= 5,\n",
        " learning_rate= 0.01,\n",
        " gamma= 1,\n",
        " colsample_bytree= 0.5)\n",
        "\n",
        "# Init Grid Search\n",
        "grid_cv = RandomizedSearchCV(xgb_cl, param_grid, n_jobs=-1, cv=3, scoring=\"roc_auc\",verbose=2,n_iter=20)\n",
        "\n",
        "# Fit\n",
        "grid_cv.fit(X_train_ct, Y_train)"
      ]
    },
    {
      "cell_type": "code",
      "execution_count": null,
      "metadata": {
        "colab": {
          "base_uri": "https://localhost:8080/"
        },
        "id": "z3Pyhr1-TC9D",
        "outputId": "0cd26bc9-3f5f-4ad1-c92e-b13ed9e57ec4"
      },
      "outputs": [
        {
          "output_type": "execute_result",
          "data": {
            "text/plain": [
              "{'subsample': 0.8,\n",
              " 'scale_pos_weight': 1,\n",
              " 'reg_lambda': 10,\n",
              " 'max_depth': 4,\n",
              " 'learning_rate': 0.1,\n",
              " 'gamma': 0,\n",
              " 'colsample_bytree': 0.5}"
            ]
          },
          "metadata": {},
          "execution_count": 55
        }
      ],
      "source": [
        "grid_cv.best_params_"
      ]
    },
    {
      "cell_type": "code",
      "execution_count": null,
      "metadata": {
        "id": "lCXVL6FHydCm"
      },
      "outputs": [],
      "source": [
        "from sklearn.metrics import accuracy_score"
      ]
    },
    {
      "cell_type": "code",
      "execution_count": null,
      "metadata": {
        "id": "9t5MBI50Tv38"
      },
      "outputs": [],
      "source": [
        "xgb_cl = xgb.XGBClassifier(subsample= 0.8,\n",
        " scale_pos_weight= 5,\n",
        " reg_lambda= 1,\n",
        " max_depth= 5,\n",
        " learning_rate= 0.01,\n",
        " gamma= 1,\n",
        " colsample_bytree= 0.5)"
      ]
    },
    {
      "cell_type": "code",
      "execution_count": null,
      "metadata": {
        "id": "ualIGsT2I-ta"
      },
      "outputs": [],
      "source": [
        "xgb_cl.fit(X_train_ct,Y_train)\n",
        "Y_preds = xgb_cl.predict(X_test_ct)"
      ]
    },
    {
      "cell_type": "code",
      "execution_count": null,
      "metadata": {
        "colab": {
          "base_uri": "https://localhost:8080/"
        },
        "id": "J0EnOPU8JHpv",
        "outputId": "3b30de60-e943-42d8-d3d7-c9d3bcb6a8f2"
      },
      "outputs": [
        {
          "output_type": "execute_result",
          "data": {
            "text/plain": [
              "array([1, 1, 1, ..., 1, 1, 0])"
            ]
          },
          "metadata": {},
          "execution_count": 59
        }
      ],
      "source": [
        "Y_preds"
      ]
    },
    {
      "cell_type": "code",
      "execution_count": null,
      "metadata": {
        "colab": {
          "base_uri": "https://localhost:8080/"
        },
        "id": "e8mJOQcEJMRc",
        "outputId": "4089cfb9-6a51-49b8-83a6-b736cfaed86c"
      },
      "outputs": [
        {
          "output_type": "execute_result",
          "data": {
            "text/plain": [
              "0.6286158851403918"
            ]
          },
          "metadata": {},
          "execution_count": 60
        }
      ],
      "source": [
        "accuracy_score(y_test,Y_preds)"
      ]
    },
    {
      "cell_type": "code",
      "execution_count": null,
      "metadata": {
        "colab": {
          "base_uri": "https://localhost:8080/"
        },
        "id": "l1M5DUzjUFLl",
        "outputId": "b0adbd02-21e8-42fe-b6e2-5c50d6fab551"
      },
      "outputs": [
        {
          "output_type": "execute_result",
          "data": {
            "text/plain": [
              "array([[1916, 5154],\n",
              "       [  97, 6972]])"
            ]
          },
          "metadata": {},
          "execution_count": 61
        }
      ],
      "source": [
        "from sklearn.metrics import confusion_matrix\n",
        "confusion_matrix(y_test,Y_preds)"
      ]
    },
    {
      "cell_type": "code",
      "execution_count": null,
      "metadata": {
        "colab": {
          "base_uri": "https://localhost:8080/",
          "height": 1000
        },
        "id": "F4xVAzY4JVfg",
        "outputId": "8c6dde9c-08b6-499b-aa0b-596193ce6d4d"
      },
      "outputs": [
        {
          "output_type": "stream",
          "name": "stdout",
          "text": [
            "Fitting 5 folds for each of 50 candidates, totalling 250 fits\n",
            "[CV] END max_depth=3, max_features=log2, max_samples=2000, min_samples_leaf=5, min_samples_split=4, n_estimators=50; total time=   0.5s\n",
            "[CV] END max_depth=3, max_features=log2, max_samples=2000, min_samples_leaf=5, min_samples_split=4, n_estimators=50; total time=   0.4s\n",
            "[CV] END max_depth=3, max_features=log2, max_samples=2000, min_samples_leaf=5, min_samples_split=4, n_estimators=50; total time=   0.4s\n",
            "[CV] END max_depth=3, max_features=log2, max_samples=2000, min_samples_leaf=5, min_samples_split=4, n_estimators=50; total time=   0.4s\n",
            "[CV] END max_depth=3, max_features=log2, max_samples=2000, min_samples_leaf=5, min_samples_split=4, n_estimators=50; total time=   0.4s\n",
            "[CV] END max_depth=3, max_features=sqrt, max_samples=5000, min_samples_leaf=3, min_samples_split=8, n_estimators=30; total time=   0.3s\n",
            "[CV] END max_depth=3, max_features=sqrt, max_samples=5000, min_samples_leaf=3, min_samples_split=8, n_estimators=30; total time=   0.3s\n",
            "[CV] END max_depth=3, max_features=sqrt, max_samples=5000, min_samples_leaf=3, min_samples_split=8, n_estimators=30; total time=   0.3s\n",
            "[CV] END max_depth=3, max_features=sqrt, max_samples=5000, min_samples_leaf=3, min_samples_split=8, n_estimators=30; total time=   0.4s\n",
            "[CV] END max_depth=3, max_features=sqrt, max_samples=5000, min_samples_leaf=3, min_samples_split=8, n_estimators=30; total time=   0.3s\n",
            "[CV] END max_depth=10, max_features=sqrt, max_samples=2000, min_samples_leaf=9, min_samples_split=6, n_estimators=80; total time=   0.7s\n",
            "[CV] END max_depth=10, max_features=sqrt, max_samples=2000, min_samples_leaf=9, min_samples_split=6, n_estimators=80; total time=   0.7s\n",
            "[CV] END max_depth=10, max_features=sqrt, max_samples=2000, min_samples_leaf=9, min_samples_split=6, n_estimators=80; total time=   0.7s\n",
            "[CV] END max_depth=10, max_features=sqrt, max_samples=2000, min_samples_leaf=9, min_samples_split=6, n_estimators=80; total time=   0.7s\n",
            "[CV] END max_depth=10, max_features=sqrt, max_samples=2000, min_samples_leaf=9, min_samples_split=6, n_estimators=80; total time=   0.7s\n",
            "[CV] END max_depth=3, max_features=log2, max_samples=2000, min_samples_leaf=7, min_samples_split=4, n_estimators=40; total time=   0.4s\n",
            "[CV] END max_depth=3, max_features=log2, max_samples=2000, min_samples_leaf=7, min_samples_split=4, n_estimators=40; total time=   0.4s\n",
            "[CV] END max_depth=3, max_features=log2, max_samples=2000, min_samples_leaf=7, min_samples_split=4, n_estimators=40; total time=   0.4s\n",
            "[CV] END max_depth=3, max_features=log2, max_samples=2000, min_samples_leaf=7, min_samples_split=4, n_estimators=40; total time=   0.5s\n",
            "[CV] END max_depth=3, max_features=log2, max_samples=2000, min_samples_leaf=7, min_samples_split=4, n_estimators=40; total time=   0.6s\n",
            "[CV] END max_depth=5, max_features=sqrt, max_samples=2000, min_samples_leaf=7, min_samples_split=6, n_estimators=20; total time=   0.4s\n",
            "[CV] END max_depth=5, max_features=sqrt, max_samples=2000, min_samples_leaf=7, min_samples_split=6, n_estimators=20; total time=   0.4s\n",
            "[CV] END max_depth=5, max_features=sqrt, max_samples=2000, min_samples_leaf=7, min_samples_split=6, n_estimators=20; total time=   0.4s\n",
            "[CV] END max_depth=5, max_features=sqrt, max_samples=2000, min_samples_leaf=7, min_samples_split=6, n_estimators=20; total time=   0.4s\n",
            "[CV] END max_depth=5, max_features=sqrt, max_samples=2000, min_samples_leaf=7, min_samples_split=6, n_estimators=20; total time=   0.2s\n",
            "[CV] END max_depth=10, max_features=1, max_samples=10000, min_samples_leaf=1, min_samples_split=4, n_estimators=80; total time=   0.8s\n",
            "[CV] END max_depth=10, max_features=1, max_samples=10000, min_samples_leaf=1, min_samples_split=4, n_estimators=80; total time=   0.8s\n",
            "[CV] END max_depth=10, max_features=1, max_samples=10000, min_samples_leaf=1, min_samples_split=4, n_estimators=80; total time=   0.8s\n",
            "[CV] END max_depth=10, max_features=1, max_samples=10000, min_samples_leaf=1, min_samples_split=4, n_estimators=80; total time=   0.8s\n",
            "[CV] END max_depth=10, max_features=1, max_samples=10000, min_samples_leaf=1, min_samples_split=4, n_estimators=80; total time=   0.8s\n",
            "[CV] END max_depth=5, max_features=0.5, max_samples=5000, min_samples_leaf=1, min_samples_split=2, n_estimators=30; total time=   0.3s\n",
            "[CV] END max_depth=5, max_features=0.5, max_samples=5000, min_samples_leaf=1, min_samples_split=2, n_estimators=30; total time=   0.4s\n",
            "[CV] END max_depth=5, max_features=0.5, max_samples=5000, min_samples_leaf=1, min_samples_split=2, n_estimators=30; total time=   0.4s\n",
            "[CV] END max_depth=5, max_features=0.5, max_samples=5000, min_samples_leaf=1, min_samples_split=2, n_estimators=30; total time=   0.3s\n",
            "[CV] END max_depth=5, max_features=0.5, max_samples=5000, min_samples_leaf=1, min_samples_split=2, n_estimators=30; total time=   0.4s\n",
            "[CV] END max_depth=5, max_features=log2, max_samples=10000, min_samples_leaf=7, min_samples_split=2, n_estimators=80; total time=   0.8s\n",
            "[CV] END max_depth=5, max_features=log2, max_samples=10000, min_samples_leaf=7, min_samples_split=2, n_estimators=80; total time=   0.8s\n",
            "[CV] END max_depth=5, max_features=log2, max_samples=10000, min_samples_leaf=7, min_samples_split=2, n_estimators=80; total time=   0.7s\n",
            "[CV] END max_depth=5, max_features=log2, max_samples=10000, min_samples_leaf=7, min_samples_split=2, n_estimators=80; total time=   0.8s\n",
            "[CV] END max_depth=5, max_features=log2, max_samples=10000, min_samples_leaf=7, min_samples_split=2, n_estimators=80; total time=   0.8s\n",
            "[CV] END max_depth=10, max_features=0.5, max_samples=2000, min_samples_leaf=7, min_samples_split=2, n_estimators=90; total time=   1.2s\n",
            "[CV] END max_depth=10, max_features=0.5, max_samples=2000, min_samples_leaf=7, min_samples_split=2, n_estimators=90; total time=   1.5s\n",
            "[CV] END max_depth=10, max_features=0.5, max_samples=2000, min_samples_leaf=7, min_samples_split=2, n_estimators=90; total time=   1.1s\n",
            "[CV] END max_depth=10, max_features=0.5, max_samples=2000, min_samples_leaf=7, min_samples_split=2, n_estimators=90; total time=   0.9s\n",
            "[CV] END max_depth=10, max_features=0.5, max_samples=2000, min_samples_leaf=7, min_samples_split=2, n_estimators=90; total time=   0.9s\n",
            "[CV] END max_depth=3, max_features=0.5, max_samples=2000, min_samples_leaf=3, min_samples_split=8, n_estimators=50; total time=   0.4s\n",
            "[CV] END max_depth=3, max_features=0.5, max_samples=2000, min_samples_leaf=3, min_samples_split=8, n_estimators=50; total time=   0.4s\n",
            "[CV] END max_depth=3, max_features=0.5, max_samples=2000, min_samples_leaf=3, min_samples_split=8, n_estimators=50; total time=   0.4s\n",
            "[CV] END max_depth=3, max_features=0.5, max_samples=2000, min_samples_leaf=3, min_samples_split=8, n_estimators=50; total time=   0.3s\n",
            "[CV] END max_depth=3, max_features=0.5, max_samples=2000, min_samples_leaf=3, min_samples_split=8, n_estimators=50; total time=   0.4s\n",
            "[CV] END max_depth=5, max_features=1, max_samples=5000, min_samples_leaf=7, min_samples_split=6, n_estimators=60; total time=   0.5s\n",
            "[CV] END max_depth=5, max_features=1, max_samples=5000, min_samples_leaf=7, min_samples_split=6, n_estimators=60; total time=   0.5s\n",
            "[CV] END max_depth=5, max_features=1, max_samples=5000, min_samples_leaf=7, min_samples_split=6, n_estimators=60; total time=   0.5s\n",
            "[CV] END max_depth=5, max_features=1, max_samples=5000, min_samples_leaf=7, min_samples_split=6, n_estimators=60; total time=   0.5s\n",
            "[CV] END max_depth=5, max_features=1, max_samples=5000, min_samples_leaf=7, min_samples_split=6, n_estimators=60; total time=   0.5s\n",
            "[CV] END max_depth=5, max_features=log2, max_samples=2000, min_samples_leaf=3, min_samples_split=8, n_estimators=70; total time=   0.6s\n",
            "[CV] END max_depth=5, max_features=log2, max_samples=2000, min_samples_leaf=3, min_samples_split=8, n_estimators=70; total time=   0.6s\n",
            "[CV] END max_depth=5, max_features=log2, max_samples=2000, min_samples_leaf=3, min_samples_split=8, n_estimators=70; total time=   0.6s\n",
            "[CV] END max_depth=5, max_features=log2, max_samples=2000, min_samples_leaf=3, min_samples_split=8, n_estimators=70; total time=   0.5s\n",
            "[CV] END max_depth=5, max_features=log2, max_samples=2000, min_samples_leaf=3, min_samples_split=8, n_estimators=70; total time=   0.5s\n",
            "[CV] END max_depth=10, max_features=1, max_samples=10000, min_samples_leaf=5, min_samples_split=2, n_estimators=20; total time=   0.3s\n",
            "[CV] END max_depth=10, max_features=1, max_samples=10000, min_samples_leaf=5, min_samples_split=2, n_estimators=20; total time=   0.3s\n",
            "[CV] END max_depth=10, max_features=1, max_samples=10000, min_samples_leaf=5, min_samples_split=2, n_estimators=20; total time=   0.4s\n",
            "[CV] END max_depth=10, max_features=1, max_samples=10000, min_samples_leaf=5, min_samples_split=2, n_estimators=20; total time=   0.4s\n",
            "[CV] END max_depth=10, max_features=1, max_samples=10000, min_samples_leaf=5, min_samples_split=2, n_estimators=20; total time=   0.5s\n",
            "[CV] END max_depth=5, max_features=0.5, max_samples=2000, min_samples_leaf=7, min_samples_split=8, n_estimators=30; total time=   0.5s\n",
            "[CV] END max_depth=5, max_features=0.5, max_samples=2000, min_samples_leaf=7, min_samples_split=8, n_estimators=30; total time=   0.5s\n",
            "[CV] END max_depth=5, max_features=0.5, max_samples=2000, min_samples_leaf=7, min_samples_split=8, n_estimators=30; total time=   0.4s\n",
            "[CV] END max_depth=5, max_features=0.5, max_samples=2000, min_samples_leaf=7, min_samples_split=8, n_estimators=30; total time=   0.3s\n",
            "[CV] END max_depth=5, max_features=0.5, max_samples=2000, min_samples_leaf=7, min_samples_split=8, n_estimators=30; total time=   0.4s\n",
            "[CV] END max_depth=3, max_features=0.5, max_samples=10000, min_samples_leaf=1, min_samples_split=8, n_estimators=20; total time=   0.3s\n",
            "[CV] END max_depth=3, max_features=0.5, max_samples=10000, min_samples_leaf=1, min_samples_split=8, n_estimators=20; total time=   0.3s\n",
            "[CV] END max_depth=3, max_features=0.5, max_samples=10000, min_samples_leaf=1, min_samples_split=8, n_estimators=20; total time=   0.3s\n",
            "[CV] END max_depth=3, max_features=0.5, max_samples=10000, min_samples_leaf=1, min_samples_split=8, n_estimators=20; total time=   0.3s\n",
            "[CV] END max_depth=3, max_features=0.5, max_samples=10000, min_samples_leaf=1, min_samples_split=8, n_estimators=20; total time=   0.3s\n",
            "[CV] END max_depth=3, max_features=sqrt, max_samples=2000, min_samples_leaf=7, min_samples_split=8, n_estimators=20; total time=   0.2s\n",
            "[CV] END max_depth=3, max_features=sqrt, max_samples=2000, min_samples_leaf=7, min_samples_split=8, n_estimators=20; total time=   0.2s\n",
            "[CV] END max_depth=3, max_features=sqrt, max_samples=2000, min_samples_leaf=7, min_samples_split=8, n_estimators=20; total time=   0.2s\n",
            "[CV] END max_depth=3, max_features=sqrt, max_samples=2000, min_samples_leaf=7, min_samples_split=8, n_estimators=20; total time=   0.2s\n",
            "[CV] END max_depth=3, max_features=sqrt, max_samples=2000, min_samples_leaf=7, min_samples_split=8, n_estimators=20; total time=   0.2s\n",
            "[CV] END max_depth=5, max_features=sqrt, max_samples=5000, min_samples_leaf=7, min_samples_split=4, n_estimators=20; total time=   0.3s\n",
            "[CV] END max_depth=5, max_features=sqrt, max_samples=5000, min_samples_leaf=7, min_samples_split=4, n_estimators=20; total time=   0.3s\n",
            "[CV] END max_depth=5, max_features=sqrt, max_samples=5000, min_samples_leaf=7, min_samples_split=4, n_estimators=20; total time=   0.3s\n",
            "[CV] END max_depth=5, max_features=sqrt, max_samples=5000, min_samples_leaf=7, min_samples_split=4, n_estimators=20; total time=   0.3s\n",
            "[CV] END max_depth=5, max_features=sqrt, max_samples=5000, min_samples_leaf=7, min_samples_split=4, n_estimators=20; total time=   0.3s\n",
            "[CV] END max_depth=5, max_features=1, max_samples=5000, min_samples_leaf=9, min_samples_split=2, n_estimators=40; total time=   0.4s\n",
            "[CV] END max_depth=5, max_features=1, max_samples=5000, min_samples_leaf=9, min_samples_split=2, n_estimators=40; total time=   0.4s\n",
            "[CV] END max_depth=5, max_features=1, max_samples=5000, min_samples_leaf=9, min_samples_split=2, n_estimators=40; total time=   0.4s\n",
            "[CV] END max_depth=5, max_features=1, max_samples=5000, min_samples_leaf=9, min_samples_split=2, n_estimators=40; total time=   0.4s\n",
            "[CV] END max_depth=5, max_features=1, max_samples=5000, min_samples_leaf=9, min_samples_split=2, n_estimators=40; total time=   0.4s\n",
            "[CV] END max_depth=5, max_features=0.5, max_samples=5000, min_samples_leaf=3, min_samples_split=4, n_estimators=30; total time=   0.3s\n",
            "[CV] END max_depth=5, max_features=0.5, max_samples=5000, min_samples_leaf=3, min_samples_split=4, n_estimators=30; total time=   0.4s\n",
            "[CV] END max_depth=5, max_features=0.5, max_samples=5000, min_samples_leaf=3, min_samples_split=4, n_estimators=30; total time=   0.4s\n",
            "[CV] END max_depth=5, max_features=0.5, max_samples=5000, min_samples_leaf=3, min_samples_split=4, n_estimators=30; total time=   0.4s\n",
            "[CV] END max_depth=5, max_features=0.5, max_samples=5000, min_samples_leaf=3, min_samples_split=4, n_estimators=30; total time=   0.4s\n",
            "[CV] END max_depth=None, max_features=sqrt, max_samples=5000, min_samples_leaf=1, min_samples_split=4, n_estimators=20; total time=   0.4s\n",
            "[CV] END max_depth=None, max_features=sqrt, max_samples=5000, min_samples_leaf=1, min_samples_split=4, n_estimators=20; total time=   0.3s\n",
            "[CV] END max_depth=None, max_features=sqrt, max_samples=5000, min_samples_leaf=1, min_samples_split=4, n_estimators=20; total time=   0.3s\n",
            "[CV] END max_depth=None, max_features=sqrt, max_samples=5000, min_samples_leaf=1, min_samples_split=4, n_estimators=20; total time=   0.5s\n",
            "[CV] END max_depth=None, max_features=sqrt, max_samples=5000, min_samples_leaf=1, min_samples_split=4, n_estimators=20; total time=   0.6s\n",
            "[CV] END max_depth=3, max_features=0.5, max_samples=10000, min_samples_leaf=7, min_samples_split=4, n_estimators=70; total time=   1.3s\n",
            "[CV] END max_depth=3, max_features=0.5, max_samples=10000, min_samples_leaf=7, min_samples_split=4, n_estimators=70; total time=   1.1s\n",
            "[CV] END max_depth=3, max_features=0.5, max_samples=10000, min_samples_leaf=7, min_samples_split=4, n_estimators=70; total time=   0.8s\n",
            "[CV] END max_depth=3, max_features=0.5, max_samples=10000, min_samples_leaf=7, min_samples_split=4, n_estimators=70; total time=   0.8s\n",
            "[CV] END max_depth=3, max_features=0.5, max_samples=10000, min_samples_leaf=7, min_samples_split=4, n_estimators=70; total time=   0.8s\n",
            "[CV] END max_depth=3, max_features=log2, max_samples=2000, min_samples_leaf=9, min_samples_split=8, n_estimators=50; total time=   0.4s\n",
            "[CV] END max_depth=3, max_features=log2, max_samples=2000, min_samples_leaf=9, min_samples_split=8, n_estimators=50; total time=   0.4s\n",
            "[CV] END max_depth=3, max_features=log2, max_samples=2000, min_samples_leaf=9, min_samples_split=8, n_estimators=50; total time=   0.4s\n",
            "[CV] END max_depth=3, max_features=log2, max_samples=2000, min_samples_leaf=9, min_samples_split=8, n_estimators=50; total time=   0.4s\n",
            "[CV] END max_depth=3, max_features=log2, max_samples=2000, min_samples_leaf=9, min_samples_split=8, n_estimators=50; total time=   0.3s\n",
            "[CV] END max_depth=10, max_features=sqrt, max_samples=10000, min_samples_leaf=9, min_samples_split=6, n_estimators=60; total time=   0.8s\n",
            "[CV] END max_depth=10, max_features=sqrt, max_samples=10000, min_samples_leaf=9, min_samples_split=6, n_estimators=60; total time=   0.8s\n",
            "[CV] END max_depth=10, max_features=sqrt, max_samples=10000, min_samples_leaf=9, min_samples_split=6, n_estimators=60; total time=   0.8s\n",
            "[CV] END max_depth=10, max_features=sqrt, max_samples=10000, min_samples_leaf=9, min_samples_split=6, n_estimators=60; total time=   0.8s\n",
            "[CV] END max_depth=10, max_features=sqrt, max_samples=10000, min_samples_leaf=9, min_samples_split=6, n_estimators=60; total time=   0.8s\n",
            "[CV] END max_depth=None, max_features=log2, max_samples=2000, min_samples_leaf=9, min_samples_split=2, n_estimators=20; total time=   0.3s\n",
            "[CV] END max_depth=None, max_features=log2, max_samples=2000, min_samples_leaf=9, min_samples_split=2, n_estimators=20; total time=   0.3s\n",
            "[CV] END max_depth=None, max_features=log2, max_samples=2000, min_samples_leaf=9, min_samples_split=2, n_estimators=20; total time=   0.3s\n",
            "[CV] END max_depth=None, max_features=log2, max_samples=2000, min_samples_leaf=9, min_samples_split=2, n_estimators=20; total time=   0.2s\n",
            "[CV] END max_depth=None, max_features=log2, max_samples=2000, min_samples_leaf=9, min_samples_split=2, n_estimators=20; total time=   0.2s\n",
            "[CV] END max_depth=10, max_features=log2, max_samples=2000, min_samples_leaf=5, min_samples_split=8, n_estimators=20; total time=   0.3s\n",
            "[CV] END max_depth=10, max_features=log2, max_samples=2000, min_samples_leaf=5, min_samples_split=8, n_estimators=20; total time=   0.4s\n",
            "[CV] END max_depth=10, max_features=log2, max_samples=2000, min_samples_leaf=5, min_samples_split=8, n_estimators=20; total time=   0.4s\n",
            "[CV] END max_depth=10, max_features=log2, max_samples=2000, min_samples_leaf=5, min_samples_split=8, n_estimators=20; total time=   0.4s\n",
            "[CV] END max_depth=10, max_features=log2, max_samples=2000, min_samples_leaf=5, min_samples_split=8, n_estimators=20; total time=   0.4s\n",
            "[CV] END max_depth=None, max_features=sqrt, max_samples=10000, min_samples_leaf=9, min_samples_split=4, n_estimators=70; total time=   1.5s\n",
            "[CV] END max_depth=None, max_features=sqrt, max_samples=10000, min_samples_leaf=9, min_samples_split=4, n_estimators=70; total time=   1.0s\n",
            "[CV] END max_depth=None, max_features=sqrt, max_samples=10000, min_samples_leaf=9, min_samples_split=4, n_estimators=70; total time=   1.0s\n",
            "[CV] END max_depth=None, max_features=sqrt, max_samples=10000, min_samples_leaf=9, min_samples_split=4, n_estimators=70; total time=   0.9s\n",
            "[CV] END max_depth=None, max_features=sqrt, max_samples=10000, min_samples_leaf=9, min_samples_split=4, n_estimators=70; total time=   1.0s\n",
            "[CV] END max_depth=None, max_features=0.5, max_samples=10000, min_samples_leaf=1, min_samples_split=6, n_estimators=40; total time=   1.0s\n",
            "[CV] END max_depth=None, max_features=0.5, max_samples=10000, min_samples_leaf=1, min_samples_split=6, n_estimators=40; total time=   1.0s\n",
            "[CV] END max_depth=None, max_features=0.5, max_samples=10000, min_samples_leaf=1, min_samples_split=6, n_estimators=40; total time=   1.0s\n",
            "[CV] END max_depth=None, max_features=0.5, max_samples=10000, min_samples_leaf=1, min_samples_split=6, n_estimators=40; total time=   1.0s\n",
            "[CV] END max_depth=None, max_features=0.5, max_samples=10000, min_samples_leaf=1, min_samples_split=6, n_estimators=40; total time=   1.0s\n",
            "[CV] END max_depth=10, max_features=1, max_samples=5000, min_samples_leaf=7, min_samples_split=4, n_estimators=40; total time=   0.4s\n",
            "[CV] END max_depth=10, max_features=1, max_samples=5000, min_samples_leaf=7, min_samples_split=4, n_estimators=40; total time=   0.5s\n",
            "[CV] END max_depth=10, max_features=1, max_samples=5000, min_samples_leaf=7, min_samples_split=4, n_estimators=40; total time=   0.7s\n",
            "[CV] END max_depth=10, max_features=1, max_samples=5000, min_samples_leaf=7, min_samples_split=4, n_estimators=40; total time=   0.7s\n",
            "[CV] END max_depth=10, max_features=1, max_samples=5000, min_samples_leaf=7, min_samples_split=4, n_estimators=40; total time=   0.7s\n",
            "[CV] END max_depth=None, max_features=0.5, max_samples=10000, min_samples_leaf=9, min_samples_split=2, n_estimators=40; total time=   1.2s\n",
            "[CV] END max_depth=None, max_features=0.5, max_samples=10000, min_samples_leaf=9, min_samples_split=2, n_estimators=40; total time=   0.9s\n",
            "[CV] END max_depth=None, max_features=0.5, max_samples=10000, min_samples_leaf=9, min_samples_split=2, n_estimators=40; total time=   0.9s\n",
            "[CV] END max_depth=None, max_features=0.5, max_samples=10000, min_samples_leaf=9, min_samples_split=2, n_estimators=40; total time=   0.9s\n",
            "[CV] END max_depth=None, max_features=0.5, max_samples=10000, min_samples_leaf=9, min_samples_split=2, n_estimators=40; total time=   0.9s\n",
            "[CV] END max_depth=3, max_features=0.5, max_samples=2000, min_samples_leaf=9, min_samples_split=6, n_estimators=60; total time=   0.5s\n",
            "[CV] END max_depth=3, max_features=0.5, max_samples=2000, min_samples_leaf=9, min_samples_split=6, n_estimators=60; total time=   0.5s\n",
            "[CV] END max_depth=3, max_features=0.5, max_samples=2000, min_samples_leaf=9, min_samples_split=6, n_estimators=60; total time=   0.5s\n",
            "[CV] END max_depth=3, max_features=0.5, max_samples=2000, min_samples_leaf=9, min_samples_split=6, n_estimators=60; total time=   0.4s\n",
            "[CV] END max_depth=3, max_features=0.5, max_samples=2000, min_samples_leaf=9, min_samples_split=6, n_estimators=60; total time=   0.5s\n",
            "[CV] END max_depth=5, max_features=sqrt, max_samples=5000, min_samples_leaf=7, min_samples_split=8, n_estimators=70; total time=   0.6s\n",
            "[CV] END max_depth=5, max_features=sqrt, max_samples=5000, min_samples_leaf=7, min_samples_split=8, n_estimators=70; total time=   0.6s\n",
            "[CV] END max_depth=5, max_features=sqrt, max_samples=5000, min_samples_leaf=7, min_samples_split=8, n_estimators=70; total time=   0.6s\n",
            "[CV] END max_depth=5, max_features=sqrt, max_samples=5000, min_samples_leaf=7, min_samples_split=8, n_estimators=70; total time=   0.5s\n",
            "[CV] END max_depth=5, max_features=sqrt, max_samples=5000, min_samples_leaf=7, min_samples_split=8, n_estimators=70; total time=   0.6s\n",
            "[CV] END max_depth=None, max_features=1, max_samples=10000, min_samples_leaf=9, min_samples_split=8, n_estimators=40; total time=   0.5s\n",
            "[CV] END max_depth=None, max_features=1, max_samples=10000, min_samples_leaf=9, min_samples_split=8, n_estimators=40; total time=   0.7s\n",
            "[CV] END max_depth=None, max_features=1, max_samples=10000, min_samples_leaf=9, min_samples_split=8, n_estimators=40; total time=   0.8s\n",
            "[CV] END max_depth=None, max_features=1, max_samples=10000, min_samples_leaf=9, min_samples_split=8, n_estimators=40; total time=   0.8s\n",
            "[CV] END max_depth=None, max_features=1, max_samples=10000, min_samples_leaf=9, min_samples_split=8, n_estimators=40; total time=   0.8s\n",
            "[CV] END max_depth=5, max_features=sqrt, max_samples=2000, min_samples_leaf=9, min_samples_split=4, n_estimators=90; total time=   0.7s\n",
            "[CV] END max_depth=5, max_features=sqrt, max_samples=2000, min_samples_leaf=9, min_samples_split=4, n_estimators=90; total time=   0.7s\n",
            "[CV] END max_depth=5, max_features=sqrt, max_samples=2000, min_samples_leaf=9, min_samples_split=4, n_estimators=90; total time=   0.7s\n",
            "[CV] END max_depth=5, max_features=sqrt, max_samples=2000, min_samples_leaf=9, min_samples_split=4, n_estimators=90; total time=   0.7s\n",
            "[CV] END max_depth=5, max_features=sqrt, max_samples=2000, min_samples_leaf=9, min_samples_split=4, n_estimators=90; total time=   0.7s\n",
            "[CV] END max_depth=None, max_features=log2, max_samples=2000, min_samples_leaf=1, min_samples_split=4, n_estimators=40; total time=   0.5s\n",
            "[CV] END max_depth=None, max_features=log2, max_samples=2000, min_samples_leaf=1, min_samples_split=4, n_estimators=40; total time=   0.4s\n",
            "[CV] END max_depth=None, max_features=log2, max_samples=2000, min_samples_leaf=1, min_samples_split=4, n_estimators=40; total time=   0.5s\n",
            "[CV] END max_depth=None, max_features=log2, max_samples=2000, min_samples_leaf=1, min_samples_split=4, n_estimators=40; total time=   0.4s\n",
            "[CV] END max_depth=None, max_features=log2, max_samples=2000, min_samples_leaf=1, min_samples_split=4, n_estimators=40; total time=   0.5s\n",
            "[CV] END max_depth=None, max_features=1, max_samples=10000, min_samples_leaf=3, min_samples_split=2, n_estimators=30; total time=   0.4s\n",
            "[CV] END max_depth=None, max_features=1, max_samples=10000, min_samples_leaf=3, min_samples_split=2, n_estimators=30; total time=   0.5s\n",
            "[CV] END max_depth=None, max_features=1, max_samples=10000, min_samples_leaf=3, min_samples_split=2, n_estimators=30; total time=   0.3s\n",
            "[CV] END max_depth=None, max_features=1, max_samples=10000, min_samples_leaf=3, min_samples_split=2, n_estimators=30; total time=   0.4s\n",
            "[CV] END max_depth=None, max_features=1, max_samples=10000, min_samples_leaf=3, min_samples_split=2, n_estimators=30; total time=   0.4s\n",
            "[CV] END max_depth=5, max_features=0.5, max_samples=10000, min_samples_leaf=7, min_samples_split=8, n_estimators=80; total time=   1.0s\n",
            "[CV] END max_depth=5, max_features=0.5, max_samples=10000, min_samples_leaf=7, min_samples_split=8, n_estimators=80; total time=   1.1s\n",
            "[CV] END max_depth=5, max_features=0.5, max_samples=10000, min_samples_leaf=7, min_samples_split=8, n_estimators=80; total time=   1.7s\n",
            "[CV] END max_depth=5, max_features=0.5, max_samples=10000, min_samples_leaf=7, min_samples_split=8, n_estimators=80; total time=   1.7s\n",
            "[CV] END max_depth=5, max_features=0.5, max_samples=10000, min_samples_leaf=7, min_samples_split=8, n_estimators=80; total time=   1.0s\n",
            "[CV] END max_depth=3, max_features=sqrt, max_samples=5000, min_samples_leaf=9, min_samples_split=6, n_estimators=70; total time=   0.6s\n",
            "[CV] END max_depth=3, max_features=sqrt, max_samples=5000, min_samples_leaf=9, min_samples_split=6, n_estimators=70; total time=   0.6s\n",
            "[CV] END max_depth=3, max_features=sqrt, max_samples=5000, min_samples_leaf=9, min_samples_split=6, n_estimators=70; total time=   0.5s\n",
            "[CV] END max_depth=3, max_features=sqrt, max_samples=5000, min_samples_leaf=9, min_samples_split=6, n_estimators=70; total time=   0.6s\n",
            "[CV] END max_depth=3, max_features=sqrt, max_samples=5000, min_samples_leaf=9, min_samples_split=6, n_estimators=70; total time=   0.6s\n",
            "[CV] END max_depth=5, max_features=0.5, max_samples=10000, min_samples_leaf=5, min_samples_split=8, n_estimators=40; total time=   0.6s\n",
            "[CV] END max_depth=5, max_features=0.5, max_samples=10000, min_samples_leaf=5, min_samples_split=8, n_estimators=40; total time=   0.6s\n",
            "[CV] END max_depth=5, max_features=0.5, max_samples=10000, min_samples_leaf=5, min_samples_split=8, n_estimators=40; total time=   0.6s\n",
            "[CV] END max_depth=5, max_features=0.5, max_samples=10000, min_samples_leaf=5, min_samples_split=8, n_estimators=40; total time=   0.6s\n",
            "[CV] END max_depth=5, max_features=0.5, max_samples=10000, min_samples_leaf=5, min_samples_split=8, n_estimators=40; total time=   0.6s\n",
            "[CV] END max_depth=10, max_features=log2, max_samples=10000, min_samples_leaf=9, min_samples_split=4, n_estimators=80; total time=   1.0s\n",
            "[CV] END max_depth=10, max_features=log2, max_samples=10000, min_samples_leaf=9, min_samples_split=4, n_estimators=80; total time=   0.9s\n",
            "[CV] END max_depth=10, max_features=log2, max_samples=10000, min_samples_leaf=9, min_samples_split=4, n_estimators=80; total time=   1.0s\n",
            "[CV] END max_depth=10, max_features=log2, max_samples=10000, min_samples_leaf=9, min_samples_split=4, n_estimators=80; total time=   1.7s\n",
            "[CV] END max_depth=10, max_features=log2, max_samples=10000, min_samples_leaf=9, min_samples_split=4, n_estimators=80; total time=   1.4s\n",
            "[CV] END max_depth=5, max_features=0.5, max_samples=10000, min_samples_leaf=9, min_samples_split=8, n_estimators=20; total time=   0.4s\n",
            "[CV] END max_depth=5, max_features=0.5, max_samples=10000, min_samples_leaf=9, min_samples_split=8, n_estimators=20; total time=   0.4s\n",
            "[CV] END max_depth=5, max_features=0.5, max_samples=10000, min_samples_leaf=9, min_samples_split=8, n_estimators=20; total time=   0.4s\n",
            "[CV] END max_depth=5, max_features=0.5, max_samples=10000, min_samples_leaf=9, min_samples_split=8, n_estimators=20; total time=   0.4s\n",
            "[CV] END max_depth=5, max_features=0.5, max_samples=10000, min_samples_leaf=9, min_samples_split=8, n_estimators=20; total time=   0.4s\n",
            "[CV] END max_depth=None, max_features=log2, max_samples=2000, min_samples_leaf=1, min_samples_split=8, n_estimators=30; total time=   0.4s\n",
            "[CV] END max_depth=None, max_features=log2, max_samples=2000, min_samples_leaf=1, min_samples_split=8, n_estimators=30; total time=   0.4s\n",
            "[CV] END max_depth=None, max_features=log2, max_samples=2000, min_samples_leaf=1, min_samples_split=8, n_estimators=30; total time=   0.4s\n",
            "[CV] END max_depth=None, max_features=log2, max_samples=2000, min_samples_leaf=1, min_samples_split=8, n_estimators=30; total time=   0.3s\n",
            "[CV] END max_depth=None, max_features=log2, max_samples=2000, min_samples_leaf=1, min_samples_split=8, n_estimators=30; total time=   0.4s\n",
            "[CV] END max_depth=10, max_features=sqrt, max_samples=2000, min_samples_leaf=7, min_samples_split=4, n_estimators=40; total time=   0.4s\n",
            "[CV] END max_depth=10, max_features=sqrt, max_samples=2000, min_samples_leaf=7, min_samples_split=4, n_estimators=40; total time=   0.4s\n",
            "[CV] END max_depth=10, max_features=sqrt, max_samples=2000, min_samples_leaf=7, min_samples_split=4, n_estimators=40; total time=   0.4s\n",
            "[CV] END max_depth=10, max_features=sqrt, max_samples=2000, min_samples_leaf=7, min_samples_split=4, n_estimators=40; total time=   0.4s\n",
            "[CV] END max_depth=10, max_features=sqrt, max_samples=2000, min_samples_leaf=7, min_samples_split=4, n_estimators=40; total time=   0.4s\n",
            "[CV] END max_depth=5, max_features=0.5, max_samples=5000, min_samples_leaf=5, min_samples_split=4, n_estimators=60; total time=   0.7s\n",
            "[CV] END max_depth=5, max_features=0.5, max_samples=5000, min_samples_leaf=5, min_samples_split=4, n_estimators=60; total time=   0.6s\n",
            "[CV] END max_depth=5, max_features=0.5, max_samples=5000, min_samples_leaf=5, min_samples_split=4, n_estimators=60; total time=   0.6s\n",
            "[CV] END max_depth=5, max_features=0.5, max_samples=5000, min_samples_leaf=5, min_samples_split=4, n_estimators=60; total time=   0.6s\n",
            "[CV] END max_depth=5, max_features=0.5, max_samples=5000, min_samples_leaf=5, min_samples_split=4, n_estimators=60; total time=   0.6s\n",
            "[CV] END max_depth=None, max_features=log2, max_samples=10000, min_samples_leaf=5, min_samples_split=4, n_estimators=50; total time=   0.8s\n",
            "[CV] END max_depth=None, max_features=log2, max_samples=10000, min_samples_leaf=5, min_samples_split=4, n_estimators=50; total time=   1.2s\n",
            "[CV] END max_depth=None, max_features=log2, max_samples=10000, min_samples_leaf=5, min_samples_split=4, n_estimators=50; total time=   1.3s\n",
            "[CV] END max_depth=None, max_features=log2, max_samples=10000, min_samples_leaf=5, min_samples_split=4, n_estimators=50; total time=   0.8s\n",
            "[CV] END max_depth=None, max_features=log2, max_samples=10000, min_samples_leaf=5, min_samples_split=4, n_estimators=50; total time=   0.7s\n",
            "[CV] END max_depth=5, max_features=0.5, max_samples=10000, min_samples_leaf=5, min_samples_split=2, n_estimators=80; total time=   1.1s\n",
            "[CV] END max_depth=5, max_features=0.5, max_samples=10000, min_samples_leaf=5, min_samples_split=2, n_estimators=80; total time=   1.1s\n",
            "[CV] END max_depth=5, max_features=0.5, max_samples=10000, min_samples_leaf=5, min_samples_split=2, n_estimators=80; total time=   1.1s\n",
            "[CV] END max_depth=5, max_features=0.5, max_samples=10000, min_samples_leaf=5, min_samples_split=2, n_estimators=80; total time=   1.1s\n",
            "[CV] END max_depth=5, max_features=0.5, max_samples=10000, min_samples_leaf=5, min_samples_split=2, n_estimators=80; total time=   1.1s\n",
            "[CV] END max_depth=5, max_features=log2, max_samples=2000, min_samples_leaf=1, min_samples_split=8, n_estimators=40; total time=   0.4s\n",
            "[CV] END max_depth=5, max_features=log2, max_samples=2000, min_samples_leaf=1, min_samples_split=8, n_estimators=40; total time=   0.4s\n",
            "[CV] END max_depth=5, max_features=log2, max_samples=2000, min_samples_leaf=1, min_samples_split=8, n_estimators=40; total time=   0.4s\n",
            "[CV] END max_depth=5, max_features=log2, max_samples=2000, min_samples_leaf=1, min_samples_split=8, n_estimators=40; total time=   0.4s\n",
            "[CV] END max_depth=5, max_features=log2, max_samples=2000, min_samples_leaf=1, min_samples_split=8, n_estimators=40; total time=   0.3s\n",
            "[CV] END max_depth=5, max_features=1, max_samples=5000, min_samples_leaf=1, min_samples_split=4, n_estimators=30; total time=   0.2s\n",
            "[CV] END max_depth=5, max_features=1, max_samples=5000, min_samples_leaf=1, min_samples_split=4, n_estimators=30; total time=   0.3s\n",
            "[CV] END max_depth=5, max_features=1, max_samples=5000, min_samples_leaf=1, min_samples_split=4, n_estimators=30; total time=   0.3s\n",
            "[CV] END max_depth=5, max_features=1, max_samples=5000, min_samples_leaf=1, min_samples_split=4, n_estimators=30; total time=   0.3s\n",
            "[CV] END max_depth=5, max_features=1, max_samples=5000, min_samples_leaf=1, min_samples_split=4, n_estimators=30; total time=   0.3s\n",
            "[CV] END max_depth=10, max_features=0.5, max_samples=5000, min_samples_leaf=5, min_samples_split=6, n_estimators=60; total time=   1.4s\n",
            "[CV] END max_depth=10, max_features=0.5, max_samples=5000, min_samples_leaf=5, min_samples_split=6, n_estimators=60; total time=   1.4s\n",
            "[CV] END max_depth=10, max_features=0.5, max_samples=5000, min_samples_leaf=5, min_samples_split=6, n_estimators=60; total time=   0.8s\n",
            "[CV] END max_depth=10, max_features=0.5, max_samples=5000, min_samples_leaf=5, min_samples_split=6, n_estimators=60; total time=   0.7s\n",
            "[CV] END max_depth=10, max_features=0.5, max_samples=5000, min_samples_leaf=5, min_samples_split=6, n_estimators=60; total time=   0.8s\n",
            "[CV] END max_depth=5, max_features=log2, max_samples=10000, min_samples_leaf=7, min_samples_split=8, n_estimators=30; total time=   0.4s\n",
            "[CV] END max_depth=5, max_features=log2, max_samples=10000, min_samples_leaf=7, min_samples_split=8, n_estimators=30; total time=   0.3s\n",
            "[CV] END max_depth=5, max_features=log2, max_samples=10000, min_samples_leaf=7, min_samples_split=8, n_estimators=30; total time=   0.4s\n",
            "[CV] END max_depth=5, max_features=log2, max_samples=10000, min_samples_leaf=7, min_samples_split=8, n_estimators=30; total time=   0.4s\n",
            "[CV] END max_depth=5, max_features=log2, max_samples=10000, min_samples_leaf=7, min_samples_split=8, n_estimators=30; total time=   0.4s\n",
            "[CV] END max_depth=10, max_features=1, max_samples=2000, min_samples_leaf=7, min_samples_split=8, n_estimators=50; total time=   0.4s\n",
            "[CV] END max_depth=10, max_features=1, max_samples=2000, min_samples_leaf=7, min_samples_split=8, n_estimators=50; total time=   0.4s\n",
            "[CV] END max_depth=10, max_features=1, max_samples=2000, min_samples_leaf=7, min_samples_split=8, n_estimators=50; total time=   0.4s\n",
            "[CV] END max_depth=10, max_features=1, max_samples=2000, min_samples_leaf=7, min_samples_split=8, n_estimators=50; total time=   0.4s\n",
            "[CV] END max_depth=10, max_features=1, max_samples=2000, min_samples_leaf=7, min_samples_split=8, n_estimators=50; total time=   0.4s\n",
            "CPU times: user 43 s, sys: 2.91 s, total: 45.9 s\n",
            "Wall time: 2min 27s\n"
          ]
        },
        {
          "output_type": "execute_result",
          "data": {
            "text/plain": [
              "RandomizedSearchCV(cv=5,\n",
              "                   estimator=RandomForestClassifier(n_jobs=-1, random_state=42),\n",
              "                   n_iter=50,\n",
              "                   param_distributions={'max_depth': [None, 3, 5, 10],\n",
              "                                        'max_features': [0.5, 1, 'sqrt',\n",
              "                                                         'log2'],\n",
              "                                        'max_samples': [2000, 5000, 10000],\n",
              "                                        'min_samples_leaf': array([1, 3, 5, 7, 9]),\n",
              "                                        'min_samples_split': array([2, 4, 6, 8]),\n",
              "                                        'n_estimators': array([10, 20, 30, 40, 50, 60, 70, 80, 90])},\n",
              "                   verbose=2)"
            ],
            "text/html": [
              "<style>#sk-container-id-3 {color: black;background-color: white;}#sk-container-id-3 pre{padding: 0;}#sk-container-id-3 div.sk-toggleable {background-color: white;}#sk-container-id-3 label.sk-toggleable__label {cursor: pointer;display: block;width: 100%;margin-bottom: 0;padding: 0.3em;box-sizing: border-box;text-align: center;}#sk-container-id-3 label.sk-toggleable__label-arrow:before {content: \"▸\";float: left;margin-right: 0.25em;color: #696969;}#sk-container-id-3 label.sk-toggleable__label-arrow:hover:before {color: black;}#sk-container-id-3 div.sk-estimator:hover label.sk-toggleable__label-arrow:before {color: black;}#sk-container-id-3 div.sk-toggleable__content {max-height: 0;max-width: 0;overflow: hidden;text-align: left;background-color: #f0f8ff;}#sk-container-id-3 div.sk-toggleable__content pre {margin: 0.2em;color: black;border-radius: 0.25em;background-color: #f0f8ff;}#sk-container-id-3 input.sk-toggleable__control:checked~div.sk-toggleable__content {max-height: 200px;max-width: 100%;overflow: auto;}#sk-container-id-3 input.sk-toggleable__control:checked~label.sk-toggleable__label-arrow:before {content: \"▾\";}#sk-container-id-3 div.sk-estimator input.sk-toggleable__control:checked~label.sk-toggleable__label {background-color: #d4ebff;}#sk-container-id-3 div.sk-label input.sk-toggleable__control:checked~label.sk-toggleable__label {background-color: #d4ebff;}#sk-container-id-3 input.sk-hidden--visually {border: 0;clip: rect(1px 1px 1px 1px);clip: rect(1px, 1px, 1px, 1px);height: 1px;margin: -1px;overflow: hidden;padding: 0;position: absolute;width: 1px;}#sk-container-id-3 div.sk-estimator {font-family: monospace;background-color: #f0f8ff;border: 1px dotted black;border-radius: 0.25em;box-sizing: border-box;margin-bottom: 0.5em;}#sk-container-id-3 div.sk-estimator:hover {background-color: #d4ebff;}#sk-container-id-3 div.sk-parallel-item::after {content: \"\";width: 100%;border-bottom: 1px solid gray;flex-grow: 1;}#sk-container-id-3 div.sk-label:hover label.sk-toggleable__label {background-color: #d4ebff;}#sk-container-id-3 div.sk-serial::before {content: \"\";position: absolute;border-left: 1px solid gray;box-sizing: border-box;top: 0;bottom: 0;left: 50%;z-index: 0;}#sk-container-id-3 div.sk-serial {display: flex;flex-direction: column;align-items: center;background-color: white;padding-right: 0.2em;padding-left: 0.2em;position: relative;}#sk-container-id-3 div.sk-item {position: relative;z-index: 1;}#sk-container-id-3 div.sk-parallel {display: flex;align-items: stretch;justify-content: center;background-color: white;position: relative;}#sk-container-id-3 div.sk-item::before, #sk-container-id-3 div.sk-parallel-item::before {content: \"\";position: absolute;border-left: 1px solid gray;box-sizing: border-box;top: 0;bottom: 0;left: 50%;z-index: -1;}#sk-container-id-3 div.sk-parallel-item {display: flex;flex-direction: column;z-index: 1;position: relative;background-color: white;}#sk-container-id-3 div.sk-parallel-item:first-child::after {align-self: flex-end;width: 50%;}#sk-container-id-3 div.sk-parallel-item:last-child::after {align-self: flex-start;width: 50%;}#sk-container-id-3 div.sk-parallel-item:only-child::after {width: 0;}#sk-container-id-3 div.sk-dashed-wrapped {border: 1px dashed gray;margin: 0 0.4em 0.5em 0.4em;box-sizing: border-box;padding-bottom: 0.4em;background-color: white;}#sk-container-id-3 div.sk-label label {font-family: monospace;font-weight: bold;display: inline-block;line-height: 1.2em;}#sk-container-id-3 div.sk-label-container {text-align: center;}#sk-container-id-3 div.sk-container {/* jupyter's `normalize.less` sets `[hidden] { display: none; }` but bootstrap.min.css set `[hidden] { display: none !important; }` so we also need the `!important` here to be able to override the default hidden behavior on the sphinx rendered scikit-learn.org. See: https://github.com/scikit-learn/scikit-learn/issues/21755 */display: inline-block !important;position: relative;}#sk-container-id-3 div.sk-text-repr-fallback {display: none;}</style><div id=\"sk-container-id-3\" class=\"sk-top-container\"><div class=\"sk-text-repr-fallback\"><pre>RandomizedSearchCV(cv=5,\n",
              "                   estimator=RandomForestClassifier(n_jobs=-1, random_state=42),\n",
              "                   n_iter=50,\n",
              "                   param_distributions={&#x27;max_depth&#x27;: [None, 3, 5, 10],\n",
              "                                        &#x27;max_features&#x27;: [0.5, 1, &#x27;sqrt&#x27;,\n",
              "                                                         &#x27;log2&#x27;],\n",
              "                                        &#x27;max_samples&#x27;: [2000, 5000, 10000],\n",
              "                                        &#x27;min_samples_leaf&#x27;: array([1, 3, 5, 7, 9]),\n",
              "                                        &#x27;min_samples_split&#x27;: array([2, 4, 6, 8]),\n",
              "                                        &#x27;n_estimators&#x27;: array([10, 20, 30, 40, 50, 60, 70, 80, 90])},\n",
              "                   verbose=2)</pre><b>In a Jupyter environment, please rerun this cell to show the HTML representation or trust the notebook. <br />On GitHub, the HTML representation is unable to render, please try loading this page with nbviewer.org.</b></div><div class=\"sk-container\" hidden><div class=\"sk-item sk-dashed-wrapped\"><div class=\"sk-label-container\"><div class=\"sk-label sk-toggleable\"><input class=\"sk-toggleable__control sk-hidden--visually\" id=\"sk-estimator-id-9\" type=\"checkbox\" ><label for=\"sk-estimator-id-9\" class=\"sk-toggleable__label sk-toggleable__label-arrow\">RandomizedSearchCV</label><div class=\"sk-toggleable__content\"><pre>RandomizedSearchCV(cv=5,\n",
              "                   estimator=RandomForestClassifier(n_jobs=-1, random_state=42),\n",
              "                   n_iter=50,\n",
              "                   param_distributions={&#x27;max_depth&#x27;: [None, 3, 5, 10],\n",
              "                                        &#x27;max_features&#x27;: [0.5, 1, &#x27;sqrt&#x27;,\n",
              "                                                         &#x27;log2&#x27;],\n",
              "                                        &#x27;max_samples&#x27;: [2000, 5000, 10000],\n",
              "                                        &#x27;min_samples_leaf&#x27;: array([1, 3, 5, 7, 9]),\n",
              "                                        &#x27;min_samples_split&#x27;: array([2, 4, 6, 8]),\n",
              "                                        &#x27;n_estimators&#x27;: array([10, 20, 30, 40, 50, 60, 70, 80, 90])},\n",
              "                   verbose=2)</pre></div></div></div><div class=\"sk-parallel\"><div class=\"sk-parallel-item\"><div class=\"sk-item\"><div class=\"sk-label-container\"><div class=\"sk-label sk-toggleable\"><input class=\"sk-toggleable__control sk-hidden--visually\" id=\"sk-estimator-id-10\" type=\"checkbox\" ><label for=\"sk-estimator-id-10\" class=\"sk-toggleable__label sk-toggleable__label-arrow\">estimator: RandomForestClassifier</label><div class=\"sk-toggleable__content\"><pre>RandomForestClassifier(n_jobs=-1, random_state=42)</pre></div></div></div><div class=\"sk-serial\"><div class=\"sk-item\"><div class=\"sk-estimator sk-toggleable\"><input class=\"sk-toggleable__control sk-hidden--visually\" id=\"sk-estimator-id-11\" type=\"checkbox\" ><label for=\"sk-estimator-id-11\" class=\"sk-toggleable__label sk-toggleable__label-arrow\">RandomForestClassifier</label><div class=\"sk-toggleable__content\"><pre>RandomForestClassifier(n_jobs=-1, random_state=42)</pre></div></div></div></div></div></div></div></div></div></div>"
            ]
          },
          "metadata": {},
          "execution_count": 62
        }
      ],
      "source": [
        "%%time\n",
        "from sklearn.model_selection import RandomizedSearchCV\n",
        "from sklearn.ensemble import RandomForestClassifier\n",
        "\n",
        "#Different HyperParameters\n",
        "rf_grid = {\"n_estimators\": np.arange(10,100,10),\n",
        "          \"max_depth\": [None,3,5,10],\n",
        "          \"min_samples_split\":np.arange(2,10,2),\n",
        "          \"min_samples_leaf\":np.arange(1,10,2),\n",
        "          \"max_features\":[0.5,1,\"sqrt\",'log2'],\n",
        "          \"max_samples\":[2000,5000,10000]}\n",
        "\n",
        "#Instatantiate Randomised Search CV\n",
        "rs_model = RandomizedSearchCV(RandomForestClassifier(n_jobs=-1,random_state=42),\n",
        "                             param_distributions=rf_grid,\n",
        "                             n_iter=50,\n",
        "                             cv=5,\n",
        "                             verbose=2)\n",
        "rs_model.fit(X_train_ct,Y_train)"
      ]
    },
    {
      "cell_type": "code",
      "execution_count": null,
      "metadata": {
        "colab": {
          "base_uri": "https://localhost:8080/"
        },
        "id": "Xu8ROahoGlJe",
        "outputId": "861cac53-6817-4b44-9b2b-3c5143dcf0aa"
      },
      "outputs": [
        {
          "output_type": "execute_result",
          "data": {
            "text/plain": [
              "{'n_estimators': 60,\n",
              " 'min_samples_split': 6,\n",
              " 'min_samples_leaf': 5,\n",
              " 'max_samples': 5000,\n",
              " 'max_features': 0.5,\n",
              " 'max_depth': 10}"
            ]
          },
          "metadata": {},
          "execution_count": 63
        }
      ],
      "source": [
        "rs_model.best_params_"
      ]
    },
    {
      "cell_type": "code",
      "execution_count": null,
      "metadata": {
        "id": "n0EJLz1NV0Yf"
      },
      "outputs": [],
      "source": [
        "rs = RandomForestClassifier(n_jobs=-1,random_state=42,n_estimators= 70,\n",
        " min_samples_split= 6,\n",
        " min_samples_leaf= 9,\n",
        " max_samples= 10000,\n",
        " max_features= 0.5,\n",
        " max_depth= None)"
      ]
    },
    {
      "cell_type": "code",
      "execution_count": null,
      "metadata": {
        "colab": {
          "base_uri": "https://localhost:8080/",
          "height": 109
        },
        "id": "XY3EsD27WKZP",
        "outputId": "46a60c22-2e22-4c43-c2fc-c9b2ba62057f"
      },
      "outputs": [
        {
          "output_type": "execute_result",
          "data": {
            "text/plain": [
              "RandomForestClassifier(max_features=0.5, max_samples=10000, min_samples_leaf=9,\n",
              "                       min_samples_split=6, n_estimators=70, n_jobs=-1,\n",
              "                       random_state=42)"
            ],
            "text/html": [
              "<style>#sk-container-id-4 {color: black;background-color: white;}#sk-container-id-4 pre{padding: 0;}#sk-container-id-4 div.sk-toggleable {background-color: white;}#sk-container-id-4 label.sk-toggleable__label {cursor: pointer;display: block;width: 100%;margin-bottom: 0;padding: 0.3em;box-sizing: border-box;text-align: center;}#sk-container-id-4 label.sk-toggleable__label-arrow:before {content: \"▸\";float: left;margin-right: 0.25em;color: #696969;}#sk-container-id-4 label.sk-toggleable__label-arrow:hover:before {color: black;}#sk-container-id-4 div.sk-estimator:hover label.sk-toggleable__label-arrow:before {color: black;}#sk-container-id-4 div.sk-toggleable__content {max-height: 0;max-width: 0;overflow: hidden;text-align: left;background-color: #f0f8ff;}#sk-container-id-4 div.sk-toggleable__content pre {margin: 0.2em;color: black;border-radius: 0.25em;background-color: #f0f8ff;}#sk-container-id-4 input.sk-toggleable__control:checked~div.sk-toggleable__content {max-height: 200px;max-width: 100%;overflow: auto;}#sk-container-id-4 input.sk-toggleable__control:checked~label.sk-toggleable__label-arrow:before {content: \"▾\";}#sk-container-id-4 div.sk-estimator input.sk-toggleable__control:checked~label.sk-toggleable__label {background-color: #d4ebff;}#sk-container-id-4 div.sk-label input.sk-toggleable__control:checked~label.sk-toggleable__label {background-color: #d4ebff;}#sk-container-id-4 input.sk-hidden--visually {border: 0;clip: rect(1px 1px 1px 1px);clip: rect(1px, 1px, 1px, 1px);height: 1px;margin: -1px;overflow: hidden;padding: 0;position: absolute;width: 1px;}#sk-container-id-4 div.sk-estimator {font-family: monospace;background-color: #f0f8ff;border: 1px dotted black;border-radius: 0.25em;box-sizing: border-box;margin-bottom: 0.5em;}#sk-container-id-4 div.sk-estimator:hover {background-color: #d4ebff;}#sk-container-id-4 div.sk-parallel-item::after {content: \"\";width: 100%;border-bottom: 1px solid gray;flex-grow: 1;}#sk-container-id-4 div.sk-label:hover label.sk-toggleable__label {background-color: #d4ebff;}#sk-container-id-4 div.sk-serial::before {content: \"\";position: absolute;border-left: 1px solid gray;box-sizing: border-box;top: 0;bottom: 0;left: 50%;z-index: 0;}#sk-container-id-4 div.sk-serial {display: flex;flex-direction: column;align-items: center;background-color: white;padding-right: 0.2em;padding-left: 0.2em;position: relative;}#sk-container-id-4 div.sk-item {position: relative;z-index: 1;}#sk-container-id-4 div.sk-parallel {display: flex;align-items: stretch;justify-content: center;background-color: white;position: relative;}#sk-container-id-4 div.sk-item::before, #sk-container-id-4 div.sk-parallel-item::before {content: \"\";position: absolute;border-left: 1px solid gray;box-sizing: border-box;top: 0;bottom: 0;left: 50%;z-index: -1;}#sk-container-id-4 div.sk-parallel-item {display: flex;flex-direction: column;z-index: 1;position: relative;background-color: white;}#sk-container-id-4 div.sk-parallel-item:first-child::after {align-self: flex-end;width: 50%;}#sk-container-id-4 div.sk-parallel-item:last-child::after {align-self: flex-start;width: 50%;}#sk-container-id-4 div.sk-parallel-item:only-child::after {width: 0;}#sk-container-id-4 div.sk-dashed-wrapped {border: 1px dashed gray;margin: 0 0.4em 0.5em 0.4em;box-sizing: border-box;padding-bottom: 0.4em;background-color: white;}#sk-container-id-4 div.sk-label label {font-family: monospace;font-weight: bold;display: inline-block;line-height: 1.2em;}#sk-container-id-4 div.sk-label-container {text-align: center;}#sk-container-id-4 div.sk-container {/* jupyter's `normalize.less` sets `[hidden] { display: none; }` but bootstrap.min.css set `[hidden] { display: none !important; }` so we also need the `!important` here to be able to override the default hidden behavior on the sphinx rendered scikit-learn.org. See: https://github.com/scikit-learn/scikit-learn/issues/21755 */display: inline-block !important;position: relative;}#sk-container-id-4 div.sk-text-repr-fallback {display: none;}</style><div id=\"sk-container-id-4\" class=\"sk-top-container\"><div class=\"sk-text-repr-fallback\"><pre>RandomForestClassifier(max_features=0.5, max_samples=10000, min_samples_leaf=9,\n",
              "                       min_samples_split=6, n_estimators=70, n_jobs=-1,\n",
              "                       random_state=42)</pre><b>In a Jupyter environment, please rerun this cell to show the HTML representation or trust the notebook. <br />On GitHub, the HTML representation is unable to render, please try loading this page with nbviewer.org.</b></div><div class=\"sk-container\" hidden><div class=\"sk-item\"><div class=\"sk-estimator sk-toggleable\"><input class=\"sk-toggleable__control sk-hidden--visually\" id=\"sk-estimator-id-12\" type=\"checkbox\" checked><label for=\"sk-estimator-id-12\" class=\"sk-toggleable__label sk-toggleable__label-arrow\">RandomForestClassifier</label><div class=\"sk-toggleable__content\"><pre>RandomForestClassifier(max_features=0.5, max_samples=10000, min_samples_leaf=9,\n",
              "                       min_samples_split=6, n_estimators=70, n_jobs=-1,\n",
              "                       random_state=42)</pre></div></div></div></div></div>"
            ]
          },
          "metadata": {},
          "execution_count": 65
        }
      ],
      "source": [
        "rs.fit(X_train_ct,Y_train)"
      ]
    },
    {
      "cell_type": "code",
      "execution_count": null,
      "metadata": {
        "id": "ykX2Q44TWN-a"
      },
      "outputs": [],
      "source": [
        "Y_preds_rs = rs.predict(X_test_ct)"
      ]
    },
    {
      "cell_type": "code",
      "execution_count": null,
      "metadata": {
        "colab": {
          "base_uri": "https://localhost:8080/"
        },
        "id": "H_FfctBwWbfT",
        "outputId": "e7d81291-0d20-468d-d6bb-51206262f934"
      },
      "outputs": [
        {
          "output_type": "execute_result",
          "data": {
            "text/plain": [
              "0.7487092439352147"
            ]
          },
          "metadata": {},
          "execution_count": 67
        }
      ],
      "source": [
        "accuracy_score(y_test,Y_preds_rs)"
      ]
    },
    {
      "cell_type": "code",
      "execution_count": null,
      "metadata": {
        "colab": {
          "base_uri": "https://localhost:8080/"
        },
        "id": "onPMzqz2WiCx",
        "outputId": "48075607-f5f3-433c-f894-6bbb4a046169"
      },
      "outputs": [
        {
          "output_type": "execute_result",
          "data": {
            "text/plain": [
              "array([[1916, 5154],\n",
              "       [  97, 6972]])"
            ]
          },
          "metadata": {},
          "execution_count": 68
        }
      ],
      "source": [
        "confusion_matrix(y_test,Y_preds)"
      ]
    },
    {
      "cell_type": "code",
      "execution_count": null,
      "metadata": {
        "id": "_Dqkf_VVJe8V"
      },
      "outputs": [],
      "source": [
        "from sklearn.metrics import classification_report"
      ]
    },
    {
      "cell_type": "code",
      "execution_count": null,
      "metadata": {
        "colab": {
          "base_uri": "https://localhost:8080/"
        },
        "id": "fQh-m6R4JpFh",
        "outputId": "c32d1624-8993-4e51-cc16-beb9613c3222"
      },
      "outputs": [
        {
          "output_type": "stream",
          "name": "stdout",
          "text": [
            "              precision    recall  f1-score   support\n",
            "\n",
            "         0.0       0.74      0.72      0.73      7070\n",
            "         1.0       0.73      0.75      0.74      7069\n",
            "\n",
            "    accuracy                           0.73     14139\n",
            "   macro avg       0.73      0.73      0.73     14139\n",
            "weighted avg       0.73      0.73      0.73     14139\n",
            "\n"
          ]
        }
      ],
      "source": [
        "print(classification_report(y_test,y_preds1))"
      ]
    },
    {
      "cell_type": "markdown",
      "metadata": {
        "id": "kV5uVHfcE4Jw"
      },
      "source": [
        "# Svaing The Model"
      ]
    },
    {
      "cell_type": "code",
      "execution_count": null,
      "metadata": {
        "id": "oohScoryWuHr"
      },
      "outputs": [],
      "source": [
        "#HDF5 format\n",
        "model_2.save(\"Diabetes_model_Binary_hdf5.h5\")"
      ]
    },
    {
      "cell_type": "code",
      "execution_count": null,
      "metadata": {
        "id": "4RB_JoyLGy7E"
      },
      "outputs": [],
      "source": []
    }
  ],
  "metadata": {
    "colab": {
      "provenance": []
    },
    "gpuClass": "standard",
    "kernelspec": {
      "display_name": "Python 3",
      "name": "python3"
    },
    "language_info": {
      "name": "python"
    }
  },
  "nbformat": 4,
  "nbformat_minor": 0
}