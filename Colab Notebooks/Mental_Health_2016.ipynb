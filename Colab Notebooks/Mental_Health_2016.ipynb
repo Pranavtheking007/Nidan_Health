{
  "cells": [
    {
      "cell_type": "code",
      "execution_count": null,
      "metadata": {
        "colab": {
          "background_save": true
        },
        "id": "B1VX4AHH9JVX"
      },
      "outputs": [],
      "source": [
        "#Regular EDA(Exploratory Data Analysis) & Plotting Libraries\n",
        "import numpy as np\n",
        "import pandas as pd\n",
        "import matplotlib.pyplot as plt\n",
        "import seaborn as sns\n",
        "from sklearn.compose import make_column_transformer\n",
        "from sklearn.preprocessing import MinMaxScaler, OneHotEncoder\n",
        "import tensorflow as tf\n",
        "\n",
        "import nltk\n",
        "from nltk.corpus import stopwords\n",
        "from nltk import word_tokenize\n",
        "from nltk.stem import WordNetLemmatizer,PorterStemmer\n",
        "from sklearn.feature_extraction.text import TfidfVectorizer\n",
        "from sklearn.metrics.pairwise import cosine_similarity\n",
        "\n",
        "from sklearn.cluster import KMeans\n",
        "from sklearn.cluster import DBSCAN\n",
        "from sklearn.metrics import silhouette_score\n",
        "from sklearn.decomposition import PCA\n",
        "\n",
        "import pickle\n",
        "\n",
        "%matplotlib inline"
      ]
    },
    {
      "cell_type": "code",
      "execution_count": null,
      "metadata": {
        "colab": {
          "background_save": true
        },
        "id": "oSXQqpVPTavp"
      },
      "outputs": [],
      "source": [
        "df = pd.read_csv('https://raw.githubusercontent.com/Pranavtheking007/Nidan-2.0/main/mental-heath-in-tech-2016_20161114.csv')"
      ]
    },
    {
      "cell_type": "code",
      "execution_count": null,
      "metadata": {
        "colab": {
          "background_save": true
        },
        "id": "hdwob3XMThVH",
        "outputId": "a2bdb267-dc81-4c49-8a31-e9e3f9da8e24"
      },
      "outputs": [
        {
          "name": "stdout",
          "output_type": "stream",
          "text": [
            "<class 'pandas.core.frame.DataFrame'>\n",
            "RangeIndex: 1433 entries, 0 to 1432\n",
            "Data columns (total 63 columns):\n",
            " #   Column                                                                                                                                                                            Non-Null Count  Dtype  \n",
            "---  ------                                                                                                                                                                            --------------  -----  \n",
            " 0   Are you self-employed?                                                                                                                                                            1433 non-null   int64  \n",
            " 1   How many employees does your company or organization have?                                                                                                                        1146 non-null   object \n",
            " 2   Is your employer primarily a tech company/organization?                                                                                                                           1146 non-null   float64\n",
            " 3   Is your primary role within your company related to tech/IT?                                                                                                                      263 non-null    float64\n",
            " 4   Does your employer provide mental health benefits as part of healthcare coverage?                                                                                                 1146 non-null   object \n",
            " 5   Do you know the options for mental health care available under your employer-provided coverage?                                                                                   1013 non-null   object \n",
            " 6   Has your employer ever formally discussed mental health (for example, as part of a wellness campaign or other official communication)?                                            1146 non-null   object \n",
            " 7   Does your employer offer resources to learn more about mental health concerns and options for seeking help?                                                                       1146 non-null   object \n",
            " 8   Is your anonymity protected if you choose to take advantage of mental health or substance abuse treatment resources provided by your employer?                                    1146 non-null   object \n",
            " 9   If a mental health issue prompted you to request a medical leave from work, asking for that leave would be:                                                                       1146 non-null   object \n",
            " 10  Do you think that discussing a mental health disorder with your employer would have negative consequences?                                                                        1146 non-null   object \n",
            " 11  Do you think that discussing a physical health issue with your employer would have negative consequences?                                                                         1146 non-null   object \n",
            " 12  Would you feel comfortable discussing a mental health disorder with your coworkers?                                                                                               1146 non-null   object \n",
            " 13  Would you feel comfortable discussing a mental health disorder with your direct supervisor(s)?                                                                                    1146 non-null   object \n",
            " 14  Do you feel that your employer takes mental health as seriously as physical health?                                                                                               1146 non-null   object \n",
            " 15  Have you heard of or observed negative consequences for co-workers who have been open about mental health issues in your workplace?                                               1146 non-null   object \n",
            " 16  Do you have medical coverage (private insurance or state-provided) which includes treatment of  mental health issues?                                                             287 non-null    float64\n",
            " 17  Do you know local or online resources to seek help for a mental health disorder?                                                                                                  287 non-null    object \n",
            " 18  If you have been diagnosed or treated for a mental health disorder, do you ever reveal this to clients or business contacts?                                                      287 non-null    object \n",
            " 19  If you have revealed a mental health issue to a client or business contact, do you believe this has impacted you negatively?                                                      144 non-null    object \n",
            " 20  If you have been diagnosed or treated for a mental health disorder, do you ever reveal this to coworkers or employees?                                                            287 non-null    object \n",
            " 21  If you have revealed a mental health issue to a coworker or employee, do you believe this has impacted you negatively?                                                            287 non-null    object \n",
            " 22  Do you believe your productivity is ever affected by a mental health issue?                                                                                                       287 non-null    object \n",
            " 23  If yes, what percentage of your work time (time performing primary or secondary job functions) is affected by a mental health issue?                                              204 non-null    object \n",
            " 24  Do you have previous employers?                                                                                                                                                   1433 non-null   int64  \n",
            " 25  Have your previous employers provided mental health benefits?                                                                                                                     1264 non-null   object \n",
            " 26  Were you aware of the options for mental health care provided by your previous employers?                                                                                         1264 non-null   object \n",
            " 27  Did your previous employers ever formally discuss mental health (as part of a wellness campaign or other official communication)?                                                 1264 non-null   object \n",
            " 28  Did your previous employers provide resources to learn more about mental health issues and how to seek help?                                                                      1264 non-null   object \n",
            " 29  Was your anonymity protected if you chose to take advantage of mental health or substance abuse treatment resources with previous employers?                                      1264 non-null   object \n",
            " 30  Do you think that discussing a mental health disorder with previous employers would have negative consequences?                                                                   1264 non-null   object \n",
            " 31  Do you think that discussing a physical health issue with previous employers would have negative consequences?                                                                    1264 non-null   object \n",
            " 32  Would you have been willing to discuss a mental health issue with your previous co-workers?                                                                                       1264 non-null   object \n",
            " 33  Would you have been willing to discuss a mental health issue with your direct supervisor(s)?                                                                                      1264 non-null   object \n",
            " 34  Did you feel that your previous employers took mental health as seriously as physical health?                                                                                     1264 non-null   object \n",
            " 35  Did you hear of or observe negative consequences for co-workers with mental health issues in your previous workplaces?                                                            1264 non-null   object \n",
            " 36  Would you be willing to bring up a physical health issue with a potential employer in an interview?                                                                               1433 non-null   object \n",
            " 37  Why or why not?                                                                                                                                                                   1095 non-null   object \n",
            " 38  Would you bring up a mental health issue with a potential employer in an interview?                                                                                               1433 non-null   object \n",
            " 39  Why or why not?.1                                                                                                                                                                 1126 non-null   object \n",
            " 40  Do you feel that being identified as a person with a mental health issue would hurt your career?                                                                                  1433 non-null   object \n",
            " 41  Do you think that team members/co-workers would view you more negatively if they knew you suffered from a mental health issue?                                                    1433 non-null   object \n",
            " 42  How willing would you be to share with friends and family that you have a mental illness?                                                                                         1433 non-null   object \n",
            " 43  Have you observed or experienced an unsupportive or badly handled response to a mental health issue in your current or previous workplace?                                        1344 non-null   object \n",
            " 44  Have your observations of how another individual who discussed a mental health disorder made you less likely to reveal a mental health issue yourself in your current workplace?  657 non-null    object \n",
            " 45  Do you have a family history of mental illness?                                                                                                                                   1433 non-null   object \n",
            " 46  Have you had a mental health disorder in the past?                                                                                                                                1433 non-null   object \n",
            " 47  Do you currently have a mental health disorder?                                                                                                                                   1433 non-null   object \n",
            " 48  If yes, what condition(s) have you been diagnosed with?                                                                                                                           568 non-null    object \n",
            " 49  If maybe, what condition(s) do you believe you have?                                                                                                                              322 non-null    object \n",
            " 50  Have you been diagnosed with a mental health condition by a medical professional?                                                                                                 1433 non-null   object \n",
            " 51  If so, what condition(s) were you diagnosed with?                                                                                                                                 711 non-null    object \n",
            " 52  Have you ever sought treatment for a mental health issue from a mental health professional?                                                                                       1433 non-null   int64  \n",
            " 53  If you have a mental health issue, do you feel that it interferes with your work when being treated effectively?                                                                  1433 non-null   object \n",
            " 54  If you have a mental health issue, do you feel that it interferes with your work when NOT being treated effectively?                                                              1433 non-null   object \n",
            " 55  What is your age?                                                                                                                                                                 1433 non-null   int64  \n",
            " 56  What is your gender?                                                                                                                                                              1430 non-null   object \n",
            " 57  What country do you live in?                                                                                                                                                      1433 non-null   object \n",
            " 58  What US state or territory do you live in?                                                                                                                                        840 non-null    object \n",
            " 59  What country do you work in?                                                                                                                                                      1433 non-null   object \n",
            " 60  What US state or territory do you work in?                                                                                                                                        851 non-null    object \n",
            " 61  Which of the following best describes your work position?                                                                                                                         1433 non-null   object \n",
            " 62  Do you work remotely?                                                                                                                                                             1433 non-null   object \n",
            "dtypes: float64(3), int64(4), object(56)\n",
            "memory usage: 705.4+ KB\n"
          ]
        }
      ],
      "source": [
        "df.info()"
      ]
    },
    {
      "cell_type": "code",
      "execution_count": null,
      "metadata": {
        "colab": {
          "background_save": true
        },
        "id": "jEIjjkD5UIzU",
        "outputId": "18373811-1d9f-40a4-cedd-4e88e79baaff"
      },
      "outputs": [
        {
          "data": {
            "text/plain": [
              "Are you self-employed?                                                                  0\n",
              "How many employees does your company or organization have?                            287\n",
              "Is your employer primarily a tech company/organization?                               287\n",
              "Is your primary role within your company related to tech/IT?                         1170\n",
              "Does your employer provide mental health benefits as part of healthcare coverage?     287\n",
              "                                                                                     ... \n",
              "What US state or territory do you live in?                                            593\n",
              "What country do you work in?                                                            0\n",
              "What US state or territory do you work in?                                            582\n",
              "Which of the following best describes your work position?                               0\n",
              "Do you work remotely?                                                                   0\n",
              "Length: 63, dtype: int64"
            ]
          },
          "execution_count": 4,
          "metadata": {},
          "output_type": "execute_result"
        }
      ],
      "source": [
        "df.isna().sum()"
      ]
    },
    {
      "cell_type": "code",
      "execution_count": null,
      "metadata": {
        "colab": {
          "background_save": true
        },
        "id": "Pj6l8hxPUP4I",
        "outputId": "740aa121-a75a-47bc-c8ff-2ae5efd1adf7"
      },
      "outputs": [
        {
          "data": {
            "text/html": [
              "\n",
              "  <div id=\"df-9ddcd3f1-eadf-4101-83de-df43d0848b5e\">\n",
              "    <div class=\"colab-df-container\">\n",
              "      <div>\n",
              "<style scoped>\n",
              "    .dataframe tbody tr th:only-of-type {\n",
              "        vertical-align: middle;\n",
              "    }\n",
              "\n",
              "    .dataframe tbody tr th {\n",
              "        vertical-align: top;\n",
              "    }\n",
              "\n",
              "    .dataframe thead th {\n",
              "        text-align: right;\n",
              "    }\n",
              "</style>\n",
              "<table border=\"1\" class=\"dataframe\">\n",
              "  <thead>\n",
              "    <tr style=\"text-align: right;\">\n",
              "      <th></th>\n",
              "      <th>0</th>\n",
              "      <th>1</th>\n",
              "      <th>2</th>\n",
              "      <th>3</th>\n",
              "      <th>4</th>\n",
              "    </tr>\n",
              "  </thead>\n",
              "  <tbody>\n",
              "    <tr>\n",
              "      <th>Are you self-employed?</th>\n",
              "      <td>0</td>\n",
              "      <td>0</td>\n",
              "      <td>0</td>\n",
              "      <td>1</td>\n",
              "      <td>0</td>\n",
              "    </tr>\n",
              "    <tr>\n",
              "      <th>How many employees does your company or organization have?</th>\n",
              "      <td>26-100</td>\n",
              "      <td>6-25</td>\n",
              "      <td>6-25</td>\n",
              "      <td>NaN</td>\n",
              "      <td>6-25</td>\n",
              "    </tr>\n",
              "    <tr>\n",
              "      <th>Is your employer primarily a tech company/organization?</th>\n",
              "      <td>1.0</td>\n",
              "      <td>1.0</td>\n",
              "      <td>1.0</td>\n",
              "      <td>NaN</td>\n",
              "      <td>0.0</td>\n",
              "    </tr>\n",
              "    <tr>\n",
              "      <th>Is your primary role within your company related to tech/IT?</th>\n",
              "      <td>NaN</td>\n",
              "      <td>NaN</td>\n",
              "      <td>NaN</td>\n",
              "      <td>NaN</td>\n",
              "      <td>1.0</td>\n",
              "    </tr>\n",
              "    <tr>\n",
              "      <th>Does your employer provide mental health benefits as part of healthcare coverage?</th>\n",
              "      <td>Not eligible for coverage / N/A</td>\n",
              "      <td>No</td>\n",
              "      <td>No</td>\n",
              "      <td>NaN</td>\n",
              "      <td>Yes</td>\n",
              "    </tr>\n",
              "    <tr>\n",
              "      <th>...</th>\n",
              "      <td>...</td>\n",
              "      <td>...</td>\n",
              "      <td>...</td>\n",
              "      <td>...</td>\n",
              "      <td>...</td>\n",
              "    </tr>\n",
              "    <tr>\n",
              "      <th>What US state or territory do you live in?</th>\n",
              "      <td>NaN</td>\n",
              "      <td>Illinois</td>\n",
              "      <td>NaN</td>\n",
              "      <td>NaN</td>\n",
              "      <td>Illinois</td>\n",
              "    </tr>\n",
              "    <tr>\n",
              "      <th>What country do you work in?</th>\n",
              "      <td>United Kingdom</td>\n",
              "      <td>United States of America</td>\n",
              "      <td>United Kingdom</td>\n",
              "      <td>United Kingdom</td>\n",
              "      <td>United States of America</td>\n",
              "    </tr>\n",
              "    <tr>\n",
              "      <th>What US state or territory do you work in?</th>\n",
              "      <td>NaN</td>\n",
              "      <td>Illinois</td>\n",
              "      <td>NaN</td>\n",
              "      <td>NaN</td>\n",
              "      <td>Illinois</td>\n",
              "    </tr>\n",
              "    <tr>\n",
              "      <th>Which of the following best describes your work position?</th>\n",
              "      <td>Back-end Developer</td>\n",
              "      <td>Back-end Developer|Front-end Developer</td>\n",
              "      <td>Back-end Developer</td>\n",
              "      <td>Supervisor/Team Lead</td>\n",
              "      <td>Executive Leadership|Supervisor/Team Lead|Dev ...</td>\n",
              "    </tr>\n",
              "    <tr>\n",
              "      <th>Do you work remotely?</th>\n",
              "      <td>Sometimes</td>\n",
              "      <td>Never</td>\n",
              "      <td>Always</td>\n",
              "      <td>Sometimes</td>\n",
              "      <td>Sometimes</td>\n",
              "    </tr>\n",
              "  </tbody>\n",
              "</table>\n",
              "<p>63 rows × 5 columns</p>\n",
              "</div>\n",
              "      <button class=\"colab-df-convert\" onclick=\"convertToInteractive('df-9ddcd3f1-eadf-4101-83de-df43d0848b5e')\"\n",
              "              title=\"Convert this dataframe to an interactive table.\"\n",
              "              style=\"display:none;\">\n",
              "        \n",
              "  <svg xmlns=\"http://www.w3.org/2000/svg\" height=\"24px\"viewBox=\"0 0 24 24\"\n",
              "       width=\"24px\">\n",
              "    <path d=\"M0 0h24v24H0V0z\" fill=\"none\"/>\n",
              "    <path d=\"M18.56 5.44l.94 2.06.94-2.06 2.06-.94-2.06-.94-.94-2.06-.94 2.06-2.06.94zm-11 1L8.5 8.5l.94-2.06 2.06-.94-2.06-.94L8.5 2.5l-.94 2.06-2.06.94zm10 10l.94 2.06.94-2.06 2.06-.94-2.06-.94-.94-2.06-.94 2.06-2.06.94z\"/><path d=\"M17.41 7.96l-1.37-1.37c-.4-.4-.92-.59-1.43-.59-.52 0-1.04.2-1.43.59L10.3 9.45l-7.72 7.72c-.78.78-.78 2.05 0 2.83L4 21.41c.39.39.9.59 1.41.59.51 0 1.02-.2 1.41-.59l7.78-7.78 2.81-2.81c.8-.78.8-2.07 0-2.86zM5.41 20L4 18.59l7.72-7.72 1.47 1.35L5.41 20z\"/>\n",
              "  </svg>\n",
              "      </button>\n",
              "      \n",
              "  <style>\n",
              "    .colab-df-container {\n",
              "      display:flex;\n",
              "      flex-wrap:wrap;\n",
              "      gap: 12px;\n",
              "    }\n",
              "\n",
              "    .colab-df-convert {\n",
              "      background-color: #E8F0FE;\n",
              "      border: none;\n",
              "      border-radius: 50%;\n",
              "      cursor: pointer;\n",
              "      display: none;\n",
              "      fill: #1967D2;\n",
              "      height: 32px;\n",
              "      padding: 0 0 0 0;\n",
              "      width: 32px;\n",
              "    }\n",
              "\n",
              "    .colab-df-convert:hover {\n",
              "      background-color: #E2EBFA;\n",
              "      box-shadow: 0px 1px 2px rgba(60, 64, 67, 0.3), 0px 1px 3px 1px rgba(60, 64, 67, 0.15);\n",
              "      fill: #174EA6;\n",
              "    }\n",
              "\n",
              "    [theme=dark] .colab-df-convert {\n",
              "      background-color: #3B4455;\n",
              "      fill: #D2E3FC;\n",
              "    }\n",
              "\n",
              "    [theme=dark] .colab-df-convert:hover {\n",
              "      background-color: #434B5C;\n",
              "      box-shadow: 0px 1px 3px 1px rgba(0, 0, 0, 0.15);\n",
              "      filter: drop-shadow(0px 1px 2px rgba(0, 0, 0, 0.3));\n",
              "      fill: #FFFFFF;\n",
              "    }\n",
              "  </style>\n",
              "\n",
              "      <script>\n",
              "        const buttonEl =\n",
              "          document.querySelector('#df-9ddcd3f1-eadf-4101-83de-df43d0848b5e button.colab-df-convert');\n",
              "        buttonEl.style.display =\n",
              "          google.colab.kernel.accessAllowed ? 'block' : 'none';\n",
              "\n",
              "        async function convertToInteractive(key) {\n",
              "          const element = document.querySelector('#df-9ddcd3f1-eadf-4101-83de-df43d0848b5e');\n",
              "          const dataTable =\n",
              "            await google.colab.kernel.invokeFunction('convertToInteractive',\n",
              "                                                     [key], {});\n",
              "          if (!dataTable) return;\n",
              "\n",
              "          const docLinkHtml = 'Like what you see? Visit the ' +\n",
              "            '<a target=\"_blank\" href=https://colab.research.google.com/notebooks/data_table.ipynb>data table notebook</a>'\n",
              "            + ' to learn more about interactive tables.';\n",
              "          element.innerHTML = '';\n",
              "          dataTable['output_type'] = 'display_data';\n",
              "          await google.colab.output.renderOutput(dataTable, element);\n",
              "          const docLink = document.createElement('div');\n",
              "          docLink.innerHTML = docLinkHtml;\n",
              "          element.appendChild(docLink);\n",
              "        }\n",
              "      </script>\n",
              "    </div>\n",
              "  </div>\n",
              "  "
            ],
            "text/plain": [
              "                                                                                  0  \\\n",
              "Are you self-employed?                                                            0   \n",
              "How many employees does your company or organiz...                           26-100   \n",
              "Is your employer primarily a tech company/organ...                              1.0   \n",
              "Is your primary role within your company relate...                              NaN   \n",
              "Does your employer provide mental health benefi...  Not eligible for coverage / N/A   \n",
              "...                                                                             ...   \n",
              "What US state or territory do you live in?                                      NaN   \n",
              "What country do you work in?                                         United Kingdom   \n",
              "What US state or territory do you work in?                                      NaN   \n",
              "Which of the following best describes your work...               Back-end Developer   \n",
              "Do you work remotely?                                                     Sometimes   \n",
              "\n",
              "                                                                                         1  \\\n",
              "Are you self-employed?                                                                   0   \n",
              "How many employees does your company or organiz...                                    6-25   \n",
              "Is your employer primarily a tech company/organ...                                     1.0   \n",
              "Is your primary role within your company relate...                                     NaN   \n",
              "Does your employer provide mental health benefi...                                      No   \n",
              "...                                                                                    ...   \n",
              "What US state or territory do you live in?                                        Illinois   \n",
              "What country do you work in?                                      United States of America   \n",
              "What US state or territory do you work in?                                        Illinois   \n",
              "Which of the following best describes your work...  Back-end Developer|Front-end Developer   \n",
              "Do you work remotely?                                                                Never   \n",
              "\n",
              "                                                                     2  \\\n",
              "Are you self-employed?                                               0   \n",
              "How many employees does your company or organiz...                6-25   \n",
              "Is your employer primarily a tech company/organ...                 1.0   \n",
              "Is your primary role within your company relate...                 NaN   \n",
              "Does your employer provide mental health benefi...                  No   \n",
              "...                                                                ...   \n",
              "What US state or territory do you live in?                         NaN   \n",
              "What country do you work in?                            United Kingdom   \n",
              "What US state or territory do you work in?                         NaN   \n",
              "Which of the following best describes your work...  Back-end Developer   \n",
              "Do you work remotely?                                           Always   \n",
              "\n",
              "                                                                       3  \\\n",
              "Are you self-employed?                                                 1   \n",
              "How many employees does your company or organiz...                   NaN   \n",
              "Is your employer primarily a tech company/organ...                   NaN   \n",
              "Is your primary role within your company relate...                   NaN   \n",
              "Does your employer provide mental health benefi...                   NaN   \n",
              "...                                                                  ...   \n",
              "What US state or territory do you live in?                           NaN   \n",
              "What country do you work in?                              United Kingdom   \n",
              "What US state or territory do you work in?                           NaN   \n",
              "Which of the following best describes your work...  Supervisor/Team Lead   \n",
              "Do you work remotely?                                          Sometimes   \n",
              "\n",
              "                                                                                                    4  \n",
              "Are you self-employed?                                                                              0  \n",
              "How many employees does your company or organiz...                                               6-25  \n",
              "Is your employer primarily a tech company/organ...                                                0.0  \n",
              "Is your primary role within your company relate...                                                1.0  \n",
              "Does your employer provide mental health benefi...                                                Yes  \n",
              "...                                                                                               ...  \n",
              "What US state or territory do you live in?                                                   Illinois  \n",
              "What country do you work in?                                                 United States of America  \n",
              "What US state or territory do you work in?                                                   Illinois  \n",
              "Which of the following best describes your work...  Executive Leadership|Supervisor/Team Lead|Dev ...  \n",
              "Do you work remotely?                                                                       Sometimes  \n",
              "\n",
              "[63 rows x 5 columns]"
            ]
          },
          "execution_count": 5,
          "metadata": {},
          "output_type": "execute_result"
        }
      ],
      "source": [
        "df.head().T"
      ]
    },
    {
      "cell_type": "code",
      "execution_count": null,
      "metadata": {
        "colab": {
          "background_save": true
        },
        "id": "-ltvMTFUUv2C",
        "outputId": "ba92de67-f5c6-4ba0-b941-35b669e28bf3"
      },
      "outputs": [
        {
          "data": {
            "text/html": [
              "\n",
              "  <div id=\"df-f1801b82-464f-4a46-91b4-0988e0545d03\">\n",
              "    <div class=\"colab-df-container\">\n",
              "      <div>\n",
              "<style scoped>\n",
              "    .dataframe tbody tr th:only-of-type {\n",
              "        vertical-align: middle;\n",
              "    }\n",
              "\n",
              "    .dataframe tbody tr th {\n",
              "        vertical-align: top;\n",
              "    }\n",
              "\n",
              "    .dataframe thead th {\n",
              "        text-align: right;\n",
              "    }\n",
              "</style>\n",
              "<table border=\"1\" class=\"dataframe\">\n",
              "  <thead>\n",
              "    <tr style=\"text-align: right;\">\n",
              "      <th></th>\n",
              "      <th>Are you self-employed?</th>\n",
              "      <th>How many employees does your company or organization have?</th>\n",
              "      <th>Is your employer primarily a tech company/organization?</th>\n",
              "      <th>Is your primary role within your company related to tech/IT?</th>\n",
              "      <th>Does your employer provide mental health benefits as part of healthcare coverage?</th>\n",
              "      <th>Do you know the options for mental health care available under your employer-provided coverage?</th>\n",
              "      <th>Has your employer ever formally discussed mental health (for example, as part of a wellness campaign or other official communication)?</th>\n",
              "      <th>Does your employer offer resources to learn more about mental health concerns and options for seeking help?</th>\n",
              "      <th>Is your anonymity protected if you choose to take advantage of mental health or substance abuse treatment resources provided by your employer?</th>\n",
              "      <th>If a mental health issue prompted you to request a medical leave from work, asking for that leave would be:</th>\n",
              "      <th>...</th>\n",
              "      <th>If you have a mental health issue, do you feel that it interferes with your work when being treated effectively?</th>\n",
              "      <th>If you have a mental health issue, do you feel that it interferes with your work when NOT being treated effectively?</th>\n",
              "      <th>What is your age?</th>\n",
              "      <th>What is your gender?</th>\n",
              "      <th>What country do you live in?</th>\n",
              "      <th>What US state or territory do you live in?</th>\n",
              "      <th>What country do you work in?</th>\n",
              "      <th>What US state or territory do you work in?</th>\n",
              "      <th>Which of the following best describes your work position?</th>\n",
              "      <th>Do you work remotely?</th>\n",
              "    </tr>\n",
              "  </thead>\n",
              "  <tbody>\n",
              "    <tr>\n",
              "      <th>1428</th>\n",
              "      <td>1</td>\n",
              "      <td>NaN</td>\n",
              "      <td>NaN</td>\n",
              "      <td>NaN</td>\n",
              "      <td>NaN</td>\n",
              "      <td>NaN</td>\n",
              "      <td>NaN</td>\n",
              "      <td>NaN</td>\n",
              "      <td>NaN</td>\n",
              "      <td>NaN</td>\n",
              "      <td>...</td>\n",
              "      <td>Not applicable to me</td>\n",
              "      <td>Not applicable to me</td>\n",
              "      <td>34</td>\n",
              "      <td>Female</td>\n",
              "      <td>United States of America</td>\n",
              "      <td>New York</td>\n",
              "      <td>United States of America</td>\n",
              "      <td>New York</td>\n",
              "      <td>Other</td>\n",
              "      <td>Sometimes</td>\n",
              "    </tr>\n",
              "    <tr>\n",
              "      <th>1429</th>\n",
              "      <td>1</td>\n",
              "      <td>NaN</td>\n",
              "      <td>NaN</td>\n",
              "      <td>NaN</td>\n",
              "      <td>NaN</td>\n",
              "      <td>NaN</td>\n",
              "      <td>NaN</td>\n",
              "      <td>NaN</td>\n",
              "      <td>NaN</td>\n",
              "      <td>NaN</td>\n",
              "      <td>...</td>\n",
              "      <td>Sometimes</td>\n",
              "      <td>Often</td>\n",
              "      <td>56</td>\n",
              "      <td>MALE</td>\n",
              "      <td>United States of America</td>\n",
              "      <td>California</td>\n",
              "      <td>Afghanistan</td>\n",
              "      <td>NaN</td>\n",
              "      <td>Support</td>\n",
              "      <td>Sometimes</td>\n",
              "    </tr>\n",
              "    <tr>\n",
              "      <th>1430</th>\n",
              "      <td>0</td>\n",
              "      <td>100-500</td>\n",
              "      <td>1.0</td>\n",
              "      <td>NaN</td>\n",
              "      <td>Yes</td>\n",
              "      <td>Yes</td>\n",
              "      <td>Yes</td>\n",
              "      <td>Yes</td>\n",
              "      <td>I don't know</td>\n",
              "      <td>Somewhat difficult</td>\n",
              "      <td>...</td>\n",
              "      <td>Rarely</td>\n",
              "      <td>Sometimes</td>\n",
              "      <td>52</td>\n",
              "      <td>Male</td>\n",
              "      <td>United States of America</td>\n",
              "      <td>Georgia</td>\n",
              "      <td>United States of America</td>\n",
              "      <td>Georgia</td>\n",
              "      <td>Back-end Developer</td>\n",
              "      <td>Sometimes</td>\n",
              "    </tr>\n",
              "    <tr>\n",
              "      <th>1431</th>\n",
              "      <td>0</td>\n",
              "      <td>100-500</td>\n",
              "      <td>0.0</td>\n",
              "      <td>1.0</td>\n",
              "      <td>I don't know</td>\n",
              "      <td>I am not sure</td>\n",
              "      <td>No</td>\n",
              "      <td>Yes</td>\n",
              "      <td>I don't know</td>\n",
              "      <td>Somewhat difficult</td>\n",
              "      <td>...</td>\n",
              "      <td>Sometimes</td>\n",
              "      <td>Often</td>\n",
              "      <td>30</td>\n",
              "      <td>Female</td>\n",
              "      <td>United States of America</td>\n",
              "      <td>Nebraska</td>\n",
              "      <td>United States of America</td>\n",
              "      <td>Nebraska</td>\n",
              "      <td>DevOps/SysAdmin</td>\n",
              "      <td>Sometimes</td>\n",
              "    </tr>\n",
              "    <tr>\n",
              "      <th>1432</th>\n",
              "      <td>0</td>\n",
              "      <td>100-500</td>\n",
              "      <td>1.0</td>\n",
              "      <td>NaN</td>\n",
              "      <td>Yes</td>\n",
              "      <td>No</td>\n",
              "      <td>No</td>\n",
              "      <td>No</td>\n",
              "      <td>I don't know</td>\n",
              "      <td>Very difficult</td>\n",
              "      <td>...</td>\n",
              "      <td>Not applicable to me</td>\n",
              "      <td>Often</td>\n",
              "      <td>25</td>\n",
              "      <td>non-binary</td>\n",
              "      <td>Canada</td>\n",
              "      <td>NaN</td>\n",
              "      <td>Canada</td>\n",
              "      <td>NaN</td>\n",
              "      <td>Other</td>\n",
              "      <td>Sometimes</td>\n",
              "    </tr>\n",
              "  </tbody>\n",
              "</table>\n",
              "<p>5 rows × 63 columns</p>\n",
              "</div>\n",
              "      <button class=\"colab-df-convert\" onclick=\"convertToInteractive('df-f1801b82-464f-4a46-91b4-0988e0545d03')\"\n",
              "              title=\"Convert this dataframe to an interactive table.\"\n",
              "              style=\"display:none;\">\n",
              "        \n",
              "  <svg xmlns=\"http://www.w3.org/2000/svg\" height=\"24px\"viewBox=\"0 0 24 24\"\n",
              "       width=\"24px\">\n",
              "    <path d=\"M0 0h24v24H0V0z\" fill=\"none\"/>\n",
              "    <path d=\"M18.56 5.44l.94 2.06.94-2.06 2.06-.94-2.06-.94-.94-2.06-.94 2.06-2.06.94zm-11 1L8.5 8.5l.94-2.06 2.06-.94-2.06-.94L8.5 2.5l-.94 2.06-2.06.94zm10 10l.94 2.06.94-2.06 2.06-.94-2.06-.94-.94-2.06-.94 2.06-2.06.94z\"/><path d=\"M17.41 7.96l-1.37-1.37c-.4-.4-.92-.59-1.43-.59-.52 0-1.04.2-1.43.59L10.3 9.45l-7.72 7.72c-.78.78-.78 2.05 0 2.83L4 21.41c.39.39.9.59 1.41.59.51 0 1.02-.2 1.41-.59l7.78-7.78 2.81-2.81c.8-.78.8-2.07 0-2.86zM5.41 20L4 18.59l7.72-7.72 1.47 1.35L5.41 20z\"/>\n",
              "  </svg>\n",
              "      </button>\n",
              "      \n",
              "  <style>\n",
              "    .colab-df-container {\n",
              "      display:flex;\n",
              "      flex-wrap:wrap;\n",
              "      gap: 12px;\n",
              "    }\n",
              "\n",
              "    .colab-df-convert {\n",
              "      background-color: #E8F0FE;\n",
              "      border: none;\n",
              "      border-radius: 50%;\n",
              "      cursor: pointer;\n",
              "      display: none;\n",
              "      fill: #1967D2;\n",
              "      height: 32px;\n",
              "      padding: 0 0 0 0;\n",
              "      width: 32px;\n",
              "    }\n",
              "\n",
              "    .colab-df-convert:hover {\n",
              "      background-color: #E2EBFA;\n",
              "      box-shadow: 0px 1px 2px rgba(60, 64, 67, 0.3), 0px 1px 3px 1px rgba(60, 64, 67, 0.15);\n",
              "      fill: #174EA6;\n",
              "    }\n",
              "\n",
              "    [theme=dark] .colab-df-convert {\n",
              "      background-color: #3B4455;\n",
              "      fill: #D2E3FC;\n",
              "    }\n",
              "\n",
              "    [theme=dark] .colab-df-convert:hover {\n",
              "      background-color: #434B5C;\n",
              "      box-shadow: 0px 1px 3px 1px rgba(0, 0, 0, 0.15);\n",
              "      filter: drop-shadow(0px 1px 2px rgba(0, 0, 0, 0.3));\n",
              "      fill: #FFFFFF;\n",
              "    }\n",
              "  </style>\n",
              "\n",
              "      <script>\n",
              "        const buttonEl =\n",
              "          document.querySelector('#df-f1801b82-464f-4a46-91b4-0988e0545d03 button.colab-df-convert');\n",
              "        buttonEl.style.display =\n",
              "          google.colab.kernel.accessAllowed ? 'block' : 'none';\n",
              "\n",
              "        async function convertToInteractive(key) {\n",
              "          const element = document.querySelector('#df-f1801b82-464f-4a46-91b4-0988e0545d03');\n",
              "          const dataTable =\n",
              "            await google.colab.kernel.invokeFunction('convertToInteractive',\n",
              "                                                     [key], {});\n",
              "          if (!dataTable) return;\n",
              "\n",
              "          const docLinkHtml = 'Like what you see? Visit the ' +\n",
              "            '<a target=\"_blank\" href=https://colab.research.google.com/notebooks/data_table.ipynb>data table notebook</a>'\n",
              "            + ' to learn more about interactive tables.';\n",
              "          element.innerHTML = '';\n",
              "          dataTable['output_type'] = 'display_data';\n",
              "          await google.colab.output.renderOutput(dataTable, element);\n",
              "          const docLink = document.createElement('div');\n",
              "          docLink.innerHTML = docLinkHtml;\n",
              "          element.appendChild(docLink);\n",
              "        }\n",
              "      </script>\n",
              "    </div>\n",
              "  </div>\n",
              "  "
            ],
            "text/plain": [
              "      Are you self-employed?  \\\n",
              "1428                       1   \n",
              "1429                       1   \n",
              "1430                       0   \n",
              "1431                       0   \n",
              "1432                       0   \n",
              "\n",
              "     How many employees does your company or organization have?  \\\n",
              "1428                                                NaN           \n",
              "1429                                                NaN           \n",
              "1430                                            100-500           \n",
              "1431                                            100-500           \n",
              "1432                                            100-500           \n",
              "\n",
              "      Is your employer primarily a tech company/organization?  \\\n",
              "1428                                                NaN         \n",
              "1429                                                NaN         \n",
              "1430                                                1.0         \n",
              "1431                                                0.0         \n",
              "1432                                                1.0         \n",
              "\n",
              "      Is your primary role within your company related to tech/IT?  \\\n",
              "1428                                                NaN              \n",
              "1429                                                NaN              \n",
              "1430                                                NaN              \n",
              "1431                                                1.0              \n",
              "1432                                                NaN              \n",
              "\n",
              "     Does your employer provide mental health benefits as part of healthcare coverage?  \\\n",
              "1428                                                NaN                                  \n",
              "1429                                                NaN                                  \n",
              "1430                                                Yes                                  \n",
              "1431                                       I don't know                                  \n",
              "1432                                                Yes                                  \n",
              "\n",
              "     Do you know the options for mental health care available under your employer-provided coverage?  \\\n",
              "1428                                                NaN                                                \n",
              "1429                                                NaN                                                \n",
              "1430                                                Yes                                                \n",
              "1431                                      I am not sure                                                \n",
              "1432                                                 No                                                \n",
              "\n",
              "     Has your employer ever formally discussed mental health (for example, as part of a wellness campaign or other official communication)?  \\\n",
              "1428                                                NaN                                                                                       \n",
              "1429                                                NaN                                                                                       \n",
              "1430                                                Yes                                                                                       \n",
              "1431                                                 No                                                                                       \n",
              "1432                                                 No                                                                                       \n",
              "\n",
              "     Does your employer offer resources to learn more about mental health concerns and options for seeking help?  \\\n",
              "1428                                                NaN                                                            \n",
              "1429                                                NaN                                                            \n",
              "1430                                                Yes                                                            \n",
              "1431                                                Yes                                                            \n",
              "1432                                                 No                                                            \n",
              "\n",
              "     Is your anonymity protected if you choose to take advantage of mental health or substance abuse treatment resources provided by your employer?  \\\n",
              "1428                                                NaN                                                                                               \n",
              "1429                                                NaN                                                                                               \n",
              "1430                                       I don't know                                                                                               \n",
              "1431                                       I don't know                                                                                               \n",
              "1432                                       I don't know                                                                                               \n",
              "\n",
              "     If a mental health issue prompted you to request a medical leave from work, asking for that leave would be:  \\\n",
              "1428                                                NaN                                                            \n",
              "1429                                                NaN                                                            \n",
              "1430                                 Somewhat difficult                                                            \n",
              "1431                                 Somewhat difficult                                                            \n",
              "1432                                     Very difficult                                                            \n",
              "\n",
              "      ...  \\\n",
              "1428  ...   \n",
              "1429  ...   \n",
              "1430  ...   \n",
              "1431  ...   \n",
              "1432  ...   \n",
              "\n",
              "     If you have a mental health issue, do you feel that it interferes with your work when being treated effectively?  \\\n",
              "1428                               Not applicable to me                                                                 \n",
              "1429                                          Sometimes                                                                 \n",
              "1430                                             Rarely                                                                 \n",
              "1431                                          Sometimes                                                                 \n",
              "1432                               Not applicable to me                                                                 \n",
              "\n",
              "     If you have a mental health issue, do you feel that it interferes with your work when NOT being treated effectively?  \\\n",
              "1428                               Not applicable to me                                                                     \n",
              "1429                                              Often                                                                     \n",
              "1430                                          Sometimes                                                                     \n",
              "1431                                              Often                                                                     \n",
              "1432                                              Often                                                                     \n",
              "\n",
              "     What is your age? What is your gender? What country do you live in?  \\\n",
              "1428                34              Female      United States of America   \n",
              "1429                56                 MALE     United States of America   \n",
              "1430                52                 Male     United States of America   \n",
              "1431                30               Female     United States of America   \n",
              "1432                25           non-binary                       Canada   \n",
              "\n",
              "     What US state or territory do you live in?  What country do you work in?  \\\n",
              "1428                                   New York      United States of America   \n",
              "1429                                 California                   Afghanistan   \n",
              "1430                                    Georgia      United States of America   \n",
              "1431                                   Nebraska      United States of America   \n",
              "1432                                        NaN                        Canada   \n",
              "\n",
              "     What US state or territory do you work in?  \\\n",
              "1428                                   New York   \n",
              "1429                                        NaN   \n",
              "1430                                    Georgia   \n",
              "1431                                   Nebraska   \n",
              "1432                                        NaN   \n",
              "\n",
              "     Which of the following best describes your work position?  \\\n",
              "1428                                              Other          \n",
              "1429                                            Support          \n",
              "1430                                 Back-end Developer          \n",
              "1431                                    DevOps/SysAdmin          \n",
              "1432                                              Other          \n",
              "\n",
              "     Do you work remotely?  \n",
              "1428             Sometimes  \n",
              "1429             Sometimes  \n",
              "1430             Sometimes  \n",
              "1431             Sometimes  \n",
              "1432             Sometimes  \n",
              "\n",
              "[5 rows x 63 columns]"
            ]
          },
          "execution_count": 6,
          "metadata": {},
          "output_type": "execute_result"
        }
      ],
      "source": [
        "df.tail()"
      ]
    },
    {
      "cell_type": "code",
      "execution_count": null,
      "metadata": {
        "colab": {
          "background_save": true
        },
        "id": "sHxAAJ7HVhGT",
        "outputId": "935f92d9-ca8d-4215-f7bf-ada7f3450345"
      },
      "outputs": [
        {
          "data": {
            "text/plain": [
              "Index(['Are you self-employed?',\n",
              "       'How many employees does your company or organization have?',\n",
              "       'Is your employer primarily a tech company/organization?',\n",
              "       'Is your primary role within your company related to tech/IT?',\n",
              "       'Does your employer provide mental health benefits as part of healthcare coverage?',\n",
              "       'Do you know the options for mental health care available under your employer-provided coverage?',\n",
              "       'Has your employer ever formally discussed mental health (for example, as part of a wellness campaign or other official communication)?',\n",
              "       'Does your employer offer resources to learn more about mental health concerns and options for seeking help?',\n",
              "       'Is your anonymity protected if you choose to take advantage of mental health or substance abuse treatment resources provided by your employer?',\n",
              "       'If a mental health issue prompted you to request a medical leave from work, asking for that leave would be:',\n",
              "       'Do you think that discussing a mental health disorder with your employer would have negative consequences?',\n",
              "       'Do you think that discussing a physical health issue with your employer would have negative consequences?',\n",
              "       'Would you feel comfortable discussing a mental health disorder with your coworkers?',\n",
              "       'Would you feel comfortable discussing a mental health disorder with your direct supervisor(s)?',\n",
              "       'Do you feel that your employer takes mental health as seriously as physical health?',\n",
              "       'Have you heard of or observed negative consequences for co-workers who have been open about mental health issues in your workplace?',\n",
              "       'Do you have medical coverage (private insurance or state-provided) which includes treatment of  mental health issues?',\n",
              "       'Do you know local or online resources to seek help for a mental health disorder?',\n",
              "       'If you have been diagnosed or treated for a mental health disorder, do you ever reveal this to clients or business contacts?',\n",
              "       'If you have revealed a mental health issue to a client or business contact, do you believe this has impacted you negatively?',\n",
              "       'If you have been diagnosed or treated for a mental health disorder, do you ever reveal this to coworkers or employees?',\n",
              "       'If you have revealed a mental health issue to a coworker or employee, do you believe this has impacted you negatively?',\n",
              "       'Do you believe your productivity is ever affected by a mental health issue?',\n",
              "       'If yes, what percentage of your work time (time performing primary or secondary job functions) is affected by a mental health issue?',\n",
              "       'Do you have previous employers?',\n",
              "       'Have your previous employers provided mental health benefits?',\n",
              "       'Were you aware of the options for mental health care provided by your previous employers?',\n",
              "       'Did your previous employers ever formally discuss mental health (as part of a wellness campaign or other official communication)?',\n",
              "       'Did your previous employers provide resources to learn more about mental health issues and how to seek help?',\n",
              "       'Was your anonymity protected if you chose to take advantage of mental health or substance abuse treatment resources with previous employers?',\n",
              "       'Do you think that discussing a mental health disorder with previous employers would have negative consequences?',\n",
              "       'Do you think that discussing a physical health issue with previous employers would have negative consequences?',\n",
              "       'Would you have been willing to discuss a mental health issue with your previous co-workers?',\n",
              "       'Would you have been willing to discuss a mental health issue with your direct supervisor(s)?',\n",
              "       'Did you feel that your previous employers took mental health as seriously as physical health?',\n",
              "       'Did you hear of or observe negative consequences for co-workers with mental health issues in your previous workplaces?',\n",
              "       'Would you be willing to bring up a physical health issue with a potential employer in an interview?',\n",
              "       'Why or why not?',\n",
              "       'Would you bring up a mental health issue with a potential employer in an interview?',\n",
              "       'Why or why not?.1',\n",
              "       'Do you feel that being identified as a person with a mental health issue would hurt your career?',\n",
              "       'Do you think that team members/co-workers would view you more negatively if they knew you suffered from a mental health issue?',\n",
              "       'How willing would you be to share with friends and family that you have a mental illness?',\n",
              "       'Have you observed or experienced an unsupportive or badly handled response to a mental health issue in your current or previous workplace?',\n",
              "       'Have your observations of how another individual who discussed a mental health disorder made you less likely to reveal a mental health issue yourself in your current workplace?',\n",
              "       'Do you have a family history of mental illness?',\n",
              "       'Have you had a mental health disorder in the past?',\n",
              "       'Do you currently have a mental health disorder?',\n",
              "       'If yes, what condition(s) have you been diagnosed with?',\n",
              "       'If maybe, what condition(s) do you believe you have?',\n",
              "       'Have you been diagnosed with a mental health condition by a medical professional?',\n",
              "       'If so, what condition(s) were you diagnosed with?',\n",
              "       'Have you ever sought treatment for a mental health issue from a mental health professional?',\n",
              "       'If you have a mental health issue, do you feel that it interferes with your work when being treated effectively?',\n",
              "       'If you have a mental health issue, do you feel that it interferes with your work when NOT being treated effectively?',\n",
              "       'What is your age?', 'What is your gender?',\n",
              "       'What country do you live in?',\n",
              "       'What US state or territory do you live in?',\n",
              "       'What country do you work in?',\n",
              "       'What US state or territory do you work in?',\n",
              "       'Which of the following best describes your work position?',\n",
              "       'Do you work remotely?'],\n",
              "      dtype='object')"
            ]
          },
          "execution_count": 7,
          "metadata": {},
          "output_type": "execute_result"
        }
      ],
      "source": [
        "df.columns"
      ]
    },
    {
      "cell_type": "code",
      "execution_count": null,
      "metadata": {
        "colab": {
          "background_save": true
        },
        "id": "IPY5j1aRWSSC",
        "outputId": "da03b064-d5f3-45f0-cee3-21329945d3e5"
      },
      "outputs": [
        {
          "name": "stdout",
          "output_type": "stream",
          "text": [
            "['Are you self-employed?', 'How many employees does your company or organization have?', 'Is your employer primarily a tech company/organization?', 'Is your primary role within your company related to tech/IT?', 'Does your employer provide mental health benefits as part of healthcare coverage?', 'Do you know the options for mental health care available under your employer-provided coverage?', 'Has your employer ever formally discussed mental health (for example, as part of a wellness campaign or other official communication)?', 'Does your employer offer resources to learn more about mental health concerns and options for seeking help?', 'Is your anonymity protected if you choose to take advantage of mental health or substance abuse treatment resources provided by your employer?', 'If a mental health issue prompted you to request a medical leave from work, asking for that leave would be:', 'Do you think that discussing a mental health disorder with your employer would have negative consequences?', 'Do you think that discussing a physical health issue with your employer would have negative consequences?', 'Would you feel comfortable discussing a mental health disorder with your coworkers?', 'Would you feel comfortable discussing a mental health disorder with your direct supervisor(s)?', 'Do you feel that your employer takes mental health as seriously as physical health?', 'Have you heard of or observed negative consequences for co-workers who have been open about mental health issues in your workplace?', 'Do you have medical coverage (private insurance or state-provided) which includes treatment of \\xa0mental health issues?', 'Do you know local or online resources to seek help for a mental health disorder?', 'If you have been diagnosed or treated for a mental health disorder, do you ever reveal this to clients or business contacts?', 'If you have revealed a mental health issue to a client or business contact, do you believe this has impacted you negatively?', 'If you have been diagnosed or treated for a mental health disorder, do you ever reveal this to coworkers or employees?', 'If you have revealed a mental health issue to a coworker or employee, do you believe this has impacted you negatively?', 'Do you believe your productivity is ever affected by a mental health issue?', 'If yes, what percentage of your work time (time performing primary or secondary job functions) is affected by a mental health issue?', 'Do you have previous employers?', 'Have your previous employers provided mental health benefits?', 'Were you aware of the options for mental health care provided by your previous employers?', 'Did your previous employers ever formally discuss mental health (as part of a wellness campaign or other official communication)?', 'Did your previous employers provide resources to learn more about mental health issues and how to seek help?', 'Was your anonymity protected if you chose to take advantage of mental health or substance abuse treatment resources with previous employers?', 'Do you think that discussing a mental health disorder with previous employers would have negative consequences?', 'Do you think that discussing a physical health issue with previous employers would have negative consequences?', 'Would you have been willing to discuss a mental health issue with your previous co-workers?', 'Would you have been willing to discuss a mental health issue with your direct supervisor(s)?', 'Did you feel that your previous employers took mental health as seriously as physical health?', 'Did you hear of or observe negative consequences for co-workers with mental health issues in your previous workplaces?', 'Would you be willing to bring up a physical health issue with a potential employer in an interview?', 'Why or why not?', 'Would you bring up a mental health issue with a potential employer in an interview?', 'Why or why not?.1', 'Do you feel that being identified as a person with a mental health issue would hurt your career?', 'Do you think that team members/co-workers would view you more negatively if they knew you suffered from a mental health issue?', 'How willing would you be to share with friends and family that you have a mental illness?', 'Have you observed or experienced an unsupportive or badly handled response to a mental health issue in your current or previous workplace?', 'Have your observations of how another individual who discussed a mental health disorder made you less likely to reveal a mental health issue yourself in your current workplace?', 'Do you have a family history of mental illness?', 'Have you had a mental health disorder in the past?', 'Do you currently have a mental health disorder?', 'If yes, what condition(s) have you been diagnosed with?', 'If maybe, what condition(s) do you believe you have?', 'Have you been diagnosed with a mental health condition by a medical professional?', 'If so, what condition(s) were you diagnosed with?', 'Have you ever sought treatment for a mental health issue from a mental health professional?', 'If you have a mental health issue, do you feel that it interferes with your work when being treated effectively?', 'If you have a mental health issue, do you feel that it interferes with your work when NOT being treated effectively?', 'What is your age?', 'What is your gender?', 'What country do you live in?', 'What US state or territory do you live in?', 'What country do you work in?', 'What US state or territory do you work in?', 'Which of the following best describes your work position?', 'Do you work remotely?']\n"
          ]
        }
      ],
      "source": [
        "columns = []\n",
        "\n",
        "for i in df.columns:\n",
        "  columns.append(i)\n",
        "\n",
        "print(columns)"
      ]
    },
    {
      "cell_type": "code",
      "execution_count": null,
      "metadata": {
        "colab": {
          "background_save": true
        },
        "id": "f2i-G_z6YG9d"
      },
      "outputs": [],
      "source": [
        "empty = pd.DataFrame(df.isna().sum())\n",
        "\n",
        "empty_col = []\n",
        "\n",
        "for i in range(len(columns)):\n",
        "  if empty.iloc[i][0]/1432 > 0.5:\n",
        "    empty_col.append(columns[i])"
      ]
    },
    {
      "cell_type": "code",
      "execution_count": null,
      "metadata": {
        "colab": {
          "background_save": true
        },
        "id": "Wkv5z0l9Yknb",
        "outputId": "e714352f-3714-4b05-93f5-6510b68e2813"
      },
      "outputs": [
        {
          "data": {
            "text/plain": [
              "13"
            ]
          },
          "execution_count": 10,
          "metadata": {},
          "output_type": "execute_result"
        }
      ],
      "source": [
        "len(empty_col)"
      ]
    },
    {
      "cell_type": "code",
      "execution_count": null,
      "metadata": {
        "colab": {
          "background_save": true
        },
        "id": "ZC6beSEyadPd",
        "outputId": "072eb23e-ee1d-4242-9852-d9ae9e2418ee"
      },
      "outputs": [
        {
          "data": {
            "text/plain": [
              "['Is your primary role within your company related to tech/IT?',\n",
              " 'Do you have medical coverage (private insurance or state-provided) which includes treatment of \\xa0mental health issues?',\n",
              " 'Do you know local or online resources to seek help for a mental health disorder?',\n",
              " 'If you have been diagnosed or treated for a mental health disorder, do you ever reveal this to clients or business contacts?',\n",
              " 'If you have revealed a mental health issue to a client or business contact, do you believe this has impacted you negatively?',\n",
              " 'If you have been diagnosed or treated for a mental health disorder, do you ever reveal this to coworkers or employees?',\n",
              " 'If you have revealed a mental health issue to a coworker or employee, do you believe this has impacted you negatively?',\n",
              " 'Do you believe your productivity is ever affected by a mental health issue?',\n",
              " 'If yes, what percentage of your work time (time performing primary or secondary job functions) is affected by a mental health issue?',\n",
              " 'Have your observations of how another individual who discussed a mental health disorder made you less likely to reveal a mental health issue yourself in your current workplace?',\n",
              " 'If yes, what condition(s) have you been diagnosed with?',\n",
              " 'If maybe, what condition(s) do you believe you have?',\n",
              " 'If so, what condition(s) were you diagnosed with?']"
            ]
          },
          "execution_count": 11,
          "metadata": {},
          "output_type": "execute_result"
        }
      ],
      "source": [
        "empty_col"
      ]
    },
    {
      "cell_type": "code",
      "execution_count": null,
      "metadata": {
        "colab": {
          "background_save": true
        },
        "id": "A7qyN8afafou"
      },
      "outputs": [],
      "source": [
        "df.drop(empty_col,axis=1,inplace=True)"
      ]
    },
    {
      "cell_type": "code",
      "execution_count": null,
      "metadata": {
        "colab": {
          "background_save": true
        },
        "id": "CUgqDInSbnJ0",
        "outputId": "a855eb0f-eb82-41d0-b3ce-c92fa3b7707b"
      },
      "outputs": [
        {
          "data": {
            "text/plain": [
              "50"
            ]
          },
          "execution_count": 13,
          "metadata": {},
          "output_type": "execute_result"
        }
      ],
      "source": [
        "len(df.columns)"
      ]
    },
    {
      "cell_type": "code",
      "execution_count": null,
      "metadata": {
        "colab": {
          "background_save": true
        },
        "id": "Hx0PGPdHb3O4",
        "outputId": "00af9435-1a16-4928-dc1e-205968efa6dd"
      },
      "outputs": [
        {
          "name": "stdout",
          "output_type": "stream",
          "text": [
            "Are you self-employed?\n",
            "0    1146\n",
            "1     287\n",
            "Name: Are you self-employed?, dtype: int64\n",
            "*****************************************\n",
            "\n",
            "\n",
            "How many employees does your company or organization have?\n",
            "26-100            292\n",
            "More than 1000    256\n",
            "100-500           248\n",
            "6-25              210\n",
            "500-1000           80\n",
            "1-5                60\n",
            "Name: How many employees does your company or organization have?, dtype: int64\n",
            "*****************************************\n",
            "\n",
            "\n",
            "Is your employer primarily a tech company/organization?\n",
            "1.0    883\n",
            "0.0    263\n",
            "Name: Is your employer primarily a tech company/organization?, dtype: int64\n",
            "*****************************************\n",
            "\n",
            "\n",
            "Does your employer provide mental health benefits as part of healthcare coverage?\n",
            "Yes                                531\n",
            "I don't know                       319\n",
            "No                                 213\n",
            "Not eligible for coverage / N/A     83\n",
            "Name: Does your employer provide mental health benefits as part of healthcare coverage?, dtype: int64\n",
            "*****************************************\n",
            "\n",
            "\n",
            "Do you know the options for mental health care available under your employer-provided coverage?\n",
            "No               354\n",
            "I am not sure    352\n",
            "Yes              307\n",
            "Name: Do you know the options for mental health care available under your employer-provided coverage?, dtype: int64\n",
            "*****************************************\n",
            "\n",
            "\n",
            "Has your employer ever formally discussed mental health (for example, as part of a wellness campaign or other official communication)?\n",
            "No              813\n",
            "Yes             230\n",
            "I don't know    103\n",
            "Name: Has your employer ever formally discussed mental health (for example, as part of a wellness campaign or other official communication)?, dtype: int64\n",
            "*****************************************\n",
            "\n",
            "\n",
            "Does your employer offer resources to learn more about mental health concerns and options for seeking help?\n",
            "No              531\n",
            "I don't know    320\n",
            "Yes             295\n",
            "Name: Does your employer offer resources to learn more about mental health concerns and options for seeking help?, dtype: int64\n",
            "*****************************************\n",
            "\n",
            "\n",
            "Is your anonymity protected if you choose to take advantage of mental health or substance abuse treatment resources provided by your employer?\n",
            "I don't know    742\n",
            "Yes             320\n",
            "No               84\n",
            "Name: Is your anonymity protected if you choose to take advantage of mental health or substance abuse treatment resources provided by your employer?, dtype: int64\n",
            "*****************************************\n",
            "\n",
            "\n",
            "If a mental health issue prompted you to request a medical leave from work, asking for that leave would be:\n",
            "Somewhat easy                 281\n",
            "Very easy                     220\n",
            "Somewhat difficult            199\n",
            "Neither easy nor difficult    178\n",
            "I don't know                  150\n",
            "Very difficult                118\n",
            "Name: If a mental health issue prompted you to request a medical leave from work, asking for that leave would be:, dtype: int64\n",
            "*****************************************\n",
            "\n",
            "\n",
            "Do you think that discussing a mental health disorder with your employer would have negative consequences?\n",
            "Maybe    487\n",
            "No       438\n",
            "Yes      221\n",
            "Name: Do you think that discussing a mental health disorder with your employer would have negative consequences?, dtype: int64\n",
            "*****************************************\n",
            "\n",
            "\n",
            "Do you think that discussing a physical health issue with your employer would have negative consequences?\n",
            "No       837\n",
            "Maybe    268\n",
            "Yes       41\n",
            "Name: Do you think that discussing a physical health issue with your employer would have negative consequences?, dtype: int64\n",
            "*****************************************\n",
            "\n",
            "\n",
            "Would you feel comfortable discussing a mental health disorder with your coworkers?\n",
            "Maybe    479\n",
            "No       392\n",
            "Yes      275\n",
            "Name: Would you feel comfortable discussing a mental health disorder with your coworkers?, dtype: int64\n",
            "*****************************************\n",
            "\n",
            "\n",
            "Would you feel comfortable discussing a mental health disorder with your direct supervisor(s)?\n",
            "Yes      428\n",
            "Maybe    382\n",
            "No       336\n",
            "Name: Would you feel comfortable discussing a mental health disorder with your direct supervisor(s)?, dtype: int64\n",
            "*****************************************\n",
            "\n",
            "\n",
            "Do you feel that your employer takes mental health as seriously as physical health?\n",
            "I don't know    493\n",
            "Yes             350\n",
            "No              303\n",
            "Name: Do you feel that your employer takes mental health as seriously as physical health?, dtype: int64\n",
            "*****************************************\n",
            "\n",
            "\n",
            "Have you heard of or observed negative consequences for co-workers who have been open about mental health issues in your workplace?\n",
            "No     1048\n",
            "Yes      98\n",
            "Name: Have you heard of or observed negative consequences for co-workers who have been open about mental health issues in your workplace?, dtype: int64\n",
            "*****************************************\n",
            "\n",
            "\n",
            "Do you have previous employers?\n",
            "1    1264\n",
            "0     169\n",
            "Name: Do you have previous employers?, dtype: int64\n",
            "*****************************************\n",
            "\n",
            "\n",
            "Have your previous employers provided mental health benefits?\n",
            "Some did             391\n",
            "No, none did         372\n",
            "I don't know         313\n",
            "Yes, they all did    188\n",
            "Name: Have your previous employers provided mental health benefits?, dtype: int64\n",
            "*****************************************\n",
            "\n",
            "\n",
            "Were you aware of the options for mental health care provided by your previous employers?\n",
            "N/A (not currently aware)          582\n",
            "I was aware of some                384\n",
            "Yes, I was aware of all of them    181\n",
            "No, I only became aware later      117\n",
            "Name: Were you aware of the options for mental health care provided by your previous employers?, dtype: int64\n",
            "*****************************************\n",
            "\n",
            "\n",
            "Did your previous employers ever formally discuss mental health (as part of a wellness campaign or other official communication)?\n",
            "None did             890\n",
            "Some did             255\n",
            "I don't know          86\n",
            "Yes, they all did     33\n",
            "Name: Did your previous employers ever formally discuss mental health (as part of a wellness campaign or other official communication)?, dtype: int64\n",
            "*****************************************\n",
            "\n",
            "\n",
            "Did your previous employers provide resources to learn more about mental health issues and how to seek help?\n",
            "None did             842\n",
            "Some did             371\n",
            "Yes, they all did     51\n",
            "Name: Did your previous employers provide resources to learn more about mental health issues and how to seek help?, dtype: int64\n",
            "*****************************************\n",
            "\n",
            "\n",
            "Was your anonymity protected if you chose to take advantage of mental health or substance abuse treatment resources with previous employers?\n",
            "I don't know    860\n",
            "Yes, always     164\n",
            "No              121\n",
            "Sometimes       119\n",
            "Name: Was your anonymity protected if you chose to take advantage of mental health or substance abuse treatment resources with previous employers?, dtype: int64\n",
            "*****************************************\n",
            "\n",
            "\n",
            "Do you think that discussing a mental health disorder with previous employers would have negative consequences?\n",
            "Some of them        615\n",
            "I don't know        310\n",
            "Yes, all of them    226\n",
            "None of them        113\n",
            "Name: Do you think that discussing a mental health disorder with previous employers would have negative consequences?, dtype: int64\n",
            "*****************************************\n",
            "\n",
            "\n",
            "Do you think that discussing a physical health issue with previous employers would have negative consequences?\n",
            "Some of them        631\n",
            "None of them        559\n",
            "Yes, all of them     74\n",
            "Name: Do you think that discussing a physical health issue with previous employers would have negative consequences?, dtype: int64\n",
            "*****************************************\n",
            "\n",
            "\n",
            "Would you have been willing to discuss a mental health issue with your previous co-workers?\n",
            "Some of my previous employers           740\n",
            "No, at none of my previous employers    430\n",
            "Yes, at all of my previous employers     94\n",
            "Name: Would you have been willing to discuss a mental health issue with your previous co-workers?, dtype: int64\n",
            "*****************************************\n",
            "\n",
            "\n",
            "Would you have been willing to discuss a mental health issue with your direct supervisor(s)?\n",
            "Some of my previous employers           654\n",
            "No, at none of my previous employers    416\n",
            "I don't know                            101\n",
            "Yes, at all of my previous employers     93\n",
            "Name: Would you have been willing to discuss a mental health issue with your direct supervisor(s)?, dtype: int64\n",
            "*****************************************\n",
            "\n",
            "\n",
            "Did you feel that your previous employers took mental health as seriously as physical health?\n",
            "None did             463\n",
            "Some did             427\n",
            "I don't know         331\n",
            "Yes, they all did     43\n",
            "Name: Did you feel that your previous employers took mental health as seriously as physical health?, dtype: int64\n",
            "*****************************************\n",
            "\n",
            "\n",
            "Did you hear of or observe negative consequences for co-workers with mental health issues in your previous workplaces?\n",
            "None of them        758\n",
            "Some of them        444\n",
            "Yes, all of them     62\n",
            "Name: Did you hear of or observe negative consequences for co-workers with mental health issues in your previous workplaces?, dtype: int64\n",
            "*****************************************\n",
            "\n",
            "\n",
            "Would you be willing to bring up a physical health issue with a potential employer in an interview?\n",
            "Maybe    633\n",
            "No       441\n",
            "Yes      359\n",
            "Name: Would you be willing to bring up a physical health issue with a potential employer in an interview?, dtype: int64\n",
            "*****************************************\n",
            "\n",
            "\n",
            "Why or why not?\n",
            "Not relevant                                                                                                3\n",
            "I don't know                                                                                                3\n",
            "Fear of discrimination                                                                                      3\n",
            "None of their business.                                                                                     2\n",
            "bias                                                                                                        2\n",
            "                                                                                                           ..\n",
            "because it is important to do the job                                                                       1\n",
            "The employers reaction would tell a lot of the type of company I'd be joining.                              1\n",
            "If it was relevant to the job, then yes.                                                                    1\n",
            "I would bring it up only if it were already obvious and/or would not be likely to affect my performance.    1\n",
            "Stigma with some diseases                                                                                   1\n",
            "Name: Why or why not?, Length: 1085, dtype: int64\n",
            "*****************************************\n",
            "\n",
            "\n",
            "Would you bring up a mental health issue with a potential employer in an interview?\n",
            "No       883\n",
            "Maybe    438\n",
            "Yes      112\n",
            "Name: Would you bring up a mental health issue with a potential employer in an interview?, dtype: int64\n",
            "*****************************************\n",
            "\n",
            "\n",
            "Why or why not?.1\n",
            "Stigma                                                                                                                                                                                                                                                                    14\n",
            "Stigma.                                                                                                                                                                                                                                                                    9\n",
            "Same as above                                                                                                                                                                                                                                                              7\n",
            "See above                                                                                                                                                                                                                                                                  4\n",
            "Same reason as above.                                                                                                                                                                                                                                                      3\n",
            "                                                                                                                                                                                                                                                                          ..\n",
            "because it hurts me                                                                                                                                                                                                                                                        1\n",
            "Reaction would tell a lot of the type of employer they are.                                                                                                                                                                                                                1\n",
            "If was relevant to the job, then yes. But I do think that discussing mental health in a job interview is more risky (because of the negative perception it could create) than discussing physical health issues.                                                           1\n",
            "I feel that a mental health issue would not be something I'd want them to take into account as part of the hiring process, unless it were a serious enough issue that I wouldn't want to work for an employer who was not willing to make accommodations for my issue.     1\n",
            "Feels like I'm making a mountain out of a molehill                                                                                                                                                                                                                         1\n",
            "Name: Why or why not?.1, Length: 1080, dtype: int64\n",
            "*****************************************\n",
            "\n",
            "\n",
            "Do you feel that being identified as a person with a mental health issue would hurt your career?\n",
            "Maybe                         588\n",
            "Yes, I think it would         563\n",
            "No, I don't think it would    147\n",
            "Yes, it has                   105\n",
            "No, it has not                 30\n",
            "Name: Do you feel that being identified as a person with a mental health issue would hurt your career?, dtype: int64\n",
            "*****************************************\n",
            "\n",
            "\n",
            "Do you think that team members/co-workers would view you more negatively if they knew you suffered from a mental health issue?\n",
            "Maybe                           591\n",
            "Yes, I think they would         403\n",
            "No, I don't think they would    348\n",
            "No, they do not                  49\n",
            "Yes, they do                     42\n",
            "Name: Do you think that team members/co-workers would view you more negatively if they knew you suffered from a mental health issue?, dtype: int64\n",
            "*****************************************\n",
            "\n",
            "\n",
            "How willing would you be to share with friends and family that you have a mental illness?\n",
            "Somewhat open                                            640\n",
            "Very open                                                251\n",
            "Somewhat not open                                        214\n",
            "Neutral                                                  141\n",
            "Not applicable to me (I do not have a mental illness)    112\n",
            "Not open at all                                           75\n",
            "Name: How willing would you be to share with friends and family that you have a mental illness?, dtype: int64\n",
            "*****************************************\n",
            "\n",
            "\n",
            "Have you observed or experienced an unsupportive or badly handled response to a mental health issue in your current or previous workplace?\n",
            "No                    567\n",
            "Maybe/Not sure        346\n",
            "Yes, I observed       264\n",
            "Yes, I experienced    167\n",
            "Name: Have you observed or experienced an unsupportive or badly handled response to a mental health issue in your current or previous workplace?, dtype: int64\n",
            "*****************************************\n",
            "\n",
            "\n",
            "Do you have a family history of mental illness?\n",
            "Yes             670\n",
            "No              488\n",
            "I don't know    275\n",
            "Name: Do you have a family history of mental illness?, dtype: int64\n",
            "*****************************************\n",
            "\n",
            "\n",
            "Have you had a mental health disorder in the past?\n",
            "Yes      736\n",
            "No       451\n",
            "Maybe    246\n",
            "Name: Have you had a mental health disorder in the past?, dtype: int64\n",
            "*****************************************\n",
            "\n",
            "\n",
            "Do you currently have a mental health disorder?\n",
            "Yes      575\n",
            "No       531\n",
            "Maybe    327\n",
            "Name: Do you currently have a mental health disorder?, dtype: int64\n",
            "*****************************************\n",
            "\n",
            "\n",
            "Have you been diagnosed with a mental health condition by a medical professional?\n",
            "No     717\n",
            "Yes    716\n",
            "Name: Have you been diagnosed with a mental health condition by a medical professional?, dtype: int64\n",
            "*****************************************\n",
            "\n",
            "\n",
            "Have you ever sought treatment for a mental health issue from a mental health professional?\n",
            "1    839\n",
            "0    594\n",
            "Name: Have you ever sought treatment for a mental health issue from a mental health professional?, dtype: int64\n",
            "*****************************************\n",
            "\n",
            "\n",
            "If you have a mental health issue, do you feel that it interferes with your work when being treated effectively?\n",
            "Not applicable to me    557\n",
            "Sometimes               369\n",
            "Rarely                  322\n",
            "Never                   120\n",
            "Often                    65\n",
            "Name: If you have a mental health issue, do you feel that it interferes with your work when being treated effectively?, dtype: int64\n",
            "*****************************************\n",
            "\n",
            "\n",
            "If you have a mental health issue, do you feel that it interferes with your work when NOT being treated effectively?\n",
            "Often                   538\n",
            "Not applicable to me    468\n",
            "Sometimes               363\n",
            "Rarely                   52\n",
            "Never                    12\n",
            "Name: If you have a mental health issue, do you feel that it interferes with your work when NOT being treated effectively?, dtype: int64\n",
            "*****************************************\n",
            "\n",
            "\n",
            "What is your age?\n",
            "30     94\n",
            "31     82\n",
            "29     79\n",
            "28     74\n",
            "35     74\n",
            "32     72\n",
            "33     69\n",
            "34     69\n",
            "26     64\n",
            "27     63\n",
            "37     59\n",
            "39     55\n",
            "38     54\n",
            "36     50\n",
            "25     44\n",
            "24     42\n",
            "40     36\n",
            "22     32\n",
            "44     31\n",
            "43     30\n",
            "42     29\n",
            "45     27\n",
            "23     24\n",
            "41     24\n",
            "46     22\n",
            "21     15\n",
            "47     14\n",
            "49     13\n",
            "55     12\n",
            "50      9\n",
            "48      9\n",
            "54      7\n",
            "52      7\n",
            "51      7\n",
            "20      6\n",
            "56      5\n",
            "63      4\n",
            "57      4\n",
            "19      4\n",
            "53      3\n",
            "61      2\n",
            "59      2\n",
            "66      1\n",
            "74      1\n",
            "65      1\n",
            "15      1\n",
            "17      1\n",
            "3       1\n",
            "58      1\n",
            "62      1\n",
            "323     1\n",
            "99      1\n",
            "70      1\n",
            "Name: What is your age?, dtype: int64\n",
            "*****************************************\n",
            "\n",
            "\n",
            "What is your gender?\n",
            "Male           610\n",
            "male           249\n",
            "Female         153\n",
            "female          95\n",
            "M               86\n",
            "              ... \n",
            "cis male         1\n",
            "Human            1\n",
            "Genderfluid      1\n",
            "Enby             1\n",
            "MALE             1\n",
            "Name: What is your gender?, Length: 70, dtype: int64\n",
            "*****************************************\n",
            "\n",
            "\n",
            "What country do you live in?\n",
            "United States of America    840\n",
            "United Kingdom              180\n",
            "Canada                       78\n",
            "Germany                      58\n",
            "Netherlands                  48\n",
            "Australia                    35\n",
            "Sweden                       19\n",
            "France                       16\n",
            "Ireland                      15\n",
            "Switzerland                  10\n",
            "Brazil                       10\n",
            "New Zealand                   9\n",
            "India                         9\n",
            "Russia                        9\n",
            "Bulgaria                      7\n",
            "Finland                       7\n",
            "Denmark                       7\n",
            "Italy                         5\n",
            "Belgium                       5\n",
            "South Africa                  4\n",
            "Romania                       4\n",
            "Spain                         4\n",
            "Poland                        4\n",
            "Austria                       4\n",
            "Norway                        3\n",
            "Pakistan                      3\n",
            "Chile                         3\n",
            "Czech Republic                3\n",
            "Japan                         2\n",
            "Israel                        2\n",
            "Other                         2\n",
            "Bosnia and Herzegovina        2\n",
            "Afghanistan                   2\n",
            "Estonia                       2\n",
            "Mexico                        2\n",
            "Colombia                      2\n",
            "Lithuania                     2\n",
            "Algeria                       1\n",
            "Serbia                        1\n",
            "Taiwan                        1\n",
            "Guatemala                     1\n",
            "China                         1\n",
            "Venezuela                     1\n",
            "Ecuador                       1\n",
            "Hungary                       1\n",
            "Bangladesh                    1\n",
            "Iran                          1\n",
            "Argentina                     1\n",
            "Brunei                        1\n",
            "Vietnam                       1\n",
            "Greece                        1\n",
            "Slovakia                      1\n",
            "Costa Rica                    1\n",
            "Name: What country do you live in?, dtype: int64\n",
            "*****************************************\n",
            "\n",
            "\n",
            "What US state or territory do you live in?\n",
            "California              130\n",
            "Illinois                 56\n",
            "Michigan                 48\n",
            "New York                 45\n",
            "Washington               43\n",
            "Texas                    43\n",
            "Minnesota                42\n",
            "Oregon                   37\n",
            "Pennsylvania             33\n",
            "Colorado                 28\n",
            "Tennessee                27\n",
            "Ohio                     25\n",
            "Indiana                  25\n",
            "Massachusetts            23\n",
            "North Carolina           21\n",
            "Florida                  21\n",
            "Maryland                 16\n",
            "Virginia                 15\n",
            "Kansas                   14\n",
            "Georgia                  14\n",
            "Wisconsin                13\n",
            "Oklahoma                 13\n",
            "Missouri                 12\n",
            "Nebraska                 12\n",
            "New Jersey                7\n",
            "Utah                      6\n",
            "Iowa                      5\n",
            "New Hampshire             5\n",
            "Arizona                   5\n",
            "Maine                     5\n",
            "Connecticut               5\n",
            "Vermont                   5\n",
            "Kentucky                  4\n",
            "South Dakota              4\n",
            "North Dakota              4\n",
            "New Mexico                4\n",
            "Alabama                   4\n",
            "Rhode Island              3\n",
            "Idaho                     3\n",
            "District of Columbia      3\n",
            "Nevada                    3\n",
            "West Virginia             2\n",
            "Louisiana                 2\n",
            "Alaska                    2\n",
            "South Carolina            1\n",
            "Montana                   1\n",
            "Delaware                  1\n",
            "Name: What US state or territory do you live in?, dtype: int64\n",
            "*****************************************\n",
            "\n",
            "\n",
            "What country do you work in?\n",
            "United States of America    851\n",
            "United Kingdom              183\n",
            "Canada                       74\n",
            "Germany                      58\n",
            "Netherlands                  47\n",
            "Australia                    34\n",
            "Sweden                       20\n",
            "Ireland                      15\n",
            "France                       14\n",
            "Switzerland                  10\n",
            "Brazil                       10\n",
            "India                         9\n",
            "Russia                        9\n",
            "New Zealand                   9\n",
            "Denmark                       7\n",
            "Bulgaria                      7\n",
            "Finland                       7\n",
            "Belgium                       5\n",
            "South Africa                  4\n",
            "Poland                        4\n",
            "Austria                       4\n",
            "Czech Republic                3\n",
            "Italy                         3\n",
            "Chile                         3\n",
            "Norway                        3\n",
            "Romania                       3\n",
            "Spain                         3\n",
            "Other                         2\n",
            "Bosnia and Herzegovina        2\n",
            "Afghanistan                   2\n",
            "Pakistan                      2\n",
            "Israel                        2\n",
            "Estonia                       2\n",
            "Colombia                      2\n",
            "Mexico                        2\n",
            "Slovakia                      1\n",
            "United Arab Emirates          1\n",
            "Serbia                        1\n",
            "Guatemala                     1\n",
            "Lithuania                     1\n",
            "China                         1\n",
            "Venezuela                     1\n",
            "Ecuador                       1\n",
            "Japan                         1\n",
            "Hungary                       1\n",
            "Vietnam                       1\n",
            "Iran                          1\n",
            "Brunei                        1\n",
            "Argentina                     1\n",
            "Greece                        1\n",
            "Costa Rica                    1\n",
            "Bangladesh                    1\n",
            "Turkey                        1\n",
            "Name: What country do you work in?, dtype: int64\n",
            "*****************************************\n",
            "\n",
            "\n",
            "What US state or territory do you work in?\n",
            "California              141\n",
            "Illinois                 58\n",
            "New York                 49\n",
            "Michigan                 47\n",
            "Texas                    44\n",
            "Minnesota                43\n",
            "Washington               42\n",
            "Oregon                   34\n",
            "Pennsylvania             32\n",
            "Colorado                 28\n",
            "Tennessee                28\n",
            "Massachusetts            25\n",
            "Indiana                  25\n",
            "Ohio                     25\n",
            "North Carolina           21\n",
            "Florida                  19\n",
            "Wisconsin                14\n",
            "Oklahoma                 14\n",
            "Maryland                 14\n",
            "Georgia                  14\n",
            "Kansas                   14\n",
            "Virginia                 13\n",
            "Nebraska                 12\n",
            "Missouri                 11\n",
            "District of Columbia      7\n",
            "New Jersey                7\n",
            "Utah                      6\n",
            "Arizona                   6\n",
            "Connecticut               5\n",
            "Vermont                   5\n",
            "Iowa                      5\n",
            "Maine                     4\n",
            "Kentucky                  4\n",
            "New Mexico                4\n",
            "South Dakota              4\n",
            "Alabama                   4\n",
            "North Dakota              4\n",
            "New Hampshire             3\n",
            "Nevada                    3\n",
            "Louisiana                 2\n",
            "Rhode Island              2\n",
            "Idaho                     2\n",
            "Alaska                    2\n",
            "West Virginia             1\n",
            "South Carolina            1\n",
            "Hawaii                    1\n",
            "Montana                   1\n",
            "Delaware                  1\n",
            "Name: What US state or territory do you work in?, dtype: int64\n",
            "*****************************************\n",
            "\n",
            "\n",
            "Which of the following best describes your work position?\n",
            "Back-end Developer                                                                                              263\n",
            "Front-end Developer                                                                                             125\n",
            "Other                                                                                                           112\n",
            "Supervisor/Team Lead                                                                                             68\n",
            "Back-end Developer|Front-end Developer                                                                           61\n",
            "                                                                                                               ... \n",
            "Front-end Developer|Back-end Developer|Support|Dev Evangelist/Advocate                                            1\n",
            "Front-end Developer|Back-end Developer|Support|DevOps/SysAdmin|Dev Evangelist/Advocate                            1\n",
            "Other|Dev Evangelist/Advocate|DevOps/SysAdmin|Support|Back-end Developer|Front-end Developer|One-person shop      1\n",
            "Dev Evangelist/Advocate|Support|Back-end Developer|Front-end Developer                                            1\n",
            "Supervisor/Team Lead|Front-end Developer|Back-end Developer|DevOps/SysAdmin|Dev Evangelist/Advocate               1\n",
            "Name: Which of the following best describes your work position?, Length: 264, dtype: int64\n",
            "*****************************************\n",
            "\n",
            "\n",
            "Do you work remotely?\n",
            "Sometimes    757\n",
            "Always       343\n",
            "Never        333\n",
            "Name: Do you work remotely?, dtype: int64\n",
            "*****************************************\n",
            "\n",
            "\n"
          ]
        }
      ],
      "source": [
        "for i in df.columns:\n",
        "  print(i)\n",
        "  print(df[f\"{i}\"].value_counts())\n",
        "  print(\"*****************************************\")\n",
        "  print(\"\\n\")"
      ]
    },
    {
      "cell_type": "code",
      "execution_count": null,
      "metadata": {
        "colab": {
          "background_save": true
        },
        "id": "NW8HM-laF1la",
        "outputId": "38224ee2-56dc-4d40-e5b7-ceb7ca50ccaf"
      },
      "outputs": [
        {
          "data": {
            "text/plain": [
              "['Male',\n",
              " 'male',\n",
              " 'Male ',\n",
              " 'Female',\n",
              " 'M',\n",
              " 'female',\n",
              " 'm',\n",
              " 'I identify as female.',\n",
              " 'female ',\n",
              " 'Bigender',\n",
              " 'non-binary',\n",
              " 'Female assigned at birth ',\n",
              " 'F',\n",
              " 'Woman',\n",
              " 'man',\n",
              " 'fm',\n",
              " 'f',\n",
              " 'Cis female ',\n",
              " 'Transitioned, M2F',\n",
              " 'Genderfluid (born female)',\n",
              " 'Other/Transfeminine',\n",
              " 'Female or Multi-Gender Femme',\n",
              " 'Female ',\n",
              " 'woman',\n",
              " 'female/woman',\n",
              " 'Cis male',\n",
              " 'Male.',\n",
              " 'Androgynous',\n",
              " 'male 9:1 female, roughly',\n",
              " nan,\n",
              " 'Male (cis)',\n",
              " 'Other',\n",
              " 'nb masculine',\n",
              " 'Cisgender Female',\n",
              " 'Man',\n",
              " 'Sex is male',\n",
              " 'none of your business',\n",
              " 'genderqueer',\n",
              " 'cis male',\n",
              " 'Human',\n",
              " 'Genderfluid',\n",
              " 'Enby',\n",
              " 'Malr',\n",
              " 'genderqueer woman',\n",
              " 'mtf',\n",
              " 'Queer',\n",
              " 'Agender',\n",
              " 'Dude',\n",
              " 'Fluid',\n",
              " \"I'm a man why didn't you make this a drop down question. You should of asked sex? And I would of answered yes please. Seriously how much text can this take? \",\n",
              " 'mail',\n",
              " 'M|',\n",
              " 'Male/genderqueer',\n",
              " 'fem',\n",
              " 'Nonbinary',\n",
              " 'male ',\n",
              " 'human',\n",
              " 'Female (props for making this a freeform field, though)',\n",
              " ' Female',\n",
              " 'Unicorn',\n",
              " 'Cis Male',\n",
              " 'Male (trans, FtM)',\n",
              " 'Cis-woman',\n",
              " 'Genderqueer',\n",
              " 'cisdude',\n",
              " 'Genderflux demi-girl',\n",
              " 'female-bodied; no feelings about gender',\n",
              " 'cis man',\n",
              " 'AFAB',\n",
              " 'Transgender woman',\n",
              " 'MALE']"
            ]
          },
          "execution_count": 15,
          "metadata": {},
          "output_type": "execute_result"
        }
      ],
      "source": [
        "list(df['What is your gender?'].unique())"
      ]
    },
    {
      "cell_type": "code",
      "execution_count": null,
      "metadata": {
        "colab": {
          "background_save": true
        },
        "id": "6s_RuyWa5QbY"
      },
      "outputs": [],
      "source": [
        "Male = ['Male','male','Male ','M','m','man','Cis male','Male.','male 9:1 female, roughly','Male (cis)','nb masculine','Man','Sex is male','cis male','Malr','Dude',\"I'm a man why didn't you make this a drop down question. You should of asked sex? And I would of answered yes please. Seriously how much text can this take? \",'mail','M|','Male/genderqueer','male ','Cis Male','cisdude','cis man','MALE']\n",
        "\n",
        "df.replace(to_replace=Male,\n",
        "           value=\"Male\",\n",
        "           inplace=True)"
      ]
    },
    {
      "cell_type": "code",
      "execution_count": null,
      "metadata": {
        "colab": {
          "background_save": true
        },
        "id": "MlNxYYAvIpT-",
        "outputId": "a56b0303-fd5a-4a3a-963e-e1d852e7fc7a"
      },
      "outputs": [
        {
          "data": {
            "text/plain": [
              "['Male',\n",
              " 'Female',\n",
              " 'female',\n",
              " 'I identify as female.',\n",
              " 'female ',\n",
              " 'Bigender',\n",
              " 'non-binary',\n",
              " 'Female assigned at birth ',\n",
              " 'F',\n",
              " 'Woman',\n",
              " 'fm',\n",
              " 'f',\n",
              " 'Cis female ',\n",
              " 'Transitioned, M2F',\n",
              " 'Genderfluid (born female)',\n",
              " 'Other/Transfeminine',\n",
              " 'Female or Multi-Gender Femme',\n",
              " 'Female ',\n",
              " 'woman',\n",
              " 'female/woman',\n",
              " 'Androgynous',\n",
              " nan,\n",
              " 'Other',\n",
              " 'Cisgender Female',\n",
              " 'none of your business',\n",
              " 'genderqueer',\n",
              " 'Human',\n",
              " 'Genderfluid',\n",
              " 'Enby',\n",
              " 'genderqueer woman',\n",
              " 'mtf',\n",
              " 'Queer',\n",
              " 'Agender',\n",
              " 'Fluid',\n",
              " 'fem',\n",
              " 'Nonbinary',\n",
              " 'human',\n",
              " 'Female (props for making this a freeform field, though)',\n",
              " ' Female',\n",
              " 'Unicorn',\n",
              " 'Male (trans, FtM)',\n",
              " 'Cis-woman',\n",
              " 'Genderqueer',\n",
              " 'Genderflux demi-girl',\n",
              " 'female-bodied; no feelings about gender',\n",
              " 'AFAB',\n",
              " 'Transgender woman']"
            ]
          },
          "execution_count": 17,
          "metadata": {},
          "output_type": "execute_result"
        }
      ],
      "source": [
        "list(df['What is your gender?'].unique())"
      ]
    },
    {
      "cell_type": "code",
      "execution_count": null,
      "metadata": {
        "colab": {
          "background_save": true
        },
        "id": "0YNVu7GAEuOU"
      },
      "outputs": [],
      "source": [
        "Female = ['Female','female','I identify as female.','female ','woman','fm','f','Cis female ','Genderfluid (born female)','Female or Multi-Gender Femme','woman','female/woman','Cisgender Female','genderqueer woman','fem','Female (props for making this a freeform field, though)',' Female','Cis-woman','Transgender woman','Female','Female assigned at birth ','F','Woman','Female ','female-bodied; no feelings about gender']\n",
        "\n",
        "df.replace(to_replace=Female,\n",
        "            value=\"Female\",\n",
        "           inplace=True)"
      ]
    },
    {
      "cell_type": "code",
      "execution_count": null,
      "metadata": {
        "colab": {
          "background_save": true
        },
        "id": "k7rPzFiwI4rJ",
        "outputId": "05785896-4758-4fe0-8c93-1d1368a77e32"
      },
      "outputs": [
        {
          "data": {
            "text/plain": [
              "['Male',\n",
              " 'Female',\n",
              " 'Bigender',\n",
              " 'non-binary',\n",
              " 'Transitioned, M2F',\n",
              " 'Other/Transfeminine',\n",
              " 'Androgynous',\n",
              " nan,\n",
              " 'Other',\n",
              " 'none of your business',\n",
              " 'genderqueer',\n",
              " 'Human',\n",
              " 'Genderfluid',\n",
              " 'Enby',\n",
              " 'mtf',\n",
              " 'Queer',\n",
              " 'Agender',\n",
              " 'Fluid',\n",
              " 'Nonbinary',\n",
              " 'human',\n",
              " 'Unicorn',\n",
              " 'Male (trans, FtM)',\n",
              " 'Genderqueer',\n",
              " 'Genderflux demi-girl',\n",
              " 'AFAB']"
            ]
          },
          "execution_count": 19,
          "metadata": {},
          "output_type": "execute_result"
        }
      ],
      "source": [
        "list(df['What is your gender?'].unique())"
      ]
    },
    {
      "cell_type": "code",
      "execution_count": null,
      "metadata": {
        "colab": {
          "background_save": true
        },
        "id": "tZvEYpDSNY4H"
      },
      "outputs": [],
      "source": [
        "Trans = ['Bigender','Transitioned, M2F','Other/Transfeminine','mtf','Nonbinary','Unicorn','Male (trans, FtM)','AFAB']\n",
        "\n",
        "df.replace(to_replace=Trans,\n",
        "            value=\"TransGender\",\n",
        "           inplace=True)"
      ]
    },
    {
      "cell_type": "code",
      "execution_count": null,
      "metadata": {
        "colab": {
          "background_save": true
        },
        "id": "YBmAepwcO0y9"
      },
      "outputs": [],
      "source": [
        "Others = list(df['What is your gender?'].unique())\n",
        "Others.remove('Male')\n",
        "Others.remove('Female')\n",
        "Others.remove('TransGender')"
      ]
    },
    {
      "cell_type": "code",
      "execution_count": null,
      "metadata": {
        "colab": {
          "background_save": true
        },
        "id": "3GD7_UyDO7kE"
      },
      "outputs": [],
      "source": [
        "df.replace(to_replace=Others,\n",
        "            value=\"Not disclosing\",\n",
        "           inplace=True)"
      ]
    },
    {
      "cell_type": "code",
      "execution_count": null,
      "metadata": {
        "colab": {
          "background_save": true
        },
        "id": "5Z0D89zcPMY_",
        "outputId": "64649b8e-5f8c-4d4b-bb5d-c8e3cea39248"
      },
      "outputs": [
        {
          "data": {
            "text/plain": [
              "['Male', 'Female', 'TransGender', 'Not disclosing']"
            ]
          },
          "execution_count": 23,
          "metadata": {},
          "output_type": "execute_result"
        }
      ],
      "source": [
        "list(df['What is your gender?'].unique())"
      ]
    },
    {
      "cell_type": "code",
      "execution_count": null,
      "metadata": {
        "colab": {
          "background_save": true
        },
        "id": "z2VainaRPQvA"
      },
      "outputs": [],
      "source": [
        "df.drop('Do you have previous employers?',axis=1,inplace=True)\n",
        "df.drop('Have your previous employers provided mental health benefits?',axis=1,inplace=True)\n",
        "df.drop('Were you aware of the options for mental health care provided by your previous employers?',axis=1,inplace=True)\n",
        "df.drop('Did your previous employers ever formally discuss mental health (as part of a wellness campaign or other official communication)?',axis=1,inplace=True)\n",
        "df.drop('Did your previous employers provide resources to learn more about mental health issues and how to seek help?',axis=1,inplace=True)\n",
        "df.drop('Was your anonymity protected if you chose to take advantage of mental health or substance abuse treatment resources with previous employers?',axis=1,inplace=True)\n",
        "df.drop('Do you think that discussing a mental health disorder with previous employers would have negative consequences?',axis=1,inplace=True)\n",
        "df.drop('Do you think that discussing a physical health issue with previous employers would have negative consequences?',axis=1,inplace=True)\n",
        "df.drop('Would you have been willing to discuss a mental health issue with your previous co-workers?',axis=1,inplace=True)\n",
        "df.drop('Would you have been willing to discuss a mental health issue with your direct supervisor(s)?',axis=1,inplace=True)\n",
        "df.drop('Did you feel that your previous employers took mental health as seriously as physical health?',axis=1,inplace=True)\n",
        "df.drop('Did you hear of or observe negative consequences for co-workers with mental health issues in your previous workplaces?',axis=1,inplace=True)\n",
        "df.drop('If you have a mental health issue, do you feel that it interferes with your work when being treated effectively?',axis=1,inplace=True)\n",
        "df.drop('What US state or territory do you live in?',axis=1,inplace=True)\n",
        "df.drop('What country do you work in?',axis=1,inplace=True)\n",
        "df.drop('What US state or territory do you work in?',axis=1,inplace=True)\n",
        "df.drop('Which of the following best describes your work position?',axis=1,inplace=True)\n",
        "df.drop('Is your employer primarily a tech company/organization?',axis=1,inplace=True)"
      ]
    },
    {
      "cell_type": "code",
      "execution_count": null,
      "metadata": {
        "colab": {
          "background_save": true
        },
        "id": "l1OGbEO3VezJ",
        "outputId": "8b7c7f1b-890a-4c1a-f9c3-31481f60d480"
      },
      "outputs": [
        {
          "name": "stdout",
          "output_type": "stream",
          "text": [
            "Are you self-employed?\n",
            "0    1146\n",
            "1     287\n",
            "Name: Are you self-employed?, dtype: int64\n",
            "*****************************************\n",
            "\n",
            "\n",
            "How many employees does your company or organization have?\n",
            "26-100            292\n",
            "Not disclosing    287\n",
            "More than 1000    256\n",
            "100-500           248\n",
            "6-25              210\n",
            "500-1000           80\n",
            "1-5                60\n",
            "Name: How many employees does your company or organization have?, dtype: int64\n",
            "*****************************************\n",
            "\n",
            "\n",
            "Does your employer provide mental health benefits as part of healthcare coverage?\n",
            "Yes                                531\n",
            "I don't know                       319\n",
            "Not disclosing                     287\n",
            "No                                 213\n",
            "Not eligible for coverage / N/A     83\n",
            "Name: Does your employer provide mental health benefits as part of healthcare coverage?, dtype: int64\n",
            "*****************************************\n",
            "\n",
            "\n",
            "Do you know the options for mental health care available under your employer-provided coverage?\n",
            "Not disclosing    420\n",
            "No                354\n",
            "I am not sure     352\n",
            "Yes               307\n",
            "Name: Do you know the options for mental health care available under your employer-provided coverage?, dtype: int64\n",
            "*****************************************\n",
            "\n",
            "\n",
            "Has your employer ever formally discussed mental health (for example, as part of a wellness campaign or other official communication)?\n",
            "No                813\n",
            "Not disclosing    287\n",
            "Yes               230\n",
            "I don't know      103\n",
            "Name: Has your employer ever formally discussed mental health (for example, as part of a wellness campaign or other official communication)?, dtype: int64\n",
            "*****************************************\n",
            "\n",
            "\n",
            "Does your employer offer resources to learn more about mental health concerns and options for seeking help?\n",
            "No                531\n",
            "I don't know      320\n",
            "Yes               295\n",
            "Not disclosing    287\n",
            "Name: Does your employer offer resources to learn more about mental health concerns and options for seeking help?, dtype: int64\n",
            "*****************************************\n",
            "\n",
            "\n",
            "Is your anonymity protected if you choose to take advantage of mental health or substance abuse treatment resources provided by your employer?\n",
            "I don't know      742\n",
            "Yes               320\n",
            "Not disclosing    287\n",
            "No                 84\n",
            "Name: Is your anonymity protected if you choose to take advantage of mental health or substance abuse treatment resources provided by your employer?, dtype: int64\n",
            "*****************************************\n",
            "\n",
            "\n",
            "If a mental health issue prompted you to request a medical leave from work, asking for that leave would be:\n",
            "Not disclosing                287\n",
            "Somewhat easy                 281\n",
            "Very easy                     220\n",
            "Somewhat difficult            199\n",
            "Neither easy nor difficult    178\n",
            "I don't know                  150\n",
            "Very difficult                118\n",
            "Name: If a mental health issue prompted you to request a medical leave from work, asking for that leave would be:, dtype: int64\n",
            "*****************************************\n",
            "\n",
            "\n",
            "Do you think that discussing a mental health disorder with your employer would have negative consequences?\n",
            "Maybe             487\n",
            "No                438\n",
            "Not disclosing    287\n",
            "Yes               221\n",
            "Name: Do you think that discussing a mental health disorder with your employer would have negative consequences?, dtype: int64\n",
            "*****************************************\n",
            "\n",
            "\n",
            "Do you think that discussing a physical health issue with your employer would have negative consequences?\n",
            "No                837\n",
            "Not disclosing    287\n",
            "Maybe             268\n",
            "Yes                41\n",
            "Name: Do you think that discussing a physical health issue with your employer would have negative consequences?, dtype: int64\n",
            "*****************************************\n",
            "\n",
            "\n",
            "Would you feel comfortable discussing a mental health disorder with your coworkers?\n",
            "Maybe             479\n",
            "No                392\n",
            "Not disclosing    287\n",
            "Yes               275\n",
            "Name: Would you feel comfortable discussing a mental health disorder with your coworkers?, dtype: int64\n",
            "*****************************************\n",
            "\n",
            "\n",
            "Would you feel comfortable discussing a mental health disorder with your direct supervisor(s)?\n",
            "Yes               428\n",
            "Maybe             382\n",
            "No                336\n",
            "Not disclosing    287\n",
            "Name: Would you feel comfortable discussing a mental health disorder with your direct supervisor(s)?, dtype: int64\n",
            "*****************************************\n",
            "\n",
            "\n",
            "Do you feel that your employer takes mental health as seriously as physical health?\n",
            "I don't know      493\n",
            "Yes               350\n",
            "No                303\n",
            "Not disclosing    287\n",
            "Name: Do you feel that your employer takes mental health as seriously as physical health?, dtype: int64\n",
            "*****************************************\n",
            "\n",
            "\n",
            "Have you heard of or observed negative consequences for co-workers who have been open about mental health issues in your workplace?\n",
            "No                1048\n",
            "Not disclosing     287\n",
            "Yes                 98\n",
            "Name: Have you heard of or observed negative consequences for co-workers who have been open about mental health issues in your workplace?, dtype: int64\n",
            "*****************************************\n",
            "\n",
            "\n",
            "Would you be willing to bring up a physical health issue with a potential employer in an interview?\n",
            "Maybe    633\n",
            "No       441\n",
            "Yes      359\n",
            "Name: Would you be willing to bring up a physical health issue with a potential employer in an interview?, dtype: int64\n",
            "*****************************************\n",
            "\n",
            "\n",
            "Why or why not?\n",
            "Not disclosing                                                                                              338\n",
            "Not relevant                                                                                                  3\n",
            "Fear of discrimination                                                                                        3\n",
            "I don't know                                                                                                  3\n",
            "Fear of not getting the job                                                                                   2\n",
            "                                                                                                           ... \n",
            "because it is important to do the job                                                                         1\n",
            "The employers reaction would tell a lot of the type of company I'd be joining.                                1\n",
            "If it was relevant to the job, then yes.                                                                      1\n",
            "I would bring it up only if it were already obvious and/or would not be likely to affect my performance.      1\n",
            "Stigma with some diseases                                                                                     1\n",
            "Name: Why or why not?, Length: 1086, dtype: int64\n",
            "*****************************************\n",
            "\n",
            "\n",
            "Would you bring up a mental health issue with a potential employer in an interview?\n",
            "No       883\n",
            "Maybe    438\n",
            "Yes      112\n",
            "Name: Would you bring up a mental health issue with a potential employer in an interview?, dtype: int64\n",
            "*****************************************\n",
            "\n",
            "\n",
            "Why or why not?.1\n",
            "Not disclosing                                                                                                                                                                                                      307\n",
            "Stigma                                                                                                                                                                                                               14\n",
            "Stigma.                                                                                                                                                                                                               9\n",
            "Same as above                                                                                                                                                                                                         7\n",
            "See above                                                                                                                                                                                                             4\n",
            "                                                                                                                                                                                                                   ... \n",
            "Fear that it would disqualify me in their mind.                                                                                                                                                                       1\n",
            "because it hurts me                                                                                                                                                                                                   1\n",
            "Reaction would tell a lot of the type of employer they are.                                                                                                                                                           1\n",
            "If was relevant to the job, then yes. But I do think that discussing mental health in a job interview is more risky (because of the negative perception it could create) than discussing physical health issues.      1\n",
            "Feels like I'm making a mountain out of a molehill                                                                                                                                                                    1\n",
            "Name: Why or why not?.1, Length: 1081, dtype: int64\n",
            "*****************************************\n",
            "\n",
            "\n",
            "Do you feel that being identified as a person with a mental health issue would hurt your career?\n",
            "Maybe                         588\n",
            "Yes, I think it would         563\n",
            "No, I don't think it would    147\n",
            "Yes, it has                   105\n",
            "No, it has not                 30\n",
            "Name: Do you feel that being identified as a person with a mental health issue would hurt your career?, dtype: int64\n",
            "*****************************************\n",
            "\n",
            "\n",
            "Do you think that team members/co-workers would view you more negatively if they knew you suffered from a mental health issue?\n",
            "Maybe                           591\n",
            "Yes, I think they would         403\n",
            "No, I don't think they would    348\n",
            "No, they do not                  49\n",
            "Yes, they do                     42\n",
            "Name: Do you think that team members/co-workers would view you more negatively if they knew you suffered from a mental health issue?, dtype: int64\n",
            "*****************************************\n",
            "\n",
            "\n",
            "How willing would you be to share with friends and family that you have a mental illness?\n",
            "Somewhat open                                            640\n",
            "Very open                                                251\n",
            "Somewhat not open                                        214\n",
            "Neutral                                                  141\n",
            "Not applicable to me (I do not have a mental illness)    112\n",
            "Not open at all                                           75\n",
            "Name: How willing would you be to share with friends and family that you have a mental illness?, dtype: int64\n",
            "*****************************************\n",
            "\n",
            "\n",
            "Have you observed or experienced an unsupportive or badly handled response to a mental health issue in your current or previous workplace?\n",
            "No                    567\n",
            "Maybe/Not sure        346\n",
            "Yes, I observed       264\n",
            "Yes, I experienced    167\n",
            "Not disclosing         89\n",
            "Name: Have you observed or experienced an unsupportive or badly handled response to a mental health issue in your current or previous workplace?, dtype: int64\n",
            "*****************************************\n",
            "\n",
            "\n",
            "Do you have a family history of mental illness?\n",
            "Yes             670\n",
            "No              488\n",
            "I don't know    275\n",
            "Name: Do you have a family history of mental illness?, dtype: int64\n",
            "*****************************************\n",
            "\n",
            "\n",
            "Have you had a mental health disorder in the past?\n",
            "Yes      736\n",
            "No       451\n",
            "Maybe    246\n",
            "Name: Have you had a mental health disorder in the past?, dtype: int64\n",
            "*****************************************\n",
            "\n",
            "\n",
            "Do you currently have a mental health disorder?\n",
            "Yes      575\n",
            "No       531\n",
            "Maybe    327\n",
            "Name: Do you currently have a mental health disorder?, dtype: int64\n",
            "*****************************************\n",
            "\n",
            "\n",
            "Have you been diagnosed with a mental health condition by a medical professional?\n",
            "No     717\n",
            "Yes    716\n",
            "Name: Have you been diagnosed with a mental health condition by a medical professional?, dtype: int64\n",
            "*****************************************\n",
            "\n",
            "\n",
            "Have you ever sought treatment for a mental health issue from a mental health professional?\n",
            "1    839\n",
            "0    594\n",
            "Name: Have you ever sought treatment for a mental health issue from a mental health professional?, dtype: int64\n",
            "*****************************************\n",
            "\n",
            "\n",
            "If you have a mental health issue, do you feel that it interferes with your work when NOT being treated effectively?\n",
            "Often                   538\n",
            "Not applicable to me    468\n",
            "Sometimes               363\n",
            "Rarely                   52\n",
            "Never                    12\n",
            "Name: If you have a mental health issue, do you feel that it interferes with your work when NOT being treated effectively?, dtype: int64\n",
            "*****************************************\n",
            "\n",
            "\n",
            "What is your age?\n",
            "30     94\n",
            "31     82\n",
            "29     79\n",
            "28     74\n",
            "35     74\n",
            "32     72\n",
            "33     69\n",
            "34     69\n",
            "26     64\n",
            "27     63\n",
            "37     59\n",
            "39     55\n",
            "38     54\n",
            "36     50\n",
            "25     44\n",
            "24     42\n",
            "40     36\n",
            "22     32\n",
            "44     31\n",
            "43     30\n",
            "42     29\n",
            "45     27\n",
            "23     24\n",
            "41     24\n",
            "46     22\n",
            "21     15\n",
            "47     14\n",
            "49     13\n",
            "55     12\n",
            "50      9\n",
            "48      9\n",
            "54      7\n",
            "52      7\n",
            "51      7\n",
            "20      6\n",
            "56      5\n",
            "63      4\n",
            "57      4\n",
            "19      4\n",
            "53      3\n",
            "61      2\n",
            "59      2\n",
            "66      1\n",
            "74      1\n",
            "65      1\n",
            "15      1\n",
            "17      1\n",
            "3       1\n",
            "58      1\n",
            "62      1\n",
            "323     1\n",
            "99      1\n",
            "70      1\n",
            "Name: What is your age?, dtype: int64\n",
            "*****************************************\n",
            "\n",
            "\n",
            "What is your gender?\n",
            "Male              1060\n",
            "Female             343\n",
            "Not disclosing      21\n",
            "TransGender          9\n",
            "Name: What is your gender?, dtype: int64\n",
            "*****************************************\n",
            "\n",
            "\n",
            "What country do you live in?\n",
            "United States of America    840\n",
            "United Kingdom              180\n",
            "Canada                       78\n",
            "Germany                      58\n",
            "Netherlands                  48\n",
            "Australia                    35\n",
            "Sweden                       19\n",
            "France                       16\n",
            "Ireland                      15\n",
            "Switzerland                  10\n",
            "Brazil                       10\n",
            "New Zealand                   9\n",
            "India                         9\n",
            "Russia                        9\n",
            "Bulgaria                      7\n",
            "Finland                       7\n",
            "Denmark                       7\n",
            "Italy                         5\n",
            "Belgium                       5\n",
            "South Africa                  4\n",
            "Romania                       4\n",
            "Spain                         4\n",
            "Poland                        4\n",
            "Austria                       4\n",
            "Norway                        3\n",
            "Pakistan                      3\n",
            "Chile                         3\n",
            "Czech Republic                3\n",
            "Japan                         2\n",
            "Israel                        2\n",
            "Not disclosing                2\n",
            "Bosnia and Herzegovina        2\n",
            "Afghanistan                   2\n",
            "Estonia                       2\n",
            "Mexico                        2\n",
            "Colombia                      2\n",
            "Lithuania                     2\n",
            "Algeria                       1\n",
            "Serbia                        1\n",
            "Taiwan                        1\n",
            "Guatemala                     1\n",
            "China                         1\n",
            "Venezuela                     1\n",
            "Ecuador                       1\n",
            "Hungary                       1\n",
            "Bangladesh                    1\n",
            "Iran                          1\n",
            "Argentina                     1\n",
            "Brunei                        1\n",
            "Vietnam                       1\n",
            "Greece                        1\n",
            "Slovakia                      1\n",
            "Costa Rica                    1\n",
            "Name: What country do you live in?, dtype: int64\n",
            "*****************************************\n",
            "\n",
            "\n",
            "Do you work remotely?\n",
            "Sometimes    757\n",
            "Always       343\n",
            "Never        333\n",
            "Name: Do you work remotely?, dtype: int64\n",
            "*****************************************\n",
            "\n",
            "\n"
          ]
        }
      ],
      "source": [
        "for i in df.columns:\n",
        "  print(i)\n",
        "  print(df[f\"{i}\"].value_counts())\n",
        "  print(\"*****************************************\")\n",
        "  print(\"\\n\")"
      ]
    },
    {
      "cell_type": "code",
      "execution_count": null,
      "metadata": {
        "colab": {
          "background_save": true
        },
        "id": "iQUZ_btXYJR1",
        "outputId": "b52a50c8-7065-4546-c345-f084dd596c42"
      },
      "outputs": [
        {
          "data": {
            "text/plain": [
              "Are you self-employed?                                                                                                                            0\n",
              "How many employees does your company or organization have?                                                                                        0\n",
              "Does your employer provide mental health benefits as part of healthcare coverage?                                                                 0\n",
              "Do you know the options for mental health care available under your employer-provided coverage?                                                   0\n",
              "Has your employer ever formally discussed mental health (for example, as part of a wellness campaign or other official communication)?            0\n",
              "Does your employer offer resources to learn more about mental health concerns and options for seeking help?                                       0\n",
              "Is your anonymity protected if you choose to take advantage of mental health or substance abuse treatment resources provided by your employer?    0\n",
              "If a mental health issue prompted you to request a medical leave from work, asking for that leave would be:                                       0\n",
              "Do you think that discussing a mental health disorder with your employer would have negative consequences?                                        0\n",
              "Do you think that discussing a physical health issue with your employer would have negative consequences?                                         0\n",
              "Would you feel comfortable discussing a mental health disorder with your coworkers?                                                               0\n",
              "Would you feel comfortable discussing a mental health disorder with your direct supervisor(s)?                                                    0\n",
              "Do you feel that your employer takes mental health as seriously as physical health?                                                               0\n",
              "Have you heard of or observed negative consequences for co-workers who have been open about mental health issues in your workplace?               0\n",
              "Would you be willing to bring up a physical health issue with a potential employer in an interview?                                               0\n",
              "Why or why not?                                                                                                                                   0\n",
              "Would you bring up a mental health issue with a potential employer in an interview?                                                               0\n",
              "Why or why not?.1                                                                                                                                 0\n",
              "Do you feel that being identified as a person with a mental health issue would hurt your career?                                                  0\n",
              "Do you think that team members/co-workers would view you more negatively if they knew you suffered from a mental health issue?                    0\n",
              "How willing would you be to share with friends and family that you have a mental illness?                                                         0\n",
              "Have you observed or experienced an unsupportive or badly handled response to a mental health issue in your current or previous workplace?        0\n",
              "Do you have a family history of mental illness?                                                                                                   0\n",
              "Have you had a mental health disorder in the past?                                                                                                0\n",
              "Do you currently have a mental health disorder?                                                                                                   0\n",
              "Have you been diagnosed with a mental health condition by a medical professional?                                                                 0\n",
              "Have you ever sought treatment for a mental health issue from a mental health professional?                                                       0\n",
              "If you have a mental health issue, do you feel that it interferes with your work when NOT being treated effectively?                              0\n",
              "What is your age?                                                                                                                                 0\n",
              "What is your gender?                                                                                                                              0\n",
              "What country do you live in?                                                                                                                      0\n",
              "Do you work remotely?                                                                                                                             0\n",
              "dtype: int64"
            ]
          },
          "execution_count": 26,
          "metadata": {},
          "output_type": "execute_result"
        }
      ],
      "source": [
        "df.isna().sum()"
      ]
    },
    {
      "cell_type": "code",
      "execution_count": null,
      "metadata": {
        "colab": {
          "background_save": true
        },
        "id": "F0hUZzLVkdQv",
        "outputId": "97f2b988-a384-4666-8393-ad4267269750"
      },
      "outputs": [
        {
          "name": "stdout",
          "output_type": "stream",
          "text": [
            "<class 'pandas.core.frame.DataFrame'>\n",
            "RangeIndex: 1433 entries, 0 to 1432\n",
            "Data columns (total 32 columns):\n",
            " #   Column                                                                                                                                          Non-Null Count  Dtype \n",
            "---  ------                                                                                                                                          --------------  ----- \n",
            " 0   Are you self-employed?                                                                                                                          1433 non-null   int64 \n",
            " 1   How many employees does your company or organization have?                                                                                      1433 non-null   object\n",
            " 2   Does your employer provide mental health benefits as part of healthcare coverage?                                                               1433 non-null   object\n",
            " 3   Do you know the options for mental health care available under your employer-provided coverage?                                                 1433 non-null   object\n",
            " 4   Has your employer ever formally discussed mental health (for example, as part of a wellness campaign or other official communication)?          1433 non-null   object\n",
            " 5   Does your employer offer resources to learn more about mental health concerns and options for seeking help?                                     1433 non-null   object\n",
            " 6   Is your anonymity protected if you choose to take advantage of mental health or substance abuse treatment resources provided by your employer?  1433 non-null   object\n",
            " 7   If a mental health issue prompted you to request a medical leave from work, asking for that leave would be:                                     1433 non-null   object\n",
            " 8   Do you think that discussing a mental health disorder with your employer would have negative consequences?                                      1433 non-null   object\n",
            " 9   Do you think that discussing a physical health issue with your employer would have negative consequences?                                       1433 non-null   object\n",
            " 10  Would you feel comfortable discussing a mental health disorder with your coworkers?                                                             1433 non-null   object\n",
            " 11  Would you feel comfortable discussing a mental health disorder with your direct supervisor(s)?                                                  1433 non-null   object\n",
            " 12  Do you feel that your employer takes mental health as seriously as physical health?                                                             1433 non-null   object\n",
            " 13  Have you heard of or observed negative consequences for co-workers who have been open about mental health issues in your workplace?             1433 non-null   object\n",
            " 14  Would you be willing to bring up a physical health issue with a potential employer in an interview?                                             1433 non-null   object\n",
            " 15  Why or why not?                                                                                                                                 1433 non-null   object\n",
            " 16  Would you bring up a mental health issue with a potential employer in an interview?                                                             1433 non-null   object\n",
            " 17  Why or why not?.1                                                                                                                               1433 non-null   object\n",
            " 18  Do you feel that being identified as a person with a mental health issue would hurt your career?                                                1433 non-null   object\n",
            " 19  Do you think that team members/co-workers would view you more negatively if they knew you suffered from a mental health issue?                  1433 non-null   object\n",
            " 20  How willing would you be to share with friends and family that you have a mental illness?                                                       1433 non-null   object\n",
            " 21  Have you observed or experienced an unsupportive or badly handled response to a mental health issue in your current or previous workplace?      1433 non-null   object\n",
            " 22  Do you have a family history of mental illness?                                                                                                 1433 non-null   object\n",
            " 23  Have you had a mental health disorder in the past?                                                                                              1433 non-null   object\n",
            " 24  Do you currently have a mental health disorder?                                                                                                 1433 non-null   object\n",
            " 25  Have you been diagnosed with a mental health condition by a medical professional?                                                               1433 non-null   object\n",
            " 26  Have you ever sought treatment for a mental health issue from a mental health professional?                                                     1433 non-null   int64 \n",
            " 27  If you have a mental health issue, do you feel that it interferes with your work when NOT being treated effectively?                            1433 non-null   object\n",
            " 28  What is your age?                                                                                                                               1433 non-null   int64 \n",
            " 29  What is your gender?                                                                                                                            1433 non-null   object\n",
            " 30  What country do you live in?                                                                                                                    1433 non-null   object\n",
            " 31  Do you work remotely?                                                                                                                           1433 non-null   object\n",
            "dtypes: int64(3), object(29)\n",
            "memory usage: 358.4+ KB\n"
          ]
        }
      ],
      "source": [
        "df.info()"
      ]
    },
    {
      "cell_type": "code",
      "execution_count": null,
      "metadata": {
        "colab": {
          "background_save": true
        },
        "id": "ppb9ZNOHkwAy"
      },
      "outputs": [],
      "source": [
        "Update=[]\n",
        "for i in df['Are you self-employed?']:\n",
        "  if i == 1:\n",
        "    Update.append('Yes')\n",
        "  if i == 0:\n",
        "    Update.append('No')"
      ]
    },
    {
      "cell_type": "code",
      "execution_count": null,
      "metadata": {
        "colab": {
          "background_save": true
        },
        "id": "NmYt4hhUlpMM"
      },
      "outputs": [],
      "source": [
        "df['Are you self-employed?'] = Update"
      ]
    },
    {
      "cell_type": "code",
      "execution_count": null,
      "metadata": {
        "colab": {
          "background_save": true
        },
        "id": "-8S0pP6RmC7x",
        "outputId": "505b92c8-dac1-4b98-8458-17a46a9d1612"
      },
      "outputs": [
        {
          "data": {
            "text/plain": [
              "No     1146\n",
              "Yes     287\n",
              "Name: Are you self-employed?, dtype: int64"
            ]
          },
          "execution_count": 30,
          "metadata": {},
          "output_type": "execute_result"
        }
      ],
      "source": [
        "df['Are you self-employed?'].value_counts()"
      ]
    },
    {
      "cell_type": "code",
      "execution_count": null,
      "metadata": {
        "colab": {
          "background_save": true
        },
        "id": "0yqhI71umH5h",
        "outputId": "d56be210-715c-4921-effd-2ac8b403a0a0"
      },
      "outputs": [
        {
          "name": "stdout",
          "output_type": "stream",
          "text": [
            "<class 'pandas.core.frame.DataFrame'>\n",
            "RangeIndex: 1433 entries, 0 to 1432\n",
            "Data columns (total 32 columns):\n",
            " #   Column                                                                                                                                          Non-Null Count  Dtype \n",
            "---  ------                                                                                                                                          --------------  ----- \n",
            " 0   Are you self-employed?                                                                                                                          1433 non-null   object\n",
            " 1   How many employees does your company or organization have?                                                                                      1433 non-null   object\n",
            " 2   Does your employer provide mental health benefits as part of healthcare coverage?                                                               1433 non-null   object\n",
            " 3   Do you know the options for mental health care available under your employer-provided coverage?                                                 1433 non-null   object\n",
            " 4   Has your employer ever formally discussed mental health (for example, as part of a wellness campaign or other official communication)?          1433 non-null   object\n",
            " 5   Does your employer offer resources to learn more about mental health concerns and options for seeking help?                                     1433 non-null   object\n",
            " 6   Is your anonymity protected if you choose to take advantage of mental health or substance abuse treatment resources provided by your employer?  1433 non-null   object\n",
            " 7   If a mental health issue prompted you to request a medical leave from work, asking for that leave would be:                                     1433 non-null   object\n",
            " 8   Do you think that discussing a mental health disorder with your employer would have negative consequences?                                      1433 non-null   object\n",
            " 9   Do you think that discussing a physical health issue with your employer would have negative consequences?                                       1433 non-null   object\n",
            " 10  Would you feel comfortable discussing a mental health disorder with your coworkers?                                                             1433 non-null   object\n",
            " 11  Would you feel comfortable discussing a mental health disorder with your direct supervisor(s)?                                                  1433 non-null   object\n",
            " 12  Do you feel that your employer takes mental health as seriously as physical health?                                                             1433 non-null   object\n",
            " 13  Have you heard of or observed negative consequences for co-workers who have been open about mental health issues in your workplace?             1433 non-null   object\n",
            " 14  Would you be willing to bring up a physical health issue with a potential employer in an interview?                                             1433 non-null   object\n",
            " 15  Why or why not?                                                                                                                                 1433 non-null   object\n",
            " 16  Would you bring up a mental health issue with a potential employer in an interview?                                                             1433 non-null   object\n",
            " 17  Why or why not?.1                                                                                                                               1433 non-null   object\n",
            " 18  Do you feel that being identified as a person with a mental health issue would hurt your career?                                                1433 non-null   object\n",
            " 19  Do you think that team members/co-workers would view you more negatively if they knew you suffered from a mental health issue?                  1433 non-null   object\n",
            " 20  How willing would you be to share with friends and family that you have a mental illness?                                                       1433 non-null   object\n",
            " 21  Have you observed or experienced an unsupportive or badly handled response to a mental health issue in your current or previous workplace?      1433 non-null   object\n",
            " 22  Do you have a family history of mental illness?                                                                                                 1433 non-null   object\n",
            " 23  Have you had a mental health disorder in the past?                                                                                              1433 non-null   object\n",
            " 24  Do you currently have a mental health disorder?                                                                                                 1433 non-null   object\n",
            " 25  Have you been diagnosed with a mental health condition by a medical professional?                                                               1433 non-null   object\n",
            " 26  Have you ever sought treatment for a mental health issue from a mental health professional?                                                     1433 non-null   int64 \n",
            " 27  If you have a mental health issue, do you feel that it interferes with your work when NOT being treated effectively?                            1433 non-null   object\n",
            " 28  What is your age?                                                                                                                               1433 non-null   int64 \n",
            " 29  What is your gender?                                                                                                                            1433 non-null   object\n",
            " 30  What country do you live in?                                                                                                                    1433 non-null   object\n",
            " 31  Do you work remotely?                                                                                                                           1433 non-null   object\n",
            "dtypes: int64(2), object(30)\n",
            "memory usage: 358.4+ KB\n"
          ]
        }
      ],
      "source": [
        "df.info()"
      ]
    },
    {
      "cell_type": "code",
      "execution_count": null,
      "metadata": {
        "colab": {
          "background_save": true
        },
        "id": "oNnHXmYSmKc5",
        "outputId": "dbc50667-801b-40b8-a0c3-51afe6c8e9f6"
      },
      "outputs": [
        {
          "name": "stderr",
          "output_type": "stream",
          "text": [
            "[nltk_data] Downloading package punkt to /root/nltk_data...\n",
            "[nltk_data]   Unzipping tokenizers/punkt.zip.\n",
            "[nltk_data] Downloading package stopwords to /root/nltk_data...\n",
            "[nltk_data]   Unzipping corpora/stopwords.zip.\n"
          ]
        },
        {
          "data": {
            "text/plain": [
              "True"
            ]
          },
          "execution_count": 32,
          "metadata": {},
          "output_type": "execute_result"
        }
      ],
      "source": [
        "nltk.download('punkt')\n",
        "nltk.download('stopwords')"
      ]
    },
    {
      "cell_type": "code",
      "execution_count": null,
      "metadata": {
        "colab": {
          "background_save": true
        },
        "id": "0kLRxUwRDiIE"
      },
      "outputs": [],
      "source": [
        "featurizer = TfidfVectorizer(\n",
        "    stop_words = stopwords.words('english'),\n",
        "    norm='l1'\n",
        ")"
      ]
    },
    {
      "cell_type": "code",
      "execution_count": null,
      "metadata": {
        "colab": {
          "background_save": true
        },
        "id": "FnhHyUvyEbhf"
      },
      "outputs": [],
      "source": [
        "X = featurizer.fit_transform(df['Why or why not?'])"
      ]
    },
    {
      "cell_type": "code",
      "execution_count": null,
      "metadata": {
        "colab": {
          "background_save": true
        },
        "id": "IaS7Sm50FT4w"
      },
      "outputs": [],
      "source": [
        "def get_sentence_score(tfidf_row):\n",
        "  # Return the non-zero values\n",
        "  x = tfidf_row[tfidf_row!=0]\n",
        "  return x.mean()"
      ]
    },
    {
      "cell_type": "code",
      "execution_count": null,
      "metadata": {
        "colab": {
          "background_save": true
        },
        "id": "yxpvJUUZFntY",
        "outputId": "3fe5693d-08e5-4c6b-bb6f-87e138d45c2e"
      },
      "outputs": [
        {
          "name": "stderr",
          "output_type": "stream",
          "text": [
            "/usr/local/lib/python3.9/dist-packages/scipy/sparse/_base.py:651: RuntimeWarning: divide by zero encountered in true_divide\n",
            "  return self.astype(np.float_)._mul_scalar(1./other)\n"
          ]
        }
      ],
      "source": [
        "scores = np.zeros(len(df['Why or why not?']))\n",
        "for i in range(len(df['Why or why not?'])):\n",
        "  score = get_sentence_score(X[i,:])\n",
        "  scores[i] = score"
      ]
    },
    {
      "cell_type": "code",
      "execution_count": null,
      "metadata": {
        "colab": {
          "background_save": true
        },
        "id": "6J0k_ajIF-P0",
        "outputId": "9a7c66ed-0a40-4863-b782-11b922ef9a78"
      },
      "outputs": [
        {
          "data": {
            "text/plain": [
              "1433"
            ]
          },
          "execution_count": 37,
          "metadata": {},
          "output_type": "execute_result"
        }
      ],
      "source": [
        "len(scores)"
      ]
    },
    {
      "cell_type": "code",
      "execution_count": null,
      "metadata": {
        "colab": {
          "background_save": true
        },
        "id": "OfpW6FVwMRgy"
      },
      "outputs": [],
      "source": [
        "df['Why or why not?'] = scores"
      ]
    },
    {
      "cell_type": "code",
      "execution_count": null,
      "metadata": {
        "colab": {
          "background_save": true
        },
        "id": "BmESH8qsMyZ2",
        "outputId": "4fee5a0f-644d-42be-de15-e428db18b0b8"
      },
      "outputs": [
        {
          "data": {
            "text/plain": [
              "Are you self-employed?                                                                                                                            0\n",
              "How many employees does your company or organization have?                                                                                        0\n",
              "Does your employer provide mental health benefits as part of healthcare coverage?                                                                 0\n",
              "Do you know the options for mental health care available under your employer-provided coverage?                                                   0\n",
              "Has your employer ever formally discussed mental health (for example, as part of a wellness campaign or other official communication)?            0\n",
              "Does your employer offer resources to learn more about mental health concerns and options for seeking help?                                       0\n",
              "Is your anonymity protected if you choose to take advantage of mental health or substance abuse treatment resources provided by your employer?    0\n",
              "If a mental health issue prompted you to request a medical leave from work, asking for that leave would be:                                       0\n",
              "Do you think that discussing a mental health disorder with your employer would have negative consequences?                                        0\n",
              "Do you think that discussing a physical health issue with your employer would have negative consequences?                                         0\n",
              "Would you feel comfortable discussing a mental health disorder with your coworkers?                                                               0\n",
              "Would you feel comfortable discussing a mental health disorder with your direct supervisor(s)?                                                    0\n",
              "Do you feel that your employer takes mental health as seriously as physical health?                                                               0\n",
              "Have you heard of or observed negative consequences for co-workers who have been open about mental health issues in your workplace?               0\n",
              "Would you be willing to bring up a physical health issue with a potential employer in an interview?                                               0\n",
              "Why or why not?                                                                                                                                   0\n",
              "Would you bring up a mental health issue with a potential employer in an interview?                                                               0\n",
              "Why or why not?.1                                                                                                                                 0\n",
              "Do you feel that being identified as a person with a mental health issue would hurt your career?                                                  0\n",
              "Do you think that team members/co-workers would view you more negatively if they knew you suffered from a mental health issue?                    0\n",
              "How willing would you be to share with friends and family that you have a mental illness?                                                         0\n",
              "Have you observed or experienced an unsupportive or badly handled response to a mental health issue in your current or previous workplace?        0\n",
              "Do you have a family history of mental illness?                                                                                                   0\n",
              "Have you had a mental health disorder in the past?                                                                                                0\n",
              "Do you currently have a mental health disorder?                                                                                                   0\n",
              "Have you been diagnosed with a mental health condition by a medical professional?                                                                 0\n",
              "Have you ever sought treatment for a mental health issue from a mental health professional?                                                       0\n",
              "If you have a mental health issue, do you feel that it interferes with your work when NOT being treated effectively?                              0\n",
              "What is your age?                                                                                                                                 0\n",
              "What is your gender?                                                                                                                              0\n",
              "What country do you live in?                                                                                                                      0\n",
              "Do you work remotely?                                                                                                                             0\n",
              "dtype: int64"
            ]
          },
          "execution_count": 39,
          "metadata": {},
          "output_type": "execute_result"
        }
      ],
      "source": [
        "df.isna().sum()"
      ]
    },
    {
      "cell_type": "code",
      "execution_count": null,
      "metadata": {
        "colab": {
          "background_save": true
        },
        "id": "HwcUL3I5M2A_"
      },
      "outputs": [],
      "source": [
        "Y = featurizer.fit_transform(df['Why or why not?.1'])"
      ]
    },
    {
      "cell_type": "code",
      "execution_count": null,
      "metadata": {
        "colab": {
          "background_save": true
        },
        "id": "-B77HsRRNWNr"
      },
      "outputs": [],
      "source": [
        "scores1 = np.zeros(len(df['Why or why not?.1']))\n",
        "for i in range(len(df['Why or why not?.1'])):\n",
        "  score1 = get_sentence_score(Y[i,:])\n",
        "  scores1[i] = score1"
      ]
    },
    {
      "cell_type": "code",
      "execution_count": null,
      "metadata": {
        "colab": {
          "background_save": true
        },
        "id": "tPQkgwqnNs_q"
      },
      "outputs": [],
      "source": [
        "df['Why or why not?.1'] = scores1"
      ]
    },
    {
      "cell_type": "code",
      "execution_count": null,
      "metadata": {
        "colab": {
          "background_save": true
        },
        "id": "SvWOTo0LN-KS",
        "outputId": "3a5570b6-e79e-4930-95c0-e3a7bd467e75"
      },
      "outputs": [
        {
          "name": "stdout",
          "output_type": "stream",
          "text": [
            "<class 'pandas.core.frame.DataFrame'>\n",
            "RangeIndex: 1433 entries, 0 to 1432\n",
            "Data columns (total 32 columns):\n",
            " #   Column                                                                                                                                          Non-Null Count  Dtype  \n",
            "---  ------                                                                                                                                          --------------  -----  \n",
            " 0   Are you self-employed?                                                                                                                          1433 non-null   object \n",
            " 1   How many employees does your company or organization have?                                                                                      1433 non-null   object \n",
            " 2   Does your employer provide mental health benefits as part of healthcare coverage?                                                               1433 non-null   object \n",
            " 3   Do you know the options for mental health care available under your employer-provided coverage?                                                 1433 non-null   object \n",
            " 4   Has your employer ever formally discussed mental health (for example, as part of a wellness campaign or other official communication)?          1433 non-null   object \n",
            " 5   Does your employer offer resources to learn more about mental health concerns and options for seeking help?                                     1433 non-null   object \n",
            " 6   Is your anonymity protected if you choose to take advantage of mental health or substance abuse treatment resources provided by your employer?  1433 non-null   object \n",
            " 7   If a mental health issue prompted you to request a medical leave from work, asking for that leave would be:                                     1433 non-null   object \n",
            " 8   Do you think that discussing a mental health disorder with your employer would have negative consequences?                                      1433 non-null   object \n",
            " 9   Do you think that discussing a physical health issue with your employer would have negative consequences?                                       1433 non-null   object \n",
            " 10  Would you feel comfortable discussing a mental health disorder with your coworkers?                                                             1433 non-null   object \n",
            " 11  Would you feel comfortable discussing a mental health disorder with your direct supervisor(s)?                                                  1433 non-null   object \n",
            " 12  Do you feel that your employer takes mental health as seriously as physical health?                                                             1433 non-null   object \n",
            " 13  Have you heard of or observed negative consequences for co-workers who have been open about mental health issues in your workplace?             1433 non-null   object \n",
            " 14  Would you be willing to bring up a physical health issue with a potential employer in an interview?                                             1433 non-null   object \n",
            " 15  Why or why not?                                                                                                                                 1433 non-null   float64\n",
            " 16  Would you bring up a mental health issue with a potential employer in an interview?                                                             1433 non-null   object \n",
            " 17  Why or why not?.1                                                                                                                               1433 non-null   float64\n",
            " 18  Do you feel that being identified as a person with a mental health issue would hurt your career?                                                1433 non-null   object \n",
            " 19  Do you think that team members/co-workers would view you more negatively if they knew you suffered from a mental health issue?                  1433 non-null   object \n",
            " 20  How willing would you be to share with friends and family that you have a mental illness?                                                       1433 non-null   object \n",
            " 21  Have you observed or experienced an unsupportive or badly handled response to a mental health issue in your current or previous workplace?      1433 non-null   object \n",
            " 22  Do you have a family history of mental illness?                                                                                                 1433 non-null   object \n",
            " 23  Have you had a mental health disorder in the past?                                                                                              1433 non-null   object \n",
            " 24  Do you currently have a mental health disorder?                                                                                                 1433 non-null   object \n",
            " 25  Have you been diagnosed with a mental health condition by a medical professional?                                                               1433 non-null   object \n",
            " 26  Have you ever sought treatment for a mental health issue from a mental health professional?                                                     1433 non-null   int64  \n",
            " 27  If you have a mental health issue, do you feel that it interferes with your work when NOT being treated effectively?                            1433 non-null   object \n",
            " 28  What is your age?                                                                                                                               1433 non-null   int64  \n",
            " 29  What is your gender?                                                                                                                            1433 non-null   object \n",
            " 30  What country do you live in?                                                                                                                    1433 non-null   object \n",
            " 31  Do you work remotely?                                                                                                                           1433 non-null   object \n",
            "dtypes: float64(2), int64(2), object(28)\n",
            "memory usage: 358.4+ KB\n"
          ]
        }
      ],
      "source": [
        "df.info()"
      ]
    },
    {
      "cell_type": "code",
      "execution_count": null,
      "metadata": {
        "colab": {
          "background_save": true
        },
        "id": "vDYkj-Oaduj7",
        "outputId": "66947b52-c55a-4a7c-8754-9d2942aa5a34"
      },
      "outputs": [
        {
          "ename": "KeyError",
          "evalue": "ignored",
          "output_type": "error",
          "traceback": [
            "\u001b[0;31m---------------------------------------------------------------------------\u001b[0m",
            "\u001b[0;31mKeyError\u001b[0m                                  Traceback (most recent call last)",
            "\u001b[0;32m<ipython-input-44-9edaa65862c8>\u001b[0m in \u001b[0;36m<cell line: 1>\u001b[0;34m()\u001b[0m\n\u001b[0;32m----> 1\u001b[0;31m \u001b[0mdf\u001b[0m\u001b[0;34m.\u001b[0m\u001b[0mdrop\u001b[0m\u001b[0;34m(\u001b[0m\u001b[0;34m'Do you have previous employers?'\u001b[0m\u001b[0;34m,\u001b[0m\u001b[0maxis\u001b[0m\u001b[0;34m=\u001b[0m\u001b[0;36m1\u001b[0m\u001b[0;34m,\u001b[0m\u001b[0minplace\u001b[0m\u001b[0;34m=\u001b[0m\u001b[0;32mTrue\u001b[0m\u001b[0;34m)\u001b[0m\u001b[0;34m\u001b[0m\u001b[0;34m\u001b[0m\u001b[0m\n\u001b[0m",
            "\u001b[0;32m/usr/local/lib/python3.9/dist-packages/pandas/util/_decorators.py\u001b[0m in \u001b[0;36mwrapper\u001b[0;34m(*args, **kwargs)\u001b[0m\n\u001b[1;32m    309\u001b[0m                     \u001b[0mstacklevel\u001b[0m\u001b[0;34m=\u001b[0m\u001b[0mstacklevel\u001b[0m\u001b[0;34m,\u001b[0m\u001b[0;34m\u001b[0m\u001b[0;34m\u001b[0m\u001b[0m\n\u001b[1;32m    310\u001b[0m                 )\n\u001b[0;32m--> 311\u001b[0;31m             \u001b[0;32mreturn\u001b[0m \u001b[0mfunc\u001b[0m\u001b[0;34m(\u001b[0m\u001b[0;34m*\u001b[0m\u001b[0margs\u001b[0m\u001b[0;34m,\u001b[0m \u001b[0;34m**\u001b[0m\u001b[0mkwargs\u001b[0m\u001b[0;34m)\u001b[0m\u001b[0;34m\u001b[0m\u001b[0;34m\u001b[0m\u001b[0m\n\u001b[0m\u001b[1;32m    312\u001b[0m \u001b[0;34m\u001b[0m\u001b[0m\n\u001b[1;32m    313\u001b[0m         \u001b[0;32mreturn\u001b[0m \u001b[0mwrapper\u001b[0m\u001b[0;34m\u001b[0m\u001b[0;34m\u001b[0m\u001b[0m\n",
            "\u001b[0;32m/usr/local/lib/python3.9/dist-packages/pandas/core/frame.py\u001b[0m in \u001b[0;36mdrop\u001b[0;34m(self, labels, axis, index, columns, level, inplace, errors)\u001b[0m\n\u001b[1;32m   4955\u001b[0m                 \u001b[0mweight\u001b[0m  \u001b[0;36m1.0\u001b[0m     \u001b[0;36m0.8\u001b[0m\u001b[0;34m\u001b[0m\u001b[0;34m\u001b[0m\u001b[0m\n\u001b[1;32m   4956\u001b[0m         \"\"\"\n\u001b[0;32m-> 4957\u001b[0;31m         return super().drop(\n\u001b[0m\u001b[1;32m   4958\u001b[0m             \u001b[0mlabels\u001b[0m\u001b[0;34m=\u001b[0m\u001b[0mlabels\u001b[0m\u001b[0;34m,\u001b[0m\u001b[0;34m\u001b[0m\u001b[0;34m\u001b[0m\u001b[0m\n\u001b[1;32m   4959\u001b[0m             \u001b[0maxis\u001b[0m\u001b[0;34m=\u001b[0m\u001b[0maxis\u001b[0m\u001b[0;34m,\u001b[0m\u001b[0;34m\u001b[0m\u001b[0;34m\u001b[0m\u001b[0m\n",
            "\u001b[0;32m/usr/local/lib/python3.9/dist-packages/pandas/core/generic.py\u001b[0m in \u001b[0;36mdrop\u001b[0;34m(self, labels, axis, index, columns, level, inplace, errors)\u001b[0m\n\u001b[1;32m   4265\u001b[0m         \u001b[0;32mfor\u001b[0m \u001b[0maxis\u001b[0m\u001b[0;34m,\u001b[0m \u001b[0mlabels\u001b[0m \u001b[0;32min\u001b[0m \u001b[0maxes\u001b[0m\u001b[0;34m.\u001b[0m\u001b[0mitems\u001b[0m\u001b[0;34m(\u001b[0m\u001b[0;34m)\u001b[0m\u001b[0;34m:\u001b[0m\u001b[0;34m\u001b[0m\u001b[0;34m\u001b[0m\u001b[0m\n\u001b[1;32m   4266\u001b[0m             \u001b[0;32mif\u001b[0m \u001b[0mlabels\u001b[0m \u001b[0;32mis\u001b[0m \u001b[0;32mnot\u001b[0m \u001b[0;32mNone\u001b[0m\u001b[0;34m:\u001b[0m\u001b[0;34m\u001b[0m\u001b[0;34m\u001b[0m\u001b[0m\n\u001b[0;32m-> 4267\u001b[0;31m                 \u001b[0mobj\u001b[0m \u001b[0;34m=\u001b[0m \u001b[0mobj\u001b[0m\u001b[0;34m.\u001b[0m\u001b[0m_drop_axis\u001b[0m\u001b[0;34m(\u001b[0m\u001b[0mlabels\u001b[0m\u001b[0;34m,\u001b[0m \u001b[0maxis\u001b[0m\u001b[0;34m,\u001b[0m \u001b[0mlevel\u001b[0m\u001b[0;34m=\u001b[0m\u001b[0mlevel\u001b[0m\u001b[0;34m,\u001b[0m \u001b[0merrors\u001b[0m\u001b[0;34m=\u001b[0m\u001b[0merrors\u001b[0m\u001b[0;34m)\u001b[0m\u001b[0;34m\u001b[0m\u001b[0;34m\u001b[0m\u001b[0m\n\u001b[0m\u001b[1;32m   4268\u001b[0m \u001b[0;34m\u001b[0m\u001b[0m\n\u001b[1;32m   4269\u001b[0m         \u001b[0;32mif\u001b[0m \u001b[0minplace\u001b[0m\u001b[0;34m:\u001b[0m\u001b[0;34m\u001b[0m\u001b[0;34m\u001b[0m\u001b[0m\n",
            "\u001b[0;32m/usr/local/lib/python3.9/dist-packages/pandas/core/generic.py\u001b[0m in \u001b[0;36m_drop_axis\u001b[0;34m(self, labels, axis, level, errors, consolidate, only_slice)\u001b[0m\n\u001b[1;32m   4309\u001b[0m                 \u001b[0mnew_axis\u001b[0m \u001b[0;34m=\u001b[0m \u001b[0maxis\u001b[0m\u001b[0;34m.\u001b[0m\u001b[0mdrop\u001b[0m\u001b[0;34m(\u001b[0m\u001b[0mlabels\u001b[0m\u001b[0;34m,\u001b[0m \u001b[0mlevel\u001b[0m\u001b[0;34m=\u001b[0m\u001b[0mlevel\u001b[0m\u001b[0;34m,\u001b[0m \u001b[0merrors\u001b[0m\u001b[0;34m=\u001b[0m\u001b[0merrors\u001b[0m\u001b[0;34m)\u001b[0m\u001b[0;34m\u001b[0m\u001b[0;34m\u001b[0m\u001b[0m\n\u001b[1;32m   4310\u001b[0m             \u001b[0;32melse\u001b[0m\u001b[0;34m:\u001b[0m\u001b[0;34m\u001b[0m\u001b[0;34m\u001b[0m\u001b[0m\n\u001b[0;32m-> 4311\u001b[0;31m                 \u001b[0mnew_axis\u001b[0m \u001b[0;34m=\u001b[0m \u001b[0maxis\u001b[0m\u001b[0;34m.\u001b[0m\u001b[0mdrop\u001b[0m\u001b[0;34m(\u001b[0m\u001b[0mlabels\u001b[0m\u001b[0;34m,\u001b[0m \u001b[0merrors\u001b[0m\u001b[0;34m=\u001b[0m\u001b[0merrors\u001b[0m\u001b[0;34m)\u001b[0m\u001b[0;34m\u001b[0m\u001b[0;34m\u001b[0m\u001b[0m\n\u001b[0m\u001b[1;32m   4312\u001b[0m             \u001b[0mindexer\u001b[0m \u001b[0;34m=\u001b[0m \u001b[0maxis\u001b[0m\u001b[0;34m.\u001b[0m\u001b[0mget_indexer\u001b[0m\u001b[0;34m(\u001b[0m\u001b[0mnew_axis\u001b[0m\u001b[0;34m)\u001b[0m\u001b[0;34m\u001b[0m\u001b[0;34m\u001b[0m\u001b[0m\n\u001b[1;32m   4313\u001b[0m \u001b[0;34m\u001b[0m\u001b[0m\n",
            "\u001b[0;32m/usr/local/lib/python3.9/dist-packages/pandas/core/indexes/base.py\u001b[0m in \u001b[0;36mdrop\u001b[0;34m(self, labels, errors)\u001b[0m\n\u001b[1;32m   6659\u001b[0m         \u001b[0;32mif\u001b[0m \u001b[0mmask\u001b[0m\u001b[0;34m.\u001b[0m\u001b[0many\u001b[0m\u001b[0;34m(\u001b[0m\u001b[0;34m)\u001b[0m\u001b[0;34m:\u001b[0m\u001b[0;34m\u001b[0m\u001b[0;34m\u001b[0m\u001b[0m\n\u001b[1;32m   6660\u001b[0m             \u001b[0;32mif\u001b[0m \u001b[0merrors\u001b[0m \u001b[0;34m!=\u001b[0m \u001b[0;34m\"ignore\"\u001b[0m\u001b[0;34m:\u001b[0m\u001b[0;34m\u001b[0m\u001b[0;34m\u001b[0m\u001b[0m\n\u001b[0;32m-> 6661\u001b[0;31m                 \u001b[0;32mraise\u001b[0m \u001b[0mKeyError\u001b[0m\u001b[0;34m(\u001b[0m\u001b[0;34mf\"{list(labels[mask])} not found in axis\"\u001b[0m\u001b[0;34m)\u001b[0m\u001b[0;34m\u001b[0m\u001b[0;34m\u001b[0m\u001b[0m\n\u001b[0m\u001b[1;32m   6662\u001b[0m             \u001b[0mindexer\u001b[0m \u001b[0;34m=\u001b[0m \u001b[0mindexer\u001b[0m\u001b[0;34m[\u001b[0m\u001b[0;34m~\u001b[0m\u001b[0mmask\u001b[0m\u001b[0;34m]\u001b[0m\u001b[0;34m\u001b[0m\u001b[0;34m\u001b[0m\u001b[0m\n\u001b[1;32m   6663\u001b[0m         \u001b[0;32mreturn\u001b[0m \u001b[0mself\u001b[0m\u001b[0;34m.\u001b[0m\u001b[0mdelete\u001b[0m\u001b[0;34m(\u001b[0m\u001b[0mindexer\u001b[0m\u001b[0;34m)\u001b[0m\u001b[0;34m\u001b[0m\u001b[0;34m\u001b[0m\u001b[0m\n",
            "\u001b[0;31mKeyError\u001b[0m: \"['Do you have previous employers?'] not found in axis\""
          ]
        }
      ],
      "source": [
        "df.drop('Do you have previous employers?',axis=1,inplace=True)"
      ]
    },
    {
      "cell_type": "code",
      "execution_count": null,
      "metadata": {
        "colab": {
          "background_save": true
        },
        "id": "wnvT2oATlX7L"
      },
      "outputs": [],
      "source": [
        "df['Have you ever sought treatment for a mental health issue from a mental health professional?'].value_counts().plot(kind='bar')"
      ]
    },
    {
      "cell_type": "code",
      "execution_count": null,
      "metadata": {
        "colab": {
          "background_save": true
        },
        "id": "tR9Y7haTlhi5"
      },
      "outputs": [],
      "source": [
        "cols=[]\n",
        "\n",
        "for i in df['Have you ever sought treatment for a mental health issue from a mental health professional?']:\n",
        "  if i == 0:\n",
        "    cols.append(\"No\")\n",
        "  else:\n",
        "    cols.append(\"Yes\")"
      ]
    },
    {
      "cell_type": "code",
      "execution_count": null,
      "metadata": {
        "colab": {
          "background_save": true
        },
        "id": "aDf7JVA_mOR_"
      },
      "outputs": [],
      "source": [
        "df['Have you ever sought treatment for a mental health issue from a mental health professional?'] = cols"
      ]
    },
    {
      "cell_type": "code",
      "execution_count": null,
      "metadata": {
        "colab": {
          "background_save": true
        },
        "id": "SlbkE4rBo0h-"
      },
      "outputs": [],
      "source": [
        "df['Have you ever sought treatment for a mental health issue from a mental health professional?'].value_counts()"
      ]
    },
    {
      "cell_type": "code",
      "execution_count": null,
      "metadata": {
        "colab": {
          "background_save": true
        },
        "id": "3hmB5tILmPxz"
      },
      "outputs": [],
      "source": [
        "columns = list(df.columns)"
      ]
    },
    {
      "cell_type": "code",
      "execution_count": null,
      "metadata": {
        "colab": {
          "background_save": true
        },
        "id": "EkZEyzDRmc2a"
      },
      "outputs": [],
      "source": [
        "columns.remove('Why or why not?')\n",
        "columns.remove('Why or why not?.1')\n",
        "columns.remove('What is your age?')"
      ]
    },
    {
      "cell_type": "code",
      "execution_count": null,
      "metadata": {
        "colab": {
          "background_save": true
        },
        "id": "jzPkoB6Dg-nu"
      },
      "outputs": [],
      "source": [
        "def Print_values(dfs):\n",
        "  for i in dfs.columns:\n",
        "    print(i,\":-\")\n",
        "    print(dfs[f'{i}'].value_counts())\n",
        "    print(\"\\n\")\n",
        "    print(\"****************************************************\")\n",
        "\n",
        "Print_values(df)"
      ]
    },
    {
      "cell_type": "code",
      "execution_count": null,
      "metadata": {
        "colab": {
          "background_save": true
        },
        "id": "IICD5Yixp0dm"
      },
      "outputs": [],
      "source": [
        "Country=dict(df[\"What country do you live in?\"].value_counts())"
      ]
    },
    {
      "cell_type": "code",
      "execution_count": null,
      "metadata": {
        "colab": {
          "background_save": true
        },
        "id": "6699-ZmrqhXB"
      },
      "outputs": [],
      "source": [
        "Countries = []\n",
        "for x, y in Country.items():\n",
        "  if(y<7):\n",
        "    Countries.append(x)"
      ]
    },
    {
      "cell_type": "code",
      "execution_count": null,
      "metadata": {
        "colab": {
          "background_save": true
        },
        "id": "Ri7Pxj07qqcn"
      },
      "outputs": [],
      "source": [
        "country_i = []\n",
        "for i in range(0,len(Countries)):\n",
        "  country_i.append(df[df['What country do you live in?'] == f\"{Countries[i]}\"].index.tolist())"
      ]
    },
    {
      "cell_type": "code",
      "execution_count": null,
      "metadata": {
        "colab": {
          "background_save": true
        },
        "id": "kpgTroS6rzzt"
      },
      "outputs": [],
      "source": [
        "Country_index = []\n",
        "\n",
        "for i in country_i:\n",
        "  for j in i:\n",
        "    Country_index.append(j)\n",
        "\n",
        "Country_index"
      ]
    },
    {
      "cell_type": "code",
      "execution_count": null,
      "metadata": {
        "colab": {
          "background_save": true
        },
        "id": "N1hGImBrsdIC"
      },
      "outputs": [],
      "source": [
        "df.drop(Country_index,axis=0,inplace=True)"
      ]
    },
    {
      "cell_type": "code",
      "execution_count": null,
      "metadata": {
        "colab": {
          "background_save": true
        },
        "id": "Ir6NQE25410Q"
      },
      "outputs": [],
      "source": [
        "Age=dict(df[\"What is your age?\"].value_counts())"
      ]
    },
    {
      "cell_type": "code",
      "execution_count": null,
      "metadata": {
        "colab": {
          "background_save": true
        },
        "id": "tLykHZgq5U92"
      },
      "outputs": [],
      "source": [
        "Ages = []\n",
        "for x, y in Age.items():\n",
        "  if(y<7):\n",
        "    Ages.append(x)"
      ]
    },
    {
      "cell_type": "code",
      "execution_count": null,
      "metadata": {
        "colab": {
          "background_save": true
        },
        "id": "8GONXvTv5kzK"
      },
      "outputs": [],
      "source": [
        "Age_i = []\n",
        "for i in range(0,len(Ages)):\n",
        "  Age_i.append(df[df['What is your age?'] == Ages[i]].index.tolist())"
      ]
    },
    {
      "cell_type": "code",
      "execution_count": null,
      "metadata": {
        "colab": {
          "background_save": true
        },
        "id": "V0070B6j57Zw",
        "outputId": "d468086b-377f-4f82-e083-59cd6557f6d7"
      },
      "outputs": [
        {
          "data": {
            "text/plain": [
              "[282,\n",
              " 528,\n",
              " 771,\n",
              " 989,\n",
              " 1268,\n",
              " 1292,\n",
              " 303,\n",
              " 774,\n",
              " 1066,\n",
              " 1325,\n",
              " 1429,\n",
              " 308,\n",
              " 745,\n",
              " 900,\n",
              " 1224,\n",
              " 304,\n",
              " 440,\n",
              " 1126,\n",
              " 1167,\n",
              " 76,\n",
              " 559,\n",
              " 736,\n",
              " 754,\n",
              " 636,\n",
              " 1070,\n",
              " 1326,\n",
              " 484,\n",
              " 519,\n",
              " 710,\n",
              " 872,\n",
              " 701,\n",
              " 1117,\n",
              " 885,\n",
              " 808,\n",
              " 93,\n",
              " 656,\n",
              " 649,\n",
              " 591,\n",
              " 564,\n",
              " 372,\n",
              " 1221]"
            ]
          },
          "execution_count": 60,
          "metadata": {},
          "output_type": "execute_result"
        }
      ],
      "source": [
        "Age_index = []\n",
        "\n",
        "for i in Age_i:\n",
        "  for j in i:\n",
        "    Age_index.append(j)\n",
        "\n",
        "Age_index"
      ]
    },
    {
      "cell_type": "code",
      "execution_count": null,
      "metadata": {
        "colab": {
          "background_save": true
        },
        "id": "KYJVW_vV6eWs"
      },
      "outputs": [],
      "source": [
        "A = set(Age_index)\n",
        "B = set(Country_index)\n",
        "C=A-B\n",
        "C=list(C)\n",
        "\n",
        "df.drop(C,axis=0,inplace=True)"
      ]
    },
    {
      "cell_type": "code",
      "execution_count": null,
      "metadata": {
        "colab": {
          "background_save": true
        },
        "id": "77UDMoLem6o7"
      },
      "outputs": [],
      "source": [
        "ct = make_column_transformer(\n",
        "    (MinMaxScaler(), ['Why or why not?','Why or why not?.1','What is your age?']),\n",
        "    (OneHotEncoder(handle_unknown='ignore'),columns))"
      ]
    },
    {
      "cell_type": "code",
      "execution_count": null,
      "metadata": {
        "colab": {
          "background_save": true
        },
        "id": "ibHm2OpP-2eW"
      },
      "outputs": [],
      "source": [
        "df.columns"
      ]
    },
    {
      "cell_type": "code",
      "execution_count": null,
      "metadata": {
        "id": "lKkELXJmCxBB"
      },
      "outputs": [],
      "source": [
        "Print_values(df)"
      ]
    },
    {
      "cell_type": "code",
      "execution_count": null,
      "metadata": {
        "id": "prRbNS5-nXiW"
      },
      "outputs": [],
      "source": [
        "ct.fit(df)"
      ]
    },
    {
      "cell_type": "code",
      "execution_count": null,
      "metadata": {
        "id": "t_SXxGCjoUGF"
      },
      "outputs": [],
      "source": [
        "train=ct.transform(df)"
      ]
    },
    {
      "cell_type": "code",
      "execution_count": null,
      "metadata": {
        "id": "YRzYTjegpAhK"
      },
      "outputs": [],
      "source": [
        "train.dtype"
      ]
    },
    {
      "cell_type": "code",
      "execution_count": null,
      "metadata": {
        "id": "3D6khKzjoZVA"
      },
      "outputs": [],
      "source": [
        "kmeans_per_k = [KMeans(n_clusters=k, random_state=42).fit(train)\n",
        "                for k in range(1, 20)]\n",
        "inertias = [model.inertia_ for model in kmeans_per_k]"
      ]
    },
    {
      "cell_type": "code",
      "execution_count": null,
      "metadata": {
        "id": "s408ZfzZoqNt"
      },
      "outputs": [],
      "source": [
        "plt.figure(figsize=(8, 3.5))\n",
        "plt.plot(range(1, 20), inertias, \"bo-\")\n",
        "plt.xlabel(\"$k$\", fontsize=14)\n",
        "plt.ylabel(\"Inertia\", fontsize=14)\n",
        "plt.annotate('Elbow',\n",
        "             xy=(3, inertias[2]),\n",
        "             xytext=(0.55, 0.55),\n",
        "             textcoords='figure fraction',\n",
        "             fontsize=16,\n",
        "             arrowprops=dict(facecolor='black', shrink=0.1)\n",
        "            )\n",
        "plt.show()"
      ]
    },
    {
      "cell_type": "code",
      "execution_count": null,
      "metadata": {
        "id": "u8P87YbFpZ8d"
      },
      "outputs": [],
      "source": [
        "silhouette_scores = [silhouette_score(train, model.labels_)\n",
        "                     for model in kmeans_per_k[1:]]"
      ]
    },
    {
      "cell_type": "code",
      "execution_count": null,
      "metadata": {
        "id": "BmXxEHSfp5il"
      },
      "outputs": [],
      "source": [
        "plt.figure(figsize=(8, 3))\n",
        "plt.plot(range(2, 20), silhouette_scores, \"bo-\")\n",
        "plt.xlabel(\"$k$\", fontsize=14)\n",
        "plt.ylabel(\"Silhouette score\", fontsize=14)\n",
        "plt.show()"
      ]
    },
    {
      "cell_type": "code",
      "execution_count": null,
      "metadata": {
        "id": "4nD4Lt_Up-mo"
      },
      "outputs": [],
      "source": [
        "kmeans = KMeans(n_clusters = 3, init = 'k-means++', random_state = 42)\n",
        "y_kmeans1 = kmeans.fit(X)"
      ]
    },
    {
      "cell_type": "code",
      "execution_count": null,
      "metadata": {
        "id": "iaEivZQgQZ6y"
      },
      "outputs": [],
      "source": [
        "from sklearn.cluster import SpectralClustering\n",
        "\n",
        "Spectral_per_k = [SpectralClustering(n_clusters=k, gamma=100, random_state=42).fit(train)\n",
        "                for k in range(1, 20)]"
      ]
    },
    {
      "cell_type": "code",
      "execution_count": null,
      "metadata": {
        "id": "JxBIhvRZSL8R"
      },
      "outputs": [],
      "source": [
        "from sklearn.mixture import GaussianMixture\n",
        "gm = GaussianMixture(n_components=3, n_init=10, random_state=42)\n",
        "gm.fit(train.toarray())"
      ]
    },
    {
      "cell_type": "code",
      "execution_count": null,
      "metadata": {
        "id": "fQyOjVgXccxv"
      },
      "outputs": [],
      "source": [
        "gm.score_samples(train.toarray())"
      ]
    },
    {
      "cell_type": "code",
      "execution_count": null,
      "metadata": {
        "id": "hWZNap3uhqGS"
      },
      "outputs": [],
      "source": [
        "resolution = 100\n",
        "grid = np.arange(-10, 10, 1 / resolution)\n",
        "xx, yy = np.meshgrid(grid, grid)\n",
        "X_full = np.vstack([xx.ravel(), yy.ravel()]).T\n",
        "\n",
        "pdf = np.exp(gm.score_samples(train.toarray()))\n",
        "pdf_probas = pdf * (1 / resolution) ** 2\n",
        "pdf_probas.sum()"
      ]
    },
    {
      "cell_type": "code",
      "execution_count": null,
      "metadata": {
        "id": "yfFHOQ-9hxoA"
      },
      "outputs": [],
      "source": [
        "gm.bic(train.toarray())"
      ]
    },
    {
      "cell_type": "code",
      "execution_count": null,
      "metadata": {
        "id": "KKEVmO-miP2b"
      },
      "outputs": [],
      "source": [
        "gms_per_k = [GaussianMixture(n_components=k, n_init=10, random_state=42).fit(train.toarray())\n",
        "             for k in range(1, 11)]"
      ]
    },
    {
      "cell_type": "code",
      "execution_count": null,
      "metadata": {
        "id": "0zK3Q8jiidkC"
      },
      "outputs": [],
      "source": [
        "bics = [model.bic(train.toarray()) for model in gms_per_k]\n",
        "aics = [model.aic(train.toarray()) for model in gms_per_k]"
      ]
    },
    {
      "cell_type": "code",
      "execution_count": null,
      "metadata": {
        "id": "3kW43bufilz9"
      },
      "outputs": [],
      "source": [
        "plt.figure(figsize=(8, 3))\n",
        "plt.plot(range(1, 11), bics, \"bo-\", label=\"BIC\")\n",
        "plt.plot(range(1, 11), aics, \"go--\", label=\"AIC\")\n",
        "plt.xlabel(\"$k$\", fontsize=14)\n",
        "plt.ylabel(\"Information Criterion\", fontsize=14)\n",
        "plt.axis([1, 9.5, np.min(aics) - 50, np.max(aics) + 50])\n",
        "plt.annotate('Minimum',\n",
        "             xy=(4, bics[3]),\n",
        "             xytext=(0.45, 0.6),\n",
        "             textcoords='figure fraction',\n",
        "             fontsize=14,\n",
        "             arrowprops=dict(facecolor='black', shrink=0.1)\n",
        "            )\n",
        "plt.legend()\n",
        "plt.show()"
      ]
    },
    {
      "cell_type": "code",
      "execution_count": null,
      "metadata": {
        "id": "-f5zmuf2iog5"
      },
      "outputs": [],
      "source": [
        "gm = GaussianMixture(n_components=4, n_init=10, random_state=42)\n",
        "gm.fit(train.toarray())\n",
        "\n",
        "gm.score_samples(train.toarray())\n",
        "\n",
        "resolution = 100\n",
        "grid = np.arange(-10, 10, 1 / resolution)\n",
        "xx, yy = np.meshgrid(grid, grid)\n",
        "X_full = np.vstack([xx.ravel(), yy.ravel()]).T\n",
        "\n",
        "pdf = np.exp(gm.score_samples(train.toarray()))\n",
        "pdf_probas = pdf * (1 / resolution) ** 2\n",
        "pdf_probas.sum()"
      ]
    },
    {
      "cell_type": "code",
      "execution_count": null,
      "metadata": {
        "id": "TVQOZCj1roji"
      },
      "outputs": [],
      "source": [
        "from sklearn.mixture import BayesianGaussianMixture\n",
        "bgm = BayesianGaussianMixture(n_components=10, n_init=10, random_state=42)\n",
        "bgm.fit(train.toarray())"
      ]
    },
    {
      "cell_type": "code",
      "execution_count": null,
      "metadata": {
        "id": "6LZUgoScsC-l"
      },
      "outputs": [],
      "source": [
        "# gm = GaussianMixture(n_components=4, n_init=10, random_state=42)\n",
        "# gm.fit(train.toarray())\n",
        "\n",
        "bgm.score_samples(train.toarray())\n",
        "\n",
        "resolution = 100\n",
        "# grid = np.arange(-10, 10, 1 / resolution)\n",
        "# xx, yy = np.meshgrid(grid, grid)\n",
        "# X_full = np.vstack([xx.ravel(), yy.ravel()]).T\n",
        "\n",
        "pdf = np.exp(bgm.score_samples(train.toarray()))\n",
        "pdf_probas = pdf * (1 / resolution) ** 2\n",
        "arr = np.array(pdf_probas.sum())\n",
        "np.round(arr)"
      ]
    },
    {
      "cell_type": "code",
      "execution_count": null,
      "metadata": {
        "id": "Kp17l1Rbspmr"
      },
      "outputs": [],
      "source": [
        "from sklearn.cluster import AgglomerativeClustering\n",
        "\n",
        "agg = AgglomerativeClustering(linkage=\"complete\").fit(train.toarray())"
      ]
    },
    {
      "cell_type": "code",
      "execution_count": null,
      "metadata": {
        "id": "N7V3l55qs2Nc"
      },
      "outputs": [],
      "source": [
        "pickle.dump(gm, open('Mental_Health_New.pkl', 'wb'))"
      ]
    }
  ],
  "metadata": {
    "colab": {
      "provenance": []
    },
    "kernelspec": {
      "display_name": "Python 3",
      "name": "python3"
    },
    "language_info": {
      "name": "python"
    }
  },
  "nbformat": 4,
  "nbformat_minor": 0
}